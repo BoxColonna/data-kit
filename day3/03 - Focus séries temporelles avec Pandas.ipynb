{
 "cells": [
  {
   "cell_type": "markdown",
   "metadata": {},
   "source": [
    "# Séries temporelles avec Pandas"
   ]
  },
  {
   "cell_type": "markdown",
   "metadata": {},
   "source": [
    "L'analyse temporelle est une partie essentielle de l'analyse de données. \n",
    "\n",
    "Dans cette partie vous verrez : \n",
    "\n",
    "- L'objet Datetime\n",
    "- Quelles sont les fonctions de traitement de dates sous Pandas\n",
    "- Les fonctions d'aggrégation temporelles\n",
    "\n",
    "Pandas dispose de plusieurs méthode pour gérer et manipuler des données temporelles :"
   ]
  },
  {
   "cell_type": "markdown",
   "metadata": {},
   "source": [
    "## Datetime (Python)"
   ]
  },
  {
   "cell_type": "markdown",
   "metadata": {},
   "source": [
    "Le module **Datetime** en Python permet de réaliser plusieurs opérations avec des dates : "
   ]
  },
  {
   "cell_type": "code",
   "execution_count": 3,
   "metadata": {
    "collapsed": false
   },
   "outputs": [],
   "source": [
    "from datetime import datetime\n",
    "\n",
    "now = datetime.now()"
   ]
  },
  {
   "cell_type": "markdown",
   "metadata": {},
   "source": [
    "l'objet **Datetime** stocke la date et l'heure jusqu'à la microsecond, jugez plutôt : "
   ]
  },
  {
   "cell_type": "code",
   "execution_count": null,
   "metadata": {
    "collapsed": false
   },
   "outputs": [],
   "source": [
    "now "
   ]
  },
  {
   "cell_type": "markdown",
   "metadata": {},
   "source": [
    "Nous pouvons accéder à différentes à l'année, le mois, le jour etc.. "
   ]
  },
  {
   "cell_type": "code",
   "execution_count": null,
   "metadata": {
    "collapsed": false
   },
   "outputs": [],
   "source": [
    "print now.year\n",
    "print now.month\n",
    "print now.day"
   ]
  },
  {
   "cell_type": "markdown",
   "metadata": {},
   "source": [
    "## String --> datetime"
   ]
  },
  {
   "cell_type": "markdown",
   "metadata": {},
   "source": [
    "Bien entendu, les données temporelles sont rarement stockées au format dates. Elles sont souvent stockées et parsées sous forme de texte\n",
    "\n",
    "La méthode **strptime** du module **datetime** de Python permet de transformer un String en datetime en y intégrant un **format de date**"
   ]
  },
  {
   "cell_type": "code",
   "execution_count": 4,
   "metadata": {
    "collapsed": false
   },
   "outputs": [],
   "source": [
    "chaine = '2013-02-13'"
   ]
  },
  {
   "cell_type": "code",
   "execution_count": 5,
   "metadata": {
    "collapsed": false
   },
   "outputs": [
    {
     "data": {
      "text/plain": [
       "datetime.datetime(2013, 2, 13, 0, 0)"
      ]
     },
     "execution_count": 5,
     "metadata": {},
     "output_type": "execute_result"
    }
   ],
   "source": [
    "datetime.strptime(chaine,'%Y-%m-%d')"
   ]
  },
  {
   "cell_type": "markdown",
   "metadata": {},
   "source": [
    "On peut retrouver l'intégralité des formats de date ici - https://docs.python.org/2/library/datetime.html#strftime-and-strptime-behavior"
   ]
  },
  {
   "cell_type": "code",
   "execution_count": 7,
   "metadata": {
    "collapsed": false
   },
   "outputs": [],
   "source": [
    "import pandas as pd"
   ]
  },
  {
   "cell_type": "markdown",
   "metadata": {},
   "source": [
    "Pandas permet de parse facilement les données d'une Série grâce à la méthode **to_datetime** :"
   ]
  },
  {
   "cell_type": "code",
   "execution_count": null,
   "metadata": {
    "collapsed": false
   },
   "outputs": [],
   "source": [
    "datestring = ['2013-04-03', '2013-04-04', '2013-04-05', '2013-04-06']"
   ]
  },
  {
   "cell_type": "code",
   "execution_count": null,
   "metadata": {
    "collapsed": false
   },
   "outputs": [],
   "source": [
    "pd.to_datetime(datestring)"
   ]
  },
  {
   "cell_type": "markdown",
   "metadata": {},
   "source": [
    "Remarquons que la **liste** datestring a été transformée en objet Pandas **tseries.index.DatetimeIndex** \n",
    "\n",
    "Plusieurs options (qui dépasse ce focus) sont également à noter : la longueur de la série, la fréquence, la timezone etc.."
   ]
  },
  {
   "cell_type": "markdown",
   "metadata": {},
   "source": [
    "## Time et DataFrame "
   ]
  },
  {
   "cell_type": "markdown",
   "metadata": {},
   "source": [
    "Lorsque vous disposez d'un set de données contenant des données temporelles, il advient de bien indexer en utilisant l'objet  **DatetimeIndex**. \n",
    "\n",
    "Prenons par exemple une nouvelle liste de dates (format chaine) : "
   ]
  },
  {
   "cell_type": "code",
   "execution_count": null,
   "metadata": {
    "collapsed": false
   },
   "outputs": [],
   "source": [
    "datestr = ['2013-04-03', '2013-04-04', '2013-04-05', '2013-05-06','2014-06-07','2014-07-08']"
   ]
  },
  {
   "cell_type": "markdown",
   "metadata": {},
   "source": [
    "Nous transformons cette liste de String en un objet DatetimeIndex en utilisant la méthode **to_datetime** :"
   ]
  },
  {
   "cell_type": "code",
   "execution_count": null,
   "metadata": {
    "collapsed": false
   },
   "outputs": [],
   "source": [
    "dates = pd.to_datetime(datestr)"
   ]
  },
  {
   "cell_type": "markdown",
   "metadata": {},
   "source": [
    "Si nous souhaitons maintenant créer un DataFrame, nous pouvons spécifier, au moment de la création, l'index à utiliser grâce au paramètre **index** :"
   ]
  },
  {
   "cell_type": "code",
   "execution_count": null,
   "metadata": {
    "collapsed": false
   },
   "outputs": [],
   "source": [
    "df = pd.DataFrame(np.random.randn(6,2),\n",
    "                  index = dates,\n",
    "                  columns = ['col1','col2'])"
   ]
  },
  {
   "cell_type": "code",
   "execution_count": null,
   "metadata": {
    "collapsed": false
   },
   "outputs": [],
   "source": [
    "df"
   ]
  },
  {
   "cell_type": "markdown",
   "metadata": {},
   "source": [
    "La plupart des DataFrame que vous utiliserez seront lus au sein de fichier extérieurs (e.g : csv) \n",
    "\n",
    "La méthode **read_csv** de Pandas a différentes options : \n",
    "\n",
    "- **index_col** permet de préciser la colonne à prendre comme Index\n",
    "- **parse_dates** est un booléen permettant de parser les chaines en dates automatiquement\n",
    "\n",
    "Prenons l'exemple suivant : "
   ]
  },
  {
   "cell_type": "code",
   "execution_count": 8,
   "metadata": {
    "collapsed": false
   },
   "outputs": [],
   "source": [
    "stock = pd.read_csv(\"data/stock_px.csv\")"
   ]
  },
  {
   "cell_type": "markdown",
   "metadata": {},
   "source": [
    "L'index de stock dans ce cas là est une liste d'Integer :"
   ]
  },
  {
   "cell_type": "code",
   "execution_count": 10,
   "metadata": {
    "collapsed": false
   },
   "outputs": [
    {
     "data": {
      "text/html": [
       "<div style=\"max-height:1000px;max-width:1500px;overflow:auto;\">\n",
       "<table border=\"1\" class=\"dataframe\">\n",
       "  <thead>\n",
       "    <tr style=\"text-align: right;\">\n",
       "      <th></th>\n",
       "      <th>date</th>\n",
       "      <th>AAPL</th>\n",
       "      <th>MSFT</th>\n",
       "      <th>XOM</th>\n",
       "      <th>SPX</th>\n",
       "    </tr>\n",
       "  </thead>\n",
       "  <tbody>\n",
       "    <tr>\n",
       "      <th>0</th>\n",
       "      <td> 2003-01-02 00:00:00</td>\n",
       "      <td> 7.40</td>\n",
       "      <td> 21.11</td>\n",
       "      <td> 29.22</td>\n",
       "      <td> 909.03</td>\n",
       "    </tr>\n",
       "    <tr>\n",
       "      <th>1</th>\n",
       "      <td> 2003-01-03 00:00:00</td>\n",
       "      <td> 7.45</td>\n",
       "      <td> 21.14</td>\n",
       "      <td> 29.24</td>\n",
       "      <td> 908.59</td>\n",
       "    </tr>\n",
       "    <tr>\n",
       "      <th>2</th>\n",
       "      <td> 2003-01-06 00:00:00</td>\n",
       "      <td> 7.45</td>\n",
       "      <td> 21.52</td>\n",
       "      <td> 29.96</td>\n",
       "      <td> 929.01</td>\n",
       "    </tr>\n",
       "    <tr>\n",
       "      <th>3</th>\n",
       "      <td> 2003-01-07 00:00:00</td>\n",
       "      <td> 7.43</td>\n",
       "      <td> 21.93</td>\n",
       "      <td> 28.95</td>\n",
       "      <td> 922.93</td>\n",
       "    </tr>\n",
       "    <tr>\n",
       "      <th>4</th>\n",
       "      <td> 2003-01-08 00:00:00</td>\n",
       "      <td> 7.28</td>\n",
       "      <td> 21.31</td>\n",
       "      <td> 28.83</td>\n",
       "      <td> 909.93</td>\n",
       "    </tr>\n",
       "  </tbody>\n",
       "</table>\n",
       "</div>"
      ],
      "text/plain": [
       "                  date  AAPL   MSFT    XOM     SPX\n",
       "0  2003-01-02 00:00:00  7.40  21.11  29.22  909.03\n",
       "1  2003-01-03 00:00:00  7.45  21.14  29.24  908.59\n",
       "2  2003-01-06 00:00:00  7.45  21.52  29.96  929.01\n",
       "3  2003-01-07 00:00:00  7.43  21.93  28.95  922.93\n",
       "4  2003-01-08 00:00:00  7.28  21.31  28.83  909.93"
      ]
     },
     "execution_count": 10,
     "metadata": {},
     "output_type": "execute_result"
    }
   ],
   "source": [
    "stock.head()"
   ]
  },
  {
   "cell_type": "markdown",
   "metadata": {},
   "source": [
    "En spécifiant l'index à utiliser et en activant l'option de parsing de dates, nous obtenons : "
   ]
  },
  {
   "cell_type": "code",
   "execution_count": 11,
   "metadata": {
    "collapsed": false
   },
   "outputs": [],
   "source": [
    "stock = pd.read_csv(\"data/stock_px.csv\", parse_dates=True, index_col=0)"
   ]
  },
  {
   "cell_type": "code",
   "execution_count": 12,
   "metadata": {
    "collapsed": false
   },
   "outputs": [
    {
     "data": {
      "text/plain": [
       "<class 'pandas.tseries.index.DatetimeIndex'>\n",
       "[2003-01-02, ..., 2011-10-14]\n",
       "Length: 2214, Freq: None, Timezone: None"
      ]
     },
     "execution_count": 12,
     "metadata": {},
     "output_type": "execute_result"
    }
   ],
   "source": [
    "stock.index"
   ]
  },
  {
   "cell_type": "markdown",
   "metadata": {},
   "source": [
    "Dans le cas où il n'est pas possible de fixer un Index à la lecture d'un fichier, nous pourrons utiliser la méthode **set_index** pour fixer l'index d'un DataFrame après sa création"
   ]
  },
  {
   "cell_type": "markdown",
   "metadata": {},
   "source": [
    "Lorsqu'un DataFrame a été correctement créé, Pandas offre de nombreuses méthodes pour sélectionner ou filtrer des données. \n",
    "\n",
    "Nous pouvons sélectionner par exemple uniquement les données de stock de l'année 2005 avec la clé '2005' :"
   ]
  },
  {
   "cell_type": "code",
   "execution_count": 14,
   "metadata": {
    "collapsed": false
   },
   "outputs": [
    {
     "data": {
      "text/html": [
       "<div style=\"max-height:1000px;max-width:1500px;overflow:auto;\">\n",
       "<table border=\"1\" class=\"dataframe\">\n",
       "  <thead>\n",
       "    <tr style=\"text-align: right;\">\n",
       "      <th></th>\n",
       "      <th>AAPL</th>\n",
       "      <th>MSFT</th>\n",
       "      <th>XOM</th>\n",
       "      <th>SPX</th>\n",
       "    </tr>\n",
       "    <tr>\n",
       "      <th>date</th>\n",
       "      <th></th>\n",
       "      <th></th>\n",
       "      <th></th>\n",
       "      <th></th>\n",
       "    </tr>\n",
       "  </thead>\n",
       "  <tbody>\n",
       "    <tr>\n",
       "      <th>2005-01-03</th>\n",
       "      <td> 31.65</td>\n",
       "      <td> 23.70</td>\n",
       "      <td> 43.45</td>\n",
       "      <td> 1202.08</td>\n",
       "    </tr>\n",
       "    <tr>\n",
       "      <th>2005-01-04</th>\n",
       "      <td> 31.97</td>\n",
       "      <td> 23.79</td>\n",
       "      <td> 43.15</td>\n",
       "      <td> 1188.05</td>\n",
       "    </tr>\n",
       "    <tr>\n",
       "      <th>2005-01-05</th>\n",
       "      <td> 32.25</td>\n",
       "      <td> 23.73</td>\n",
       "      <td> 42.93</td>\n",
       "      <td> 1183.74</td>\n",
       "    </tr>\n",
       "    <tr>\n",
       "      <th>2005-01-06</th>\n",
       "      <td> 32.28</td>\n",
       "      <td> 23.71</td>\n",
       "      <td> 43.47</td>\n",
       "      <td> 1187.89</td>\n",
       "    </tr>\n",
       "    <tr>\n",
       "      <th>2005-01-07</th>\n",
       "      <td> 34.62</td>\n",
       "      <td> 23.64</td>\n",
       "      <td> 43.19</td>\n",
       "      <td> 1186.19</td>\n",
       "    </tr>\n",
       "  </tbody>\n",
       "</table>\n",
       "</div>"
      ],
      "text/plain": [
       "             AAPL   MSFT    XOM      SPX\n",
       "date                                    \n",
       "2005-01-03  31.65  23.70  43.45  1202.08\n",
       "2005-01-04  31.97  23.79  43.15  1188.05\n",
       "2005-01-05  32.25  23.73  42.93  1183.74\n",
       "2005-01-06  32.28  23.71  43.47  1187.89\n",
       "2005-01-07  34.62  23.64  43.19  1186.19"
      ]
     },
     "execution_count": 14,
     "metadata": {},
     "output_type": "execute_result"
    }
   ],
   "source": [
    "stock['2005'].head()"
   ]
  },
  {
   "cell_type": "markdown",
   "metadata": {},
   "source": [
    "On peut de la même manière séléctionner un mois, ou une période :"
   ]
  },
  {
   "cell_type": "code",
   "execution_count": 15,
   "metadata": {
    "collapsed": false
   },
   "outputs": [
    {
     "data": {
      "text/html": [
       "<div style=\"max-height:1000px;max-width:1500px;overflow:auto;\">\n",
       "<table border=\"1\" class=\"dataframe\">\n",
       "  <thead>\n",
       "    <tr style=\"text-align: right;\">\n",
       "      <th></th>\n",
       "      <th>AAPL</th>\n",
       "      <th>MSFT</th>\n",
       "      <th>XOM</th>\n",
       "      <th>SPX</th>\n",
       "    </tr>\n",
       "    <tr>\n",
       "      <th>date</th>\n",
       "      <th></th>\n",
       "      <th></th>\n",
       "      <th></th>\n",
       "      <th></th>\n",
       "    </tr>\n",
       "  </thead>\n",
       "  <tbody>\n",
       "    <tr>\n",
       "      <th>2005-03-01</th>\n",
       "      <td> 44.50</td>\n",
       "      <td> 22.47</td>\n",
       "      <td> 54.13</td>\n",
       "      <td> 1210.41</td>\n",
       "    </tr>\n",
       "    <tr>\n",
       "      <th>2005-03-02</th>\n",
       "      <td> 44.12</td>\n",
       "      <td> 22.45</td>\n",
       "      <td> 54.63</td>\n",
       "      <td> 1210.08</td>\n",
       "    </tr>\n",
       "    <tr>\n",
       "      <th>2005-03-03</th>\n",
       "      <td> 41.79</td>\n",
       "      <td> 22.37</td>\n",
       "      <td> 54.96</td>\n",
       "      <td> 1210.47</td>\n",
       "    </tr>\n",
       "    <tr>\n",
       "      <th>2005-03-04</th>\n",
       "      <td> 42.81</td>\n",
       "      <td> 22.37</td>\n",
       "      <td> 55.41</td>\n",
       "      <td> 1222.12</td>\n",
       "    </tr>\n",
       "    <tr>\n",
       "      <th>2005-03-07</th>\n",
       "      <td> 42.75</td>\n",
       "      <td> 22.64</td>\n",
       "      <td> 54.91</td>\n",
       "      <td> 1225.31</td>\n",
       "    </tr>\n",
       "  </tbody>\n",
       "</table>\n",
       "</div>"
      ],
      "text/plain": [
       "             AAPL   MSFT    XOM      SPX\n",
       "date                                    \n",
       "2005-03-01  44.50  22.47  54.13  1210.41\n",
       "2005-03-02  44.12  22.45  54.63  1210.08\n",
       "2005-03-03  41.79  22.37  54.96  1210.47\n",
       "2005-03-04  42.81  22.37  55.41  1222.12\n",
       "2005-03-07  42.75  22.64  54.91  1225.31"
      ]
     },
     "execution_count": 15,
     "metadata": {},
     "output_type": "execute_result"
    }
   ],
   "source": [
    "stock['2005-03'].head()"
   ]
  },
  {
   "cell_type": "code",
   "execution_count": 16,
   "metadata": {
    "collapsed": false
   },
   "outputs": [
    {
     "data": {
      "text/html": [
       "<div style=\"max-height:1000px;max-width:1500px;overflow:auto;\">\n",
       "<table border=\"1\" class=\"dataframe\">\n",
       "  <thead>\n",
       "    <tr style=\"text-align: right;\">\n",
       "      <th></th>\n",
       "      <th>AAPL</th>\n",
       "      <th>MSFT</th>\n",
       "      <th>XOM</th>\n",
       "      <th>SPX</th>\n",
       "    </tr>\n",
       "    <tr>\n",
       "      <th>date</th>\n",
       "      <th></th>\n",
       "      <th></th>\n",
       "      <th></th>\n",
       "      <th></th>\n",
       "    </tr>\n",
       "  </thead>\n",
       "  <tbody>\n",
       "    <tr>\n",
       "      <th>2005-03-01</th>\n",
       "      <td> 44.50</td>\n",
       "      <td> 22.47</td>\n",
       "      <td> 54.13</td>\n",
       "      <td> 1210.41</td>\n",
       "    </tr>\n",
       "    <tr>\n",
       "      <th>2005-03-02</th>\n",
       "      <td> 44.12</td>\n",
       "      <td> 22.45</td>\n",
       "      <td> 54.63</td>\n",
       "      <td> 1210.08</td>\n",
       "    </tr>\n",
       "    <tr>\n",
       "      <th>2005-03-03</th>\n",
       "      <td> 41.79</td>\n",
       "      <td> 22.37</td>\n",
       "      <td> 54.96</td>\n",
       "      <td> 1210.47</td>\n",
       "    </tr>\n",
       "    <tr>\n",
       "      <th>2005-03-04</th>\n",
       "      <td> 42.81</td>\n",
       "      <td> 22.37</td>\n",
       "      <td> 55.41</td>\n",
       "      <td> 1222.12</td>\n",
       "    </tr>\n",
       "    <tr>\n",
       "      <th>2005-03-07</th>\n",
       "      <td> 42.75</td>\n",
       "      <td> 22.64</td>\n",
       "      <td> 54.91</td>\n",
       "      <td> 1225.31</td>\n",
       "    </tr>\n",
       "  </tbody>\n",
       "</table>\n",
       "</div>"
      ],
      "text/plain": [
       "             AAPL   MSFT    XOM      SPX\n",
       "date                                    \n",
       "2005-03-01  44.50  22.47  54.13  1210.41\n",
       "2005-03-02  44.12  22.45  54.63  1210.08\n",
       "2005-03-03  41.79  22.37  54.96  1210.47\n",
       "2005-03-04  42.81  22.37  55.41  1222.12\n",
       "2005-03-07  42.75  22.64  54.91  1225.31"
      ]
     },
     "execution_count": 16,
     "metadata": {},
     "output_type": "execute_result"
    }
   ],
   "source": [
    "stock['2005-03':'2005-04'].head()"
   ]
  },
  {
   "cell_type": "markdown",
   "metadata": {},
   "source": [
    "## Resampling"
   ]
  },
  {
   "cell_type": "markdown",
   "metadata": {},
   "source": [
    "Le **resampling** est l'art d'aggréger ou de désagréger des données temporelles. \n",
    "\n",
    "On peut vouloir par exemple aggréger les données du DataFrame stock en calculat la moyenne par année. \n",
    "\n",
    "On utilisera pour cela la méthode **resample** en spécifiant  **la fréquence** et la **fonction d'aggrégation** via le paramètre **how**. \n",
    "\n",
    "Un détail des valeurs possibles pour chacun de ces paramètres est disponible ici - http://pandas.pydata.org/pandas-docs/dev/timeseries.html#offset-aliases"
   ]
  },
  {
   "cell_type": "code",
   "execution_count": null,
   "metadata": {
    "collapsed": false
   },
   "outputs": [],
   "source": [
    "stock.resample('AS', how='mean')"
   ]
  },
  {
   "cell_type": "markdown",
   "metadata": {},
   "source": [
    "## Plotting"
   ]
  },
  {
   "cell_type": "markdown",
   "metadata": {},
   "source": [
    "La visualisation de données appliquée à des time series permet d'apprécier rapidement une tendance. \n",
    "\n",
    "Pandas permet de créer rapidement une visualisation avec la méthode **plot**"
   ]
  },
  {
   "cell_type": "code",
   "execution_count": null,
   "metadata": {
    "collapsed": false
   },
   "outputs": [],
   "source": [
    "# permet d'afficher les graphes au sein de la page\n",
    "\n",
    "import matplotlib.pyplot as plt\n",
    "%matplotlib inline"
   ]
  },
  {
   "cell_type": "code",
   "execution_count": null,
   "metadata": {
    "collapsed": false
   },
   "outputs": [],
   "source": [
    "stock.plot()"
   ]
  },
  {
   "cell_type": "code",
   "execution_count": null,
   "metadata": {
    "collapsed": false
   },
   "outputs": [],
   "source": [
    "stock.resample('M', how='mean').plot()"
   ]
  },
  {
   "cell_type": "code",
   "execution_count": null,
   "metadata": {
    "collapsed": false
   },
   "outputs": [],
   "source": []
  }
 ],
 "metadata": {
  "kernelspec": {
   "display_name": "Python 2",
   "language": "python",
   "name": "python2"
  },
  "language_info": {
   "codemirror_mode": {
    "name": "ipython",
    "version": 2
   },
   "file_extension": ".py",
   "mimetype": "text/x-python",
   "name": "python",
   "nbconvert_exporter": "python",
   "pygments_lexer": "ipython2",
   "version": "2.7.9"
  }
 },
 "nbformat": 4,
 "nbformat_minor": 0
}
