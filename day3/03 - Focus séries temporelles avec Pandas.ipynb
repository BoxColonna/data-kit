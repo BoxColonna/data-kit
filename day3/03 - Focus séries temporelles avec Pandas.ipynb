{
 "metadata": {
  "name": ""
 },
 "nbformat": 3,
 "nbformat_minor": 0,
 "worksheets": [
  {
   "cells": [
    {
     "cell_type": "heading",
     "level": 1,
     "metadata": {},
     "source": [
      "S\u00e9ries temporelles avec Pandas"
     ]
    },
    {
     "cell_type": "markdown",
     "metadata": {},
     "source": [
      "L'analyse temporelle est une partie essentielle de l'analyse de donn\u00e9es. \n",
      "\n",
      "Pandas dispose de plusieurs m\u00e9thode pour g\u00e9rer et manipuler des donn\u00e9es temporelles :"
     ]
    },
    {
     "cell_type": "heading",
     "level": 2,
     "metadata": {},
     "source": [
      "Datetime (Python)"
     ]
    },
    {
     "cell_type": "markdown",
     "metadata": {},
     "source": [
      "Le module **Datetime** en Python permet de r\u00e9aliser plusieurs op\u00e9rations avec des dates : "
     ]
    },
    {
     "cell_type": "code",
     "collapsed": false,
     "input": [
      "from datetime import datetime\n",
      "\n",
      "now = datetime.now()"
     ],
     "language": "python",
     "metadata": {},
     "outputs": [],
     "prompt_number": 1
    },
    {
     "cell_type": "markdown",
     "metadata": {},
     "source": [
      "l'objet **Datetime** stocke la date et l'heure jusqu'\u00e0 la microsecond, jugez plut\u00f4t : "
     ]
    },
    {
     "cell_type": "code",
     "collapsed": false,
     "input": [
      "now "
     ],
     "language": "python",
     "metadata": {},
     "outputs": [
      {
       "metadata": {},
       "output_type": "pyout",
       "prompt_number": 6,
       "text": [
        "datetime.datetime(2015, 2, 24, 17, 0, 14, 373024)"
       ]
      }
     ],
     "prompt_number": 6
    },
    {
     "cell_type": "markdown",
     "metadata": {},
     "source": [
      "Nous pouvons acc\u00e9der \u00e0 diff\u00e9rentes \u00e0 l'ann\u00e9e, le mois, le jour etc.. "
     ]
    },
    {
     "cell_type": "code",
     "collapsed": false,
     "input": [
      "print now.year\n",
      "print now.month\n",
      "print now.day"
     ],
     "language": "python",
     "metadata": {},
     "outputs": [
      {
       "output_type": "stream",
       "stream": "stdout",
       "text": [
        "2015\n",
        "2\n",
        "24\n"
       ]
      }
     ],
     "prompt_number": 11
    },
    {
     "cell_type": "heading",
     "level": 2,
     "metadata": {},
     "source": [
      "String --> datetime"
     ]
    },
    {
     "cell_type": "markdown",
     "metadata": {},
     "source": [
      "Bien entendu, les donn\u00e9es temporelles sont rarement stock\u00e9es au format dates. Elles sont souvent stock\u00e9es et pars\u00e9es sous forme de texte\n",
      "\n",
      "La m\u00e9thode **strptime** du module **datetime** de Python permet de transformer un String en datetime en y int\u00e9grant un **format de date**"
     ]
    },
    {
     "cell_type": "code",
     "collapsed": false,
     "input": [
      "chaine = '2013-02-13'"
     ],
     "language": "python",
     "metadata": {},
     "outputs": [],
     "prompt_number": 17
    },
    {
     "cell_type": "code",
     "collapsed": false,
     "input": [
      "datetime.strptime(chaine,'%Y-%m-%d')"
     ],
     "language": "python",
     "metadata": {},
     "outputs": [
      {
       "metadata": {},
       "output_type": "pyout",
       "prompt_number": 18,
       "text": [
        "datetime.datetime(2013, 2, 13, 0, 0)"
       ]
      }
     ],
     "prompt_number": 18
    },
    {
     "cell_type": "markdown",
     "metadata": {},
     "source": [
      "On peut retrouver l'int\u00e9gralit\u00e9 des formats de date ici - https://docs.python.org/2/library/datetime.html#strftime-and-strptime-behavior"
     ]
    },
    {
     "cell_type": "code",
     "collapsed": false,
     "input": [
      "import pandas as pd"
     ],
     "language": "python",
     "metadata": {},
     "outputs": [],
     "prompt_number": 20
    },
    {
     "cell_type": "markdown",
     "metadata": {},
     "source": [
      "Pandas permet de parse facilement les donn\u00e9es d'une S\u00e9rie gr\u00e2ce \u00e0 la m\u00e9thode **to_datetime** :"
     ]
    },
    {
     "cell_type": "code",
     "collapsed": false,
     "input": [
      "datestring = ['2013-04-03', '2013-04-04', '2013-04-05', '2013-04-06']"
     ],
     "language": "python",
     "metadata": {},
     "outputs": [],
     "prompt_number": 42
    },
    {
     "cell_type": "code",
     "collapsed": false,
     "input": [
      "pd.to_datetime(datestring)"
     ],
     "language": "python",
     "metadata": {},
     "outputs": [
      {
       "metadata": {},
       "output_type": "pyout",
       "prompt_number": 45,
       "text": [
        "<class 'pandas.tseries.index.DatetimeIndex'>\n",
        "[2013-04-03, ..., 2013-04-06]\n",
        "Length: 4, Freq: None, Timezone: None"
       ]
      }
     ],
     "prompt_number": 45
    },
    {
     "cell_type": "markdown",
     "metadata": {},
     "source": [
      "Remarquons que la **liste** datestring a \u00e9t\u00e9 transform\u00e9e en objet Pandas **tseries.index.DatetimeIndex** \n",
      "\n",
      "Plusieurs options (qui d\u00e9passe ce focus) sont \u00e9galement \u00e0 noter : la longueur de la s\u00e9rie, la fr\u00e9quence, la timezone etc.."
     ]
    },
    {
     "cell_type": "heading",
     "level": 2,
     "metadata": {},
     "source": [
      "Time et DataFrame "
     ]
    },
    {
     "cell_type": "markdown",
     "metadata": {},
     "source": [
      "Lorsque vous disposez d'un set de donn\u00e9es contenant des donn\u00e9es temporelles, il advient de bien indexer en utilisant l'objet  **DatetimeIndex**. \n",
      "\n",
      "Prenons par exemple une nouvelle liste de dates (format chaine) : "
     ]
    },
    {
     "cell_type": "code",
     "collapsed": false,
     "input": [
      "datestr = ['2013-04-03', '2013-04-04', '2013-04-05', '2013-05-06','2014-06-07','2014-07-08']"
     ],
     "language": "python",
     "metadata": {},
     "outputs": [],
     "prompt_number": 80
    },
    {
     "cell_type": "markdown",
     "metadata": {},
     "source": [
      "Nous transformons cette liste de String en un objet DatetimeIndex en utilisant la m\u00e9thode **to_datetime** :"
     ]
    },
    {
     "cell_type": "code",
     "collapsed": false,
     "input": [
      "dates = pd.to_datetime(datestr)"
     ],
     "language": "python",
     "metadata": {},
     "outputs": [],
     "prompt_number": 81
    },
    {
     "cell_type": "markdown",
     "metadata": {},
     "source": [
      "Si nous souhaitons maintenant cr\u00e9er un DataFrame, nous pouvons sp\u00e9cifier, au moment de la cr\u00e9ation, l'index \u00e0 utiliser gr\u00e2ce au param\u00e8tre **index** :"
     ]
    },
    {
     "cell_type": "code",
     "collapsed": false,
     "input": [
      "df = pd.DataFrame(np.random.randn(6,2),\n",
      "                  index = dates,\n",
      "                  columns = ['col1','col2'])"
     ],
     "language": "python",
     "metadata": {},
     "outputs": [],
     "prompt_number": 82
    },
    {
     "cell_type": "code",
     "collapsed": false,
     "input": [
      "df"
     ],
     "language": "python",
     "metadata": {},
     "outputs": [
      {
       "html": [
        "<div style=\"max-height:1000px;max-width:1500px;overflow:auto;\">\n",
        "<table border=\"1\" class=\"dataframe\">\n",
        "  <thead>\n",
        "    <tr style=\"text-align: right;\">\n",
        "      <th></th>\n",
        "      <th>col1</th>\n",
        "      <th>col2</th>\n",
        "    </tr>\n",
        "  </thead>\n",
        "  <tbody>\n",
        "    <tr>\n",
        "      <th>2013-04-03</th>\n",
        "      <td>-0.704809</td>\n",
        "      <td>-1.826185</td>\n",
        "    </tr>\n",
        "    <tr>\n",
        "      <th>2013-04-04</th>\n",
        "      <td>-0.271264</td>\n",
        "      <td> 0.051873</td>\n",
        "    </tr>\n",
        "    <tr>\n",
        "      <th>2013-04-05</th>\n",
        "      <td>-1.113858</td>\n",
        "      <td> 0.627835</td>\n",
        "    </tr>\n",
        "    <tr>\n",
        "      <th>2013-05-06</th>\n",
        "      <td> 0.379877</td>\n",
        "      <td>-0.132928</td>\n",
        "    </tr>\n",
        "    <tr>\n",
        "      <th>2014-06-07</th>\n",
        "      <td>-0.192836</td>\n",
        "      <td> 0.934233</td>\n",
        "    </tr>\n",
        "    <tr>\n",
        "      <th>2014-07-08</th>\n",
        "      <td>-1.508802</td>\n",
        "      <td> 0.765052</td>\n",
        "    </tr>\n",
        "  </tbody>\n",
        "</table>\n",
        "</div>"
       ],
       "metadata": {},
       "output_type": "pyout",
       "prompt_number": 86,
       "text": [
        "                col1      col2\n",
        "2013-04-03 -0.704809 -1.826185\n",
        "2013-04-04 -0.271264  0.051873\n",
        "2013-04-05 -1.113858  0.627835\n",
        "2013-05-06  0.379877 -0.132928\n",
        "2014-06-07 -0.192836  0.934233\n",
        "2014-07-08 -1.508802  0.765052"
       ]
      }
     ],
     "prompt_number": 86
    },
    {
     "cell_type": "markdown",
     "metadata": {},
     "source": [
      "La plupart des DataFrame que vous utiliserez seront lus au sein de fichier ext\u00e9rieurs (e.g : csv) \n",
      "\n",
      "La m\u00e9thode **read_csv** de Pandas a diff\u00e9rentes options : \n",
      "\n",
      "- **index_col** permet de pr\u00e9ciser la colonne \u00e0 prendre comme Index\n",
      "- **parse_dates** est un bool\u00e9en permettant de parser les chaines en dates automatiquement\n",
      "\n",
      "Prenons l'exemple suivant : "
     ]
    },
    {
     "cell_type": "code",
     "collapsed": false,
     "input": [
      "stock = pd.read_csv(\"data/stock_px.csv\")"
     ],
     "language": "python",
     "metadata": {},
     "outputs": [],
     "prompt_number": 105
    },
    {
     "cell_type": "markdown",
     "metadata": {},
     "source": [
      "L'index de stock dans ce cas l\u00e0 est une liste d'Integer :"
     ]
    },
    {
     "cell_type": "code",
     "collapsed": false,
     "input": [
      "stock.index"
     ],
     "language": "python",
     "metadata": {},
     "outputs": [
      {
       "metadata": {},
       "output_type": "pyout",
       "prompt_number": 104,
       "text": [
        "Int64Index([0, 1, 2, 3, 4, 5, 6, 7, 8, 9, 10, 11, 12, 13, 14, 15, 16, 17, 18, 19, 20, 21, 22, 23, 24, 25, 26, 27, 28, 29, 30, 31, 32, 33, 34, 35, 36, 37, 38, 39, 40, 41, 42, 43, 44, 45, 46, 47, 48, 49, 50, 51, 52, 53, 54, 55, 56, 57, 58, 59, 60, 61, 62, 63, 64, 65, 66, 67, 68, 69, 70, 71, 72, 73, 74, 75, 76, 77, 78, 79, 80, 81, 82, 83, 84, 85, 86, 87, 88, 89, 90, 91, 92, 93, 94, 95, 96, 97, 98, 99, ...], dtype='int64')"
       ]
      }
     ],
     "prompt_number": 104
    },
    {
     "cell_type": "markdown",
     "metadata": {},
     "source": [
      "En sp\u00e9cifiant l'index \u00e0 utiliser et en activant l'option de parsing de dates, nous obtenons : "
     ]
    },
    {
     "cell_type": "code",
     "collapsed": false,
     "input": [
      "stock = pd.read_csv(\"data/stock_px.csv\", parse_dates=True, index_col=0)"
     ],
     "language": "python",
     "metadata": {},
     "outputs": [],
     "prompt_number": 113
    },
    {
     "cell_type": "code",
     "collapsed": false,
     "input": [
      "stock.index"
     ],
     "language": "python",
     "metadata": {},
     "outputs": [
      {
       "metadata": {},
       "output_type": "pyout",
       "prompt_number": 114,
       "text": [
        "<class 'pandas.tseries.index.DatetimeIndex'>\n",
        "[2003-01-02, ..., 2011-10-14]\n",
        "Length: 2214, Freq: None, Timezone: None"
       ]
      }
     ],
     "prompt_number": 114
    },
    {
     "cell_type": "markdown",
     "metadata": {},
     "source": [
      "Dans le cas o\u00f9 il n'est pas possible de fixer un Index \u00e0 la lecture d'un fichier, nous pourrons utiliser la m\u00e9thode **set_index** pour fixer l'index d'un DataFrame apr\u00e8s sa cr\u00e9ation"
     ]
    },
    {
     "cell_type": "markdown",
     "metadata": {},
     "source": [
      "Lorsqu'un DataFrame a \u00e9t\u00e9 correctement cr\u00e9\u00e9, Pandas offre de nombreuses m\u00e9thodes pour s\u00e9lectionner ou filtrer des donn\u00e9es. \n",
      "\n",
      "Nous pouvons s\u00e9lectionner par exemple uniquement les donn\u00e9es de stock de l'ann\u00e9e 2005 avec la cl\u00e9 '2005' :"
     ]
    },
    {
     "cell_type": "code",
     "collapsed": false,
     "input": [
      "stock['2005'].head()"
     ],
     "language": "python",
     "metadata": {},
     "outputs": [
      {
       "html": [
        "<div style=\"max-height:1000px;max-width:1500px;overflow:auto;\">\n",
        "<table border=\"1\" class=\"dataframe\">\n",
        "  <thead>\n",
        "    <tr style=\"text-align: right;\">\n",
        "      <th></th>\n",
        "      <th>AAPL</th>\n",
        "      <th>MSFT</th>\n",
        "      <th>XOM</th>\n",
        "      <th>SPX</th>\n",
        "    </tr>\n",
        "    <tr>\n",
        "      <th>date</th>\n",
        "      <th></th>\n",
        "      <th></th>\n",
        "      <th></th>\n",
        "      <th></th>\n",
        "    </tr>\n",
        "  </thead>\n",
        "  <tbody>\n",
        "    <tr>\n",
        "      <th>2005-01-03</th>\n",
        "      <td> 31.65</td>\n",
        "      <td> 23.70</td>\n",
        "      <td> 43.45</td>\n",
        "      <td> 1202.08</td>\n",
        "    </tr>\n",
        "    <tr>\n",
        "      <th>2005-01-04</th>\n",
        "      <td> 31.97</td>\n",
        "      <td> 23.79</td>\n",
        "      <td> 43.15</td>\n",
        "      <td> 1188.05</td>\n",
        "    </tr>\n",
        "    <tr>\n",
        "      <th>2005-01-05</th>\n",
        "      <td> 32.25</td>\n",
        "      <td> 23.73</td>\n",
        "      <td> 42.93</td>\n",
        "      <td> 1183.74</td>\n",
        "    </tr>\n",
        "    <tr>\n",
        "      <th>2005-01-06</th>\n",
        "      <td> 32.28</td>\n",
        "      <td> 23.71</td>\n",
        "      <td> 43.47</td>\n",
        "      <td> 1187.89</td>\n",
        "    </tr>\n",
        "    <tr>\n",
        "      <th>2005-01-07</th>\n",
        "      <td> 34.62</td>\n",
        "      <td> 23.64</td>\n",
        "      <td> 43.19</td>\n",
        "      <td> 1186.19</td>\n",
        "    </tr>\n",
        "  </tbody>\n",
        "</table>\n",
        "</div>"
       ],
       "metadata": {},
       "output_type": "pyout",
       "prompt_number": 139,
       "text": [
        "             AAPL   MSFT    XOM      SPX\n",
        "date                                    \n",
        "2005-01-03  31.65  23.70  43.45  1202.08\n",
        "2005-01-04  31.97  23.79  43.15  1188.05\n",
        "2005-01-05  32.25  23.73  42.93  1183.74\n",
        "2005-01-06  32.28  23.71  43.47  1187.89\n",
        "2005-01-07  34.62  23.64  43.19  1186.19"
       ]
      }
     ],
     "prompt_number": 139
    },
    {
     "cell_type": "markdown",
     "metadata": {},
     "source": [
      "On peut de la m\u00eame mani\u00e8re s\u00e9l\u00e9ctionner un mois, ou une p\u00e9riode :"
     ]
    },
    {
     "cell_type": "code",
     "collapsed": false,
     "input": [
      "stock['2005-03'].head()"
     ],
     "language": "python",
     "metadata": {},
     "outputs": [
      {
       "html": [
        "<div style=\"max-height:1000px;max-width:1500px;overflow:auto;\">\n",
        "<table border=\"1\" class=\"dataframe\">\n",
        "  <thead>\n",
        "    <tr style=\"text-align: right;\">\n",
        "      <th></th>\n",
        "      <th>AAPL</th>\n",
        "      <th>MSFT</th>\n",
        "      <th>XOM</th>\n",
        "      <th>SPX</th>\n",
        "    </tr>\n",
        "    <tr>\n",
        "      <th>date</th>\n",
        "      <th></th>\n",
        "      <th></th>\n",
        "      <th></th>\n",
        "      <th></th>\n",
        "    </tr>\n",
        "  </thead>\n",
        "  <tbody>\n",
        "    <tr>\n",
        "      <th>2005-03-01</th>\n",
        "      <td> 44.50</td>\n",
        "      <td> 22.47</td>\n",
        "      <td> 54.13</td>\n",
        "      <td> 1210.41</td>\n",
        "    </tr>\n",
        "    <tr>\n",
        "      <th>2005-03-02</th>\n",
        "      <td> 44.12</td>\n",
        "      <td> 22.45</td>\n",
        "      <td> 54.63</td>\n",
        "      <td> 1210.08</td>\n",
        "    </tr>\n",
        "    <tr>\n",
        "      <th>2005-03-03</th>\n",
        "      <td> 41.79</td>\n",
        "      <td> 22.37</td>\n",
        "      <td> 54.96</td>\n",
        "      <td> 1210.47</td>\n",
        "    </tr>\n",
        "    <tr>\n",
        "      <th>2005-03-04</th>\n",
        "      <td> 42.81</td>\n",
        "      <td> 22.37</td>\n",
        "      <td> 55.41</td>\n",
        "      <td> 1222.12</td>\n",
        "    </tr>\n",
        "    <tr>\n",
        "      <th>2005-03-07</th>\n",
        "      <td> 42.75</td>\n",
        "      <td> 22.64</td>\n",
        "      <td> 54.91</td>\n",
        "      <td> 1225.31</td>\n",
        "    </tr>\n",
        "  </tbody>\n",
        "</table>\n",
        "</div>"
       ],
       "metadata": {},
       "output_type": "pyout",
       "prompt_number": 143,
       "text": [
        "             AAPL   MSFT    XOM      SPX\n",
        "date                                    \n",
        "2005-03-01  44.50  22.47  54.13  1210.41\n",
        "2005-03-02  44.12  22.45  54.63  1210.08\n",
        "2005-03-03  41.79  22.37  54.96  1210.47\n",
        "2005-03-04  42.81  22.37  55.41  1222.12\n",
        "2005-03-07  42.75  22.64  54.91  1225.31"
       ]
      }
     ],
     "prompt_number": 143
    },
    {
     "cell_type": "code",
     "collapsed": false,
     "input": [
      "stock['2005-03':'2005-04'].head()"
     ],
     "language": "python",
     "metadata": {},
     "outputs": [
      {
       "html": [
        "<div style=\"max-height:1000px;max-width:1500px;overflow:auto;\">\n",
        "<table border=\"1\" class=\"dataframe\">\n",
        "  <thead>\n",
        "    <tr style=\"text-align: right;\">\n",
        "      <th></th>\n",
        "      <th>AAPL</th>\n",
        "      <th>MSFT</th>\n",
        "      <th>XOM</th>\n",
        "      <th>SPX</th>\n",
        "    </tr>\n",
        "    <tr>\n",
        "      <th>date</th>\n",
        "      <th></th>\n",
        "      <th></th>\n",
        "      <th></th>\n",
        "      <th></th>\n",
        "    </tr>\n",
        "  </thead>\n",
        "  <tbody>\n",
        "    <tr>\n",
        "      <th>2005-03-01</th>\n",
        "      <td> 44.50</td>\n",
        "      <td> 22.47</td>\n",
        "      <td> 54.13</td>\n",
        "      <td> 1210.41</td>\n",
        "    </tr>\n",
        "    <tr>\n",
        "      <th>2005-03-02</th>\n",
        "      <td> 44.12</td>\n",
        "      <td> 22.45</td>\n",
        "      <td> 54.63</td>\n",
        "      <td> 1210.08</td>\n",
        "    </tr>\n",
        "    <tr>\n",
        "      <th>2005-03-03</th>\n",
        "      <td> 41.79</td>\n",
        "      <td> 22.37</td>\n",
        "      <td> 54.96</td>\n",
        "      <td> 1210.47</td>\n",
        "    </tr>\n",
        "    <tr>\n",
        "      <th>2005-03-04</th>\n",
        "      <td> 42.81</td>\n",
        "      <td> 22.37</td>\n",
        "      <td> 55.41</td>\n",
        "      <td> 1222.12</td>\n",
        "    </tr>\n",
        "    <tr>\n",
        "      <th>2005-03-07</th>\n",
        "      <td> 42.75</td>\n",
        "      <td> 22.64</td>\n",
        "      <td> 54.91</td>\n",
        "      <td> 1225.31</td>\n",
        "    </tr>\n",
        "  </tbody>\n",
        "</table>\n",
        "</div>"
       ],
       "metadata": {},
       "output_type": "pyout",
       "prompt_number": 142,
       "text": [
        "             AAPL   MSFT    XOM      SPX\n",
        "date                                    \n",
        "2005-03-01  44.50  22.47  54.13  1210.41\n",
        "2005-03-02  44.12  22.45  54.63  1210.08\n",
        "2005-03-03  41.79  22.37  54.96  1210.47\n",
        "2005-03-04  42.81  22.37  55.41  1222.12\n",
        "2005-03-07  42.75  22.64  54.91  1225.31"
       ]
      }
     ],
     "prompt_number": 142
    },
    {
     "cell_type": "heading",
     "level": 2,
     "metadata": {},
     "source": [
      "Resampling"
     ]
    },
    {
     "cell_type": "markdown",
     "metadata": {},
     "source": [
      "Le **resampling** est l'art d'aggr\u00e9ger ou de d\u00e9sagr\u00e9ger des donn\u00e9es temporelles. \n",
      "\n",
      "On peut vouloir par exemple aggr\u00e9ger les donn\u00e9es du DataFrame stock en calculat la moyenne par ann\u00e9e. \n",
      "\n",
      "On utilisera pour cela la m\u00e9thode **resample** en sp\u00e9cifiant  **la fr\u00e9quence** et la **fonction d'aggr\u00e9gation** via le param\u00e8tre **how**. \n",
      "\n",
      "Un d\u00e9tail des valeurs possibles pour chacun de ces param\u00e8tres est disponible ici - http://pandas.pydata.org/pandas-docs/dev/timeseries.html#offset-aliases"
     ]
    },
    {
     "cell_type": "code",
     "collapsed": false,
     "input": [
      "stock.resample('AS', how='mean')"
     ],
     "language": "python",
     "metadata": {},
     "outputs": [
      {
       "html": [
        "<div style=\"max-height:1000px;max-width:1500px;overflow:auto;\">\n",
        "<table border=\"1\" class=\"dataframe\">\n",
        "  <thead>\n",
        "    <tr style=\"text-align: right;\">\n",
        "      <th></th>\n",
        "      <th>AAPL</th>\n",
        "      <th>MSFT</th>\n",
        "      <th>XOM</th>\n",
        "      <th>SPX</th>\n",
        "    </tr>\n",
        "    <tr>\n",
        "      <th>date</th>\n",
        "      <th></th>\n",
        "      <th></th>\n",
        "      <th></th>\n",
        "      <th></th>\n",
        "    </tr>\n",
        "  </thead>\n",
        "  <tbody>\n",
        "    <tr>\n",
        "      <th>2003-01-01</th>\n",
        "      <td>   9.272619</td>\n",
        "      <td> 20.595119</td>\n",
        "      <td> 30.211111</td>\n",
        "      <td>  965.227540</td>\n",
        "    </tr>\n",
        "    <tr>\n",
        "      <th>2004-01-01</th>\n",
        "      <td>  17.763889</td>\n",
        "      <td> 21.850437</td>\n",
        "      <td> 38.875437</td>\n",
        "      <td> 1130.649444</td>\n",
        "    </tr>\n",
        "    <tr>\n",
        "      <th>2005-01-01</th>\n",
        "      <td>  46.675952</td>\n",
        "      <td> 23.072421</td>\n",
        "      <td> 51.045476</td>\n",
        "      <td> 1207.229444</td>\n",
        "    </tr>\n",
        "    <tr>\n",
        "      <th>2006-01-01</th>\n",
        "      <td>  70.810637</td>\n",
        "      <td> 23.759363</td>\n",
        "      <td> 58.458406</td>\n",
        "      <td> 1310.461633</td>\n",
        "    </tr>\n",
        "    <tr>\n",
        "      <th>2007-01-01</th>\n",
        "      <td> 128.273904</td>\n",
        "      <td> 27.904422</td>\n",
        "      <td> 75.767131</td>\n",
        "      <td> 1477.184343</td>\n",
        "    </tr>\n",
        "    <tr>\n",
        "      <th>2008-01-01</th>\n",
        "      <td> 141.979012</td>\n",
        "      <td> 24.760593</td>\n",
        "      <td> 76.525968</td>\n",
        "      <td> 1220.042055</td>\n",
        "    </tr>\n",
        "    <tr>\n",
        "      <th>2009-01-01</th>\n",
        "      <td> 146.814127</td>\n",
        "      <td> 21.885397</td>\n",
        "      <td> 67.124960</td>\n",
        "      <td>  948.046389</td>\n",
        "    </tr>\n",
        "    <tr>\n",
        "      <th>2010-01-01</th>\n",
        "      <td> 259.842460</td>\n",
        "      <td> 26.262619</td>\n",
        "      <td> 63.067976</td>\n",
        "      <td> 1139.965516</td>\n",
        "    </tr>\n",
        "    <tr>\n",
        "      <th>2011-01-01</th>\n",
        "      <td> 356.526834</td>\n",
        "      <td> 25.825930</td>\n",
        "      <td> 79.042663</td>\n",
        "      <td> 1276.093015</td>\n",
        "    </tr>\n",
        "  </tbody>\n",
        "</table>\n",
        "</div>"
       ],
       "metadata": {},
       "output_type": "pyout",
       "prompt_number": 155,
       "text": [
        "                  AAPL       MSFT        XOM          SPX\n",
        "date                                                     \n",
        "2003-01-01    9.272619  20.595119  30.211111   965.227540\n",
        "2004-01-01   17.763889  21.850437  38.875437  1130.649444\n",
        "2005-01-01   46.675952  23.072421  51.045476  1207.229444\n",
        "2006-01-01   70.810637  23.759363  58.458406  1310.461633\n",
        "2007-01-01  128.273904  27.904422  75.767131  1477.184343\n",
        "2008-01-01  141.979012  24.760593  76.525968  1220.042055\n",
        "2009-01-01  146.814127  21.885397  67.124960   948.046389\n",
        "2010-01-01  259.842460  26.262619  63.067976  1139.965516\n",
        "2011-01-01  356.526834  25.825930  79.042663  1276.093015"
       ]
      }
     ],
     "prompt_number": 155
    },
    {
     "cell_type": "heading",
     "level": 2,
     "metadata": {},
     "source": [
      "Plotting"
     ]
    },
    {
     "cell_type": "markdown",
     "metadata": {},
     "source": [
      "La visualisation de donn\u00e9es appliqu\u00e9e \u00e0 des time series permet d'appr\u00e9cier rapidement une tendance. \n",
      "\n",
      "Pandas permet de cr\u00e9er rapidement une visualisation avec la m\u00e9thode **plot**"
     ]
    },
    {
     "cell_type": "code",
     "collapsed": false,
     "input": [
      "# permet d'afficher les graphes au sein de la page\n",
      "\n",
      "import matplotlib.pyplot as plt\n",
      "%matplotlib inline"
     ],
     "language": "python",
     "metadata": {},
     "outputs": [],
     "prompt_number": 158
    },
    {
     "cell_type": "code",
     "collapsed": false,
     "input": [
      "stock.plot()"
     ],
     "language": "python",
     "metadata": {},
     "outputs": [
      {
       "metadata": {},
       "output_type": "pyout",
       "prompt_number": 159,
       "text": [
        "<matplotlib.axes.AxesSubplot at 0x112477310>"
       ]
      },
      {
       "metadata": {},
       "output_type": "display_data",
       "png": "[encoded data removed]",
       "text": [
        "<matplotlib.figure.Figure at 0x112483e50>"
       ]
      }
     ],
     "prompt_number": 159
    },
    {
     "cell_type": "code",
     "collapsed": false,
     "input": [
      "stock.resample('M', how='mean').plot()"
     ],
     "language": "python",
     "metadata": {},
     "outputs": [
      {
       "metadata": {},
       "output_type": "pyout",
       "prompt_number": 164,
       "text": [
        "<matplotlib.axes.AxesSubplot at 0x1138dcf90>"
       ]
      },
      {
       "metadata": {},
       "output_type": "display_data",
       "png": "[encoded data removed]",
       "text": [
        "<matplotlib.figure.Figure at 0x113b6da90>"
       ]
      }
     ],
     "prompt_number": 164
    },
    {
     "cell_type": "code",
     "collapsed": false,
     "input": [],
     "language": "python",
     "metadata": {},
     "outputs": []
    }
   ],
   "metadata": {}
  }
 ]
}