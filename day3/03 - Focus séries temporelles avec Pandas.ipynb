{
 "metadata": {
  "name": ""
 },
 "nbformat": 3,
 "nbformat_minor": 0,
 "worksheets": [
  {
   "cells": [
    {
     "cell_type": "heading",
     "level": 1,
     "metadata": {},
     "source": [
      "S\u00e9ries temporelles avec Pandas"
     ]
    },
    {
     "cell_type": "markdown",
     "metadata": {},
     "source": [
      "L'analyse temporelle est une partie essentielle de l'analyse de donn\u00e9es. \n",
      "\n",
      "Pandas dispose de plusieurs m\u00e9thode pour g\u00e9rer et manipuler des donn\u00e9es temporelles :"
     ]
    },
    {
     "cell_type": "heading",
     "level": 2,
     "metadata": {},
     "source": [
      "Datetime (Python)"
     ]
    },
    {
     "cell_type": "markdown",
     "metadata": {},
     "source": [
      "Le module **Datetime** en Python permet de r\u00e9aliser plusieurs op\u00e9rations avec des dates : "
     ]
    },
    {
     "cell_type": "code",
     "collapsed": false,
     "input": [
      "from datetime import datetime\n",
      "\n",
      "now = datetime.now()"
     ],
     "language": "python",
     "metadata": {},
     "outputs": [],
     "prompt_number": 1
    },
    {
     "cell_type": "markdown",
     "metadata": {},
     "source": [
      "l'objet **Datetime** stocke la date et l'heure jusqu'\u00e0 la microsecond, jugez plut\u00f4t : "
     ]
    },
    {
     "cell_type": "code",
     "collapsed": false,
     "input": [
      "now "
     ],
     "language": "python",
     "metadata": {},
     "outputs": [
      {
       "metadata": {},
       "output_type": "pyout",
       "prompt_number": 6,
       "text": [
        "datetime.datetime(2015, 2, 24, 17, 0, 14, 373024)"
       ]
      }
     ],
     "prompt_number": 6
    },
    {
     "cell_type": "markdown",
     "metadata": {},
     "source": [
      "Nous pouvons acc\u00e9der \u00e0 diff\u00e9rentes \u00e0 l'ann\u00e9e, le mois, le jour etc.. "
     ]
    },
    {
     "cell_type": "code",
     "collapsed": false,
     "input": [
      "print now.year\n",
      "print now.month\n",
      "print now.day"
     ],
     "language": "python",
     "metadata": {},
     "outputs": [
      {
       "output_type": "stream",
       "stream": "stdout",
       "text": [
        "2015\n",
        "2\n",
        "24\n"
       ]
      }
     ],
     "prompt_number": 11
    },
    {
     "cell_type": "heading",
     "level": 2,
     "metadata": {},
     "source": [
      "String --> datetime"
     ]
    },
    {
     "cell_type": "markdown",
     "metadata": {},
     "source": [
      "Bien entendu, les donn\u00e9es temporelles sont rarement stock\u00e9es au format dates. Elles sont souvent stock\u00e9es et pars\u00e9es sous forme de texte\n",
      "\n",
      "La m\u00e9thode **strptime** du module **datetime** de Python permet de transformer un String en datetime en y int\u00e9grant un **format de date**"
     ]
    },
    {
     "cell_type": "code",
     "collapsed": false,
     "input": [
      "chaine = '2013-02-13'"
     ],
     "language": "python",
     "metadata": {},
     "outputs": [],
     "prompt_number": 17
    },
    {
     "cell_type": "code",
     "collapsed": false,
     "input": [
      "datetime.strptime(chaine,'%Y-%m-%d')"
     ],
     "language": "python",
     "metadata": {},
     "outputs": [
      {
       "metadata": {},
       "output_type": "pyout",
       "prompt_number": 18,
       "text": [
        "datetime.datetime(2013, 2, 13, 0, 0)"
       ]
      }
     ],
     "prompt_number": 18
    },
    {
     "cell_type": "markdown",
     "metadata": {},
     "source": [
      "On peut retrouver l'int\u00e9gralit\u00e9 des formats de date ici - https://docs.python.org/2/library/datetime.html#strftime-and-strptime-behavior"
     ]
    },
    {
     "cell_type": "code",
     "collapsed": false,
     "input": [
      "import pandas as pd"
     ],
     "language": "python",
     "metadata": {},
     "outputs": [],
     "prompt_number": 20
    },
    {
     "cell_type": "markdown",
     "metadata": {},
     "source": [
      "Pandas permet de parse facilement les donn\u00e9es d'une S\u00e9rie gr\u00e2ce \u00e0 la m\u00e9thode **to_datetime** :"
     ]
    },
    {
     "cell_type": "code",
     "collapsed": false,
     "input": [
      "datestring = ['2013-04-03', '2013-04-04', '2013-04-05', '2013-04-06']"
     ],
     "language": "python",
     "metadata": {},
     "outputs": [],
     "prompt_number": 42
    },
    {
     "cell_type": "code",
     "collapsed": false,
     "input": [
      "pd.to_datetime(datestring)"
     ],
     "language": "python",
     "metadata": {},
     "outputs": [
      {
       "metadata": {},
       "output_type": "pyout",
       "prompt_number": 45,
       "text": [
        "<class 'pandas.tseries.index.DatetimeIndex'>\n",
        "[2013-04-03, ..., 2013-04-06]\n",
        "Length: 4, Freq: None, Timezone: None"
       ]
      }
     ],
     "prompt_number": 45
    },
    {
     "cell_type": "markdown",
     "metadata": {},
     "source": [
      "Remarquons que la **liste** datestring a \u00e9t\u00e9 transform\u00e9e en objet Pandas **tseries.index.DatetimeIndex** \n",
      "\n",
      "Plusieurs options (qui d\u00e9passe ce focus) sont \u00e9galement \u00e0 noter : la longueur de la s\u00e9rie, la fr\u00e9quence, la timezone etc.."
     ]
    },
    {
     "cell_type": "heading",
     "level": 2,
     "metadata": {},
     "source": [
      "Time et DataFrame "
     ]
    },
    {
     "cell_type": "markdown",
     "metadata": {},
     "source": [
      "Lorsque vous disposez d'un set de donn\u00e9es contenant des donn\u00e9es temporelles, il advient de bien indexer en utilisant l'objet  **DatetimeIndex**. \n",
      "\n",
      "Prenons par exemple une nouvelle liste de dates (format chaine) : "
     ]
    },
    {
     "cell_type": "code",
     "collapsed": false,
     "input": [
      "datestr = ['2013-04-03', '2013-04-04', '2013-04-05', '2013-05-06','2014-06-07','2014-07-08']"
     ],
     "language": "python",
     "metadata": {},
     "outputs": [],
     "prompt_number": 80
    },
    {
     "cell_type": "markdown",
     "metadata": {},
     "source": [
      "Nous transformons cette liste de String en un objet DatetimeIndex en utilisant la m\u00e9thode **to_datetime** :"
     ]
    },
    {
     "cell_type": "code",
     "collapsed": false,
     "input": [
      "dates = pd.to_datetime(datestr)"
     ],
     "language": "python",
     "metadata": {},
     "outputs": [],
     "prompt_number": 81
    },
    {
     "cell_type": "markdown",
     "metadata": {},
     "source": [
      "Si nous souhaitons maintenant cr\u00e9er un DataFrame, nous pouvons sp\u00e9cifier, au moment de la cr\u00e9ation, l'index \u00e0 utiliser gr\u00e2ce au param\u00e8tre **index** :"
     ]
    },
    {
     "cell_type": "code",
     "collapsed": false,
     "input": [
      "df = pd.DataFrame(np.random.randn(6,2),\n",
      "                  index = dates,\n",
      "                  columns = ['col1','col2'])"
     ],
     "language": "python",
     "metadata": {},
     "outputs": [],
     "prompt_number": 82
    },
    {
     "cell_type": "code",
     "collapsed": false,
     "input": [
      "df"
     ],
     "language": "python",
     "metadata": {},
     "outputs": [
      {
       "html": [
        "<div style=\"max-height:1000px;max-width:1500px;overflow:auto;\">\n",
        "<table border=\"1\" class=\"dataframe\">\n",
        "  <thead>\n",
        "    <tr style=\"text-align: right;\">\n",
        "      <th></th>\n",
        "      <th>col1</th>\n",
        "      <th>col2</th>\n",
        "    </tr>\n",
        "  </thead>\n",
        "  <tbody>\n",
        "    <tr>\n",
        "      <th>2013-04-03</th>\n",
        "      <td>-0.704809</td>\n",
        "      <td>-1.826185</td>\n",
        "    </tr>\n",
        "    <tr>\n",
        "      <th>2013-04-04</th>\n",
        "      <td>-0.271264</td>\n",
        "      <td> 0.051873</td>\n",
        "    </tr>\n",
        "    <tr>\n",
        "      <th>2013-04-05</th>\n",
        "      <td>-1.113858</td>\n",
        "      <td> 0.627835</td>\n",
        "    </tr>\n",
        "    <tr>\n",
        "      <th>2013-05-06</th>\n",
        "      <td> 0.379877</td>\n",
        "      <td>-0.132928</td>\n",
        "    </tr>\n",
        "    <tr>\n",
        "      <th>2014-06-07</th>\n",
        "      <td>-0.192836</td>\n",
        "      <td> 0.934233</td>\n",
        "    </tr>\n",
        "    <tr>\n",
        "      <th>2014-07-08</th>\n",
        "      <td>-1.508802</td>\n",
        "      <td> 0.765052</td>\n",
        "    </tr>\n",
        "  </tbody>\n",
        "</table>\n",
        "</div>"
       ],
       "metadata": {},
       "output_type": "pyout",
       "prompt_number": 86,
       "text": [
        "                col1      col2\n",
        "2013-04-03 -0.704809 -1.826185\n",
        "2013-04-04 -0.271264  0.051873\n",
        "2013-04-05 -1.113858  0.627835\n",
        "2013-05-06  0.379877 -0.132928\n",
        "2014-06-07 -0.192836  0.934233\n",
        "2014-07-08 -1.508802  0.765052"
       ]
      }
     ],
     "prompt_number": 86
    },
    {
     "cell_type": "markdown",
     "metadata": {},
     "source": [
      "La plupart des DataFrame que vous utiliserez seront lus au sein de fichier ext\u00e9rieurs (e.g : csv) \n",
      "\n",
      "La m\u00e9thode **read_csv** de Pandas a diff\u00e9rentes options : \n",
      "\n",
      "- **index_col** permet de pr\u00e9ciser la colonne \u00e0 prendre comme Index\n",
      "- **parse_dates** est un bool\u00e9en permettant de parser les chaines en dates automatiquement\n",
      "\n",
      "Prenons l'exemple suivant : "
     ]
    },
    {
     "cell_type": "code",
     "collapsed": false,
     "input": [
      "stock = pd.read_csv(\"data/stock_px.csv\")"
     ],
     "language": "python",
     "metadata": {},
     "outputs": [],
     "prompt_number": 105
    },
    {
     "cell_type": "markdown",
     "metadata": {},
     "source": [
      "L'index de stock dans ce cas l\u00e0 est une liste d'Integer :"
     ]
    },
    {
     "cell_type": "code",
     "collapsed": false,
     "input": [
      "stock.index"
     ],
     "language": "python",
     "metadata": {},
     "outputs": [
      {
       "metadata": {},
       "output_type": "pyout",
       "prompt_number": 104,
       "text": [
        "Int64Index([0, 1, 2, 3, 4, 5, 6, 7, 8, 9, 10, 11, 12, 13, 14, 15, 16, 17, 18, 19, 20, 21, 22, 23, 24, 25, 26, 27, 28, 29, 30, 31, 32, 33, 34, 35, 36, 37, 38, 39, 40, 41, 42, 43, 44, 45, 46, 47, 48, 49, 50, 51, 52, 53, 54, 55, 56, 57, 58, 59, 60, 61, 62, 63, 64, 65, 66, 67, 68, 69, 70, 71, 72, 73, 74, 75, 76, 77, 78, 79, 80, 81, 82, 83, 84, 85, 86, 87, 88, 89, 90, 91, 92, 93, 94, 95, 96, 97, 98, 99, ...], dtype='int64')"
       ]
      }
     ],
     "prompt_number": 104
    },
    {
     "cell_type": "markdown",
     "metadata": {},
     "source": [
      "En sp\u00e9cifiant l'index \u00e0 utiliser et en activant l'option de parsing de dates, nous obtenons : "
     ]
    },
    {
     "cell_type": "code",
     "collapsed": false,
     "input": [
      "stock = pd.read_csv(\"data/stock_px.csv\", parse_dates=True, index_col=0)"
     ],
     "language": "python",
     "metadata": {},
     "outputs": [],
     "prompt_number": 113
    },
    {
     "cell_type": "code",
     "collapsed": false,
     "input": [
      "stock.index"
     ],
     "language": "python",
     "metadata": {},
     "outputs": [
      {
       "metadata": {},
       "output_type": "pyout",
       "prompt_number": 114,
       "text": [
        "<class 'pandas.tseries.index.DatetimeIndex'>\n",
        "[2003-01-02, ..., 2011-10-14]\n",
        "Length: 2214, Freq: None, Timezone: None"
       ]
      }
     ],
     "prompt_number": 114
    },
    {
     "cell_type": "markdown",
     "metadata": {},
     "source": [
      "Dans le cas o\u00f9 il n'est pas possible de fixer un Index \u00e0 la lecture d'un fichier, nous pourrons utiliser la m\u00e9thode **set_index** pour fixer l'index d'un DataFrame apr\u00e8s sa cr\u00e9ation"
     ]
    },
    {
     "cell_type": "markdown",
     "metadata": {},
     "source": [
      "Lorsqu'un DataFrame a \u00e9t\u00e9 correctement cr\u00e9\u00e9, Pandas offre de nombreuses m\u00e9thodes pour s\u00e9lectionner ou filtrer des donn\u00e9es. \n",
      "\n",
      "Nous pouvons s\u00e9lectionner par exemple uniquement les donn\u00e9es de stock de l'ann\u00e9e 2005 avec la cl\u00e9 '2005' :"
     ]
    },
    {
     "cell_type": "code",
     "collapsed": false,
     "input": [
      "stock['2005'].head()"
     ],
     "language": "python",
     "metadata": {},
     "outputs": [
      {
       "html": [
        "<div style=\"max-height:1000px;max-width:1500px;overflow:auto;\">\n",
        "<table border=\"1\" class=\"dataframe\">\n",
        "  <thead>\n",
        "    <tr style=\"text-align: right;\">\n",
        "      <th></th>\n",
        "      <th>AAPL</th>\n",
        "      <th>MSFT</th>\n",
        "      <th>XOM</th>\n",
        "      <th>SPX</th>\n",
        "    </tr>\n",
        "    <tr>\n",
        "      <th>date</th>\n",
        "      <th></th>\n",
        "      <th></th>\n",
        "      <th></th>\n",
        "      <th></th>\n",
        "    </tr>\n",
        "  </thead>\n",
        "  <tbody>\n",
        "    <tr>\n",
        "      <th>2005-01-03</th>\n",
        "      <td> 31.65</td>\n",
        "      <td> 23.70</td>\n",
        "      <td> 43.45</td>\n",
        "      <td> 1202.08</td>\n",
        "    </tr>\n",
        "    <tr>\n",
        "      <th>2005-01-04</th>\n",
        "      <td> 31.97</td>\n",
        "      <td> 23.79</td>\n",
        "      <td> 43.15</td>\n",
        "      <td> 1188.05</td>\n",
        "    </tr>\n",
        "    <tr>\n",
        "      <th>2005-01-05</th>\n",
        "      <td> 32.25</td>\n",
        "      <td> 23.73</td>\n",
        "      <td> 42.93</td>\n",
        "      <td> 1183.74</td>\n",
        "    </tr>\n",
        "    <tr>\n",
        "      <th>2005-01-06</th>\n",
        "      <td> 32.28</td>\n",
        "      <td> 23.71</td>\n",
        "      <td> 43.47</td>\n",
        "      <td> 1187.89</td>\n",
        "    </tr>\n",
        "    <tr>\n",
        "      <th>2005-01-07</th>\n",
        "      <td> 34.62</td>\n",
        "      <td> 23.64</td>\n",
        "      <td> 43.19</td>\n",
        "      <td> 1186.19</td>\n",
        "    </tr>\n",
        "  </tbody>\n",
        "</table>\n",
        "</div>"
       ],
       "metadata": {},
       "output_type": "pyout",
       "prompt_number": 139,
       "text": [
        "             AAPL   MSFT    XOM      SPX\n",
        "date                                    \n",
        "2005-01-03  31.65  23.70  43.45  1202.08\n",
        "2005-01-04  31.97  23.79  43.15  1188.05\n",
        "2005-01-05  32.25  23.73  42.93  1183.74\n",
        "2005-01-06  32.28  23.71  43.47  1187.89\n",
        "2005-01-07  34.62  23.64  43.19  1186.19"
       ]
      }
     ],
     "prompt_number": 139
    },
    {
     "cell_type": "markdown",
     "metadata": {},
     "source": [
      "On peut de la m\u00eame mani\u00e8re s\u00e9l\u00e9ctionner un mois, ou une p\u00e9riode :"
     ]
    },
    {
     "cell_type": "code",
     "collapsed": false,
     "input": [
      "stock['2005-03'].head()"
     ],
     "language": "python",
     "metadata": {},
     "outputs": [
      {
       "html": [
        "<div style=\"max-height:1000px;max-width:1500px;overflow:auto;\">\n",
        "<table border=\"1\" class=\"dataframe\">\n",
        "  <thead>\n",
        "    <tr style=\"text-align: right;\">\n",
        "      <th></th>\n",
        "      <th>AAPL</th>\n",
        "      <th>MSFT</th>\n",
        "      <th>XOM</th>\n",
        "      <th>SPX</th>\n",
        "    </tr>\n",
        "    <tr>\n",
        "      <th>date</th>\n",
        "      <th></th>\n",
        "      <th></th>\n",
        "      <th></th>\n",
        "      <th></th>\n",
        "    </tr>\n",
        "  </thead>\n",
        "  <tbody>\n",
        "    <tr>\n",
        "      <th>2005-03-01</th>\n",
        "      <td> 44.50</td>\n",
        "      <td> 22.47</td>\n",
        "      <td> 54.13</td>\n",
        "      <td> 1210.41</td>\n",
        "    </tr>\n",
        "    <tr>\n",
        "      <th>2005-03-02</th>\n",
        "      <td> 44.12</td>\n",
        "      <td> 22.45</td>\n",
        "      <td> 54.63</td>\n",
        "      <td> 1210.08</td>\n",
        "    </tr>\n",
        "    <tr>\n",
        "      <th>2005-03-03</th>\n",
        "      <td> 41.79</td>\n",
        "      <td> 22.37</td>\n",
        "      <td> 54.96</td>\n",
        "      <td> 1210.47</td>\n",
        "    </tr>\n",
        "    <tr>\n",
        "      <th>2005-03-04</th>\n",
        "      <td> 42.81</td>\n",
        "      <td> 22.37</td>\n",
        "      <td> 55.41</td>\n",
        "      <td> 1222.12</td>\n",
        "    </tr>\n",
        "    <tr>\n",
        "      <th>2005-03-07</th>\n",
        "      <td> 42.75</td>\n",
        "      <td> 22.64</td>\n",
        "      <td> 54.91</td>\n",
        "      <td> 1225.31</td>\n",
        "    </tr>\n",
        "  </tbody>\n",
        "</table>\n",
        "</div>"
       ],
       "metadata": {},
       "output_type": "pyout",
       "prompt_number": 143,
       "text": [
        "             AAPL   MSFT    XOM      SPX\n",
        "date                                    \n",
        "2005-03-01  44.50  22.47  54.13  1210.41\n",
        "2005-03-02  44.12  22.45  54.63  1210.08\n",
        "2005-03-03  41.79  22.37  54.96  1210.47\n",
        "2005-03-04  42.81  22.37  55.41  1222.12\n",
        "2005-03-07  42.75  22.64  54.91  1225.31"
       ]
      }
     ],
     "prompt_number": 143
    },
    {
     "cell_type": "code",
     "collapsed": false,
     "input": [
      "stock['2005-03':'2005-04'].head()"
     ],
     "language": "python",
     "metadata": {},
     "outputs": [
      {
       "html": [
        "<div style=\"max-height:1000px;max-width:1500px;overflow:auto;\">\n",
        "<table border=\"1\" class=\"dataframe\">\n",
        "  <thead>\n",
        "    <tr style=\"text-align: right;\">\n",
        "      <th></th>\n",
        "      <th>AAPL</th>\n",
        "      <th>MSFT</th>\n",
        "      <th>XOM</th>\n",
        "      <th>SPX</th>\n",
        "    </tr>\n",
        "    <tr>\n",
        "      <th>date</th>\n",
        "      <th></th>\n",
        "      <th></th>\n",
        "      <th></th>\n",
        "      <th></th>\n",
        "    </tr>\n",
        "  </thead>\n",
        "  <tbody>\n",
        "    <tr>\n",
        "      <th>2005-03-01</th>\n",
        "      <td> 44.50</td>\n",
        "      <td> 22.47</td>\n",
        "      <td> 54.13</td>\n",
        "      <td> 1210.41</td>\n",
        "    </tr>\n",
        "    <tr>\n",
        "      <th>2005-03-02</th>\n",
        "      <td> 44.12</td>\n",
        "      <td> 22.45</td>\n",
        "      <td> 54.63</td>\n",
        "      <td> 1210.08</td>\n",
        "    </tr>\n",
        "    <tr>\n",
        "      <th>2005-03-03</th>\n",
        "      <td> 41.79</td>\n",
        "      <td> 22.37</td>\n",
        "      <td> 54.96</td>\n",
        "      <td> 1210.47</td>\n",
        "    </tr>\n",
        "    <tr>\n",
        "      <th>2005-03-04</th>\n",
        "      <td> 42.81</td>\n",
        "      <td> 22.37</td>\n",
        "      <td> 55.41</td>\n",
        "      <td> 1222.12</td>\n",
        "    </tr>\n",
        "    <tr>\n",
        "      <th>2005-03-07</th>\n",
        "      <td> 42.75</td>\n",
        "      <td> 22.64</td>\n",
        "      <td> 54.91</td>\n",
        "      <td> 1225.31</td>\n",
        "    </tr>\n",
        "  </tbody>\n",
        "</table>\n",
        "</div>"
       ],
       "metadata": {},
       "output_type": "pyout",
       "prompt_number": 142,
       "text": [
        "             AAPL   MSFT    XOM      SPX\n",
        "date                                    \n",
        "2005-03-01  44.50  22.47  54.13  1210.41\n",
        "2005-03-02  44.12  22.45  54.63  1210.08\n",
        "2005-03-03  41.79  22.37  54.96  1210.47\n",
        "2005-03-04  42.81  22.37  55.41  1222.12\n",
        "2005-03-07  42.75  22.64  54.91  1225.31"
       ]
      }
     ],
     "prompt_number": 142
    },
    {
     "cell_type": "code",
     "collapsed": false,
     "input": [],
     "language": "python",
     "metadata": {},
     "outputs": [
      {
       "html": [
        "<div style=\"max-height:1000px;max-width:1500px;overflow:auto;\">\n",
        "<table border=\"1\" class=\"dataframe\">\n",
        "  <thead>\n",
        "    <tr style=\"text-align: right;\">\n",
        "      <th></th>\n",
        "      <th>AAPL</th>\n",
        "      <th>MSFT</th>\n",
        "      <th>XOM</th>\n",
        "      <th>SPX</th>\n",
        "    </tr>\n",
        "    <tr>\n",
        "      <th>date</th>\n",
        "      <th></th>\n",
        "      <th></th>\n",
        "      <th></th>\n",
        "      <th></th>\n",
        "    </tr>\n",
        "  </thead>\n",
        "  <tbody>\n",
        "    <tr>\n",
        "      <th>2004-01-02</th>\n",
        "      <td>  10.64</td>\n",
        "      <td> 21.76</td>\n",
        "      <td> 34.41</td>\n",
        "      <td> 1108.48</td>\n",
        "    </tr>\n",
        "    <tr>\n",
        "      <th>2004-01-05</th>\n",
        "      <td>  11.09</td>\n",
        "      <td> 22.31</td>\n",
        "      <td> 35.21</td>\n",
        "      <td> 1122.22</td>\n",
        "    </tr>\n",
        "    <tr>\n",
        "      <th>2004-01-06</th>\n",
        "      <td>  11.05</td>\n",
        "      <td> 22.39</td>\n",
        "      <td> 34.97</td>\n",
        "      <td> 1123.67</td>\n",
        "    </tr>\n",
        "    <tr>\n",
        "      <th>2004-01-07</th>\n",
        "      <td>  11.30</td>\n",
        "      <td> 22.36</td>\n",
        "      <td> 34.72</td>\n",
        "      <td> 1126.33</td>\n",
        "    </tr>\n",
        "    <tr>\n",
        "      <th>2004-01-08</th>\n",
        "      <td>  11.68</td>\n",
        "      <td> 22.33</td>\n",
        "      <td> 34.63</td>\n",
        "      <td> 1131.92</td>\n",
        "    </tr>\n",
        "    <tr>\n",
        "      <th>2004-01-09</th>\n",
        "      <td>  11.50</td>\n",
        "      <td> 21.93</td>\n",
        "      <td> 34.12</td>\n",
        "      <td> 1121.86</td>\n",
        "    </tr>\n",
        "    <tr>\n",
        "      <th>2004-01-12</th>\n",
        "      <td>  11.86</td>\n",
        "      <td> 21.86</td>\n",
        "      <td> 34.60</td>\n",
        "      <td> 1127.23</td>\n",
        "    </tr>\n",
        "    <tr>\n",
        "      <th>2004-01-13</th>\n",
        "      <td>  12.06</td>\n",
        "      <td> 21.75</td>\n",
        "      <td> 34.45</td>\n",
        "      <td> 1121.22</td>\n",
        "    </tr>\n",
        "    <tr>\n",
        "      <th>2004-01-14</th>\n",
        "      <td>  12.10</td>\n",
        "      <td> 21.96</td>\n",
        "      <td> 34.45</td>\n",
        "      <td> 1130.52</td>\n",
        "    </tr>\n",
        "    <tr>\n",
        "      <th>2004-01-15</th>\n",
        "      <td>  11.43</td>\n",
        "      <td> 21.83</td>\n",
        "      <td> 34.11</td>\n",
        "      <td> 1132.05</td>\n",
        "    </tr>\n",
        "    <tr>\n",
        "      <th>2004-01-16</th>\n",
        "      <td>  11.36</td>\n",
        "      <td> 22.05</td>\n",
        "      <td> 34.30</td>\n",
        "      <td> 1139.83</td>\n",
        "    </tr>\n",
        "    <tr>\n",
        "      <th>2004-01-20</th>\n",
        "      <td>  11.36</td>\n",
        "      <td> 22.28</td>\n",
        "      <td> 34.62</td>\n",
        "      <td> 1138.77</td>\n",
        "    </tr>\n",
        "    <tr>\n",
        "      <th>2004-01-21</th>\n",
        "      <td>  11.31</td>\n",
        "      <td> 22.44</td>\n",
        "      <td> 35.08</td>\n",
        "      <td> 1147.62</td>\n",
        "    </tr>\n",
        "    <tr>\n",
        "      <th>2004-01-22</th>\n",
        "      <td>  11.09</td>\n",
        "      <td> 22.21</td>\n",
        "      <td> 34.96</td>\n",
        "      <td> 1143.94</td>\n",
        "    </tr>\n",
        "    <tr>\n",
        "      <th>2004-01-23</th>\n",
        "      <td>  11.28</td>\n",
        "      <td> 22.58</td>\n",
        "      <td> 34.75</td>\n",
        "      <td> 1141.55</td>\n",
        "    </tr>\n",
        "    <tr>\n",
        "      <th>2004-01-26</th>\n",
        "      <td>  11.51</td>\n",
        "      <td> 22.83</td>\n",
        "      <td> 35.18</td>\n",
        "      <td> 1155.37</td>\n",
        "    </tr>\n",
        "    <tr>\n",
        "      <th>2004-01-27</th>\n",
        "      <td>  11.53</td>\n",
        "      <td> 22.40</td>\n",
        "      <td> 34.88</td>\n",
        "      <td> 1144.05</td>\n",
        "    </tr>\n",
        "    <tr>\n",
        "      <th>2004-01-28</th>\n",
        "      <td>  11.26</td>\n",
        "      <td> 21.97</td>\n",
        "      <td> 34.56</td>\n",
        "      <td> 1128.48</td>\n",
        "    </tr>\n",
        "    <tr>\n",
        "      <th>2004-01-29</th>\n",
        "      <td>  11.34</td>\n",
        "      <td> 22.13</td>\n",
        "      <td> 35.12</td>\n",
        "      <td> 1134.11</td>\n",
        "    </tr>\n",
        "    <tr>\n",
        "      <th>2004-01-30</th>\n",
        "      <td>  11.28</td>\n",
        "      <td> 21.92</td>\n",
        "      <td> 34.54</td>\n",
        "      <td> 1131.13</td>\n",
        "    </tr>\n",
        "    <tr>\n",
        "      <th>2004-02-02</th>\n",
        "      <td>  11.16</td>\n",
        "      <td> 21.72</td>\n",
        "      <td> 34.46</td>\n",
        "      <td> 1135.26</td>\n",
        "    </tr>\n",
        "    <tr>\n",
        "      <th>2004-02-03</th>\n",
        "      <td>  11.13</td>\n",
        "      <td> 21.64</td>\n",
        "      <td> 34.22</td>\n",
        "      <td> 1136.03</td>\n",
        "    </tr>\n",
        "    <tr>\n",
        "      <th>2004-02-04</th>\n",
        "      <td>  10.90</td>\n",
        "      <td> 21.41</td>\n",
        "      <td> 34.17</td>\n",
        "      <td> 1126.52</td>\n",
        "    </tr>\n",
        "    <tr>\n",
        "      <th>2004-02-05</th>\n",
        "      <td>  11.21</td>\n",
        "      <td> 21.37</td>\n",
        "      <td> 34.19</td>\n",
        "      <td> 1128.59</td>\n",
        "    </tr>\n",
        "    <tr>\n",
        "      <th>2004-02-06</th>\n",
        "      <td>  11.35</td>\n",
        "      <td> 21.47</td>\n",
        "      <td> 34.30</td>\n",
        "      <td> 1142.76</td>\n",
        "    </tr>\n",
        "    <tr>\n",
        "      <th>2004-02-09</th>\n",
        "      <td>  11.34</td>\n",
        "      <td> 21.33</td>\n",
        "      <td> 34.70</td>\n",
        "      <td> 1139.81</td>\n",
        "    </tr>\n",
        "    <tr>\n",
        "      <th>2004-02-10</th>\n",
        "      <td>  11.49</td>\n",
        "      <td> 21.42</td>\n",
        "      <td> 35.01</td>\n",
        "      <td> 1145.54</td>\n",
        "    </tr>\n",
        "    <tr>\n",
        "      <th>2004-02-11</th>\n",
        "      <td>  11.90</td>\n",
        "      <td> 21.52</td>\n",
        "      <td> 35.72</td>\n",
        "      <td> 1157.76</td>\n",
        "    </tr>\n",
        "    <tr>\n",
        "      <th>2004-02-12</th>\n",
        "      <td>  11.86</td>\n",
        "      <td> 21.37</td>\n",
        "      <td> 35.71</td>\n",
        "      <td> 1152.11</td>\n",
        "    </tr>\n",
        "    <tr>\n",
        "      <th>2004-02-13</th>\n",
        "      <td>  11.50</td>\n",
        "      <td> 21.08</td>\n",
        "      <td> 35.71</td>\n",
        "      <td> 1145.81</td>\n",
        "    </tr>\n",
        "    <tr>\n",
        "      <th>...</th>\n",
        "      <td>...</td>\n",
        "      <td>...</td>\n",
        "      <td>...</td>\n",
        "      <td>...</td>\n",
        "    </tr>\n",
        "    <tr>\n",
        "      <th>2011-09-02</th>\n",
        "      <td> 374.05</td>\n",
        "      <td> 25.80</td>\n",
        "      <td> 72.14</td>\n",
        "      <td> 1173.97</td>\n",
        "    </tr>\n",
        "    <tr>\n",
        "      <th>2011-09-06</th>\n",
        "      <td> 379.74</td>\n",
        "      <td> 25.51</td>\n",
        "      <td> 71.15</td>\n",
        "      <td> 1165.24</td>\n",
        "    </tr>\n",
        "    <tr>\n",
        "      <th>2011-09-07</th>\n",
        "      <td> 383.93</td>\n",
        "      <td> 26.00</td>\n",
        "      <td> 73.65</td>\n",
        "      <td> 1198.62</td>\n",
        "    </tr>\n",
        "    <tr>\n",
        "      <th>2011-09-08</th>\n",
        "      <td> 384.14</td>\n",
        "      <td> 26.22</td>\n",
        "      <td> 72.82</td>\n",
        "      <td> 1185.90</td>\n",
        "    </tr>\n",
        "    <tr>\n",
        "      <th>2011-09-09</th>\n",
        "      <td> 377.48</td>\n",
        "      <td> 25.74</td>\n",
        "      <td> 71.01</td>\n",
        "      <td> 1154.23</td>\n",
        "    </tr>\n",
        "    <tr>\n",
        "      <th>2011-09-12</th>\n",
        "      <td> 379.94</td>\n",
        "      <td> 25.89</td>\n",
        "      <td> 71.84</td>\n",
        "      <td> 1162.27</td>\n",
        "    </tr>\n",
        "    <tr>\n",
        "      <th>2011-09-13</th>\n",
        "      <td> 384.62</td>\n",
        "      <td> 26.04</td>\n",
        "      <td> 71.65</td>\n",
        "      <td> 1172.87</td>\n",
        "    </tr>\n",
        "    <tr>\n",
        "      <th>2011-09-14</th>\n",
        "      <td> 389.30</td>\n",
        "      <td> 26.50</td>\n",
        "      <td> 72.64</td>\n",
        "      <td> 1188.68</td>\n",
        "    </tr>\n",
        "    <tr>\n",
        "      <th>2011-09-15</th>\n",
        "      <td> 392.96</td>\n",
        "      <td> 26.99</td>\n",
        "      <td> 74.01</td>\n",
        "      <td> 1209.11</td>\n",
        "    </tr>\n",
        "    <tr>\n",
        "      <th>2011-09-16</th>\n",
        "      <td> 400.50</td>\n",
        "      <td> 27.12</td>\n",
        "      <td> 74.55</td>\n",
        "      <td> 1216.01</td>\n",
        "    </tr>\n",
        "    <tr>\n",
        "      <th>2011-09-19</th>\n",
        "      <td> 411.63</td>\n",
        "      <td> 27.21</td>\n",
        "      <td> 73.70</td>\n",
        "      <td> 1204.09</td>\n",
        "    </tr>\n",
        "    <tr>\n",
        "      <th>2011-09-20</th>\n",
        "      <td> 413.45</td>\n",
        "      <td> 26.98</td>\n",
        "      <td> 74.01</td>\n",
        "      <td> 1202.09</td>\n",
        "    </tr>\n",
        "    <tr>\n",
        "      <th>2011-09-21</th>\n",
        "      <td> 412.14</td>\n",
        "      <td> 25.99</td>\n",
        "      <td> 71.97</td>\n",
        "      <td> 1166.76</td>\n",
        "    </tr>\n",
        "    <tr>\n",
        "      <th>2011-09-22</th>\n",
        "      <td> 401.82</td>\n",
        "      <td> 25.06</td>\n",
        "      <td> 69.24</td>\n",
        "      <td> 1129.56</td>\n",
        "    </tr>\n",
        "    <tr>\n",
        "      <th>2011-09-23</th>\n",
        "      <td> 404.30</td>\n",
        "      <td> 25.06</td>\n",
        "      <td> 69.31</td>\n",
        "      <td> 1136.43</td>\n",
        "    </tr>\n",
        "    <tr>\n",
        "      <th>2011-09-26</th>\n",
        "      <td> 403.17</td>\n",
        "      <td> 25.44</td>\n",
        "      <td> 71.72</td>\n",
        "      <td> 1162.95</td>\n",
        "    </tr>\n",
        "    <tr>\n",
        "      <th>2011-09-27</th>\n",
        "      <td> 399.26</td>\n",
        "      <td> 25.67</td>\n",
        "      <td> 72.91</td>\n",
        "      <td> 1175.38</td>\n",
        "    </tr>\n",
        "    <tr>\n",
        "      <th>2011-09-28</th>\n",
        "      <td> 397.01</td>\n",
        "      <td> 25.58</td>\n",
        "      <td> 72.07</td>\n",
        "      <td> 1151.06</td>\n",
        "    </tr>\n",
        "    <tr>\n",
        "      <th>2011-09-29</th>\n",
        "      <td> 390.57</td>\n",
        "      <td> 25.45</td>\n",
        "      <td> 73.88</td>\n",
        "      <td> 1160.40</td>\n",
        "    </tr>\n",
        "    <tr>\n",
        "      <th>2011-09-30</th>\n",
        "      <td> 381.32</td>\n",
        "      <td> 24.89</td>\n",
        "      <td> 72.63</td>\n",
        "      <td> 1131.42</td>\n",
        "    </tr>\n",
        "    <tr>\n",
        "      <th>2011-10-03</th>\n",
        "      <td> 374.60</td>\n",
        "      <td> 24.53</td>\n",
        "      <td> 71.15</td>\n",
        "      <td> 1099.23</td>\n",
        "    </tr>\n",
        "    <tr>\n",
        "      <th>2011-10-04</th>\n",
        "      <td> 372.50</td>\n",
        "      <td> 25.34</td>\n",
        "      <td> 72.83</td>\n",
        "      <td> 1123.95</td>\n",
        "    </tr>\n",
        "    <tr>\n",
        "      <th>2011-10-05</th>\n",
        "      <td> 378.25</td>\n",
        "      <td> 25.89</td>\n",
        "      <td> 73.95</td>\n",
        "      <td> 1144.03</td>\n",
        "    </tr>\n",
        "    <tr>\n",
        "      <th>2011-10-06</th>\n",
        "      <td> 377.37</td>\n",
        "      <td> 26.34</td>\n",
        "      <td> 73.89</td>\n",
        "      <td> 1164.97</td>\n",
        "    </tr>\n",
        "    <tr>\n",
        "      <th>2011-10-07</th>\n",
        "      <td> 369.80</td>\n",
        "      <td> 26.25</td>\n",
        "      <td> 73.56</td>\n",
        "      <td> 1155.46</td>\n",
        "    </tr>\n",
        "    <tr>\n",
        "      <th>2011-10-10</th>\n",
        "      <td> 388.81</td>\n",
        "      <td> 26.94</td>\n",
        "      <td> 76.28</td>\n",
        "      <td> 1194.89</td>\n",
        "    </tr>\n",
        "    <tr>\n",
        "      <th>2011-10-11</th>\n",
        "      <td> 400.29</td>\n",
        "      <td> 27.00</td>\n",
        "      <td> 76.27</td>\n",
        "      <td> 1195.54</td>\n",
        "    </tr>\n",
        "    <tr>\n",
        "      <th>2011-10-12</th>\n",
        "      <td> 402.19</td>\n",
        "      <td> 26.96</td>\n",
        "      <td> 77.16</td>\n",
        "      <td> 1207.25</td>\n",
        "    </tr>\n",
        "    <tr>\n",
        "      <th>2011-10-13</th>\n",
        "      <td> 408.43</td>\n",
        "      <td> 27.18</td>\n",
        "      <td> 76.37</td>\n",
        "      <td> 1203.66</td>\n",
        "    </tr>\n",
        "    <tr>\n",
        "      <th>2011-10-14</th>\n",
        "      <td> 422.00</td>\n",
        "      <td> 27.27</td>\n",
        "      <td> 78.11</td>\n",
        "      <td> 1224.58</td>\n",
        "    </tr>\n",
        "  </tbody>\n",
        "</table>\n",
        "<p>1962 rows \u00d7 4 columns</p>\n",
        "</div>"
       ],
       "metadata": {},
       "output_type": "pyout",
       "prompt_number": 148,
       "text": [
        "              AAPL   MSFT    XOM      SPX\n",
        "date                                     \n",
        "2004-01-02   10.64  21.76  34.41  1108.48\n",
        "2004-01-05   11.09  22.31  35.21  1122.22\n",
        "2004-01-06   11.05  22.39  34.97  1123.67\n",
        "2004-01-07   11.30  22.36  34.72  1126.33\n",
        "2004-01-08   11.68  22.33  34.63  1131.92\n",
        "2004-01-09   11.50  21.93  34.12  1121.86\n",
        "2004-01-12   11.86  21.86  34.60  1127.23\n",
        "2004-01-13   12.06  21.75  34.45  1121.22\n",
        "2004-01-14   12.10  21.96  34.45  1130.52\n",
        "2004-01-15   11.43  21.83  34.11  1132.05\n",
        "2004-01-16   11.36  22.05  34.30  1139.83\n",
        "2004-01-20   11.36  22.28  34.62  1138.77\n",
        "2004-01-21   11.31  22.44  35.08  1147.62\n",
        "2004-01-22   11.09  22.21  34.96  1143.94\n",
        "2004-01-23   11.28  22.58  34.75  1141.55\n",
        "2004-01-26   11.51  22.83  35.18  1155.37\n",
        "2004-01-27   11.53  22.40  34.88  1144.05\n",
        "2004-01-28   11.26  21.97  34.56  1128.48\n",
        "2004-01-29   11.34  22.13  35.12  1134.11\n",
        "2004-01-30   11.28  21.92  34.54  1131.13\n",
        "2004-02-02   11.16  21.72  34.46  1135.26\n",
        "2004-02-03   11.13  21.64  34.22  1136.03\n",
        "2004-02-04   10.90  21.41  34.17  1126.52\n",
        "2004-02-05   11.21  21.37  34.19  1128.59\n",
        "2004-02-06   11.35  21.47  34.30  1142.76\n",
        "2004-02-09   11.34  21.33  34.70  1139.81\n",
        "2004-02-10   11.49  21.42  35.01  1145.54\n",
        "2004-02-11   11.90  21.52  35.72  1157.76\n",
        "2004-02-12   11.86  21.37  35.71  1152.11\n",
        "2004-02-13   11.50  21.08  35.71  1145.81\n",
        "...            ...    ...    ...      ...\n",
        "2011-09-02  374.05  25.80  72.14  1173.97\n",
        "2011-09-06  379.74  25.51  71.15  1165.24\n",
        "2011-09-07  383.93  26.00  73.65  1198.62\n",
        "2011-09-08  384.14  26.22  72.82  1185.90\n",
        "2011-09-09  377.48  25.74  71.01  1154.23\n",
        "2011-09-12  379.94  25.89  71.84  1162.27\n",
        "2011-09-13  384.62  26.04  71.65  1172.87\n",
        "2011-09-14  389.30  26.50  72.64  1188.68\n",
        "2011-09-15  392.96  26.99  74.01  1209.11\n",
        "2011-09-16  400.50  27.12  74.55  1216.01\n",
        "2011-09-19  411.63  27.21  73.70  1204.09\n",
        "2011-09-20  413.45  26.98  74.01  1202.09\n",
        "2011-09-21  412.14  25.99  71.97  1166.76\n",
        "2011-09-22  401.82  25.06  69.24  1129.56\n",
        "2011-09-23  404.30  25.06  69.31  1136.43\n",
        "2011-09-26  403.17  25.44  71.72  1162.95\n",
        "2011-09-27  399.26  25.67  72.91  1175.38\n",
        "2011-09-28  397.01  25.58  72.07  1151.06\n",
        "2011-09-29  390.57  25.45  73.88  1160.40\n",
        "2011-09-30  381.32  24.89  72.63  1131.42\n",
        "2011-10-03  374.60  24.53  71.15  1099.23\n",
        "2011-10-04  372.50  25.34  72.83  1123.95\n",
        "2011-10-05  378.25  25.89  73.95  1144.03\n",
        "2011-10-06  377.37  26.34  73.89  1164.97\n",
        "2011-10-07  369.80  26.25  73.56  1155.46\n",
        "2011-10-10  388.81  26.94  76.28  1194.89\n",
        "2011-10-11  400.29  27.00  76.27  1195.54\n",
        "2011-10-12  402.19  26.96  77.16  1207.25\n",
        "2011-10-13  408.43  27.18  76.37  1203.66\n",
        "2011-10-14  422.00  27.27  78.11  1224.58\n",
        "\n",
        "[1962 rows x 4 columns]"
       ]
      }
     ],
     "prompt_number": 148
    },
    {
     "cell_type": "code",
     "collapsed": false,
     "input": [
      "import matplotlib.pyplot as plt\n",
      "%matplotlib inline"
     ],
     "language": "python",
     "metadata": {},
     "outputs": [],
     "prompt_number": 122
    },
    {
     "cell_type": "heading",
     "level": 2,
     "metadata": {},
     "source": [
      "Resampling"
     ]
    },
    {
     "cell_type": "code",
     "collapsed": false,
     "input": [
      "stock.plot()"
     ],
     "language": "python",
     "metadata": {},
     "outputs": [
      {
       "metadata": {},
       "output_type": "pyout",
       "prompt_number": 145,
       "text": [
        "<matplotlib.axes.AxesSubplot at 0x111dc32d0>"
       ]
      },
      {
       "metadata": {},
       "output_type": "display_data",
       "png": "[encoded data removed]",
       "text": [
        "<matplotlib.figure.Figure at 0x111f77150>"
       ]
      }
     ],
     "prompt_number": 145
    },
    {
     "cell_type": "code",
     "collapsed": false,
     "input": [],
     "language": "python",
     "metadata": {},
     "outputs": []
    }
   ],
   "metadata": {}
  }
 ]
}