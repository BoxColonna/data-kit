{
 "metadata": {
  "name": "",
  "signature": "sha256:9a236319ba8014944799a81232a3e12cdabf5d77b929de5594d912bb11f849dd"
 },
 "nbformat": 3,
 "nbformat_minor": 0,
 "worksheets": [
  {
   "cells": [
    {
     "cell_type": "heading",
     "level": 1,
     "metadata": {},
     "source": [
      "Data Wrangling avec Pandas"
     ]
    },
    {
     "cell_type": "markdown",
     "metadata": {},
     "source": [
      "Une grande partie du m\u00e9tier de Data Scientist, consiste \u00e0 n\u00e9toyer, arranger des donn\u00e9es afin de les exploiter. \n",
      "\n",
      "Ma\u00eetriser cette partie du processus est essentiel : les donn\u00e9es que vous aurait l'occasion d'analyser seront rarement sous la forme d'un DataFrame propre.\n",
      "    \n",
      "A la fin de cette partie, vous saurez :\n",
      "    \n",
      "- Fusionner deux DataFrame avec la m\u00e9thode **merge**\n",
      "- Retravailler, faire pivoter deux datasets avec les m\u00e9thodes **stack** et **unstack**\n",
      "- Remplacer des valeurs \u00e0 partir d'un dictionnaire gr\u00e2ce \u00e0 la m\u00e9thode **map**"
     ]
    },
    {
     "cell_type": "heading",
     "level": 2,
     "metadata": {},
     "source": [
      "Fusionner"
     ]
    },
    {
     "cell_type": "markdown",
     "metadata": {},
     "source": [
      "Fusionner consiste \u00e0 rassembler les lignes de deux DataFrames en utilisant une cl\u00e9 commune. \n",
      "\n",
      "Prenons l'exemple suivant : "
     ]
    },
    {
     "cell_type": "code",
     "collapsed": false,
     "input": [
      "import pandas as pd"
     ],
     "language": "python",
     "metadata": {},
     "outputs": [],
     "prompt_number": 1
    },
    {
     "cell_type": "markdown",
     "metadata": {},
     "source": [
      "Prenons deux sets de donn\u00e9es. \n",
      "\n",
      "Le premier contient des id de commandes. Le second la correspondance entre id client et nom et prenoms. "
     ]
    },
    {
     "cell_type": "code",
     "collapsed": false,
     "input": [
      "orders_dict = {'customer_id':['3','2','1','4'],\n",
      "          'order_value':[40,35,50,45],\n",
      "          'order_id':['4001','4002','4003','4004']}\n",
      "\n",
      "customers_dict = {'customer_id':['1','2','3','4','5'],\n",
      "                  'nom':['CAMPAN','DOE','MUSK','JOBS','GUEULE'],\n",
      "                  'prenom':['Bernard','John','Elon','Steve','James']}"
     ],
     "language": "python",
     "metadata": {},
     "outputs": [],
     "prompt_number": 30
    },
    {
     "cell_type": "markdown",
     "metadata": {},
     "source": [
      "Nous pouvons cr\u00e9er deux DataFrames pour chacun de ces dictionnaires, soit : "
     ]
    },
    {
     "cell_type": "code",
     "collapsed": false,
     "input": [
      "orders = pd.DataFrame(orders_dict,\n",
      "                       columns=['customer_id','order_value'],\n",
      "                       index = orders_dict['order_id'])\n",
      "\n",
      "customers = pd.DataFrame(customers_dict,\n",
      "                         index = customers_dict['customer_id'])"
     ],
     "language": "python",
     "metadata": {},
     "outputs": [],
     "prompt_number": 33
    },
    {
     "cell_type": "markdown",
     "metadata": {},
     "source": [
      "Nous pouvons **fusionner** ces deux DataFrames en utilisant la m\u00e9thode **merge**. \n",
      "\n",
      "Nous sp\u00e9cifions la cl\u00e9 commune ***customer_id*** au sein du param\u00e8tre **on**"
     ]
    },
    {
     "cell_type": "code",
     "collapsed": false,
     "input": [
      "pd.merge(orders,customers, on='customer_id')"
     ],
     "language": "python",
     "metadata": {},
     "outputs": [
      {
       "html": [
        "<div style=\"max-height:1000px;max-width:1500px;overflow:auto;\">\n",
        "<table border=\"1\" class=\"dataframe\">\n",
        "  <thead>\n",
        "    <tr style=\"text-align: right;\">\n",
        "      <th></th>\n",
        "      <th>customer_id</th>\n",
        "      <th>order_value</th>\n",
        "      <th>nom</th>\n",
        "      <th>prenom</th>\n",
        "    </tr>\n",
        "  </thead>\n",
        "  <tbody>\n",
        "    <tr>\n",
        "      <th>0</th>\n",
        "      <td> 3</td>\n",
        "      <td> 40</td>\n",
        "      <td>   MUSK</td>\n",
        "      <td>    Elon</td>\n",
        "    </tr>\n",
        "    <tr>\n",
        "      <th>1</th>\n",
        "      <td> 2</td>\n",
        "      <td> 35</td>\n",
        "      <td>    DOE</td>\n",
        "      <td>    John</td>\n",
        "    </tr>\n",
        "    <tr>\n",
        "      <th>2</th>\n",
        "      <td> 1</td>\n",
        "      <td> 50</td>\n",
        "      <td> CAMPAN</td>\n",
        "      <td> Bernard</td>\n",
        "    </tr>\n",
        "    <tr>\n",
        "      <th>3</th>\n",
        "      <td> 4</td>\n",
        "      <td> 45</td>\n",
        "      <td>   JOBS</td>\n",
        "      <td>   Steve</td>\n",
        "    </tr>\n",
        "  </tbody>\n",
        "</table>\n",
        "</div>"
       ],
       "metadata": {},
       "output_type": "pyout",
       "prompt_number": 35,
       "text": [
        "  customer_id  order_value     nom   prenom\n",
        "0           3           40    MUSK     Elon\n",
        "1           2           35     DOE     John\n",
        "2           1           50  CAMPAN  Bernard\n",
        "3           4           45    JOBS    Steve"
       ]
      }
     ],
     "prompt_number": 35
    },
    {
     "cell_type": "markdown",
     "metadata": {},
     "source": [
      "Plusieurs choses sont \u00e0 noter : \n",
      "\n",
      "- La m\u00e9thode merge a supprim\u00e9 l'index que nous avions cr\u00e9\u00e9\n",
      "- Le client qui n'\u00e9tait pas pr\u00e9sent dans le DataFrame orders n'est pas pr\u00e9sent dans le r\u00e9sultat final \n",
      "\n",
      "Par d\u00e9faut, Pandas r\u00e9alise une fusion dite **inner**.\n",
      "\n",
      "Il existe plusieurs de fusion entre deux sets de donn\u00e9es. Les principales peuvent se r\u00e9sumer au sein du graphe ci-dessous : "
     ]
    },
    {
     "cell_type": "markdown",
     "metadata": {},
     "source": [
      "<img src='files/images/merge.png'>"
     ]
    },
    {
     "cell_type": "code",
     "collapsed": false,
     "input": [],
     "language": "python",
     "metadata": {},
     "outputs": []
    }
   ],
   "metadata": {}
  }
 ]
}