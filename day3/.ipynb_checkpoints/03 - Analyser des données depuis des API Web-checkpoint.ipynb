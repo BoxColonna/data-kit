{
 "metadata": {
  "name": ""
 },
 "nbformat": 3,
 "nbformat_minor": 0,
 "worksheets": [
  {
   "cells": [
    {
     "cell_type": "heading",
     "level": 1,
     "metadata": {},
     "source": [
      "Analyser des donn\u00e9es depuis des API Web"
     ]
    },
    {
     "cell_type": "markdown",
     "metadata": {},
     "source": [
      "Python permet de s'interfacer avec de nombreux services web (API). \n",
      "\n",
      "Dans cette partie nous verrons : \n",
      "\n",
      "- Ce qu'est une API \n",
      "- Comment Python et Pandas permettent de transformer des donn\u00e9es brutes en un DataFrame exploitable"
     ]
    },
    {
     "cell_type": "heading",
     "level": 2,
     "metadata": {},
     "source": [
      "Introduction aux API Web"
     ]
    },
    {
     "cell_type": "markdown",
     "metadata": {},
     "source": [
      "Une API (Application Programming Interface) permet de r\u00e9cup\u00e9rer des des donn\u00e9es mises \u00e0 disposition par des services Web accessibles depuis une adresse particuli\u00e8re. \n",
      "\n",
      "La plupart des services Web (Google Analytics, Mixpanel, Twitter, Facebook, le New York Times etc..) dispose d'API ce qui en fait une source de donn\u00e9es de choix. \n",
      "\n",
      "Python et Pandas sont d'excellents outils pour r\u00e9cup\u00e9rer, transformer et analyser ces donn\u00e9es web. "
     ]
    },
    {
     "cell_type": "heading",
     "level": 3,
     "metadata": {},
     "source": [
      "URLs "
     ]
    },
    {
     "cell_type": "markdown",
     "metadata": {},
     "source": [
      "Une URL (Unique Ressource Locator) permet d'identifier de mani\u00e8re unique une ressource sur Internet. Prenons l'URL suivante : "
     ]
    },
    {
     "cell_type": "raw",
     "metadata": {},
     "source": [
      "http://www.example.com/foo/bar?arg1=baz&arg2=quux"
     ]
    },
    {
     "cell_type": "markdown",
     "metadata": {},
     "source": [
      "Cette URL se d\u00e9compose en blocs logiques : \n",
      "\n",
      "- ***http://*** = le sch\u00e9ma, d\u00e9termine le protocole que nous utilisons pour communiquer avec le service Web. Nous utiliserons principalement le protocole **http**\n",
      "- ***www.example.com*** = l'h\u00f4te qui d\u00e9termine sur quel serveur de l'internet nous allons communiquer\n",
      "- ***/foo/bar*** = sp\u00e9cifie le chemin o\u00f9 se trouve la ressource\n",
      "- ***?arg1=baz&arg2=quux*** les param\u00e8tres de la requ\u00eate"
     ]
    },
    {
     "cell_type": "heading",
     "level": 3,
     "metadata": {},
     "source": [
      "HTML vs JSON"
     ]
    },
    {
     "cell_type": "markdown",
     "metadata": {},
     "source": [
      "- HTML permet de renvoyer de la donn\u00e9e pour un utilisateur. Lorsqu'une requ\u00eate est faite sur un serveur, celui-ci renvoie des \u00e9l\u00e9ments (html, css,jss, etc..) permettant au navigateur d'afficher une page web **user-friendly**"
     ]
    },
    {
     "cell_type": "markdown",
     "metadata": {},
     "source": [
      "<img src='files/images/html.png' width=500>"
     ]
    },
    {
     "cell_type": "markdown",
     "metadata": {},
     "source": [
      "- JSON permet de renvoyer de la donn\u00e9e structur\u00e9e, exploitable par une machine. Lorsqu'un service doit communiquer avec un autre service, les donn\u00e9es renvoy\u00e9es sont **machine-friendly**. Plusieurs formats sont possibles (CSV, JSON, XML etc..)"
     ]
    },
    {
     "cell_type": "markdown",
     "metadata": {},
     "source": [
      "<img src='files/images/json.png' width=500>"
     ]
    },
    {
     "cell_type": "markdown",
     "metadata": {},
     "source": [
      "Le format JSON (Javascript Object Notation) est un des formats pr\u00e9f\u00e9r\u00e9s des Web API. \n",
      "\n",
      "Il peut \u00eatre compos\u00e9 de deux structures : \n",
      "\n",
      "- Dictionnaire cl\u00e9 / valeur\n",
      "- Tableaux d'objets \n",
      "\n",
      "Voici un exemple de JSON : "
     ]
    },
    {
     "cell_type": "code",
     "collapsed": false,
     "input": [
      "{\n",
      "     \"firstName\": \"John\",\n",
      "     \"lastName\": \"Smith\",\n",
      "     \"address\": {\n",
      "         \"streetAddress\": \"21 2nd Street\",\n",
      "         \"city\": \"New York\",\n",
      "         \"state\": \"NY\",\n",
      "         \"postalCode\": 10021\n",
      "     },\n",
      "     \"phoneNumbers\": [\n",
      "         \"212 555-1234\",\n",
      "         \"646 555-4567\"\n",
      "     ]\n",
      " }"
     ],
     "language": "python",
     "metadata": {},
     "outputs": []
    },
    {
     "cell_type": "heading",
     "level": 3,
     "metadata": {},
     "source": [
      "Exemples d'API populaires"
     ]
    },
    {
     "cell_type": "markdown",
     "metadata": {},
     "source": [
      "La plupart des services Web disposent d'API. Elles sont \u00e9galement document\u00e9es voici quelques exemples : "
     ]
    },
    {
     "cell_type": "markdown",
     "metadata": {},
     "source": [
      "- Facebook - https://developers.facebook.com/tools/explorer/\n",
      "- Twitter - https://dev.twitter.com/rest/tools/console\n",
      "- Google Analytics - https://ga-dev-tools.appspot.com/explorer/\n",
      "- The New York Times - http://developer.nytimes.com/docs"
     ]
    },
    {
     "cell_type": "heading",
     "level": 2,
     "metadata": {},
     "source": [
      "Let's do it ! Analyse des tweets du compte officiel de l'Elys\u00e9e"
     ]
    },
    {
     "cell_type": "markdown",
     "metadata": {},
     "source": [
      "Avec pr\u00e8s de 500 millions de tweets \u00e9mis chaque jour, Twitter est une source de donn\u00e9es in\u00e9puisable. \n",
      "\n",
      "Les donn\u00e9es sont accessibles au format JSON par une API bien document\u00e9e. \n",
      "\n",
      "L'analyse des tweets offre plusieurs possibilit\u00e9s : \n",
      "\n",
      "- Analyse temporelle (date et heure d'\u00e9mission)\n",
      "- Analyse texte, de sentiment\n",
      "- Analyse du nombre de retweets\n",
      "- Analyse de graphe (r\u00e9ponse, mentions etc..)"
     ]
    },
    {
     "cell_type": "markdown",
     "metadata": {},
     "source": [
      "Dans cet exercice, nous allons faire une analyse descriptive du compte Twitter officiel de l'Elys\u00e9e (https://twitter.com/Elysee). \n",
      "\n",
      "Nous allons essayer de r\u00e9pondre \u00e0 plusieurs questions : \n",
      "\n",
      "- Comment \u00e9volue le nombre de tweets sur le compte officiel ? \n",
      "- Y a t il des pics de retweets ? Si oui pourquoi ? \n",
      "- Quel sont les comptes que l'Elys\u00e9e mentionne le plus ? \n",
      "- Quels sont les th\u00e8mes / hashtags les plus populaires ? \n",
      "- Comment ces th\u00e8mes \u00e9voluent ils dans le temps ? "
     ]
    },
    {
     "cell_type": "heading",
     "level": 3,
     "metadata": {},
     "source": [
      "Se connecter \u00e0 l'API de Twitter"
     ]
    },
    {
     "cell_type": "markdown",
     "metadata": {},
     "source": [
      "De nombreuses librairies Python ont \u00e9t\u00e9 d\u00e9velopp\u00e9es pour \"dialoguer\" avec l'API de Twitter. \n",
      "\n",
      "Une liste officielle des librairies Twitter par langage peut \u00eatre trouv\u00e9e \u00e0 cette adresse - https://dev.twitter.com/overview/api/twitter-libraries\n",
      "    \n",
      "Pour les besoins de cet exercice, nous utiliserons la librairie **TwitterSearch** - https://github.com/ckoepp/TwitterSearch. Une documentation exhaustive des m\u00e9thodes de cette librairie est disponible \u00e0 l'adresse - https://twittersearch.readthedocs.org/en/latest/TwitterSearch.html\n",
      "\n",
      "Installez TwitterSearch depuis votre terminal en ex\u00e9cutant : "
     ]
    },
    {
     "cell_type": "code",
     "collapsed": false,
     "input": [
      "pip install TwitterSearch"
     ],
     "language": "python",
     "metadata": {},
     "outputs": []
    },
    {
     "cell_type": "markdown",
     "metadata": {},
     "source": [
      "L'acc\u00e8s \u00e0 l'API est s\u00e9curis\u00e9. Pour obtenir des cl\u00e9s d'acc\u00e8s : \n",
      "\n",
      "- Cr\u00e9ez un compte Twitter\n",
      "- Cr\u00e9ez une application sur https://apps.twitter.com/\n",
      "\n",
      "On peut d\u00e8s lors appeler la librarie TwitterSearch en sp\u00e9cifiant ses identifiants de connexion : "
     ]
    },
    {
     "cell_type": "code",
     "collapsed": false,
     "input": [
      "from TwitterSearch import *\n",
      "\n",
      "twitter_api = TwitterSearch(\n",
      "    consumer_key = 'XXX',\n",
      "    consumer_secret = 'XXX',\n",
      "    access_token = 'XXX',\n",
      "    access_token_secret = 'XXX'\n",
      "    )"
     ],
     "language": "python",
     "metadata": {},
     "outputs": [],
     "prompt_number": 3
    },
    {
     "cell_type": "markdown",
     "metadata": {},
     "source": [
      "Nous allons faire un premier test, en recherchant tous les tweets qui contiennent un mot en particulier. Nous utilisons pour cela la m\u00e9thode **search_tweets** de l'objet **TwitterSearchOrder()**"
     ]
    },
    {
     "cell_type": "code",
     "collapsed": false,
     "input": [
      "tso = TwitterSearchOrder() # nous cr\u00e9ons ici un objet TwitterSearchOrder()\n",
      "tso.set_keywords(['Elysee']) # recherchons tous les tweets comportant le mot Elysee\n",
      "        \n",
      "search_results = twitter_api.search_tweets(tso) # La m\u00e9thode search_tweets permet de rechercher tous les tweets "
     ],
     "language": "python",
     "metadata": {},
     "outputs": [],
     "prompt_number": 4
    },
    {
     "cell_type": "markdown",
     "metadata": {},
     "source": [
      "La r\u00e9ponse de l'API est au format JSON. Nous pouvons explorer le contenu, en utilisant la m\u00e9thode **keys()**"
     ]
    },
    {
     "cell_type": "code",
     "collapsed": false,
     "input": [
      "print search_results.keys()\n",
      "\n",
      "print search_results['content'].keys()"
     ],
     "language": "python",
     "metadata": {},
     "outputs": [
      {
       "output_type": "stream",
       "stream": "stdout",
       "text": [
        "['content', 'meta']\n",
        "[u'search_metadata', u'statuses']\n"
       ]
      }
     ],
     "prompt_number": 5
    },
    {
     "cell_type": "code",
     "collapsed": false,
     "input": [
      "print len(search_results['content']['statuses'])"
     ],
     "language": "python",
     "metadata": {},
     "outputs": [
      {
       "output_type": "stream",
       "stream": "stdout",
       "text": [
        "100\n"
       ]
      }
     ],
     "prompt_number": 6
    },
    {
     "cell_type": "markdown",
     "metadata": {},
     "source": [
      "L'objet'statuses' est une liste de 100 \u00e9l\u00e9ments.\n",
      "\n",
      "Nous pouvons \u00e9galement afficher les cl\u00e9s de chacun des tweets renvoy\u00e9s : "
     ]
    },
    {
     "cell_type": "code",
     "collapsed": false,
     "input": [
      "print search_results['content']['statuses'][0].keys()"
     ],
     "language": "python",
     "metadata": {},
     "outputs": [
      {
       "output_type": "stream",
       "stream": "stdout",
       "text": [
        "[u'contributors', u'truncated', u'text', u'in_reply_to_status_id', u'id', u'favorite_count', u'source', u'retweeted', u'coordinates', u'entities', u'in_reply_to_screen_name', u'in_reply_to_user_id', u'retweet_count', u'id_str', u'favorited', u'user', u'geo', u'in_reply_to_user_id_str', u'lang', u'created_at', u'in_reply_to_status_id_str', u'place', u'metadata']\n"
       ]
      }
     ],
     "prompt_number": 412
    },
    {
     "cell_type": "heading",
     "level": 3,
     "metadata": {},
     "source": [
      "Charger et inspecter les donn\u00e9es"
     ]
    },
    {
     "cell_type": "code",
     "collapsed": false,
     "input": [
      "import urllib\n",
      "import json\n",
      "import pandas as pd\n",
      "import numpy as np\n",
      "import matplotlib.pyplot as plt\n",
      "import re"
     ],
     "language": "python",
     "metadata": {},
     "outputs": [],
     "prompt_number": 7
    },
    {
     "cell_type": "code",
     "collapsed": false,
     "input": [
      "%matplotlib inline\n",
      "pd.set_option('display.mpl_style', 'default') # rendre les graphes un peu plus jolies :) \n",
      "plt.rc('figure', figsize=(20, 5))\n",
      "\n",
      "from datetime import datetime"
     ],
     "language": "python",
     "metadata": {},
     "outputs": [],
     "prompt_number": 2
    },
    {
     "cell_type": "markdown",
     "metadata": {},
     "source": [
      "Si nous souhaitons analyser l'int\u00e9gralit\u00e9 des tweets d'un compte en particulier, nous devons utiliser l'objet **TwitterUserOrder** :"
     ]
    },
    {
     "cell_type": "code",
     "collapsed": false,
     "input": [
      "tuo = TwitterUserOrder('Elysee')\n",
      "\n",
      "elysee_results = twitter_api.search_tweets(tuo)"
     ],
     "language": "python",
     "metadata": {},
     "outputs": [],
     "prompt_number": 8
    },
    {
     "cell_type": "markdown",
     "metadata": {},
     "source": [
      "Nous pouvons afficher le premier tweet renvoy\u00e9 par notre requ\u00eate via : "
     ]
    },
    {
     "cell_type": "code",
     "collapsed": false,
     "input": [
      "elysee_results['content'][0]"
     ],
     "language": "python",
     "metadata": {},
     "outputs": [
      {
       "metadata": {},
       "output_type": "pyout",
       "prompt_number": 9,
       "text": [
        "{u'contributors': None,\n",
        " u'coordinates': None,\n",
        " u'created_at': u'Tue Feb 24 14:16:19 +0000 2015',\n",
        " u'entities': {u'hashtags': [{u'indices': [104, 113], u'text': u'DirectPR'}],\n",
        "  u'symbols': [],\n",
        "  u'urls': [{u'display_url': u'elysee.fr/video/xu30kq',\n",
        "    u'expanded_url': u'http://www.elysee.fr/video/xu30kq',\n",
        "    u'indices': [114, 136],\n",
        "    u'url': u'http://t.co/PfCSjUFDLJ'}],\n",
        "  u'user_mentions': [{u'id': 18814998,\n",
        "    u'id_str': u'18814998',\n",
        "    u'indices': [45, 55],\n",
        "    u'name': u'Fran\\xe7ois Hollande',\n",
        "    u'screen_name': u'fhollande'},\n",
        "   {u'id': 18762875,\n",
        "    u'id_str': u'18762875',\n",
        "    u'indices': [61, 73],\n",
        "    u'name': u'Matteo Renzi',\n",
        "    u'screen_name': u'matteorenzi'}]},\n",
        " u'favorite_count': 7,\n",
        " u'favorited': False,\n",
        " u'geo': None,\n",
        " u'id': 570225713363738625,\n",
        " u'id_str': u'570225713363738625',\n",
        " u'in_reply_to_screen_name': None,\n",
        " u'in_reply_to_status_id': None,\n",
        " u'in_reply_to_status_id_str': None,\n",
        " u'in_reply_to_user_id': None,\n",
        " u'in_reply_to_user_id_str': None,\n",
        " u'lang': u'fr',\n",
        " u'place': None,\n",
        " u'possibly_sensitive': False,\n",
        " u'retweet_count': 22,\n",
        " u'retweeted': False,\n",
        " u'source': u'<a href=\"http://twitter.com\" rel=\"nofollow\">Twitter Web Client</a>',\n",
        " u'text': u'Suivez la d\\xe9claration conjointe du pr\\xe9sident @fhollande avec @matteorenzi, pr\\xe9sident du Conseil italien #DirectPR http://t.co/PfCSjUFDLJ',\n",
        " u'truncated': False,\n",
        " u'user': {u'contributors_enabled': False,\n",
        "  u'created_at': u'Mon Oct 13 06:23:33 +0000 2008',\n",
        "  u'default_profile': False,\n",
        "  u'default_profile_image': False,\n",
        "  u'description': u\"Bienvenue sur le compte officiel de la Pr\\xe9sidence de la R\\xe9publique fran\\xe7aise et du Palais de l'\\xc9lys\\xe9e. Livetweets \\xe0 suivre sur #DirectPR .\",\n",
        "  u'entities': {u'description': {u'urls': []},\n",
        "   u'url': {u'urls': [{u'display_url': u'elysee.fr',\n",
        "      u'expanded_url': u'http://www.elysee.fr',\n",
        "      u'indices': [0, 22],\n",
        "      u'url': u'http://t.co/tXWVLyZ9Ok'}]}},\n",
        "  u'favourites_count': 0,\n",
        "  u'follow_request_sent': False,\n",
        "  u'followers_count': 656510,\n",
        "  u'following': False,\n",
        "  u'friends_count': 184,\n",
        "  u'geo_enabled': True,\n",
        "  u'id': 16717501,\n",
        "  u'id_str': u'16717501',\n",
        "  u'is_translation_enabled': False,\n",
        "  u'is_translator': False,\n",
        "  u'lang': u'fr',\n",
        "  u'listed_count': 5053,\n",
        "  u'location': u'France',\n",
        "  u'name': u'\\xc9lys\\xe9e',\n",
        "  u'notifications': False,\n",
        "  u'profile_background_color': u'FCFCFC',\n",
        "  u'profile_background_image_url': u'http://pbs.twimg.com/profile_background_images/435457152178597889/_lFlH6mS.png',\n",
        "  u'profile_background_image_url_https': u'https://pbs.twimg.com/profile_background_images/435457152178597889/_lFlH6mS.png',\n",
        "  u'profile_background_tile': False,\n",
        "  u'profile_banner_url': u'https://pbs.twimg.com/profile_banners/16717501/1424441417',\n",
        "  u'profile_image_url': u'http://pbs.twimg.com/profile_images/554623459423031296/bzNTGLYo_normal.jpeg',\n",
        "  u'profile_image_url_https': u'https://pbs.twimg.com/profile_images/554623459423031296/bzNTGLYo_normal.jpeg',\n",
        "  u'profile_link_color': u'4260A2',\n",
        "  u'profile_location': None,\n",
        "  u'profile_sidebar_border_color': u'FFFFFF',\n",
        "  u'profile_sidebar_fill_color': u'E9E9E8',\n",
        "  u'profile_text_color': u'434544',\n",
        "  u'profile_use_background_image': True,\n",
        "  u'protected': False,\n",
        "  u'screen_name': u'Elysee',\n",
        "  u'statuses_count': 9978,\n",
        "  u'time_zone': u'Paris',\n",
        "  u'url': u'http://t.co/tXWVLyZ9Ok',\n",
        "  u'utc_offset': 3600,\n",
        "  u'verified': True}}"
       ]
      }
     ],
     "prompt_number": 9
    },
    {
     "cell_type": "markdown",
     "metadata": {},
     "source": [
      "Il nous faut donc r\u00e9aliser une **boucle**. Le temps pour r\u00e9cup\u00e9rer les donn\u00e9es pouvant \u00eatre long, on pourra utiliser le fichier **elysee.txt** qui contient un export des tweets bruts. "
     ]
    },
    {
     "cell_type": "code",
     "collapsed": false,
     "input": [
      "from TwitterSearch import *\n",
      "\n",
      "data = []\n",
      "\n",
      "try:\n",
      "    tuo = TwitterUserOrder('Elysee') \n",
      "\n",
      "    twitter_api = TwitterSearch(\n",
      "        consumer_key = 'XXX',\n",
      "        consumer_secret = 'XXX',\n",
      "        access_token = 'XXX',\n",
      "        access_token_secret = 'XXX'\n",
      "    )\n",
      "    \n",
      "    # perform search with iterables\n",
      "    for tweet in twitter_api.search_tweets_iterable(tuo):\n",
      "        data.append(tweet)\n",
      "\n",
      "except TwitterSearchException as e: # catch errors\n",
      "    print(e)"
     ],
     "language": "python",
     "metadata": {},
     "outputs": [],
     "prompt_number": 10
    },
    {
     "cell_type": "markdown",
     "metadata": {},
     "source": [
      "On peut importer le fichier **elysee.txt**, au format JSON qui contient l'ensemble des tweets de la timeline 'Elysee'"
     ]
    },
    {
     "cell_type": "code",
     "collapsed": false,
     "input": [
      "elysee = json.load(open('data/elysee.txt'))"
     ],
     "language": "python",
     "metadata": {},
     "outputs": [],
     "prompt_number": 11
    },
    {
     "cell_type": "markdown",
     "metadata": {},
     "source": [
      "Analysons rapidement la taille ainsi que la structure des objets : "
     ]
    },
    {
     "cell_type": "code",
     "collapsed": false,
     "input": [
      "# Affichons la taille du fichier\n",
      "\n",
      "print len(elysee)\n",
      "\n",
      "# Affichons les cl\u00e9s du premier \u00e9l\u00e9ment\n",
      "\n",
      "print elysee[0].keys()"
     ],
     "language": "python",
     "metadata": {},
     "outputs": [
      {
       "output_type": "stream",
       "stream": "stdout",
       "text": [
        "3239\n",
        "[u'contributors', u'truncated', u'text', u'in_reply_to_status_id', u'id', u'favorite_count', u'source', u'retweeted', u'coordinates', u'entities', u'in_reply_to_screen_name', u'id_str', u'retweet_count', u'in_reply_to_user_id', u'favorited', u'user', u'geo', u'in_reply_to_user_id_str', u'possibly_sensitive', u'lang', u'created_at', u'in_reply_to_status_id_str', u'place']\n"
       ]
      }
     ],
     "prompt_number": 424
    },
    {
     "cell_type": "heading",
     "level": 3,
     "metadata": {},
     "source": [
      "Analyser l'\u00e9volution des tweets dans le temps"
     ]
    },
    {
     "cell_type": "heading",
     "level": 4,
     "metadata": {},
     "source": [
      "/!\\ voir Focus : 02 - les s\u00e9ries temporelles avec Python "
     ]
    },
    {
     "cell_type": "markdown",
     "metadata": {},
     "source": [
      "Nous allons nous int\u00e9resser dans un premier temps aux colonnes **text, retweet_count, created_at**.\n",
      "\n",
      "Au moment de cr\u00e9er notre DataFrame, nous pouvons donc sp\u00e9cifier les colonnes \u00e0 utiliser. \n",
      "\n",
      "Faire \u00e9galement attention aux Index. Nous allons travailler avec un set de donn\u00e9es temporel, il advient de bien sp\u00e9cifier l'index que nous allons utiliser (Time series Index vs Integer Index)"
     ]
    },
    {
     "cell_type": "code",
     "collapsed": false,
     "input": [
      "colonnes = ['text','retweet_count','created_at']\n",
      "\n",
      "elysee_df = pd.DataFrame(elysee, \n",
      "                         columns=colonnes)\n",
      "\n",
      "date = pd.to_datetime(elysee_df['created_at'])\n",
      "\n",
      "elysee_df = elysee_df.set_index(date)\n",
      "\n",
      "elysee_df['created_at'] = date"
     ],
     "language": "python",
     "metadata": {},
     "outputs": [],
     "prompt_number": 12
    },
    {
     "cell_type": "code",
     "collapsed": false,
     "input": [
      "count_date = elysee_df['text'].resample('W',how='count')\n",
      "\n",
      "count_date.plot().set_title('Nombre de tweets du compte @Elysee par semaine')"
     ],
     "language": "python",
     "metadata": {},
     "outputs": [
      {
       "metadata": {},
       "output_type": "pyout",
       "prompt_number": 13,
       "text": [
        "<matplotlib.text.Text at 0x111947810>"
       ]
      }
     ],
     "prompt_number": 13
    },
    {
     "cell_type": "heading",
     "level": 3,
     "metadata": {},
     "source": [
      "A vous : "
     ]
    },
    {
     "cell_type": "markdown",
     "metadata": {},
     "source": [
      "- Afficher un graphe de l'\u00e9volution du nombre de retweets par jour. \n",
      "- Que s'est il pass\u00e9 en Juin 2014 et en Janvier 2015 ? \n",
      "- Afficher les tweets de la journ\u00e9e du 6 juin. Quel est celui qui a eu le plus de retweets?     \n",
      "- Quels sont les heures les plus importantes en terme de retweets ? "
     ]
    },
    {
     "cell_type": "heading",
     "level": 3,
     "metadata": {},
     "source": [
      "Analyser les mentions et les hashtags les plus populaires "
     ]
    },
    {
     "cell_type": "markdown",
     "metadata": {},
     "source": [
      "Python permet \u00e9galement de manipuler facilement des chaines de texte gr\u00e2ce aux expressions r\u00e9guli\u00e8res ***(voir Focus expression r\u00e9guli\u00e8re dans ce dossier)*** \n",
      "\n",
      "Nous pouvons extraire plusieurs informations int\u00e9ressantes comme : \n",
      "\n",
      "- Les mentions (pr\u00e9c\u00e9d\u00e9s d'un '@')\n",
      "- Les hastags (pr\u00e9c\u00e9d\u00e9s d'un '#') "
     ]
    },
    {
     "cell_type": "markdown",
     "metadata": {},
     "source": [
      "Si nous souhaitons extraire les mentions de la colonne texte, nous pouvons \u00e9crire : "
     ]
    },
    {
     "cell_type": "code",
     "collapsed": false,
     "input": [
      "pattern_mentions = \"@[A-Z0-9._%+-]+\"\n",
      "\n",
      "elysee_df['mentions'] = elysee_df['text'].str.findall(pattern_mentions, re.IGNORECASE).str[0]"
     ],
     "language": "python",
     "metadata": {},
     "outputs": [],
     "prompt_number": 14
    },
    {
     "cell_type": "markdown",
     "metadata": {},
     "source": [
      "On peut d\u00e9s lors compter le nombre de mentions en groupant par la colonne mentions :"
     ]
    },
    {
     "cell_type": "code",
     "collapsed": false,
     "input": [
      "print elysee_df.groupby('mentions').size().order(ascending=False)[0:10]"
     ],
     "language": "python",
     "metadata": {},
     "outputs": [
      {
       "output_type": "stream",
       "stream": "stdout",
       "text": [
        "mentions\n",
        "@fhollande          1623\n",
        "@SLeFoll              87\n",
        "@najatvb              49\n",
        "@gouvernementFR       31\n",
        "@fil_gouv             30\n",
        "@francediplo          17\n",
        "@70eNormandie         13\n",
        "@BritishMonarchy      13\n",
        "@Defense_gouv         12\n",
        "@manuelvalls          11\n",
        "dtype: int64\n"
       ]
      }
     ],
     "prompt_number": 15
    },
    {
     "cell_type": "markdown",
     "metadata": {},
     "source": [
      "   - Quelles sont les mentions les plus populaires ? \n",
      "   - Quels sont les hashtags les plus populaires ? \n",
      "   - Quels sont les hashtages les plus populaires, mentionnant @gouvernementFR ? \n",
      "   - Quelles sont les mentions les plus populaires, comportant le hashtag #DDay70 ?  "
     ]
    }
   ],
   "metadata": {}
  }
 ]
}