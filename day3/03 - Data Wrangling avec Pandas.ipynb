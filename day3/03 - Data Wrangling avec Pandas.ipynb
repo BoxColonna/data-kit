{
 "metadata": {
  "name": "",
  "signature": "sha256:9c8346301c434e6b83020dc48ff2480fb4f66b74842a8ec1084d40f679e4d3c7"
 },
 "nbformat": 3,
 "nbformat_minor": 0,
 "worksheets": [
  {
   "cells": [
    {
     "cell_type": "heading",
     "level": 1,
     "metadata": {},
     "source": [
      "Data Wrangling avec Pandas"
     ]
    },
    {
     "cell_type": "markdown",
     "metadata": {},
     "source": [
      "Une grande partie du m\u00e9tier de Data Scientist, consiste \u00e0 n\u00e9toyer, arranger des donn\u00e9es afin de les exploiter. \n",
      "\n",
      "Ma\u00eetriser cette partie du processus est essentiel : les donn\u00e9es que vous aurait l'occasion d'analyser seront rarement sous la forme d'un DataFrame propre.\n",
      "    \n",
      "A la fin de cette partie, vous saurez :\n",
      "    \n",
      "- Fusionner deux DataFrame avec la m\u00e9thode **merge**\n",
      "- Retravailler, faire pivoter deux datasets avec les m\u00e9thodes **stack** et **unstack**\n",
      "- Remplacer des valeurs \u00e0 partir d'un dictionnaire gr\u00e2ce \u00e0 la m\u00e9thode **map**"
     ]
    },
    {
     "cell_type": "heading",
     "level": 2,
     "metadata": {},
     "source": [
      "Fusionner"
     ]
    },
    {
     "cell_type": "markdown",
     "metadata": {},
     "source": [
      "Fusionner consiste \u00e0 rassembler les lignes de deux DataFrames en utilisant une cl\u00e9 commune. \n",
      "\n",
      "Prenons l'exemple suivant : "
     ]
    },
    {
     "cell_type": "code",
     "collapsed": false,
     "input": [
      "import pandas as pd"
     ],
     "language": "python",
     "metadata": {},
     "outputs": [],
     "prompt_number": 1
    },
    {
     "cell_type": "markdown",
     "metadata": {},
     "source": [
      "Prenons deux sets de donn\u00e9es. \n",
      "\n",
      "Le premier contient des id de commandes. Le second la correspondance entre id client et nom et prenoms. "
     ]
    },
    {
     "cell_type": "code",
     "collapsed": false,
     "input": [
      "orders_dict = {'customer_id':['3','2','1','4'],\n",
      "          'order_value':[40,35,50,45],\n",
      "          'order_id':['4001','4002','4003','4004']}\n",
      "\n",
      "customers_dict = {'customer_id':['1','2','3','4','5'],\n",
      "                  'nom':['CAMPAN','DOE','MUSK','JOBS','FRANKO'],\n",
      "                  'prenom':['Bernard','John','Elon','Steve','James']}"
     ],
     "language": "python",
     "metadata": {},
     "outputs": [],
     "prompt_number": 37
    },
    {
     "cell_type": "markdown",
     "metadata": {},
     "source": [
      "Nous pouvons cr\u00e9er deux DataFrames pour chacun de ces dictionnaires, soit : "
     ]
    },
    {
     "cell_type": "code",
     "collapsed": false,
     "input": [
      "orders = pd.DataFrame(orders_dict,\n",
      "                       columns=['customer_id','order_value'],\n",
      "                       index = orders_dict['order_id'])\n",
      "\n",
      "customers = pd.DataFrame(customers_dict,\n",
      "                         index = customers_dict['customer_id'])"
     ],
     "language": "python",
     "metadata": {},
     "outputs": [],
     "prompt_number": 38
    },
    {
     "cell_type": "markdown",
     "metadata": {},
     "source": [
      "Nous pouvons **fusionner** ces deux DataFrames en utilisant la m\u00e9thode **merge**. \n",
      "\n",
      "Nous sp\u00e9cifions la cl\u00e9 commune ***customer_id*** au sein du param\u00e8tre **on**"
     ]
    },
    {
     "cell_type": "code",
     "collapsed": false,
     "input": [
      "pd.merge(orders,customers, on='customer_id')"
     ],
     "language": "python",
     "metadata": {},
     "outputs": [
      {
       "html": [
        "<div style=\"max-height:1000px;max-width:1500px;overflow:auto;\">\n",
        "<table border=\"1\" class=\"dataframe\">\n",
        "  <thead>\n",
        "    <tr style=\"text-align: right;\">\n",
        "      <th></th>\n",
        "      <th>customer_id</th>\n",
        "      <th>order_value</th>\n",
        "      <th>nom</th>\n",
        "      <th>prenom</th>\n",
        "    </tr>\n",
        "  </thead>\n",
        "  <tbody>\n",
        "    <tr>\n",
        "      <th>0</th>\n",
        "      <td> 3</td>\n",
        "      <td> 40</td>\n",
        "      <td>   MUSK</td>\n",
        "      <td>    Elon</td>\n",
        "    </tr>\n",
        "    <tr>\n",
        "      <th>1</th>\n",
        "      <td> 2</td>\n",
        "      <td> 35</td>\n",
        "      <td>    DOE</td>\n",
        "      <td>    John</td>\n",
        "    </tr>\n",
        "    <tr>\n",
        "      <th>2</th>\n",
        "      <td> 1</td>\n",
        "      <td> 50</td>\n",
        "      <td> CAMPAN</td>\n",
        "      <td> Bernard</td>\n",
        "    </tr>\n",
        "    <tr>\n",
        "      <th>3</th>\n",
        "      <td> 4</td>\n",
        "      <td> 45</td>\n",
        "      <td>   JOBS</td>\n",
        "      <td>   Steve</td>\n",
        "    </tr>\n",
        "  </tbody>\n",
        "</table>\n",
        "</div>"
       ],
       "metadata": {},
       "output_type": "pyout",
       "prompt_number": 39,
       "text": [
        "  customer_id  order_value     nom   prenom\n",
        "0           3           40    MUSK     Elon\n",
        "1           2           35     DOE     John\n",
        "2           1           50  CAMPAN  Bernard\n",
        "3           4           45    JOBS    Steve"
       ]
      }
     ],
     "prompt_number": 39
    },
    {
     "cell_type": "markdown",
     "metadata": {},
     "source": [
      "Plusieurs choses sont \u00e0 noter : \n",
      "\n",
      "- La m\u00e9thode merge a supprim\u00e9 l'index que nous avions cr\u00e9\u00e9\n",
      "- Une seule des deux colonnes a \u00e9t\u00e9 utilis\u00e9e\n",
      "- Le client qui n'\u00e9tait pas pr\u00e9sent dans le DataFrame orders n'est pas pr\u00e9sent dans le r\u00e9sultat final \n",
      "\n",
      "Par d\u00e9faut, Pandas r\u00e9alise une fusion dite **inner**.\n",
      "\n",
      "Il existe plusieurs de fusion entre deux sets de donn\u00e9es. Les principales peuvent se r\u00e9sumer au sein du graphe ci-dessous : "
     ]
    },
    {
     "cell_type": "markdown",
     "metadata": {},
     "source": [
      "<img src='files/images/merge.png'>"
     ]
    },
    {
     "cell_type": "markdown",
     "metadata": {},
     "source": [
      "Nous pouvons sp\u00e9cifier \u00e0 Pandas le type de fusion que nous souhaitons gr\u00e2ce au param\u00e8tre **how**. \n",
      "\n",
      "Si nous souhaitons par exemple r\u00e9aliser une fusion \u00e0 droite, nous \u00e9crirons : "
     ]
    },
    {
     "cell_type": "code",
     "collapsed": false,
     "input": [
      "pd.merge(orders,customers,on='customer_id',how='right')"
     ],
     "language": "python",
     "metadata": {},
     "outputs": [
      {
       "html": [
        "<div style=\"max-height:1000px;max-width:1500px;overflow:auto;\">\n",
        "<table border=\"1\" class=\"dataframe\">\n",
        "  <thead>\n",
        "    <tr style=\"text-align: right;\">\n",
        "      <th></th>\n",
        "      <th>customer_id</th>\n",
        "      <th>order_value</th>\n",
        "      <th>nom</th>\n",
        "      <th>prenom</th>\n",
        "    </tr>\n",
        "  </thead>\n",
        "  <tbody>\n",
        "    <tr>\n",
        "      <th>0</th>\n",
        "      <td> 3</td>\n",
        "      <td> 40</td>\n",
        "      <td>   MUSK</td>\n",
        "      <td>    Elon</td>\n",
        "    </tr>\n",
        "    <tr>\n",
        "      <th>1</th>\n",
        "      <td> 2</td>\n",
        "      <td> 35</td>\n",
        "      <td>    DOE</td>\n",
        "      <td>    John</td>\n",
        "    </tr>\n",
        "    <tr>\n",
        "      <th>2</th>\n",
        "      <td> 1</td>\n",
        "      <td> 50</td>\n",
        "      <td> CAMPAN</td>\n",
        "      <td> Bernard</td>\n",
        "    </tr>\n",
        "    <tr>\n",
        "      <th>3</th>\n",
        "      <td> 4</td>\n",
        "      <td> 45</td>\n",
        "      <td>   JOBS</td>\n",
        "      <td>   Steve</td>\n",
        "    </tr>\n",
        "    <tr>\n",
        "      <th>4</th>\n",
        "      <td> 5</td>\n",
        "      <td>NaN</td>\n",
        "      <td> FRANKO</td>\n",
        "      <td>   James</td>\n",
        "    </tr>\n",
        "  </tbody>\n",
        "</table>\n",
        "</div>"
       ],
       "metadata": {},
       "output_type": "pyout",
       "prompt_number": 40,
       "text": [
        "  customer_id  order_value     nom   prenom\n",
        "0           3           40    MUSK     Elon\n",
        "1           2           35     DOE     John\n",
        "2           1           50  CAMPAN  Bernard\n",
        "3           4           45    JOBS    Steve\n",
        "4           5          NaN  FRANKO    James"
       ]
      }
     ],
     "prompt_number": 40
    },
    {
     "cell_type": "markdown",
     "metadata": {},
     "source": [
      "Le client James FRANKO, n'a ici pas de d'order_value associ\u00e9e."
     ]
    },
    {
     "cell_type": "markdown",
     "metadata": {},
     "source": [
      "Nous pouvons \u00e9galement sp\u00e9cifier une fusion sur un Index gr\u00e2ce aux m\u00e9thodes **left_index** et **right_index**. \n",
      "\n",
      "Dans notre cas, le DataFrame orders dispose d'un index, nous pouvons donc \u00e9crire : "
     ]
    },
    {
     "cell_type": "code",
     "collapsed": false,
     "input": [
      "pd.merge(orders,customers, left_on = 'customer_id', right_index=True)"
     ],
     "language": "python",
     "metadata": {},
     "outputs": [
      {
       "html": [
        "<div style=\"max-height:1000px;max-width:1500px;overflow:auto;\">\n",
        "<table border=\"1\" class=\"dataframe\">\n",
        "  <thead>\n",
        "    <tr style=\"text-align: right;\">\n",
        "      <th></th>\n",
        "      <th>customer_id</th>\n",
        "      <th>customer_id_x</th>\n",
        "      <th>order_value</th>\n",
        "      <th>customer_id_y</th>\n",
        "      <th>nom</th>\n",
        "      <th>prenom</th>\n",
        "    </tr>\n",
        "  </thead>\n",
        "  <tbody>\n",
        "    <tr>\n",
        "      <th>4001</th>\n",
        "      <td> 3</td>\n",
        "      <td> 3</td>\n",
        "      <td> 40</td>\n",
        "      <td> 3</td>\n",
        "      <td>   MUSK</td>\n",
        "      <td>    Elon</td>\n",
        "    </tr>\n",
        "    <tr>\n",
        "      <th>4002</th>\n",
        "      <td> 2</td>\n",
        "      <td> 2</td>\n",
        "      <td> 35</td>\n",
        "      <td> 2</td>\n",
        "      <td>    DOE</td>\n",
        "      <td>    John</td>\n",
        "    </tr>\n",
        "    <tr>\n",
        "      <th>4003</th>\n",
        "      <td> 1</td>\n",
        "      <td> 1</td>\n",
        "      <td> 50</td>\n",
        "      <td> 1</td>\n",
        "      <td> CAMPAN</td>\n",
        "      <td> Bernard</td>\n",
        "    </tr>\n",
        "    <tr>\n",
        "      <th>4004</th>\n",
        "      <td> 4</td>\n",
        "      <td> 4</td>\n",
        "      <td> 45</td>\n",
        "      <td> 4</td>\n",
        "      <td>   JOBS</td>\n",
        "      <td>   Steve</td>\n",
        "    </tr>\n",
        "  </tbody>\n",
        "</table>\n",
        "</div>"
       ],
       "metadata": {},
       "output_type": "pyout",
       "prompt_number": 43,
       "text": [
        "     customer_id customer_id_x  order_value customer_id_y     nom   prenom\n",
        "4001           3             3           40             3    MUSK     Elon\n",
        "4002           2             2           35             2     DOE     John\n",
        "4003           1             1           50             1  CAMPAN  Bernard\n",
        "4004           4             4           45             4    JOBS    Steve"
       ]
      }
     ],
     "prompt_number": 43
    },
    {
     "cell_type": "markdown",
     "metadata": {},
     "source": [
      "A noter que dans ce cas : \n",
      "    \n",
      "- Nous conservons l'index qui a \u00e9t\u00e9 utilis\u00e9\n",
      "- Nous conservons les deux colonnes (customer_id et customer_id_x)"
     ]
    },
    {
     "cell_type": "heading",
     "level": 2,
     "metadata": {},
     "source": [
      "Reshaping"
     ]
    },
    {
     "cell_type": "code",
     "collapsed": false,
     "input": [
      "import numpy as np"
     ],
     "language": "python",
     "metadata": {},
     "outputs": [],
     "prompt_number": 92
    },
    {
     "cell_type": "code",
     "collapsed": false,
     "input": [
      "coffee = pd.read_csv(\"data/coffee_shop.csv\")"
     ],
     "language": "python",
     "metadata": {},
     "outputs": [],
     "prompt_number": 115
    },
    {
     "cell_type": "code",
     "collapsed": false,
     "input": [
      "coffee_grouped = coffee['Sales'].groupby([coffee['Market'],coffee['Market Size']]).sum()"
     ],
     "language": "python",
     "metadata": {},
     "outputs": [],
     "prompt_number": 125
    },
    {
     "cell_type": "code",
     "collapsed": false,
     "input": [
      "movies = pd.read_table(\"data/movielens/movies.dat\",sep='::',header=None,names=['film_id','titre','type'])"
     ],
     "language": "python",
     "metadata": {},
     "outputs": [],
     "prompt_number": 81
    },
    {
     "cell_type": "code",
     "collapsed": false,
     "input": [
      "movies['film_id'].groupby(movies['type']).count()"
     ],
     "language": "python",
     "metadata": {},
     "outputs": [
      {
       "metadata": {},
       "output_type": "pyout",
       "prompt_number": 90,
       "text": [
        "type\n",
        "Action                                           65\n",
        "Action|Adventure                                 25\n",
        "Action|Adventure|Animation                        1\n",
        "Action|Adventure|Animation|Children's|Fantasy     1\n",
        "Action|Adventure|Animation|Horror|Sci-Fi          1\n",
        "Action|Adventure|Children's                       1\n",
        "Action|Adventure|Children's|Comedy                2\n",
        "Action|Adventure|Children's|Fantasy               1\n",
        "Action|Adventure|Children's|Sci-Fi                1\n",
        "Action|Adventure|Comedy                           5\n",
        "Action|Adventure|Comedy|Crime                     3\n",
        "Action|Adventure|Comedy|Horror                    1\n",
        "Action|Adventure|Comedy|Horror|Sci-Fi             1\n",
        "Action|Adventure|Comedy|Romance                   4\n",
        "Action|Adventure|Comedy|Sci-Fi                    1\n",
        "...\n",
        "Mystery|Romance|Thriller      3\n",
        "Mystery|Sci-Fi                2\n",
        "Mystery|Sci-Fi|Thriller       1\n",
        "Mystery|Thriller             20\n",
        "Romance                      40\n",
        "Romance|Thriller              5\n",
        "Romance|War                   4\n",
        "Romance|Western               1\n",
        "Sci-Fi                       27\n",
        "Sci-Fi|Thriller              17\n",
        "Sci-Fi|Thriller|War           1\n",
        "Sci-Fi|War                    1\n",
        "Thriller                    101\n",
        "War                          12\n",
        "Western                      33\n",
        "Name: film_id, Length: 301, dtype: int64"
       ]
      }
     ],
     "prompt_number": 90
    },
    {
     "cell_type": "code",
     "collapsed": false,
     "input": [],
     "language": "python",
     "metadata": {},
     "outputs": []
    }
   ],
   "metadata": {}
  }
 ]
}