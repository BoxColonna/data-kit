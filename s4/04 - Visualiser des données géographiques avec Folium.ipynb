{
 "metadata": {
  "name": "",
  "signature": "sha256:acc619ce4dc0d68d840d002689300ece854a80f976190c0bfebdcd0d4c4aa47d"
 },
 "nbformat": 3,
 "nbformat_minor": 0,
 "worksheets": [
  {
   "cells": [
    {
     "cell_type": "heading",
     "level": 1,
     "metadata": {},
     "source": [
      "Visualiser des donn\u00e9es g\u00e9ographiques avec la librairie Folium"
     ]
    },
    {
     "cell_type": "markdown",
     "metadata": {},
     "source": [
      "Pouvoir repr\u00e9senter une carte est souvent une composante essentielle d'une analyse de donn\u00e9es. \n",
      "\n",
      "La librairie **Folium** permet de cr\u00e9er facilement des cartes interactives. Vous pouvez en lire plus sur la documentation officielle - https://www.pypi.python.org/pypi/folium\n",
      "\n",
      "Dans cette partie, vous verrez : \n",
      "\n",
      "- Comment int\u00e9grer une carte interactive au sein de l'environnement iPython\n",
      "- Comment tracer des points \u00e0 partir d\"un DataFrame \n",
      "- Comment tracer des zones, en utilisant des rep\u00e8res TopoJSON"
     ]
    },
    {
     "cell_type": "heading",
     "level": 2,
     "metadata": {},
     "source": [
      "Cr\u00e9er des cartes et des rep\u00e8res"
     ]
    },
    {
     "cell_type": "markdown",
     "metadata": {},
     "source": [
      "Installez la librairie folium depuis votre terminal gr\u00e2ce \u00e0 pip : "
     ]
    },
    {
     "cell_type": "code",
     "collapsed": false,
     "input": [
      "pip install folium"
     ],
     "language": "python",
     "metadata": {},
     "outputs": []
    },
    {
     "cell_type": "markdown",
     "metadata": {},
     "source": [
      "Nous importons tout d'abord la librairie folium ainsi que le module HTML de iPython :"
     ]
    },
    {
     "cell_type": "code",
     "collapsed": false,
     "input": [
      "import folium\n",
      "from IPython.display import HTML"
     ],
     "language": "python",
     "metadata": {},
     "outputs": []
    },
    {
     "cell_type": "markdown",
     "metadata": {},
     "source": [
      "Nous d\u00e9finissons ensuite une fonction **inline_map** qui renvoie un iframe HTML pouvant s'int\u00e9grer au sein de notre document iPython"
     ]
    },
    {
     "cell_type": "code",
     "collapsed": false,
     "input": [
      "def inline_map(map):\n",
      "    map._build_map()\n",
      "    return HTML('<iframe srcdoc=\"{srcdoc}\" style=\"width: 100%; height: 510px; border: none\"></iframe>'.format(srcdoc=map.HTML.replace('\"', '&quot;')))"
     ],
     "language": "python",
     "metadata": {},
     "outputs": []
    },
    {
     "cell_type": "markdown",
     "metadata": {},
     "source": [
      "Nous d\u00e9finissons les param\u00e8tres d'affichage de notre carte en pr\u00e9cisant son centre et le zoom \u00e0 utiliser :"
     ]
    },
    {
     "cell_type": "code",
     "collapsed": false,
     "input": [
      "map = folium.Map(location=[48.8655909,2.378983], zoom_start=6)"
     ],
     "language": "python",
     "metadata": {},
     "outputs": []
    },
    {
     "cell_type": "code",
     "collapsed": false,
     "input": [
      "Nous pouvons enfin lancer appeler la fonction **inline_map** qui affiche notre carte. "
     ],
     "language": "python",
     "metadata": {},
     "outputs": []
    },
    {
     "cell_type": "code",
     "collapsed": false,
     "input": [
      "inline_map(map)"
     ],
     "language": "python",
     "metadata": {},
     "outputs": []
    },
    {
     "cell_type": "markdown",
     "metadata": {},
     "source": [
      "Nous pouvons ajouter un rep\u00e8re gr\u00e2ce \u00e0 la m\u00e9thode de l'objet map, **simple_marker**. \n",
      "\n",
      "Nous pouvons \u00e9galement utiliser la m\u00e9thode **circle_marker** pour cr\u00e9er des cercles. "
     ]
    },
    {
     "cell_type": "code",
     "collapsed": false,
     "input": [
      "map.simple_marker([48.89157,2.24099])\n",
      "map.circle_marker([47.87967,1.90812])\n",
      "\n",
      "inline_map(map)"
     ],
     "language": "python",
     "metadata": {},
     "outputs": []
    },
    {
     "cell_type": "markdown",
     "metadata": {},
     "source": [
      "Nous pouvons enfin ajouter du contenu au sein de la pop up des marqueurs que nous avons cr\u00e9\u00e9, en passant un chaine de caract\u00e8re au sein de la m\u00e9thode **popup**"
     ]
    },
    {
     "cell_type": "code",
     "collapsed": false,
     "input": [
      "map.simple_marker([47.87967,1.90812],popup=\"Bravo ! Vous avez ajout\u00e9 une pop up.\")\n",
      "inline_map(map)"
     ],
     "language": "python",
     "metadata": {},
     "outputs": []
    },
    {
     "cell_type": "heading",
     "level": 2,
     "metadata": {},
     "source": [
      "Cr\u00e9er des rep\u00e8res \u00e0 partir d'un DataFrame"
     ]
    },
    {
     "cell_type": "code",
     "collapsed": false,
     "input": [
      "Nous pouvons donc appliquer la m\u00eame m\u00e9thode \u00e0 partir de donn\u00e9es issues d'un DataFrame. \n",
      "\n",
      "Nous pouvons par exemple afficher une carte de France des emplacements des restaurants McDonalds. "
     ],
     "language": "python",
     "metadata": {},
     "outputs": []
    },
    {
     "cell_type": "code",
     "collapsed": false,
     "input": [
      "Nous importons pandas : "
     ],
     "language": "python",
     "metadata": {},
     "outputs": []
    },
    {
     "cell_type": "code",
     "collapsed": false,
     "input": [
      "import pandas as pd"
     ],
     "language": "python",
     "metadata": {},
     "outputs": []
    },
    {
     "cell_type": "code",
     "collapsed": false,
     "input": [
      "Nous chargeons le fichier McDonalds_Fr. Celui-ci contient les latitudes, longitudes et nom de tous les McDonalds de France : "
     ],
     "language": "python",
     "metadata": {},
     "outputs": []
    },
    {
     "cell_type": "code",
     "collapsed": false,
     "input": [
      "mcdo = pd.read_csv(\"data/McDonalds_Fr.csv\",encoding='latin-1')\n",
      "mcdo.head(3)"
     ],
     "language": "python",
     "metadata": {},
     "outputs": []
    },
    {
     "cell_type": "code",
     "collapsed": false,
     "input": [
      "Comme pr\u00e9c\u00e9demment, nous d\u00e9clarons une carte Folium : "
     ],
     "language": "python",
     "metadata": {},
     "outputs": []
    },
    {
     "cell_type": "code",
     "collapsed": false,
     "input": [
      "map_mcdo = folium.Map(location=[48.8655909,2.378983], zoom_start=6, tiles='Stamen Toner')"
     ],
     "language": "python",
     "metadata": {},
     "outputs": []
    },
    {
     "cell_type": "markdown",
     "metadata": {},
     "source": [
      "Nous r\u00e9alisons une boucle \u00e0 partir des valeurs de notre DataFrame :"
     ]
    },
    {
     "cell_type": "code",
     "collapsed": false,
     "input": [
      "for x in mcdo.values:\n",
      "    location = []\n",
      "    location.append(x[1])\n",
      "    location.append(x[0])\n",
      "    map_mcdo.circle_marker(location,radius=4,fill_color='red',popup=x[2])"
     ],
     "language": "python",
     "metadata": {},
     "outputs": []
    },
    {
     "cell_type": "markdown",
     "metadata": {},
     "source": [
      "Nous appelons enfin la m\u00e9thode **inline_map** pour afficher notre carte : "
     ]
    },
    {
     "cell_type": "code",
     "collapsed": false,
     "input": [
      "inline_map(map_mcdo)"
     ],
     "language": "python",
     "metadata": {},
     "outputs": []
    },
    {
     "cell_type": "heading",
     "level": 2,
     "metadata": {},
     "source": [
      "Cr\u00e9er des zones \u00e0 partir de fichiers GeoJSON"
     ]
    },
    {
     "cell_type": "code",
     "collapsed": false,
     "input": [],
     "language": "python",
     "metadata": {},
     "outputs": []
    },
    {
     "cell_type": "code",
     "collapsed": false,
     "input": [],
     "language": "python",
     "metadata": {},
     "outputs": []
    }
   ],
   "metadata": {}
  }
 ]
}