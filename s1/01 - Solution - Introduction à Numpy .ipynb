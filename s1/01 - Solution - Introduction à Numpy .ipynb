{
 "metadata": {
  "name": "",
  "signature": "sha256:25adc839224c3a0a568b235925b4a31ffda6bbc01964ac683301126f9ec1ee76"
 },
 "nbformat": 3,
 "nbformat_minor": 0,
 "worksheets": [
  {
   "cells": [
    {
     "cell_type": "code",
     "collapsed": false,
     "input": [
      "import numpy as np"
     ],
     "language": "python",
     "metadata": {},
     "outputs": [],
     "prompt_number": 1
    },
    {
     "cell_type": "heading",
     "level": 2,
     "metadata": {},
     "source": [
      "Enonc\u00e9"
     ]
    },
    {
     "cell_type": "markdown",
     "metadata": {},
     "source": [
      "1) Cr\u00e9ez \u00e0 partir des 4 listes suivantes un ndarray : \n",
      "[19.23, 39.14, 67.78, 98.49], \n",
      "[56.78, 88.78, 99.01, 99.99], \n",
      "[12.00, 76.87, 91.09, 10.01], \n",
      "[99.01, 70.32, 64.89, 36.68]\n",
      "\n",
      "2) S\u00e9lectionnez les lignes 2 et 3\n",
      "\n",
      "3) S\u00e9l\u00e9ctionnez la colonne 4"
     ]
    },
    {
     "cell_type": "code",
     "collapsed": false,
     "input": [
      "# On cr\u00e9e un nd.array gr\u00e2ce \u00e0 la m\u00e9thode **np.array**"
     ],
     "language": "python",
     "metadata": {},
     "outputs": []
    },
    {
     "cell_type": "code",
     "collapsed": false,
     "input": [
      "list = [[19.23, 39.14, 67.78, 98.49], [56.78, 88.78, 99.01, 99.99], [12.00, 76.87, 91.09, 10.01], [99.01, 70.32, 64.89, 36.68]]"
     ],
     "language": "python",
     "metadata": {},
     "outputs": [],
     "prompt_number": 2
    },
    {
     "cell_type": "code",
     "collapsed": false,
     "input": [
      "array = np.array(list)"
     ],
     "language": "python",
     "metadata": {},
     "outputs": [],
     "prompt_number": 5
    },
    {
     "cell_type": "code",
     "collapsed": false,
     "input": [
      "# S\u00e9lectionner les lignes 2 et 3 : "
     ],
     "language": "python",
     "metadata": {},
     "outputs": []
    },
    {
     "cell_type": "code",
     "collapsed": false,
     "input": [
      "array[1:3]"
     ],
     "language": "python",
     "metadata": {},
     "outputs": [
      {
       "metadata": {},
       "output_type": "pyout",
       "prompt_number": 8,
       "text": [
        "array([[ 56.78,  88.78,  99.01,  99.99],\n",
        "       [ 12.  ,  76.87,  91.09,  10.01]])"
       ]
      }
     ],
     "prompt_number": 8
    },
    {
     "cell_type": "code",
     "collapsed": false,
     "input": [
      "# S\u00e9lectionner la colonne 4 "
     ],
     "language": "python",
     "metadata": {},
     "outputs": []
    },
    {
     "cell_type": "code",
     "collapsed": false,
     "input": [
      "array[:,3]"
     ],
     "language": "python",
     "metadata": {},
     "outputs": [
      {
       "metadata": {},
       "output_type": "pyout",
       "prompt_number": 12,
       "text": [
        "array([ 98.49,  99.99,  10.01,  36.68])"
       ]
      }
     ],
     "prompt_number": 12
    },
    {
     "cell_type": "code",
     "collapsed": false,
     "input": [],
     "language": "python",
     "metadata": {},
     "outputs": []
    }
   ],
   "metadata": {}
  }
 ]
}