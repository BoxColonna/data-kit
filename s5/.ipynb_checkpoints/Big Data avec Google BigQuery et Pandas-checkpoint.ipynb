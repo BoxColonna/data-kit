{
 "metadata": {
  "name": "",
  "signature": "sha256:85f04e8d4e55057b22e16c88ed53cba1f2feee144dab0aa632966bd81873c312"
 },
 "nbformat": 3,
 "nbformat_minor": 0,
 "worksheets": [
  {
   "cells": [
    {
     "cell_type": "heading",
     "level": 1,
     "metadata": {},
     "source": [
      "Analyse Big Data avec Google BigQuery et Pandas"
     ]
    },
    {
     "cell_type": "markdown",
     "metadata": {},
     "source": [
      "Lorsqu'un set de donn\u00e9es devient trop important pour un traitement sur votre machine (g\u00e9n\u00e9ralement au dessus de quelques Gigaoctets), il vous faut d\u00e9porter vos calculs dans un Cloud. \n",
      "\n",
      "La plateforme BigQuery s'appuie sur l'infrastructure de Google. Elle vous permet de stocker et de requ\u00eater des sets de donn\u00e9es sans limite de taille. \n",
      "\n",
      "Dans cet exercice, vous allez voir comment Pandas et BigQuery s'int\u00e8grent pour r\u00e9aliser des traitements de donn\u00e9es dans le cloud sur des bases de donn\u00e9es volumineuses. "
     ]
    }
   ],
   "metadata": {}
  }
 ]
}