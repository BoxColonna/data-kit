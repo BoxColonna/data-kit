{
 "metadata": {
  "name": "",
  "signature": "sha256:ae54e720d4ef1b91d3093c1180f7204d2358a6e30c46f8e50c3e3e006725e69b"
 },
 "nbformat": 3,
 "nbformat_minor": 0,
 "worksheets": [
  {
   "cells": [
    {
     "cell_type": "heading",
     "level": 1,
     "metadata": {},
     "source": [
      "Analyse Big Data avec Google BigQuery et Pandas"
     ]
    },
    {
     "cell_type": "markdown",
     "metadata": {},
     "source": [
      "Lorsqu'un set de donn\u00e9es devient trop important pour un traitement sur votre machine (g\u00e9n\u00e9ralement au dessus de quelques Gigaoctets), il vous faut d\u00e9porter vos calculs dans des infrastructures Cloud. \n",
      "\n",
      "La plateforme BigQuery s'appuie sur l'infrastructure de Google. Elle vous permet de stocker et de requ\u00eater des sets de donn\u00e9es sans limite de taille. \n",
      "\n",
      "Dans cet partie, vous allez voir comment Pandas et BigQuery s'int\u00e8grent pour traiter dans le cloud, des bases de donn\u00e9es volumineuses. "
     ]
    },
    {
     "cell_type": "heading",
     "level": 1,
     "metadata": {},
     "source": [
      "BigQuery"
     ]
    },
    {
     "cell_type": "markdown",
     "metadata": {},
     "source": [
      "Rendez vous sur l'interface - https://bigquery.cloud.google.com/ et cr\u00e9ez un projet. \n",
      "\n",
      "Vous devrez renseigner vos coordonn\u00e9es bancaires pour pouvoir activer votre compte. Vous b\u00e9n\u00e9ficiez par d\u00e9faut d'une premi\u00e8re p\u00e9riode de test. "
     ]
    },
    {
     "cell_type": "markdown",
     "metadata": {},
     "source": [
      "Les projets auxquels vous avez acc\u00e8s sont affich\u00e9s sur la gauche. Au sein de chaque projet vous retrouvez un ou plusieurs set de donn\u00e9es. "
     ]
    },
    {
     "cell_type": "code",
     "collapsed": false,
     "input": [],
     "language": "python",
     "metadata": {},
     "outputs": []
    }
   ],
   "metadata": {}
  }
 ]
}