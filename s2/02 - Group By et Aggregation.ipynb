{
 "metadata": {
  "name": "",
  "signature": "sha256:89be3c4bf29a3cfcd9f0f84cb75237d829b84d521c3826ee1932946accab7b30"
 },
 "nbformat": 3,
 "nbformat_minor": 0,
 "worksheets": [
  {
   "cells": [
    {
     "cell_type": "heading",
     "level": 1,
     "metadata": {},
     "source": [
      "Group by et Aggr\u00e9gation "
     ]
    },
    {
     "cell_type": "markdown",
     "metadata": {},
     "source": [
      "Grouper un set de donn\u00e9es suivant une ou plusieurs dimensions et appliquer une r\u00e9duction est une composante cl\u00e9 de toute analyse. \n",
      "\n",
      "Le langage SQL ainsi que les tableaux crois\u00e9s dynamiques offrent de premi\u00e8res fonctions de Grouping. \n",
      "\n",
      "Dans ce chapitre vous apprendrez : \n",
      "\n",
      "- La logique du Groupby avec Pandas\n",
      "- Comment r\u00e9aliser des r\u00e9ductions avec des fonctions standards ou customis\u00e9es\n",
      "- Vos premi\u00e8res exploration de donn\u00e9es"
     ]
    },
    {
     "cell_type": "heading",
     "level": 2,
     "metadata": {},
     "source": [
      "Group By"
     ]
    },
    {
     "cell_type": "code",
     "collapsed": false,
     "input": [
      "import pandas as pd\n",
      "import numpy as np"
     ],
     "language": "python",
     "metadata": {},
     "outputs": []
    },
    {
     "cell_type": "markdown",
     "metadata": {},
     "source": [
      "La m\u00e9canique du group by peut \u00eatre r\u00e9sum\u00e9 suivant le sch\u00e9ma ci-dessous : \n",
      "    \n",
      "   - **Split** : un set de donn\u00e9es est s\u00e9par\u00e9 suivant des cl\u00e9s\n",
      "   - **Apply** : une fonction est appliqu\u00e9e sur chacun de ces groupes \n",
      "   - **Combine** : les r\u00e9sultats sont ensuite regroup\u00e9s au sein d'un seul objet "
     ]
    },
    {
     "cell_type": "markdown",
     "metadata": {},
     "source": [
      "<img src='files/images/groupby.png' width=500>\n",
      "\n",
      "> <cite>Source: Python for Data Analysis</cite>"
     ]
    },
    {
     "cell_type": "markdown",
     "metadata": {},
     "source": [
      "Nous allons utiliser dans cet exemple le set de donn\u00e9es ***reserve_parlementaire.csv*** (Il s'agit de la liste des r\u00e9serves parlementaries mises en ligne en 2011). \n",
      "\n",
      "Pour en savoir plus sur la r\u00e9serve parlementaire - http://www.lemonde.fr/les-decodeurs/article/2015/02/12/le-detail-des-80-millions-de-la-reserve-parlementaire-2014-publie_4575418_4355770.html\n",
      "\n",
      "Importons ce fichier et inspectons le : "
     ]
    },
    {
     "cell_type": "code",
     "collapsed": false,
     "input": [
      "reserve = pd.read_csv(\"data/reserve.csv\")\n",
      "reserve.head(3)"
     ],
     "language": "python",
     "metadata": {},
     "outputs": []
    },
    {
     "cell_type": "markdown",
     "metadata": {},
     "source": [
      "Nous souhaitons savoir quel est le Groupe politique ayant re\u00e7u le plus de subventions. \n",
      "\n",
      "On souhaite donc **grouper** les donn\u00e9es suivant la colonne ***Groupe politique du parlementaire***, puis sommer les donn\u00e9es de la colonne ***Subvention allou\u00e9e***. \n",
      "\n",
      "Nous utilisons pour cela la m\u00e9thode **groupby** :"
     ]
    },
    {
     "cell_type": "code",
     "collapsed": false,
     "input": [
      "partis = reserve['Subvention allou\u00e9e'].groupby(reserve['Groupe politique du parlementaire'])\n",
      "\n",
      "print partis"
     ],
     "language": "python",
     "metadata": {},
     "outputs": []
    },
    {
     "cell_type": "markdown",
     "metadata": {},
     "source": [
      "L'objet ***partis*** renvoy\u00e9 est une s\u00e9rie group\u00e9e. Aucun calcul n'a encore \u00e9t\u00e9 r\u00e9alis\u00e9. \n",
      "\n",
      "Si nous souhaitons sommer les r\u00e9sultats, nous pouvons appliquer une fonction. Ici gr\u00e2ce \u00e0 la m\u00e9thode **sum**"
     ]
    },
    {
     "cell_type": "code",
     "collapsed": false,
     "input": [
      "partis.sum()"
     ],
     "language": "python",
     "metadata": {},
     "outputs": []
    },
    {
     "cell_type": "markdown",
     "metadata": {},
     "source": [
      "D'autres aggr\u00e9gations sont possibles : la m\u00e9thode **count** permet par exemple de renvoyer la taille d'un groupe (ici le nombre de subventions par partis politiques). "
     ]
    },
    {
     "cell_type": "code",
     "collapsed": false,
     "input": [
      "partis.count()"
     ],
     "language": "python",
     "metadata": {},
     "outputs": []
    },
    {
     "cell_type": "heading",
     "level": 3,
     "metadata": {},
     "source": [
      "A vous : "
     ]
    },
    {
     "cell_type": "markdown",
     "metadata": {},
     "source": [
      "   - Quelle a \u00e9t\u00e9 la plus grande subvention allou\u00e9e en 2011 ? \n",
      "   - Quel est le parlementaire qui a re\u00e7u le plus grand nombre de subventions ? \n",
      "   - Quel est le parlementaire qui a re\u00e7u le plus de subventions en valeur ? \n",
      "   - Quel est le d\u00e9partement qui a re\u00e7u le plus de subventions ? "
     ]
    },
    {
     "cell_type": "markdown",
     "metadata": {},
     "source": [
      "Nous pouvons appliquer plusieurs cl\u00e9s : **quel est le nombre de subventions par partis politiques et par chambre ?**"
     ]
    },
    {
     "cell_type": "code",
     "collapsed": false,
     "input": [
      "chambres = reserve['Subvention allou\u00e9e'].groupby([reserve['Groupe politique du parlementaire'],reserve['Nature']]).count()\n",
      "chambres"
     ],
     "language": "python",
     "metadata": {},
     "outputs": []
    },
    {
     "cell_type": "markdown",
     "metadata": {},
     "source": [
      "Nous cr\u00e9ons dans ce cas une s\u00e9rie avec deux index (partis et nature). \n",
      "\n",
      "Nous pouvons faire 'd\u00e9plier' cette s\u00e9rie avec la m\u00e9thode **unstack** :"
     ]
    },
    {
     "cell_type": "code",
     "collapsed": false,
     "input": [
      "groupes_chambres = chambres.unstack()\n",
      "groupes_chambres"
     ],
     "language": "python",
     "metadata": {},
     "outputs": []
    },
    {
     "cell_type": "markdown",
     "metadata": {},
     "source": [
      "Nous pouvons \u00e9galement grouper sans sp\u00e9cifier de colonne. Si les donn\u00e9es \u00e0 grouper se trouvent dans mon DataFrame, je peux grouper de la fa\u00e7on suivante : "
     ]
    },
    {
     "cell_type": "code",
     "collapsed": false,
     "input": [
      "reserve.groupby('Nature').count()"
     ],
     "language": "python",
     "metadata": {},
     "outputs": []
    },
    {
     "cell_type": "markdown",
     "metadata": {},
     "source": [
      "(Attention aux aggr\u00e9gations h\u00e2tives ;))"
     ]
    },
    {
     "cell_type": "heading",
     "level": 3,
     "metadata": {},
     "source": [
      "A vous : "
     ]
    },
    {
     "cell_type": "markdown",
     "metadata": {},
     "source": [
      "- Quelle est la moyenne des co\u00fbts de projets par type d'assembl\u00e9e ? \n",
      "- Combien de projets le S\u00e9nat a - t-il financ\u00e9 dans les Yvelines ? \n",
      "- Quelle a \u00e9t\u00e9 la subvention allou\u00e9e pour l'UMP \u00e0 Paris ? "
     ]
    },
    {
     "cell_type": "markdown",
     "metadata": {},
     "source": [
      "Pandas nous permet \u00e9galement de passer des dictionnaires ou des s\u00e9ries au sein des groupes. \n",
      "\n",
      "Cela est int\u00e9ressant lorsque nous souhaitons faire un mapping entre les colonnes (ou les lignes). \n",
      "\n",
      "Dans notre cas, les acronymes entre l'Assembl\u00e9e Nationale et le S\u00e9nat varient (i.e : SOC et SRC d\u00e9signent tous deux les groupes du Parti Socialiste). On peut donc \u00e9crire la correspondance suivante : "
     ]
    },
    {
     "cell_type": "code",
     "collapsed": false,
     "input": [
      "mapping = {'CRC':'Partis de Gauche', \n",
      "           'CRC-SPG':'Partis de Gauche', \n",
      "           'ECO':'Ecologistes', \n",
      "           'GDR':'Radicaux', \n",
      "           'NC':'Centristes', \n",
      "           'NI':'Non Inscrits', \n",
      "           'RDSE':'Radicaux',\n",
      "           'SOC':'Parti Socialiste',\n",
      "           'SOCV':'Parti Socialiste',\n",
      "           'SRC':'Parti Socialiste',\n",
      "           'UC':'Centristes', \n",
      "           'UDI':'Centristes', \n",
      "           'UMP':'Union Mouvement Populaire'}"
     ],
     "language": "python",
     "metadata": {},
     "outputs": []
    },
    {
     "cell_type": "markdown",
     "metadata": {},
     "source": [
      "Dans ce cas, nous souhaitons grouper selon la correspondance des index (axis =0) du DataFrame **groupes_chambres** avec le dictionnaire **mapping**, soit : "
     ]
    },
    {
     "cell_type": "code",
     "collapsed": false,
     "input": [
      "groupes_chambres"
     ],
     "language": "python",
     "metadata": {},
     "outputs": [
      {
       "html": [
        "<div style=\"max-height:1000px;max-width:1500px;overflow:auto;\">\n",
        "<table border=\"1\" class=\"dataframe\">\n",
        "  <thead>\n",
        "    <tr style=\"text-align: right;\">\n",
        "      <th>Nature</th>\n",
        "      <th>Assembl\u00e9e nationale</th>\n",
        "      <th>S\u00e9nat</th>\n",
        "    </tr>\n",
        "    <tr>\n",
        "      <th>Groupe politique du parlementaire</th>\n",
        "      <th></th>\n",
        "      <th></th>\n",
        "    </tr>\n",
        "  </thead>\n",
        "  <tbody>\n",
        "    <tr>\n",
        "      <th>CRC</th>\n",
        "      <td>  NaN</td>\n",
        "      <td>   97</td>\n",
        "    </tr>\n",
        "    <tr>\n",
        "      <th>CRC-SPG</th>\n",
        "      <td>  NaN</td>\n",
        "      <td>   41</td>\n",
        "    </tr>\n",
        "    <tr>\n",
        "      <th>ECO</th>\n",
        "      <td>  NaN</td>\n",
        "      <td>    1</td>\n",
        "    </tr>\n",
        "    <tr>\n",
        "      <th>GDR</th>\n",
        "      <td>   44</td>\n",
        "      <td>  NaN</td>\n",
        "    </tr>\n",
        "    <tr>\n",
        "      <th>NC</th>\n",
        "      <td>  221</td>\n",
        "      <td>  NaN</td>\n",
        "    </tr>\n",
        "    <tr>\n",
        "      <th>NI</th>\n",
        "      <td>   68</td>\n",
        "      <td>  172</td>\n",
        "    </tr>\n",
        "    <tr>\n",
        "      <th>RDSE</th>\n",
        "      <td>  NaN</td>\n",
        "      <td>  184</td>\n",
        "    </tr>\n",
        "    <tr>\n",
        "      <th>SOC</th>\n",
        "      <td>  NaN</td>\n",
        "      <td>  990</td>\n",
        "    </tr>\n",
        "    <tr>\n",
        "      <th>SOCV</th>\n",
        "      <td>  NaN</td>\n",
        "      <td>  262</td>\n",
        "    </tr>\n",
        "    <tr>\n",
        "      <th>SRC</th>\n",
        "      <td>  869</td>\n",
        "      <td>  NaN</td>\n",
        "    </tr>\n",
        "    <tr>\n",
        "      <th>UC</th>\n",
        "      <td>  NaN</td>\n",
        "      <td>   38</td>\n",
        "    </tr>\n",
        "    <tr>\n",
        "      <th>UDI</th>\n",
        "      <td>  NaN</td>\n",
        "      <td>  501</td>\n",
        "    </tr>\n",
        "    <tr>\n",
        "      <th>UMP</th>\n",
        "      <td> 3210</td>\n",
        "      <td> 2202</td>\n",
        "    </tr>\n",
        "  </tbody>\n",
        "</table>\n",
        "</div>"
       ],
       "metadata": {},
       "output_type": "pyout",
       "prompt_number": 25,
       "text": [
        "Nature                             Assembl\u00e9e nationale  S\u00e9nat\n",
        "Groupe politique du parlementaire                            \n",
        "CRC                                                NaN     97\n",
        "CRC-SPG                                            NaN     41\n",
        "ECO                                                NaN      1\n",
        "GDR                                                 44    NaN\n",
        "NC                                                 221    NaN\n",
        "NI                                                  68    172\n",
        "RDSE                                               NaN    184\n",
        "SOC                                                NaN    990\n",
        "SOCV                                               NaN    262\n",
        "SRC                                                869    NaN\n",
        "UC                                                 NaN     38\n",
        "UDI                                                NaN    501\n",
        "UMP                                               3210   2202"
       ]
      }
     ],
     "prompt_number": 25
    },
    {
     "cell_type": "code",
     "collapsed": false,
     "input": [
      "groupes_chambres.groupby(mapping, axis=0).sum()"
     ],
     "language": "python",
     "metadata": {},
     "outputs": [
      {
       "html": [
        "<div style=\"max-height:1000px;max-width:1500px;overflow:auto;\">\n",
        "<table border=\"1\" class=\"dataframe\">\n",
        "  <thead>\n",
        "    <tr style=\"text-align: right;\">\n",
        "      <th>Nature</th>\n",
        "      <th>Assembl\u00e9e nationale</th>\n",
        "      <th>S\u00e9nat</th>\n",
        "    </tr>\n",
        "  </thead>\n",
        "  <tbody>\n",
        "    <tr>\n",
        "      <th>Centristes</th>\n",
        "      <td>  221</td>\n",
        "      <td>  539</td>\n",
        "    </tr>\n",
        "    <tr>\n",
        "      <th>Ecologistes</th>\n",
        "      <td>  NaN</td>\n",
        "      <td>    1</td>\n",
        "    </tr>\n",
        "    <tr>\n",
        "      <th>Non Inscrits</th>\n",
        "      <td>   68</td>\n",
        "      <td>  172</td>\n",
        "    </tr>\n",
        "    <tr>\n",
        "      <th>Parti Socialiste</th>\n",
        "      <td>  869</td>\n",
        "      <td> 1252</td>\n",
        "    </tr>\n",
        "    <tr>\n",
        "      <th>Partis de Gauche</th>\n",
        "      <td>  NaN</td>\n",
        "      <td>  138</td>\n",
        "    </tr>\n",
        "    <tr>\n",
        "      <th>Radicaux</th>\n",
        "      <td>   44</td>\n",
        "      <td>  184</td>\n",
        "    </tr>\n",
        "    <tr>\n",
        "      <th>Union Mouvement Populaire</th>\n",
        "      <td> 3210</td>\n",
        "      <td> 2202</td>\n",
        "    </tr>\n",
        "  </tbody>\n",
        "</table>\n",
        "</div>"
       ],
       "metadata": {},
       "output_type": "pyout",
       "prompt_number": 26,
       "text": [
        "Nature                     Assembl\u00e9e nationale  S\u00e9nat\n",
        "Centristes                                 221    539\n",
        "Ecologistes                                NaN      1\n",
        "Non Inscrits                                68    172\n",
        "Parti Socialiste                           869   1252\n",
        "Partis de Gauche                           NaN    138\n",
        "Radicaux                                    44    184\n",
        "Union Mouvement Populaire                 3210   2202"
       ]
      }
     ],
     "prompt_number": 26
    },
    {
     "cell_type": "markdown",
     "metadata": {},
     "source": [
      "Une autre fa\u00e7on de r\u00e9aliser facilement des mapping, est d'utiliser la m\u00e9thode **map** sur une s\u00e9rie. Dans notre cas : "
     ]
    },
    {
     "cell_type": "code",
     "collapsed": false,
     "input": [
      "reserve['parti'] = reserve['Groupe politique du parlementaire'].map(mapping)\n",
      "reserve.head(2)"
     ],
     "language": "python",
     "metadata": {},
     "outputs": [
      {
       "html": [
        "<div style=\"max-height:1000px;max-width:1500px;overflow:auto;\">\n",
        "<table border=\"1\" class=\"dataframe\">\n",
        "  <thead>\n",
        "    <tr style=\"text-align: right;\">\n",
        "      <th></th>\n",
        "      <th>Identifiant</th>\n",
        "      <th>B\u00e9n\u00e9ficiaire</th>\n",
        "      <th>D\u00e9partement</th>\n",
        "      <th>Nature du projet</th>\n",
        "      <th>Co\u00fbt du projet</th>\n",
        "      <th>Subvention allou\u00e9e</th>\n",
        "      <th>Parlementaire transmetteur</th>\n",
        "      <th>Nature</th>\n",
        "      <th>D\u00e9partement Parlementaire</th>\n",
        "      <th>Groupe politique du parlementaire</th>\n",
        "      <th>parti</th>\n",
        "    </tr>\n",
        "  </thead>\n",
        "  <tbody>\n",
        "    <tr>\n",
        "      <th>0</th>\n",
        "      <td> 2011/1</td>\n",
        "      <td> ABBANS-DESSOUS</td>\n",
        "      <td> DOUBS</td>\n",
        "      <td> l'am\u00e9nagement de l'acc\u00e8s \u00e0 la station d'\u00e9purat...</td>\n",
        "      <td> 19743.5</td>\n",
        "      <td> 9000</td>\n",
        "      <td> ACCOYER Bernard</td>\n",
        "      <td> Assembl\u00e9e nationale</td>\n",
        "      <td> HAUTE-SAVOIE</td>\n",
        "      <td> UMP</td>\n",
        "      <td> Union Mouvement Populaire</td>\n",
        "    </tr>\n",
        "    <tr>\n",
        "      <th>1</th>\n",
        "      <td> 2011/2</td>\n",
        "      <td>      ABBECOURT</td>\n",
        "      <td>  OISE</td>\n",
        "      <td> la mise en s\u00e9curit\u00e9 du parking r\u00e9serv\u00e9 au car ...</td>\n",
        "      <td> 19787.0</td>\n",
        "      <td> 9500</td>\n",
        "      <td> MARINI Philippe</td>\n",
        "      <td>               S\u00e9nat</td>\n",
        "      <td>         OISE</td>\n",
        "      <td> UMP</td>\n",
        "      <td> Union Mouvement Populaire</td>\n",
        "    </tr>\n",
        "  </tbody>\n",
        "</table>\n",
        "</div>"
       ],
       "metadata": {},
       "output_type": "pyout",
       "prompt_number": 28,
       "text": [
        "  Identifiant    B\u00e9n\u00e9ficiaire D\u00e9partement  \\\n",
        "0      2011/1  ABBANS-DESSOUS       DOUBS   \n",
        "1      2011/2       ABBECOURT        OISE   \n",
        "\n",
        "                                    Nature du projet  Co\u00fbt du projet  \\\n",
        "0  l'am\u00e9nagement de l'acc\u00e8s \u00e0 la station d'\u00e9purat...         19743.5   \n",
        "1  la mise en s\u00e9curit\u00e9 du parking r\u00e9serv\u00e9 au car ...         19787.0   \n",
        "\n",
        "   Subvention allou\u00e9e Parlementaire transmetteur               Nature  \\\n",
        "0                9000            ACCOYER Bernard  Assembl\u00e9e nationale   \n",
        "1                9500            MARINI Philippe                S\u00e9nat   \n",
        "\n",
        "  D\u00e9partement Parlementaire Groupe politique du parlementaire  \\\n",
        "0              HAUTE-SAVOIE                               UMP   \n",
        "1                      OISE                               UMP   \n",
        "\n",
        "                       parti  \n",
        "0  Union Mouvement Populaire  \n",
        "1  Union Mouvement Populaire  "
       ]
      }
     ],
     "prompt_number": 28
    },
    {
     "cell_type": "heading",
     "level": 2,
     "metadata": {},
     "source": [
      "Agr\u00e9gation"
     ]
    },
    {
     "cell_type": "markdown",
     "metadata": {},
     "source": [
      "L'aggr\u00e9gation de donn\u00e9es correspond \u00e0 une transformation d'un tableau de donn\u00e9es en une valeur. \n",
      "\n",
      "Pandas permet d'acc\u00e9der \u00e0 des agr\u00e9gations g\u00e9n\u00e9riques (moyennes, somme etc..), mais il est \u00e9galement possible de cr\u00e9er ses propres fonctions d'agr\u00e9gation. "
     ]
    },
    {
     "cell_type": "markdown",
     "metadata": {},
     "source": [
      "Il est ainsi possible d'aggr\u00e9ger ses donn\u00e9es en utilisant plusieurs fonctions d'agr\u00e9gations. D\u00e9clarons par exemple les trois fonctions suivantes moyenne, maximum et minimum : "
     ]
    },
    {
     "cell_type": "code",
     "collapsed": false,
     "input": [
      "functions = ['mean','max','min']"
     ],
     "language": "python",
     "metadata": {},
     "outputs": []
    },
    {
     "cell_type": "markdown",
     "metadata": {},
     "source": [
      "Nous pouvons appeler la m\u00e9thode **agg** qui appliquera pour chacun des groupes les fonctions appel\u00e9es. \n",
      "\n",
      "Si nous souhaitons par exemple afficher la moyenne, le maximum et le minimum des subventions allou\u00e9e par parti politique, nous pouvons \u00e9crire : "
     ]
    },
    {
     "cell_type": "code",
     "collapsed": false,
     "input": [
      "reserve.groupby('parti').agg(functions)"
     ],
     "language": "python",
     "metadata": {},
     "outputs": []
    },
    {
     "cell_type": "markdown",
     "metadata": {},
     "source": [
      "Il est \u00e9galement possible de d\u00e9finir ses propres aggr\u00e9gations gr\u00e2ce \u00e0 la m\u00e9thode **apply**\n",
      "\n",
      "Comme pr\u00e9cis\u00e9 pr\u00e9c\u00e9demment, la m\u00e9thode **apply** s\u00e9pare un set de donn\u00e9es suivant les cl\u00e9s sp\u00e9cifier dans la m\u00e9thode **groupby** puis applique la fonction appel\u00e9e en param\u00e8tre. \n",
      "\n",
      "Nous d\u00e9fninissons la fonction **part** qui renvoie la moyenne du ratio subvention allou\u00e9e / co\u00fbt du projet : "
     ]
    },
    {
     "cell_type": "code",
     "collapsed": false,
     "input": [
      "def part(df):\n",
      "    return np.mean(df['Subvention allou\u00e9e']/df['Co\u00fbt du projet'])"
     ],
     "language": "python",
     "metadata": {},
     "outputs": []
    },
    {
     "cell_type": "markdown",
     "metadata": {},
     "source": [
      "La moyenne totale de la part des projets subventionn\u00e9es peut donc s'\u00e9crire : "
     ]
    },
    {
     "cell_type": "code",
     "collapsed": false,
     "input": [
      "part(reserve)"
     ],
     "language": "python",
     "metadata": {},
     "outputs": []
    },
    {
     "cell_type": "markdown",
     "metadata": {},
     "source": [
      "Il est d\u00e8s lors possible d'appliqer la fonction **part** avec un groupby pour obtenir la part des subventions par D\u00e9partement : "
     ]
    },
    {
     "cell_type": "code",
     "collapsed": false,
     "input": [
      "reserve.groupby('D\u00e9partement').apply(part).order(ascending=False)"
     ],
     "language": "python",
     "metadata": {},
     "outputs": []
    },
    {
     "cell_type": "heading",
     "level": 3,
     "metadata": {},
     "source": [
      "A vous : "
     ]
    },
    {
     "cell_type": "markdown",
     "metadata": {},
     "source": [
      "- Quel est la part des projets subventionn\u00e9s par partis politiques ? \n",
      "- Quel est le parlementaire, ayant r\u00e9alis\u00e9 plus de 50 subventions, a r\u00e9alis\u00e9 le plus de subventions dans sa r\u00e9gion ? \n",
      "- Quel est le parti politique r\u00e9alisant le plus de subventions dans sa r\u00e9gion ? "
     ]
    }
   ],
   "metadata": {}
  }
 ]
}