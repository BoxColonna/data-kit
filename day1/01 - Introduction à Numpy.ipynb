{
 "metadata": {
  "name": ""
 },
 "nbformat": 3,
 "nbformat_minor": 0,
 "worksheets": [
  {
   "cells": [
    {
     "cell_type": "heading",
     "level": 2,
     "metadata": {},
     "source": [
      "Introduction \u00e0 Numpy"
     ]
    },
    {
     "cell_type": "markdown",
     "metadata": {},
     "source": [
      "Numpy, pour numerical Python est un package de base contenant des fonctions et des objets essentiels au traitement de donn\u00e9es en Python"
     ]
    },
    {
     "cell_type": "code",
     "collapsed": false,
     "input": [
      "import numpy as np\n",
      "from numpy.random import randn"
     ],
     "language": "python",
     "metadata": {},
     "outputs": [],
     "prompt_number": 30
    },
    {
     "cell_type": "heading",
     "level": 2,
     "metadata": {},
     "source": [
      "ndarray"
     ]
    },
    {
     "cell_type": "markdown",
     "metadata": {},
     "source": [
      "ndarray est un tableau \u00e0 n-dimensions d'\u00e9l\u00e9ments de m\u00eame type. "
     ]
    },
    {
     "cell_type": "code",
     "collapsed": false,
     "input": [
      "#On cr\u00e9e ici un tableau de 2 lignes et 3 colonnes\n",
      "\n",
      "data = randn(2,3)\n",
      "\n",
      "print data"
     ],
     "language": "python",
     "metadata": {},
     "outputs": [
      {
       "output_type": "stream",
       "stream": "stdout",
       "text": [
        "[[ 2.12864811 -1.34554969  0.69333997]\n",
        " [ 0.36579801 -0.27961838 -1.26622319]]\n"
       ]
      }
     ],
     "prompt_number": 33
    },
    {
     "cell_type": "markdown",
     "metadata": {},
     "source": [
      "ndarray permet de r\u00e9aliser des op\u00e9rations math\u00e9matiques en bloc. "
     ]
    },
    {
     "cell_type": "code",
     "collapsed": false,
     "input": [
      "#Multiplier tous les \u00e9l\u00e9ments par 10 \n",
      "\n",
      "print data*10"
     ],
     "language": "python",
     "metadata": {},
     "outputs": [
      {
       "output_type": "stream",
       "stream": "stdout",
       "text": [
        "[[ 21.28648113 -13.45549695   6.93339972]\n",
        " [  3.65798013  -2.79618376 -12.66223192]]\n"
       ]
      }
     ],
     "prompt_number": 34
    },
    {
     "cell_type": "markdown",
     "metadata": {},
     "source": [
      "La fonction 'array' permet de cr\u00e9er un nparray :"
     ]
    },
    {
     "cell_type": "code",
     "collapsed": false,
     "input": [
      "# A partir d'une liste\n",
      "\n",
      "data1 = [1,2,3,4]\n",
      "\n",
      "arr1 = np.array(arr1)\n",
      "\n",
      "# A partir d'une liste de liste \n",
      "\n",
      "data2 = [[1,2,3],[4,5,6]]\n",
      "\n",
      "arr2 = np.array(arr2)"
     ],
     "language": "python",
     "metadata": {},
     "outputs": [
      {
       "metadata": {},
       "output_type": "pyout",
       "prompt_number": 36,
       "text": [
        "dtype('int64')"
       ]
      }
     ],
     "prompt_number": 36
    },
    {
     "cell_type": "markdown",
     "metadata": {},
     "source": [
      "Il existe d'autres fonctions pour cr\u00e9er facilement des ndarrays :"
     ]
    },
    {
     "cell_type": "code",
     "collapsed": false,
     "input": [
      "# cr\u00e9er des listes de 0\n",
      "\n",
      "np.zeros(15)\n",
      "\n",
      "# cr\u00e9er des listes de 1\n",
      "\n",
      "np.ones(15)\n",
      "\n",
      "# cr\u00e9er une s\u00e9quence \n",
      "\n",
      "np.arange(15)"
     ],
     "language": "python",
     "metadata": {},
     "outputs": [
      {
       "metadata": {},
       "output_type": "pyout",
       "prompt_number": 43,
       "text": [
        "array([ 0,  1,  2,  3,  4,  5,  6,  7,  8,  9, 10, 11, 12, 13, 14])"
       ]
      }
     ],
     "prompt_number": 43
    },
    {
     "cell_type": "markdown",
     "metadata": {},
     "source": [
      "Les types de donn\u00e9es (DataTypes) sont cl\u00e9s dans la performance des ndarray. On peut afficher les types de donn\u00e9es avec la m\u00e9thode dtype :"
     ]
    },
    {
     "cell_type": "code",
     "collapsed": false,
     "input": [
      "# Il existe plusieurs types de donn\u00e9es int (integer), float (floating number) etc..\n",
      "\n",
      "arr = np.arange(15)\n",
      "\n",
      "arr.dtype"
     ],
     "language": "python",
     "metadata": {},
     "outputs": [
      {
       "metadata": {},
       "output_type": "pyout",
       "prompt_number": 50,
       "text": [
        "dtype('int64')"
       ]
      }
     ],
     "prompt_number": 50
    },
    {
     "cell_type": "markdown",
     "metadata": {},
     "source": [
      "On peut changer les types de donn\u00e9es d'un ndarray (exemple de integer --> float) "
     ]
    },
    {
     "cell_type": "code",
     "collapsed": false,
     "input": [
      "float_arr = arr.dtype"
     ],
     "language": "python",
     "metadata": {},
     "outputs": []
    }
   ],
   "metadata": {}
  }
 ]
}