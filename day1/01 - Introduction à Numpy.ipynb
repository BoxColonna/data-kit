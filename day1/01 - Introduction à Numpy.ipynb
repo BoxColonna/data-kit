{
 "metadata": {
  "name": ""
 },
 "nbformat": 3,
 "nbformat_minor": 0,
 "worksheets": [
  {
   "cells": [
    {
     "cell_type": "heading",
     "level": 2,
     "metadata": {},
     "source": [
      "Introduction \u00e0 Numpy"
     ]
    },
    {
     "cell_type": "markdown",
     "metadata": {},
     "source": [
      "Numpy, pour numerical Python est un package de base contenant des fonctions et des objets essentiels au traitement de donn\u00e9es en Python"
     ]
    },
    {
     "cell_type": "code",
     "collapsed": false,
     "input": [
      "import numpy as np\n",
      "from numpy.random import randn"
     ],
     "language": "python",
     "metadata": {},
     "outputs": [],
     "prompt_number": 3
    },
    {
     "cell_type": "heading",
     "level": 2,
     "metadata": {},
     "source": [
      "ndarray"
     ]
    },
    {
     "cell_type": "markdown",
     "metadata": {},
     "source": [
      "ndarray est un tableau \u00e0 n-dimensions d'\u00e9l\u00e9ments de m\u00eame type. "
     ]
    },
    {
     "cell_type": "code",
     "collapsed": false,
     "input": [
      "#On cr\u00e9e ici un tableau de 2 lignes et 3 colonnes\n",
      "\n",
      "data = randn(2,3)\n",
      "\n",
      "print data"
     ],
     "language": "python",
     "metadata": {},
     "outputs": [
      {
       "output_type": "stream",
       "stream": "stdout",
       "text": [
        "[[ 2.12864811 -1.34554969  0.69333997]\n",
        " [ 0.36579801 -0.27961838 -1.26622319]]\n"
       ]
      }
     ],
     "prompt_number": 33
    },
    {
     "cell_type": "markdown",
     "metadata": {},
     "source": [
      "ndarray permet de r\u00e9aliser des op\u00e9rations math\u00e9matiques en bloc. "
     ]
    },
    {
     "cell_type": "code",
     "collapsed": false,
     "input": [
      "#Multiplier tous les \u00e9l\u00e9ments par 10 \n",
      "\n",
      "print data*10"
     ],
     "language": "python",
     "metadata": {},
     "outputs": [
      {
       "output_type": "stream",
       "stream": "stdout",
       "text": [
        "[[ 21.28648113 -13.45549695   6.93339972]\n",
        " [  3.65798013  -2.79618376 -12.66223192]]\n"
       ]
      }
     ],
     "prompt_number": 34
    },
    {
     "cell_type": "markdown",
     "metadata": {},
     "source": [
      "La m\u00e9thode ***array*** permet de cr\u00e9er un nparray :"
     ]
    },
    {
     "cell_type": "code",
     "collapsed": false,
     "input": [
      "# A partir d'une liste\n",
      "\n",
      "data1 = [1,2,3,4]\n",
      "\n",
      "arr1 = np.array(arr1)\n",
      "\n",
      "# A partir d'une liste de liste \n",
      "\n",
      "data2 = [[1,2,3],[4,5,6]]\n",
      "\n",
      "arr2 = np.array(arr2)"
     ],
     "language": "python",
     "metadata": {},
     "outputs": [
      {
       "metadata": {},
       "output_type": "pyout",
       "prompt_number": 36,
       "text": [
        "dtype('int64')"
       ]
      }
     ],
     "prompt_number": 36
    },
    {
     "cell_type": "markdown",
     "metadata": {},
     "source": [
      "Il existe d'autres fonctions pour cr\u00e9er facilement des ***ndarrays*** :"
     ]
    },
    {
     "cell_type": "code",
     "collapsed": false,
     "input": [
      "# cr\u00e9er des listes de 0\n",
      "\n",
      "np.zeros(15)\n",
      "\n",
      "# cr\u00e9er des listes de 1\n",
      "\n",
      "np.ones(15)\n",
      "\n",
      "# cr\u00e9er une s\u00e9quence \n",
      "\n",
      "np.arange(15)"
     ],
     "language": "python",
     "metadata": {},
     "outputs": [
      {
       "metadata": {},
       "output_type": "pyout",
       "prompt_number": 43,
       "text": [
        "array([ 0,  1,  2,  3,  4,  5,  6,  7,  8,  9, 10, 11, 12, 13, 14])"
       ]
      }
     ],
     "prompt_number": 43
    },
    {
     "cell_type": "markdown",
     "metadata": {},
     "source": [
      "Les types de donn\u00e9es (DataTypes) sont cl\u00e9s dans la performance des ndarray. On peut afficher les types de donn\u00e9es avec la m\u00e9thode ***dtype***"
     ]
    },
    {
     "cell_type": "code",
     "collapsed": false,
     "input": [
      "# Il existe plusieurs types de donn\u00e9es int (integer), float (floating number) etc..\n",
      "\n",
      "arr = np.arange(15)\n",
      "\n",
      "arr.dtype"
     ],
     "language": "python",
     "metadata": {},
     "outputs": [
      {
       "metadata": {},
       "output_type": "pyout",
       "prompt_number": 50,
       "text": [
        "dtype('int64')"
       ]
      }
     ],
     "prompt_number": 50
    },
    {
     "cell_type": "markdown",
     "metadata": {},
     "source": [
      "On peut changer les types de donn\u00e9es d'un ndarray en utilisant la m\u00e9thode ***astype***"
     ]
    },
    {
     "cell_type": "code",
     "collapsed": false,
     "input": [
      "float_arr = arr.astype(np.float64)\n",
      "\n",
      "print float_arr"
     ],
     "language": "python",
     "metadata": {},
     "outputs": [
      {
       "output_type": "stream",
       "stream": "stdout",
       "text": [
        "[  0.   1.   2.   3.   4.   5.   6.   7.   8.   9.  10.  11.  12.  13.  14.]\n"
       ]
      }
     ],
     "prompt_number": 53
    },
    {
     "cell_type": "markdown",
     "metadata": {},
     "source": [
      "Changer les types de donn\u00e9es peut \u00eatre utile lorqu'on veut transformer du texte en nombre :"
     ]
    },
    {
     "cell_type": "code",
     "collapsed": false,
     "input": [
      "arr_string = np.array(['1.2','2.3','3.5'])\n",
      "\n",
      "arr_string.astype(np.float64)"
     ],
     "language": "python",
     "metadata": {},
     "outputs": [
      {
       "metadata": {},
       "output_type": "pyout",
       "prompt_number": 57,
       "text": [
        "array([ 1.2,  2.3,  3.5])"
       ]
      }
     ],
     "prompt_number": 57
    },
    {
     "cell_type": "heading",
     "level": 3,
     "metadata": {},
     "source": [
      "Indexing"
     ]
    },
    {
     "cell_type": "markdown",
     "metadata": {},
     "source": [
      "Il existe plusieurs fa\u00e7ons de s\u00e9lectionner des \u00e9l\u00e9ments au sein d'un array \u00e0 1 dimension :"
     ]
    },
    {
     "cell_type": "code",
     "collapsed": false,
     "input": [
      "# S\u00e9lection d'un \u00e9l\u00e9ment \n",
      "\n",
      "arr[5]\n",
      "\n",
      "# S\u00e9lection d'une partie d'un array \n",
      "\n",
      "arr[5:9]\n",
      "\n"
     ],
     "language": "python",
     "metadata": {},
     "outputs": [
      {
       "metadata": {},
       "output_type": "pyout",
       "prompt_number": 67,
       "text": [
        "array([5, 6, 7, 8])"
       ]
      }
     ],
     "prompt_number": 67
    },
    {
     "cell_type": "markdown",
     "metadata": {},
     "source": [
      "La s\u00e9lection pour les array \u00e0 deux dimensions fonctionne comme ceci :"
     ]
    },
    {
     "cell_type": "code",
     "collapsed": false,
     "input": [
      "arr2d = np.array([[1,2,3],[4,5,6],[7,8,9]])"
     ],
     "language": "python",
     "metadata": {},
     "outputs": [
      {
       "output_type": "stream",
       "stream": "stdout",
       "text": [
        "[[1 2 3]\n",
        " [4 5 6]\n",
        " [7 8 9]]\n"
       ]
      }
     ],
     "prompt_number": 16
    },
    {
     "cell_type": "markdown",
     "metadata": {},
     "source": [
      "<img src='files/matrice.png'>"
     ]
    },
    {
     "cell_type": "code",
     "collapsed": false,
     "input": [
      "# S\u00e9lectionner la premi\u00e8re ligne de arr2d\n",
      "\n",
      "arr2d[0]\n",
      "\n",
      "# S\u00e9lectionner la premi\u00e8re colonne de arr2d \n",
      "\n",
      "arr2d[:,0]\n",
      "\n",
      "# S\u00e9lectionner l'\u00e9l\u00e9ement \u00e0 la deuxi\u00e8me ligne, troisi\u00e8me colonne\n",
      "\n",
      "arr2d[1][2]\n",
      "arr2d[1,2]\n",
      "\n",
      "# Tous les \u00e9l\u00e9ments entre la deuxi\u00e8me et troisi\u00e8me ligne\n",
      "\n",
      "arr2d[1:]"
     ],
     "language": "python",
     "metadata": {},
     "outputs": [
      {
       "metadata": {},
       "output_type": "pyout",
       "prompt_number": 77,
       "text": [
        "array([[4, 5, 6],\n",
        "       [7, 8, 9]])"
       ]
      }
     ],
     "prompt_number": 77
    },
    {
     "cell_type": "code",
     "collapsed": false,
     "input": [
      "arr2d[:2,1:]"
     ],
     "language": "python",
     "metadata": {},
     "outputs": [
      {
       "metadata": {},
       "output_type": "pyout",
       "prompt_number": 63,
       "text": [
        "array([[2, 3],\n",
        "       [5, 6]])"
       ]
      }
     ],
     "prompt_number": 63
    },
    {
     "cell_type": "code",
     "collapsed": false,
     "input": [
      "arr2d[:2]"
     ],
     "language": "python",
     "metadata": {},
     "outputs": [
      {
       "metadata": {},
       "output_type": "pyout",
       "prompt_number": 76,
       "text": [
        "array([[1, 2, 3],\n",
        "       [4, 5, 6]])"
       ]
      }
     ],
     "prompt_number": 76
    },
    {
     "cell_type": "code",
     "collapsed": false,
     "input": [],
     "language": "python",
     "metadata": {},
     "outputs": []
    }
   ],
   "metadata": {}
  }
 ]
}