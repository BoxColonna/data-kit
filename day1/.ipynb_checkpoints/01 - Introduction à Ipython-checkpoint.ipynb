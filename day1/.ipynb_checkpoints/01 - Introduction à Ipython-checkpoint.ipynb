{
 "metadata": {
  "name": "",
  "signature": "sha256:72b3ce3cfb1f18507c7f9bd8973ed2887b9aeea8b0b403b60797bcb1f12ec272"
 },
 "nbformat": 3,
 "nbformat_minor": 0,
 "worksheets": [
  {
   "cells": [
    {
     "cell_type": "heading",
     "level": 1,
     "metadata": {},
     "source": [
      "Introduction \u00e0 Ipython"
     ]
    },
    {
     "cell_type": "markdown",
     "metadata": {},
     "source": [
      "Introduction \u00e0 Ipython, tips and tricks pour devenir un master Ipyhton !"
     ]
    },
    {
     "cell_type": "code",
     "collapsed": false,
     "input": [
      "import pandas as pd\n",
      "import numpy as np"
     ],
     "language": "python",
     "metadata": {},
     "outputs": [],
     "prompt_number": 1
    },
    {
     "cell_type": "heading",
     "level": 2,
     "metadata": {},
     "source": [
      "Magic functions"
     ]
    },
    {
     "cell_type": "markdown",
     "metadata": {},
     "source": [
      "Ipython dispose de plusieurs fonctions magiques. Celles-ci sont pr\u00e9c\u00e9d\u00e9es d'un '%'. En voici quelques unes : "
     ]
    },
    {
     "cell_type": "code",
     "collapsed": false,
     "input": [
      "#timeit permet de mesurer le temps d'ex\u00e9cution d'une fonction\n",
      "\n",
      "%timeit a = np.random.randn(10)"
     ],
     "language": "python",
     "metadata": {},
     "outputs": [
      {
       "output_type": "stream",
       "stream": "stdout",
       "text": [
        "1000000 loops, best of 3: 1.75 \u00b5s per loop\n"
       ]
      }
     ],
     "prompt_number": 2
    },
    {
     "cell_type": "code",
     "collapsed": false,
     "input": [
      "# hist permet d'afficher l'historique des commandes utilis\u00e9es \n",
      "\n",
      "%hist "
     ],
     "language": "python",
     "metadata": {},
     "outputs": [
      {
       "output_type": "stream",
       "stream": "stdout",
       "text": [
        "import pandas as pd\n",
        "import numpy as np\n",
        "#timeit permet de mesurer le temps d'ex\u00e9cution d'une fonction\n",
        "\n",
        "%timeit a = np.random.randn(10)\n",
        "# hist permet d'afficher l'historique des commandes utilis\u00e9es \n",
        "\n",
        "%hist\n"
       ]
      }
     ],
     "prompt_number": 3
    },
    {
     "cell_type": "code",
     "collapsed": false,
     "input": [
      "# paste vous permet de copier coller des blocs de code Python en respectant l'indentation\n",
      "\n",
      "%paste "
     ],
     "language": "python",
     "metadata": {},
     "outputs": [
      {
       "output_type": "stream",
       "stream": "stderr",
       "text": [
        "ERROR: Line magic function `%paste` not found.\n"
       ]
      }
     ],
     "prompt_number": 4
    },
    {
     "cell_type": "code",
     "collapsed": false,
     "input": [
      "# run vous permet d'ex\u00e9cuter au sein de iPython un snippet de code ext\u00e9rieur \n",
      "\n",
      "%run "
     ],
     "language": "python",
     "metadata": {},
     "outputs": [
      {
       "output_type": "stream",
       "stream": "stdout",
       "text": [
        "\n",
        "%run:\n",
        " Run the named file inside IPython as a program.\n",
        "\n",
        "Usage::\n",
        "\n",
        "  %run [-n -i -e -G]\n",
        "       [( -t [-N<N>] | -d [-b<N>] | -p [profile options] )]\n",
        "       ( -m mod | file ) [args]\n",
        "\n",
        "Parameters after the filename are passed as command-line arguments to\n",
        "the program (put in sys.argv). Then, control returns to IPython's\n",
        "prompt.\n",
        "\n",
        "This is similar to running at a system prompt ``python file args``,\n",
        "but with the advantage of giving you IPython's tracebacks, and of\n",
        "loading all variables into your interactive namespace for further use\n",
        "(unless -p is used, see below).\n",
        "\n",
        "The file is executed in a namespace initially consisting only of\n",
        "``__name__=='__main__'`` and sys.argv constructed as indicated. It thus\n",
        "sees its environment as if it were being run as a stand-alone program\n",
        "(except for sharing global objects such as previously imported\n",
        "modules). But after execution, the IPython interactive namespace gets\n",
        "updated with all variables defined in the program (except for __name__\n",
        "and sys.argv). This allows for very convenient loading of code for\n",
        "interactive work, while giving each program a 'clean sheet' to run in.\n",
        "\n",
        "Arguments are expanded using shell-like glob match.  Patterns\n",
        "'*', '?', '[seq]' and '[!seq]' can be used.  Additionally,\n",
        "tilde '~' will be expanded into user's home directory.  Unlike\n",
        "real shells, quotation does not suppress expansions.  Use\n",
        "*two* back slashes (e.g. ``\\\\*``) to suppress expansions.\n",
        "To completely disable these expansions, you can use -G flag.\n",
        "\n",
        "Options:\n",
        "\n",
        "-n\n",
        "  __name__ is NOT set to '__main__', but to the running file's name\n",
        "  without extension (as python does under import).  This allows running\n",
        "  scripts and reloading the definitions in them without calling code\n",
        "  protected by an ``if __name__ == \"__main__\"`` clause.\n",
        "\n",
        "-i\n",
        "  run the file in IPython's namespace instead of an empty one. This\n",
        "  is useful if you are experimenting with code written in a text editor\n",
        "  which depends on variables defined interactively.\n",
        "\n",
        "-e\n",
        "  ignore sys.exit() calls or SystemExit exceptions in the script\n",
        "  being run.  This is particularly useful if IPython is being used to\n",
        "  run unittests, which always exit with a sys.exit() call.  In such\n",
        "  cases you are interested in the output of the test results, not in\n",
        "  seeing a traceback of the unittest module.\n",
        "\n",
        "-t\n",
        "  print timing information at the end of the run.  IPython will give\n",
        "  you an estimated CPU time consumption for your script, which under\n",
        "  Unix uses the resource module to avoid the wraparound problems of\n",
        "  time.clock().  Under Unix, an estimate of time spent on system tasks\n",
        "  is also given (for Windows platforms this is reported as 0.0).\n",
        "\n",
        "If -t is given, an additional ``-N<N>`` option can be given, where <N>\n",
        "must be an integer indicating how many times you want the script to\n",
        "run.  The final timing report will include total and per run results.\n",
        "\n",
        "For example (testing the script uniq_stable.py)::\n",
        "\n",
        "    In [1]: run -t uniq_stable\n",
        "\n",
        "    IPython CPU timings (estimated):\n",
        "      User  :    0.19597 s.\n",
        "      System:        0.0 s.\n",
        "\n",
        "    In [2]: run -t -N5 uniq_stable\n",
        "\n",
        "    IPython CPU timings (estimated):\n",
        "    Total runs performed: 5\n",
        "      Times :      Total       Per run\n",
        "      User  :   0.910862 s,  0.1821724 s.\n",
        "      System:        0.0 s,        0.0 s.\n",
        "\n",
        "-d\n",
        "  run your program under the control of pdb, the Python debugger.\n",
        "  This allows you to execute your program step by step, watch variables,\n",
        "  etc.  Internally, what IPython does is similar to calling::\n",
        "\n",
        "      pdb.run('execfile(\"YOURFILENAME\")')\n",
        "\n",
        "  with a breakpoint set on line 1 of your file.  You can change the line\n",
        "  number for this automatic breakpoint to be <N> by using the -bN option\n",
        "  (where N must be an integer). For example::\n",
        "\n",
        "      %run -d -b40 myscript\n",
        "\n",
        "  will set the first breakpoint at line 40 in myscript.py.  Note that\n",
        "  the first breakpoint must be set on a line which actually does\n",
        "  something (not a comment or docstring) for it to stop execution.\n",
        "\n",
        "  Or you can specify a breakpoint in a different file::\n",
        "\n",
        "      %run -d -b myotherfile.py:20 myscript\n",
        "\n",
        "  When the pdb debugger starts, you will see a (Pdb) prompt.  You must\n",
        "  first enter 'c' (without quotes) to start execution up to the first\n",
        "  breakpoint.\n",
        "\n",
        "  Entering 'help' gives information about the use of the debugger.  You\n",
        "  can easily see pdb's full documentation with \"import pdb;pdb.help()\"\n",
        "  at a prompt.\n",
        "\n",
        "-p\n",
        "  run program under the control of the Python profiler module (which\n",
        "  prints a detailed report of execution times, function calls, etc).\n",
        "\n",
        "  You can pass other options after -p which affect the behavior of the\n",
        "  profiler itself. See the docs for %prun for details.\n",
        "\n",
        "  In this mode, the program's variables do NOT propagate back to the\n",
        "  IPython interactive namespace (because they remain in the namespace\n",
        "  where the profiler executes them).\n",
        "\n",
        "  Internally this triggers a call to %prun, see its documentation for\n",
        "  details on the options available specifically for profiling.\n",
        "\n",
        "There is one special usage for which the text above doesn't apply:\n",
        "if the filename ends with .ipy[nb], the file is run as ipython script,\n",
        "just as if the commands were written on IPython prompt.\n",
        "\n",
        "-m\n",
        "  specify module name to load instead of script path. Similar to\n",
        "  the -m option for the python interpreter. Use this option last if you\n",
        "  want to combine with other %run options. Unlike the python interpreter\n",
        "  only source modules are allowed no .pyc or .pyo files.\n",
        "  For example::\n",
        "\n",
        "      %run -m example\n",
        "\n",
        "  will run the example module.\n",
        "\n",
        "-G\n",
        "  disable shell-like glob expansion of arguments.\n"
       ]
      },
      {
       "output_type": "stream",
       "stream": "stderr",
       "text": [
        "WARNING: you must provide at least a filename.\n"
       ]
      }
     ],
     "prompt_number": 5
    },
    {
     "cell_type": "code",
     "collapsed": false,
     "input": [
      "# debug vous permet d'appeler un debugueur au sein de Ipython, lorsque celui-ci l\u00e8ve une erreur \n",
      "\n",
      "a = 4\n",
      "b = 5\n",
      "\n",
      "assert(a + b == 10)"
     ],
     "language": "python",
     "metadata": {},
     "outputs": []
    },
    {
     "cell_type": "code",
     "collapsed": false,
     "input": [
      "#Appeler la fonction magique dans une case suivante \n",
      "\n",
      "%debug"
     ],
     "language": "python",
     "metadata": {},
     "outputs": [
      {
       "output_type": "stream",
       "stream": "stdout",
       "text": [
        "\n",
        "KeyboardInterrupt\n",
        "> \u001b[0;32m<ipython-input-3-93a961542256>\u001b[0m(6)\u001b[0;36m<module>\u001b[0;34m()\u001b[0m\n",
        "\u001b[0;32m      4 \u001b[0;31m\u001b[0mb\u001b[0m \u001b[0;34m=\u001b[0m \u001b[0;36m5\u001b[0m\u001b[0;34m\u001b[0m\u001b[0m\n",
        "\u001b[0m\u001b[0;32m      5 \u001b[0;31m\u001b[0;34m\u001b[0m\u001b[0m\n",
        "\u001b[0m\u001b[0;32m----> 6 \u001b[0;31m\u001b[0;32massert\u001b[0m\u001b[0;34m(\u001b[0m\u001b[0ma\u001b[0m \u001b[0;34m+\u001b[0m \u001b[0mb\u001b[0m \u001b[0;34m==\u001b[0m \u001b[0;36m10\u001b[0m\u001b[0;34m)\u001b[0m\u001b[0;34m\u001b[0m\u001b[0m\n",
        "\u001b[0m\n"
       ]
      }
     ]
    },
    {
     "cell_type": "code",
     "collapsed": false,
     "input": [
      "# l'int\u00e9gralit\u00e9 des magic functions sont disponibles en ex\u00e9cutant %magic\n",
      "\n",
      "%magic"
     ],
     "language": "python",
     "metadata": {},
     "outputs": []
    },
    {
     "cell_type": "heading",
     "level": 2,
     "metadata": {},
     "source": [
      "Obtenir de l'aide sur une fonction "
     ]
    },
    {
     "cell_type": "code",
     "collapsed": false,
     "input": [
      "# On peut obtenir la documentation d'une fonction en la pr\u00e9c\u00e9dant de ?\n",
      "\n",
      "?np.arange"
     ],
     "language": "python",
     "metadata": {},
     "outputs": [],
     "prompt_number": 7
    },
    {
     "cell_type": "code",
     "collapsed": false,
     "input": [
      "np.arange('A','B',dtype='string')"
     ],
     "language": "python",
     "metadata": {},
     "outputs": [
      {
       "ename": "TypeError",
       "evalue": "unsupported operand type(s) for -: 'str' and 'str'",
       "output_type": "pyerr",
       "traceback": [
        "\u001b[0;31m---------------------------------------------------------------------------\u001b[0m\n\u001b[0;31mTypeError\u001b[0m                                 Traceback (most recent call last)",
        "\u001b[0;32m<ipython-input-9-3f1eaca945cb>\u001b[0m in \u001b[0;36m<module>\u001b[0;34m()\u001b[0m\n\u001b[0;32m----> 1\u001b[0;31m \u001b[0mnp\u001b[0m\u001b[0;34m.\u001b[0m\u001b[0marange\u001b[0m\u001b[0;34m(\u001b[0m\u001b[0;34m'A'\u001b[0m\u001b[0;34m,\u001b[0m\u001b[0;34m'B'\u001b[0m\u001b[0;34m,\u001b[0m\u001b[0mdtype\u001b[0m\u001b[0;34m=\u001b[0m\u001b[0;34m'str'\u001b[0m\u001b[0;34m)\u001b[0m\u001b[0;34m\u001b[0m\u001b[0m\n\u001b[0m",
        "\u001b[0;31mTypeError\u001b[0m: unsupported operand type(s) for -: 'str' and 'str'"
       ]
      }
     ],
     "prompt_number": 9
    },
    {
     "cell_type": "code",
     "collapsed": false,
     "input": [],
     "language": "python",
     "metadata": {},
     "outputs": []
    }
   ],
   "metadata": {}
  }
 ]
}