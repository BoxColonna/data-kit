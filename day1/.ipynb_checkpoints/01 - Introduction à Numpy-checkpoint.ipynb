{
 "metadata": {
  "name": ""
 },
 "nbformat": 3,
 "nbformat_minor": 0,
 "worksheets": [
  {
   "cells": [
    {
     "cell_type": "heading",
     "level": 2,
     "metadata": {},
     "source": [
      "Introduction \u00e0 Numpy"
     ]
    },
    {
     "cell_type": "markdown",
     "metadata": {},
     "source": [
      "Numpy, pour numerical Python est un package de base contenant des fonctions et des objets essentiels au traitement de donn\u00e9es en Python"
     ]
    },
    {
     "cell_type": "code",
     "collapsed": false,
     "input": [
      "import numpy as np\n",
      "from numpy.random import randn"
     ],
     "language": "python",
     "metadata": {},
     "outputs": [],
     "prompt_number": 30
    },
    {
     "cell_type": "heading",
     "level": 2,
     "metadata": {},
     "source": [
      "ndarray"
     ]
    },
    {
     "cell_type": "markdown",
     "metadata": {},
     "source": [
      "ndarray est un tableau \u00e0 n-dimensions d'\u00e9l\u00e9ments de m\u00eame type. "
     ]
    },
    {
     "cell_type": "code",
     "collapsed": false,
     "input": [
      "#On cr\u00e9e ici un tableau de 2 lignes et 3 colonnes\n",
      "\n",
      "data = randn(2,3)"
     ],
     "language": "python",
     "metadata": {},
     "outputs": [],
     "prompt_number": 31
    },
    {
     "cell_type": "markdown",
     "metadata": {},
     "source": [
      "ndarray permet de r\u00e9aliser des op\u00e9rations math\u00e9matiques en bloc. "
     ]
    },
    {
     "cell_type": "code",
     "collapsed": false,
     "input": [
      "print data\n",
      "\n",
      "#Multiplier tous les \u00e9l\u00e9ments par 10 "
     ],
     "language": "python",
     "metadata": {},
     "outputs": [
      {
       "output_type": "stream",
       "stream": "stdout",
       "text": [
        "[[-1.77717157 -0.09011465  1.22293268]\n",
        " [ 0.27371291  1.59931854  0.05395554]]\n",
        "[[-17.77171573  -0.90114652  12.22932679]\n",
        " [  2.73712906  15.99318542   0.53955539]]\n"
       ]
      }
     ],
     "prompt_number": 13
    },
    {
     "cell_type": "markdown",
     "metadata": {},
     "source": [
      "La fonction 'array' permet de cr\u00e9er un nparray :"
     ]
    },
    {
     "cell_type": "code",
     "collapsed": false,
     "input": [
      "# A partir d'une liste\n",
      "\n",
      "data1 = [1,2,3,4]\n",
      "\n",
      "arr1 = np.array(arr1)\n",
      "\n",
      "# A partir d'une liste de liste \n",
      "\n",
      "data2 = [[1,2,3],[4,5,6]]\n",
      "\n",
      "arr2 = np.array(arr2)"
     ],
     "language": "python",
     "metadata": {},
     "outputs": [],
     "prompt_number": 29
    },
    {
     "cell_type": "code",
     "collapsed": false,
     "input": [],
     "language": "python",
     "metadata": {},
     "outputs": []
    }
   ],
   "metadata": {}
  }
 ]
}