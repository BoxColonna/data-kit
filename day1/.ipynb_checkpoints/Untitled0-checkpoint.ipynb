{
 "metadata": {
  "name": "",
  "signature": "sha256:a02f491973fc55a2e4e2be1dcb37662beec59bf9ffac9e22fb0ce1319cc20fb5"
 },
 "nbformat": 3,
 "nbformat_minor": 0,
 "worksheets": []
}