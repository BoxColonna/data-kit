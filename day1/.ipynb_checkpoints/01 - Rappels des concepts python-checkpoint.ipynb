{
 "metadata": {
  "name": "",
  "signature": "sha256:84e2ecb67fb1514ade35bab1277bbbe5cf7ab0b35227f4d3422af5d97e9aa2a1"
 },
 "nbformat": 3,
 "nbformat_minor": 0,
 "worksheets": [
  {
   "cells": [
    {
     "cell_type": "heading",
     "level": 1,
     "metadata": {},
     "source": [
      "Introduction : iPython"
     ]
    },
    {
     "cell_type": "markdown",
     "metadata": {},
     "source": [
      "Bienvenue sur iPython!<br>\n",
      "    Nous allons utiliser cette interface tout au long de cette semaine de formation.<br>\n",
      "    N'h\u00e9sitez pas inserer des blocs \u00e0 votre convenance et \u00e0 tester un maximum de choses.\n",
      "    -> ***Insert  --> Insert below*** "
     ]
    },
    {
     "cell_type": "markdown",
     "metadata": {},
     "source": [
      "<img src=\"images/iPython_header.png\">"
     ]
    },
    {
     "cell_type": "markdown",
     "metadata": {},
     "source": [
      "Vous utiliserez la version ```code``` pour simuler une interface. <br> Les textes sont \u00e9crits en ```Markdown```. (sur la photo ci-dessus nous avons s\u00e9l\u00e9ctionn\u00e9 le bloc d'un titre d'o\u00f9 la version ```Heading 1```."
     ]
    },
    {
     "cell_type": "heading",
     "level": 1,
     "metadata": {},
     "source": [
      "Python : les basics"
     ]
    },
    {
     "cell_type": "heading",
     "level": 2,
     "metadata": {},
     "source": [
      "La m\u00e9thode ```print```\n",
      "\n"
     ]
    },
    {
     "cell_type": "code",
     "collapsed": false,
     "input": [
      "# la methode print permet d'afficher une valeur dans l'interface, par exemple :\n",
      "a = \"hello\"\n",
      "print a"
     ],
     "language": "python",
     "metadata": {},
     "outputs": [
      {
       "output_type": "stream",
       "stream": "stdout",
       "text": [
        "hello\n"
       ]
      }
     ],
     "prompt_number": 36
    },
    {
     "cell_type": "heading",
     "level": 2,
     "metadata": {},
     "source": [
      "Les objets"
     ]
    },
    {
     "cell_type": "markdown",
     "metadata": {},
     "source": [
      "Les 'string' ou chaines de caract\u00e8res "
     ]
    },
    {
     "cell_type": "code",
     "collapsed": false,
     "input": [
      "type(\"Aaa\")"
     ],
     "language": "python",
     "metadata": {},
     "outputs": [
      {
       "metadata": {},
       "output_type": "pyout",
       "prompt_number": 42,
       "text": [
        "str"
       ]
      }
     ],
     "prompt_number": 42
    },
    {
     "cell_type": "markdown",
     "metadata": {},
     "source": [
      "Les 'integer' ou nombres entiers"
     ]
    },
    {
     "cell_type": "code",
     "collapsed": false,
     "input": [
      "type(3)"
     ],
     "language": "python",
     "metadata": {},
     "outputs": [
      {
       "metadata": {},
       "output_type": "pyout",
       "prompt_number": 41,
       "text": [
        "int"
       ]
      }
     ],
     "prompt_number": 41
    },
    {
     "cell_type": "markdown",
     "metadata": {},
     "source": [
      "Les 'float' ou nombres d\u00e9cimaux"
     ]
    },
    {
     "cell_type": "code",
     "collapsed": false,
     "input": [
      "type(4.5)"
     ],
     "language": "python",
     "metadata": {},
     "outputs": [
      {
       "metadata": {},
       "output_type": "pyout",
       "prompt_number": 40,
       "text": [
        "float"
       ]
      }
     ],
     "prompt_number": 40
    },
    {
     "cell_type": "markdown",
     "metadata": {},
     "source": [
      "Les 'list'"
     ]
    },
    {
     "cell_type": "code",
     "collapsed": false,
     "input": [
      "type([2, 3, 4])"
     ],
     "language": "python",
     "metadata": {},
     "outputs": [
      {
       "metadata": {},
       "output_type": "pyout",
       "prompt_number": 39,
       "text": [
        "list"
       ]
      }
     ],
     "prompt_number": 39
    },
    {
     "cell_type": "markdown",
     "metadata": {},
     "source": [
      "Une liste est un tableau ordonn\u00e9 \u00e0 une dimension. "
     ]
    },
    {
     "cell_type": "code",
     "collapsed": false,
     "input": [],
     "language": "python",
     "metadata": {},
     "outputs": []
    },
    {
     "cell_type": "markdown",
     "metadata": {},
     "source": [
      "Les 'dictionary' ou ensemble cl\u00e9 : valeur "
     ]
    },
    {
     "cell_type": "code",
     "collapsed": false,
     "input": [
      "type({'un':1, 'deux':2, 'trois': 3})"
     ],
     "language": "python",
     "metadata": {},
     "outputs": [
      {
       "metadata": {},
       "output_type": "pyout",
       "prompt_number": 38,
       "text": [
        "dict"
       ]
      }
     ],
     "prompt_number": 38
    },
    {
     "cell_type": "markdown",
     "metadata": {},
     "source": [
      "Les bool\u00e9ens : **True** or **False**"
     ]
    },
    {
     "cell_type": "code",
     "collapsed": false,
     "input": [
      "type(False)"
     ],
     "language": "python",
     "metadata": {},
     "outputs": [
      {
       "metadata": {},
       "output_type": "pyout",
       "prompt_number": 37,
       "text": [
        "bool"
       ]
      }
     ],
     "prompt_number": 37
    },
    {
     "cell_type": "code",
     "collapsed": false,
     "input": [],
     "language": "python",
     "metadata": {},
     "outputs": []
    },
    {
     "cell_type": "heading",
     "level": 2,
     "metadata": {},
     "source": [
      "Variables & fonctions"
     ]
    },
    {
     "cell_type": "heading",
     "level": 3,
     "metadata": {},
     "source": [
      "Les variables"
     ]
    },
    {
     "cell_type": "markdown",
     "metadata": {},
     "source": [
      "Votre code est lu ligne par ligne, la seule fa\u00e7on de stocker un \u00e9l\u00e9ment afin de pouvoir le r\u00e9-utiliser plus tard est de l'**assigner \u00e0 une variable**"
     ]
    },
    {
     "cell_type": "code",
     "collapsed": false,
     "input": [
      "# Assignons la chaine de caract\u00e8re 'Bob' \u00e0 la variable Name\n",
      "Name = 'Bob'\n",
      "\n",
      "type(Name)"
     ],
     "language": "python",
     "metadata": {},
     "outputs": [
      {
       "metadata": {},
       "output_type": "pyout",
       "prompt_number": 28,
       "text": [
        "str"
       ]
      }
     ],
     "prompt_number": 28
    },
    {
     "cell_type": "code",
     "collapsed": false,
     "input": [
      "# Assignons la valeur 84 \u00e0 la variable Poids\n",
      "Poids = 80\n",
      "\n",
      "type(Poids)"
     ],
     "language": "python",
     "metadata": {},
     "outputs": [
      {
       "metadata": {},
       "output_type": "pyout",
       "prompt_number": 29,
       "text": [
        "int"
       ]
      }
     ],
     "prompt_number": 29
    },
    {
     "cell_type": "markdown",
     "metadata": {},
     "source": [
      "Nous pouvons utiliser ces deux variables afin de d\u00e9crire Bob.\n",
      "\n",
      "**Nota :** Nous utilisons une concatenation de string, nous devons utiliser la fonction ```str()```. "
     ]
    },
    {
     "cell_type": "code",
     "collapsed": false,
     "input": [
      "str(Poids)"
     ],
     "language": "python",
     "metadata": {},
     "outputs": [
      {
       "metadata": {},
       "output_type": "pyout",
       "prompt_number": 14,
       "text": [
        "'80'"
       ]
      }
     ],
     "prompt_number": 14
    },
    {
     "cell_type": "code",
     "collapsed": false,
     "input": [
      "type(str(Poids))"
     ],
     "language": "python",
     "metadata": {},
     "outputs": [
      {
       "metadata": {},
       "output_type": "pyout",
       "prompt_number": 30,
       "text": [
        "str"
       ]
      }
     ],
     "prompt_number": 30
    },
    {
     "cell_type": "code",
     "collapsed": false,
     "input": [
      "DescriptionDeBob = Name + \" pese \" + str(Poids) + \" kilogrammes\"\n",
      "\n",
      "print DescriptionDeBob"
     ],
     "language": "python",
     "metadata": {},
     "outputs": [
      {
       "output_type": "stream",
       "stream": "stdout",
       "text": [
        "Bob pese 80 kilogrammes\n"
       ]
      }
     ],
     "prompt_number": 24
    },
    {
     "cell_type": "heading",
     "level": 3,
     "metadata": {},
     "source": [
      "Les fonctions"
     ]
    },
    {
     "cell_type": "markdown",
     "metadata": {},
     "source": [
      "Une fonction est un ensemble d'op\u00e9ration permettant de passer d'un ou plusieurs \u00e9l\u00e9ments d'entr\u00e9e \u00e0 g\u00e9n\u00e9ralement un \u00e9l\u00e9ment de sortie."
     ]
    },
    {
     "cell_type": "code",
     "collapsed": false,
     "input": [
      "# Ecrivons une fonction r\u00e9alisant la somme de deux nombres a et b\n",
      "def sum(a,b):\n",
      "    sum = a+b\n",
      "    return sum\n",
      "\n",
      "sum(34,45)"
     ],
     "language": "python",
     "metadata": {},
     "outputs": [
      {
       "metadata": {},
       "output_type": "pyout",
       "prompt_number": 33,
       "text": [
        "79"
       ]
      }
     ],
     "prompt_number": 33
    },
    {
     "cell_type": "markdown",
     "metadata": {},
     "source": [
      "On d\u00e9finit une fonction avec la syntaxe suivante (o\u00f9 arg est l'argument que prend la fonction en entr\u00e9e)"
     ]
    },
    {
     "cell_type": "code",
     "collapsed": false,
     "input": [
      "def function(arg):\n",
      "   resultat = \"suite des operations a realiser\"\n",
      "   return resultat"
     ],
     "language": "python",
     "metadata": {},
     "outputs": [],
     "prompt_number": 35
    },
    {
     "cell_type": "heading",
     "level": 2,
     "metadata": {},
     "source": [
      "Les op\u00e9rateurs"
     ]
    },
    {
     "cell_type": "markdown",
     "metadata": {},
     "source": [
      "\\> strictement sup\u00e9rieur (respectivement < strictement inf\u00e9rieur)"
     ]
    },
    {
     "cell_type": "code",
     "collapsed": false,
     "input": [
      "2 > 3 "
     ],
     "language": "python",
     "metadata": {},
     "outputs": [
      {
       "metadata": {},
       "output_type": "pyout",
       "prompt_number": 47,
       "text": [
        "False"
       ]
      }
     ],
     "prompt_number": 47
    },
    {
     "cell_type": "markdown",
     "metadata": {},
     "source": [
      "\\>= sup\u00e9rieur ou \u00e9gal (respectivement <= inf\u00e9rieur ou \u00e9gal)"
     ]
    },
    {
     "cell_type": "code",
     "collapsed": false,
     "input": [
      "2 >= 2"
     ],
     "language": "python",
     "metadata": {},
     "outputs": [
      {
       "metadata": {},
       "output_type": "pyout",
       "prompt_number": 48,
       "text": [
        "True"
       ]
      }
     ],
     "prompt_number": 48
    },
    {
     "cell_type": "markdown",
     "metadata": {},
     "source": [
      "== \u00e9gale \u00e0"
     ]
    },
    {
     "cell_type": "code",
     "collapsed": false,
     "input": [
      "2 == 2"
     ],
     "language": "python",
     "metadata": {},
     "outputs": [
      {
       "metadata": {},
       "output_type": "pyout",
       "prompt_number": 49,
       "text": [
        "True"
       ]
      }
     ],
     "prompt_number": 49
    },
    {
     "cell_type": "markdown",
     "metadata": {},
     "source": [
      "!= diff\u00e9rent de"
     ]
    },
    {
     "cell_type": "code",
     "collapsed": false,
     "input": [
      "2 != 2"
     ],
     "language": "python",
     "metadata": {},
     "outputs": [
      {
       "metadata": {},
       "output_type": "pyout",
       "prompt_number": 50,
       "text": [
        "False"
       ]
      }
     ],
     "prompt_number": 50
    },
    {
     "cell_type": "markdown",
     "metadata": {},
     "source": [
      "OR et AND"
     ]
    },
    {
     "cell_type": "code",
     "collapsed": false,
     "input": [
      "(2 != 2) |(2 != 3)"
     ],
     "language": "python",
     "metadata": {},
     "outputs": [
      {
       "metadata": {},
       "output_type": "pyout",
       "prompt_number": 23,
       "text": [
        "True"
       ]
      }
     ],
     "prompt_number": 23
    },
    {
     "cell_type": "code",
     "collapsed": false,
     "input": [
      "(2!=2) & (2!=4)"
     ],
     "language": "python",
     "metadata": {},
     "outputs": [
      {
       "metadata": {},
       "output_type": "pyout",
       "prompt_number": 26,
       "text": [
        "False"
       ]
      }
     ],
     "prompt_number": 26
    },
    {
     "cell_type": "code",
     "collapsed": false,
     "input": [],
     "language": "python",
     "metadata": {},
     "outputs": []
    }
   ],
   "metadata": {}
  }
 ]
}