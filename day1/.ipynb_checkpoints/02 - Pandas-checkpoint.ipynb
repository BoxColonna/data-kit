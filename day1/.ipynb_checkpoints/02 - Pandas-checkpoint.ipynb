{
 "metadata": {
  "name": ""
 },
 "nbformat": 3,
 "nbformat_minor": 0,
 "worksheets": [
  {
   "cells": [
    {
     "cell_type": "heading",
     "level": 1,
     "metadata": {},
     "source": [
      "Introduction \u00e0 Pandas "
     ]
    },
    {
     "cell_type": "markdown",
     "metadata": {},
     "source": [
      "Pandas est une librairie d\u00e9velopp\u00e9e par Wes McKinney en 2008. \n",
      "\n",
      "Pandas \u00e9tend les fonctions de NumPy et rend la manipulation de donn\u00e9es plus ais\u00e9e. \n",
      "\n",
      "Par convention, on importera pandas sous \n"
     ]
    },
    {
     "cell_type": "code",
     "collapsed": false,
     "input": [
      "import pandas as pd\n",
      "from pandas import Series"
     ],
     "language": "python",
     "metadata": {},
     "outputs": [],
     "prompt_number": 47
    },
    {
     "cell_type": "heading",
     "level": 2,
     "metadata": {},
     "source": [
      "Pandas Data Structures "
     ]
    },
    {
     "cell_type": "markdown",
     "metadata": {},
     "source": [
      "Pandas repose sur deux data structures cl\u00e9s : les S\u00e9ries et les DataFrame"
     ]
    },
    {
     "cell_type": "heading",
     "level": 3,
     "metadata": {},
     "source": [
      "Series"
     ]
    },
    {
     "cell_type": "markdown",
     "metadata": {},
     "source": [
      "Les ***Series*** sont des tableaux **index\u00e9s**, \u00e0 **une dimension**, d'\u00e9l\u00e9ments de plusieurs types :"
     ]
    },
    {
     "cell_type": "code",
     "collapsed": false,
     "input": [
      "ser = Series([1,-2,3,\"a\"])\n",
      "\n",
      "print ser"
     ],
     "language": "python",
     "metadata": {},
     "outputs": [
      {
       "output_type": "stream",
       "stream": "stdout",
       "text": [
        "0     1\n",
        "1    -2\n",
        "2     3\n",
        "3     a\n",
        "dtype: object\n"
       ]
      }
     ],
     "prompt_number": 10
    },
    {
     "cell_type": "markdown",
     "metadata": {},
     "source": [
      "Les Series disposent par d\u00e9faut d'un index :"
     ]
    },
    {
     "cell_type": "code",
     "collapsed": false,
     "input": [
      "# Ressortir les index d'une s\u00e9rie\n",
      "\n",
      "print ser.index\n",
      "\n",
      "# Ressortir les valeurs d'une s\u00e9rie\n",
      "\n",
      "print ser.values"
     ],
     "language": "python",
     "metadata": {},
     "outputs": [
      {
       "output_type": "stream",
       "stream": "stdout",
       "text": [
        "Int64Index([0, 1, 2, 3], dtype=int64)\n",
        "[1 -2 3 'a']\n"
       ]
      }
     ],
     "prompt_number": 14
    },
    {
     "cell_type": "markdown",
     "metadata": {},
     "source": [
      "Pandas \u00e9tant construit \u00e0 partir de NumPy, les Series conservent les propri\u00e9t\u00e9s du ndarray de NumPy :"
     ]
    },
    {
     "cell_type": "code",
     "collapsed": false,
     "input": [
      "# Conservation des op\u00e9rations \n",
      "\n",
      "print ser * 2\n",
      "\n",
      "# Conservation de l'indexing\n",
      "\n",
      "print ser[ser > 0]"
     ],
     "language": "python",
     "metadata": {},
     "outputs": [
      {
       "output_type": "stream",
       "stream": "stdout",
       "text": [
        "0     2\n",
        "1    -4\n",
        "2     6\n",
        "3    aa\n",
        "dtype: object\n",
        "0    1\n",
        "2    3\n",
        "3    a\n",
        "dtype: object\n"
       ]
      }
     ],
     "prompt_number": 21
    },
    {
     "cell_type": "markdown",
     "metadata": {},
     "source": [
      "Il est possible de cr\u00e9er une S\u00e9rie \u00e0 partir d'un dictionnaire Python : "
     ]
    },
    {
     "cell_type": "code",
     "collapsed": false,
     "input": [
      "villes = {\"Paris\":212, \"Marseille\":80, \"Lyon\":44, \"Toulouse\":39} \n",
      "\n",
      "ser_villes = Series(villes)\n",
      "\n",
      "print ser_villes"
     ],
     "language": "python",
     "metadata": {},
     "outputs": [
      {
       "output_type": "stream",
       "stream": "stdout",
       "text": [
        "Lyon          44\n",
        "Marseille     80\n",
        "Paris        212\n",
        "Toulouse      39\n",
        "dtype: int64\n"
       ]
      }
     ],
     "prompt_number": 36
    },
    {
     "cell_type": "markdown",
     "metadata": {},
     "source": [
      "Il est possible de modifier les index d'une s\u00e9rie en utilisant une assignation :"
     ]
    },
    {
     "cell_type": "code",
     "collapsed": false,
     "input": [
      "# La modification d'index peut \u00eatre utile \n",
      "\n",
      "zip = ['75','13','69','31']\n",
      "\n",
      "ser_villes.index = zip\n",
      "\n",
      "print ser_villes['75']"
     ],
     "language": "python",
     "metadata": {},
     "outputs": [
      {
       "output_type": "stream",
       "stream": "stdout",
       "text": [
        "44\n"
       ]
      }
     ],
     "prompt_number": 45
    },
    {
     "cell_type": "heading",
     "level": 3,
     "metadata": {},
     "source": [
      "DataFrames"
     ]
    },
    {
     "cell_type": "markdown",
     "metadata": {},
     "source": [
      "Les **DataFrame** sont des structures donn\u00e9es qui contiennent plusieurs colonnes. \n",
      "\n",
      "Comme les Series, celles-ci peuvent contenir plusieurs types de donn\u00e9es. "
     ]
    },
    {
     "cell_type": "code",
     "collapsed": false,
     "input": [
      "from pandas import DataFrame"
     ],
     "language": "python",
     "metadata": {},
     "outputs": [],
     "prompt_number": 49
    },
    {
     "cell_type": "markdown",
     "metadata": {},
     "source": [
      "On peut cr\u00e9er un DataFrame \u00e0 partir d'un dictionnaire de liste : "
     ]
    },
    {
     "cell_type": "code",
     "collapsed": false,
     "input": [
      "villes = {'nom':[\"Paris\",\"Marseille\",\"Lyon\",\"Toulouse\"],\n",
      "          'population':[212,80,44,39],\n",
      "          'zip':[\"75\",\"13\",\"69\",\"31\"]}\n",
      "\n",
      "print villes\n",
      "\n",
      "villes_df = DataFrame(villes) \n",
      "\n",
      "print villes_df"
     ],
     "language": "python",
     "metadata": {},
     "outputs": [
      {
       "output_type": "stream",
       "stream": "stdout",
       "text": [
        "{'nom': ['Paris', 'Marseille', 'Lyon', 'Toulouse'], 'zip': ['75', '13', '69', '31'], 'population': [212, 80, 44, 39]}\n",
        "         nom  population zip\n",
        "0      Paris         212  75\n",
        "1  Marseille          80  13\n",
        "2       Lyon          44  69\n",
        "3   Toulouse          39  31\n"
       ]
      }
     ],
     "prompt_number": 55
    },
    {
     "cell_type": "code",
     "collapsed": false,
     "input": [],
     "language": "python",
     "metadata": {},
     "outputs": []
    }
   ],
   "metadata": {}
  }
 ]
}