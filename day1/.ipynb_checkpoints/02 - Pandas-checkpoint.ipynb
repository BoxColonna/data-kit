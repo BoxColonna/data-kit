{
 "metadata": {
  "name": ""
 },
 "nbformat": 3,
 "nbformat_minor": 0,
 "worksheets": [
  {
   "cells": [
    {
     "cell_type": "heading",
     "level": 1,
     "metadata": {},
     "source": [
      "Introduction \u00e0 Pandas "
     ]
    },
    {
     "cell_type": "markdown",
     "metadata": {},
     "source": [
      "Pandas est une librairie d\u00e9velopp\u00e9e par Wes McKinney en 2008. \n",
      "\n",
      "Pandas \u00e9tend les fonctions de NumPy et rend la manipulation de donn\u00e9es plus ais\u00e9e. \n",
      "\n",
      "Par convention, on importera pandas sous \n"
     ]
    },
    {
     "cell_type": "code",
     "collapsed": false,
     "input": [
      "import pandas as pd\n",
      "import numpy as np\n",
      "from pandas import Series"
     ],
     "language": "python",
     "metadata": {},
     "outputs": [],
     "prompt_number": 4
    },
    {
     "cell_type": "heading",
     "level": 2,
     "metadata": {},
     "source": [
      "Pandas Data Structures "
     ]
    },
    {
     "cell_type": "markdown",
     "metadata": {},
     "source": [
      "Pandas repose sur deux data structures cl\u00e9s : les S\u00e9ries et les DataFrame"
     ]
    },
    {
     "cell_type": "heading",
     "level": 3,
     "metadata": {},
     "source": [
      "Series"
     ]
    },
    {
     "cell_type": "markdown",
     "metadata": {},
     "source": [
      "Les ***Series*** sont des tableaux **index\u00e9s**, \u00e0 **une dimension**, d'\u00e9l\u00e9ments de plusieurs types :"
     ]
    },
    {
     "cell_type": "code",
     "collapsed": false,
     "input": [
      "ser = Series([1,-2,3,\"a\"])\n",
      "\n",
      "print ser"
     ],
     "language": "python",
     "metadata": {},
     "outputs": [
      {
       "output_type": "stream",
       "stream": "stdout",
       "text": [
        "0     1\n",
        "1    -2\n",
        "2     3\n",
        "3     a\n",
        "dtype: object\n"
       ]
      }
     ],
     "prompt_number": 10
    },
    {
     "cell_type": "markdown",
     "metadata": {},
     "source": [
      "Les Series disposent par d\u00e9faut d'un index :"
     ]
    },
    {
     "cell_type": "code",
     "collapsed": false,
     "input": [
      "# Ressortir les index d'une s\u00e9rie\n",
      "\n",
      "print ser.index\n",
      "\n",
      "# Ressortir les valeurs d'une s\u00e9rie\n",
      "\n",
      "print ser.values"
     ],
     "language": "python",
     "metadata": {},
     "outputs": [
      {
       "output_type": "stream",
       "stream": "stdout",
       "text": [
        "Int64Index([0, 1, 2, 3], dtype=int64)\n",
        "[1 -2 3 'a']\n"
       ]
      }
     ],
     "prompt_number": 14
    },
    {
     "cell_type": "markdown",
     "metadata": {},
     "source": [
      "Pandas \u00e9tant construit \u00e0 partir de NumPy, les Series conservent les propri\u00e9t\u00e9s du ndarray de NumPy :"
     ]
    },
    {
     "cell_type": "code",
     "collapsed": false,
     "input": [
      "# Conservation des op\u00e9rations \n",
      "\n",
      "print ser * 2\n",
      "\n",
      "# Conservation de l'indexing\n",
      "\n",
      "print ser[ser > 0]"
     ],
     "language": "python",
     "metadata": {},
     "outputs": [
      {
       "output_type": "stream",
       "stream": "stdout",
       "text": [
        "0     2\n",
        "1    -4\n",
        "2     6\n",
        "3    aa\n",
        "dtype: object\n",
        "0    1\n",
        "2    3\n",
        "3    a\n",
        "dtype: object\n"
       ]
      }
     ],
     "prompt_number": 21
    },
    {
     "cell_type": "markdown",
     "metadata": {},
     "source": [
      "Il est possible de cr\u00e9er une S\u00e9rie \u00e0 partir d'un dictionnaire Python : "
     ]
    },
    {
     "cell_type": "code",
     "collapsed": false,
     "input": [
      "villes = {\"Paris\":212, \"Marseille\":80, \"Lyon\":44, \"Toulouse\":39} \n",
      "\n",
      "ser_villes = Series(villes)\n",
      "\n",
      "print ser_villes"
     ],
     "language": "python",
     "metadata": {},
     "outputs": [
      {
       "output_type": "stream",
       "stream": "stdout",
       "text": [
        "Lyon          44\n",
        "Marseille     80\n",
        "Paris        212\n",
        "Toulouse      39\n",
        "dtype: int64\n"
       ]
      }
     ],
     "prompt_number": 5
    },
    {
     "cell_type": "markdown",
     "metadata": {},
     "source": [
      "Il est possible de modifier les index d'une s\u00e9rie en utilisant une assignation :"
     ]
    },
    {
     "cell_type": "code",
     "collapsed": false,
     "input": [
      "# La modification d'index peut \u00eatre utile \n",
      "\n",
      "zip = ['75','13','69','31']\n",
      "\n",
      "ser_villes.index = zip\n",
      "\n",
      "print ser_villes['75']"
     ],
     "language": "python",
     "metadata": {},
     "outputs": [
      {
       "output_type": "stream",
       "stream": "stdout",
       "text": [
        "44\n"
       ]
      }
     ],
     "prompt_number": 45
    },
    {
     "cell_type": "heading",
     "level": 3,
     "metadata": {},
     "source": [
      "DataFrames"
     ]
    },
    {
     "cell_type": "markdown",
     "metadata": {},
     "source": [
      "Les **DataFrame** sont des structures donn\u00e9es qui contiennent plusieurs colonnes. \n",
      "\n",
      "Comme les Series, celles-ci peuvent contenir plusieurs types de donn\u00e9es. "
     ]
    },
    {
     "cell_type": "code",
     "collapsed": false,
     "input": [
      "from pandas import DataFrame"
     ],
     "language": "python",
     "metadata": {},
     "outputs": [],
     "prompt_number": 8
    },
    {
     "cell_type": "markdown",
     "metadata": {},
     "source": [
      "On peut cr\u00e9er un DataFrame \u00e0 partir d'un dictionnaire de liste : "
     ]
    },
    {
     "cell_type": "code",
     "collapsed": false,
     "input": [
      "villes = {'nom':[\"Paris\",\"Marseille\",\"Lyon\",\"Toulouse\"],\n",
      "          'population':[212,80,44,39],\n",
      "          'zip':[\"75\",\"13\",\"69\",\"31\"]}\n",
      "\n",
      "print villes\n",
      "\n",
      "villes_df = DataFrame(villes) \n",
      "\n",
      "print villes_df"
     ],
     "language": "python",
     "metadata": {},
     "outputs": [
      {
       "output_type": "stream",
       "stream": "stdout",
       "text": [
        "{'nom': ['Paris', 'Marseille', 'Lyon', 'Toulouse'], 'zip': ['75', '13', '69', '31'], 'population': [212, 80, 44, 39]}\n",
        "         nom  population zip\n",
        "0      Paris         212  75\n",
        "1  Marseille          80  13\n",
        "2       Lyon          44  69\n",
        "3   Toulouse          39  31\n"
       ]
      }
     ],
     "prompt_number": 15
    },
    {
     "cell_type": "markdown",
     "metadata": {},
     "source": [
      "A la cr\u00e9ation, on peut sp\u00e9cifier l'ordre des colonnes ainsi que les index \u00e0 utiliser : "
     ]
    },
    {
     "cell_type": "code",
     "collapsed": false,
     "input": [
      "villes_df = DataFrame(villes, columns=['nom','population'],\n",
      "                      index = [1,2,3,4])\n",
      "\n",
      "print villes_df"
     ],
     "language": "python",
     "metadata": {},
     "outputs": [
      {
       "output_type": "stream",
       "stream": "stdout",
       "text": [
        "         nom  population\n",
        "1      Paris         212\n",
        "2  Marseille          80\n",
        "3       Lyon          44\n",
        "4   Toulouse          39\n"
       ]
      }
     ],
     "prompt_number": 11
    },
    {
     "cell_type": "markdown",
     "metadata": {},
     "source": [
      "Bas\u00e9 sur NumPy, on conserve donc les propri\u00e9t\u00e9s de s\u00e9lection : "
     ]
    },
    {
     "cell_type": "code",
     "collapsed": false,
     "input": [
      "# On s\u00e9lectionne une colonne de deux mani\u00e8res : \n",
      "\n",
      "print villes_df['nom']\n",
      "print villes_df.nom\n",
      "\n",
      "# On s\u00e9lectionne une ligne en utilisant la m\u00e9thode ix[index] :\n",
      "\n",
      "print villes_df.ix[3]"
     ],
     "language": "python",
     "metadata": {},
     "outputs": [
      {
       "output_type": "stream",
       "stream": "stdout",
       "text": [
        "1        Paris\n",
        "2    Marseille\n",
        "3         Lyon\n",
        "4     Toulouse\n",
        "Name: nom, dtype: object\n",
        "1        Paris\n",
        "2    Marseille\n",
        "3         Lyon\n",
        "4     Toulouse\n",
        "Name: nom, dtype: object\n",
        "nom           Lyon\n",
        "population      44\n",
        "Name: 3, dtype: object\n"
       ]
      }
     ],
     "prompt_number": 12
    },
    {
     "cell_type": "markdown",
     "metadata": {},
     "source": [
      "L'assignation fonctionne sous la m\u00eame logique que sous NumPy (vous commencez \u00e0 comprendre !) :"
     ]
    },
    {
     "cell_type": "code",
     "collapsed": false,
     "input": [
      "villes_df['dette'] = np.arange(1,5)*1000\n",
      "\n",
      "villes_df "
     ],
     "language": "python",
     "metadata": {},
     "outputs": [
      {
       "html": [
        "<div style=\"max-height:1000px;max-width:1500px;overflow:auto;\">\n",
        "<table border=\"1\" class=\"dataframe\">\n",
        "  <thead>\n",
        "    <tr style=\"text-align: right;\">\n",
        "      <th></th>\n",
        "      <th>nom</th>\n",
        "      <th>population</th>\n",
        "      <th>dette</th>\n",
        "    </tr>\n",
        "  </thead>\n",
        "  <tbody>\n",
        "    <tr>\n",
        "      <th>1</th>\n",
        "      <td>     Paris</td>\n",
        "      <td> 212</td>\n",
        "      <td> 1000</td>\n",
        "    </tr>\n",
        "    <tr>\n",
        "      <th>2</th>\n",
        "      <td> Marseille</td>\n",
        "      <td>  80</td>\n",
        "      <td> 2000</td>\n",
        "    </tr>\n",
        "    <tr>\n",
        "      <th>3</th>\n",
        "      <td>      Lyon</td>\n",
        "      <td>  44</td>\n",
        "      <td> 3000</td>\n",
        "    </tr>\n",
        "    <tr>\n",
        "      <th>4</th>\n",
        "      <td>  Toulouse</td>\n",
        "      <td>  39</td>\n",
        "      <td> 4000</td>\n",
        "    </tr>\n",
        "  </tbody>\n",
        "</table>\n",
        "</div>"
       ],
       "metadata": {},
       "output_type": "pyout",
       "prompt_number": 13,
       "text": [
        "         nom  population  dette\n",
        "1      Paris         212   1000\n",
        "2  Marseille          80   2000\n",
        "3       Lyon          44   3000\n",
        "4   Toulouse          39   4000"
       ]
      }
     ],
     "prompt_number": 13
    },
    {
     "cell_type": "markdown",
     "metadata": {},
     "source": []
    },
    {
     "cell_type": "heading",
     "level": 2,
     "metadata": {},
     "source": [
      "Fonctions de base "
     ]
    },
    {
     "cell_type": "markdown",
     "metadata": {},
     "source": [
      "Pandas offre un set de fonctions basiques qui facilitent grandement le traitement de donn\u00e9es. En voici quelques unes : "
     ]
    },
    {
     "cell_type": "heading",
     "level": 3,
     "metadata": {},
     "source": [
      "Reindexing"
     ]
    },
    {
     "cell_type": "markdown",
     "metadata": {},
     "source": [
      "Le **Reindexing** permet de modifier un dataframe conform\u00e9ment \u00e0 un nouvel index : "
     ]
    },
    {
     "cell_type": "code",
     "collapsed": false,
     "input": [
      "# On cr\u00e9e ici un nouveau DataFrame villes_df2 bas\u00e9 sur villes_df, mais sur un index diff\u00e9rent\n",
      "\n",
      "villes_df.reindex([1,3,5])"
     ],
     "language": "python",
     "metadata": {},
     "outputs": [
      {
       "html": [
        "<div style=\"max-height:1000px;max-width:1500px;overflow:auto;\">\n",
        "<table border=\"1\" class=\"dataframe\">\n",
        "  <thead>\n",
        "    <tr style=\"text-align: right;\">\n",
        "      <th></th>\n",
        "      <th>nom</th>\n",
        "      <th>population</th>\n",
        "      <th>zip</th>\n",
        "    </tr>\n",
        "  </thead>\n",
        "  <tbody>\n",
        "    <tr>\n",
        "      <th>1</th>\n",
        "      <td> Marseille</td>\n",
        "      <td> 80</td>\n",
        "      <td>  13</td>\n",
        "    </tr>\n",
        "    <tr>\n",
        "      <th>3</th>\n",
        "      <td>  Toulouse</td>\n",
        "      <td> 39</td>\n",
        "      <td>  31</td>\n",
        "    </tr>\n",
        "    <tr>\n",
        "      <th>5</th>\n",
        "      <td>       NaN</td>\n",
        "      <td>NaN</td>\n",
        "      <td> NaN</td>\n",
        "    </tr>\n",
        "  </tbody>\n",
        "</table>\n",
        "</div>"
       ],
       "metadata": {},
       "output_type": "pyout",
       "prompt_number": 21,
       "text": [
        "         nom  population  zip\n",
        "1  Marseille          80   13\n",
        "3   Toulouse          39   31\n",
        "5        NaN         NaN  NaN"
       ]
      }
     ],
     "prompt_number": 21
    },
    {
     "cell_type": "markdown",
     "metadata": {},
     "source": [
      "Un index n'existe pas dans notre nouvel objet (il s'agit de l'index #5). Pandas cr\u00e9e des valeurs NaN (Not a Number) pour ces valeurs.\n",
      "\n",
      "Nous pouvons remplacer ces valeurs, par des valeurs nulles par exemple, en utilisant la m\u00e9thode ***fill_value***"
     ]
    },
    {
     "cell_type": "code",
     "collapsed": false,
     "input": [
      "# Rempla\u00e7ons les valeurs NaN par des 0\n",
      "\n",
      "villes_df.reindex([1,3,5], fill_value=0)"
     ],
     "language": "python",
     "metadata": {},
     "outputs": [
      {
       "html": [
        "<div style=\"max-height:1000px;max-width:1500px;overflow:auto;\">\n",
        "<table border=\"1\" class=\"dataframe\">\n",
        "  <thead>\n",
        "    <tr style=\"text-align: right;\">\n",
        "      <th></th>\n",
        "      <th>nom</th>\n",
        "      <th>population</th>\n",
        "      <th>zip</th>\n",
        "    </tr>\n",
        "  </thead>\n",
        "  <tbody>\n",
        "    <tr>\n",
        "      <th>1</th>\n",
        "      <td> Marseille</td>\n",
        "      <td> 80</td>\n",
        "      <td> 13</td>\n",
        "    </tr>\n",
        "    <tr>\n",
        "      <th>3</th>\n",
        "      <td>  Toulouse</td>\n",
        "      <td> 39</td>\n",
        "      <td> 31</td>\n",
        "    </tr>\n",
        "    <tr>\n",
        "      <th>5</th>\n",
        "      <td>         0</td>\n",
        "      <td>  0</td>\n",
        "      <td>  0</td>\n",
        "    </tr>\n",
        "  </tbody>\n",
        "</table>\n",
        "</div>"
       ],
       "metadata": {},
       "output_type": "pyout",
       "prompt_number": 22,
       "text": [
        "         nom  population zip\n",
        "1  Marseille          80  13\n",
        "3   Toulouse          39  31\n",
        "5          0           0   0"
       ]
      }
     ],
     "prompt_number": 22
    },
    {
     "cell_type": "heading",
     "level": 3,
     "metadata": {},
     "source": [
      "Supprimer des \u00e9l\u00e9ments"
     ]
    },
    {
     "cell_type": "markdown",
     "metadata": {},
     "source": [
      "La m\u00e9thode **drop** permet de supprimer des \u00e9l\u00e9ments \u00e0 partir des index (axis = 0) ou \u00e0 partir des colonnes (axis = 1)"
     ]
    },
    {
     "cell_type": "code",
     "collapsed": false,
     "input": [
      "print villes_df\n",
      "\n",
      "# Les index correspondent aux lignes d'un DataFrame (axis = 0)\n",
      "\n",
      "print villes_df.index\n",
      "\n",
      "# Les columns correspondent aux colonnes d'un DataFrame (axis = 1)\n",
      "\n",
      "print villes_df.columns"
     ],
     "language": "python",
     "metadata": {},
     "outputs": [
      {
       "output_type": "stream",
       "stream": "stdout",
       "text": [
        "         nom  population zip\n",
        "0      Paris         212  75\n",
        "1  Marseille          80  13\n",
        "2       Lyon          44  69\n",
        "3   Toulouse          39  31\n",
        "Int64Index([0, 1, 2, 3], dtype=int64)\n",
        "Index([u'nom', u'population', u'zip'], dtype=object)\n"
       ]
      }
     ],
     "prompt_number": 39
    },
    {
     "cell_type": "code",
     "collapsed": false,
     "input": [
      "# Supprimer la ligne correspondant \u00e0 l'index 2 (ici Lyon)\n",
      "\n",
      "villes_df.drop(2, axis=0)"
     ],
     "language": "python",
     "metadata": {},
     "outputs": [
      {
       "html": [
        "<div style=\"max-height:1000px;max-width:1500px;overflow:auto;\">\n",
        "<table border=\"1\" class=\"dataframe\">\n",
        "  <thead>\n",
        "    <tr style=\"text-align: right;\">\n",
        "      <th></th>\n",
        "      <th>nom</th>\n",
        "      <th>population</th>\n",
        "      <th>zip</th>\n",
        "    </tr>\n",
        "  </thead>\n",
        "  <tbody>\n",
        "    <tr>\n",
        "      <th>0</th>\n",
        "      <td>     Paris</td>\n",
        "      <td> 212</td>\n",
        "      <td> 75</td>\n",
        "    </tr>\n",
        "    <tr>\n",
        "      <th>1</th>\n",
        "      <td> Marseille</td>\n",
        "      <td>  80</td>\n",
        "      <td> 13</td>\n",
        "    </tr>\n",
        "    <tr>\n",
        "      <th>3</th>\n",
        "      <td>  Toulouse</td>\n",
        "      <td>  39</td>\n",
        "      <td> 31</td>\n",
        "    </tr>\n",
        "  </tbody>\n",
        "</table>\n",
        "</div>"
       ],
       "metadata": {},
       "output_type": "pyout",
       "prompt_number": 41,
       "text": [
        "         nom  population zip\n",
        "0      Paris         212  75\n",
        "1  Marseille          80  13\n",
        "3   Toulouse          39  31"
       ]
      }
     ],
     "prompt_number": 41
    },
    {
     "cell_type": "code",
     "collapsed": false,
     "input": [
      "# Supprimer la colonne correspondant \u00e0 la colonne 'zip' \n",
      "\n",
      "villes_df.drop('zip',axis=1)"
     ],
     "language": "python",
     "metadata": {},
     "outputs": [
      {
       "html": [
        "<div style=\"max-height:1000px;max-width:1500px;overflow:auto;\">\n",
        "<table border=\"1\" class=\"dataframe\">\n",
        "  <thead>\n",
        "    <tr style=\"text-align: right;\">\n",
        "      <th></th>\n",
        "      <th>nom</th>\n",
        "      <th>population</th>\n",
        "    </tr>\n",
        "  </thead>\n",
        "  <tbody>\n",
        "    <tr>\n",
        "      <th>0</th>\n",
        "      <td>     Paris</td>\n",
        "      <td> 212</td>\n",
        "    </tr>\n",
        "    <tr>\n",
        "      <th>1</th>\n",
        "      <td> Marseille</td>\n",
        "      <td>  80</td>\n",
        "    </tr>\n",
        "    <tr>\n",
        "      <th>2</th>\n",
        "      <td>      Lyon</td>\n",
        "      <td>  44</td>\n",
        "    </tr>\n",
        "    <tr>\n",
        "      <th>3</th>\n",
        "      <td>  Toulouse</td>\n",
        "      <td>  39</td>\n",
        "    </tr>\n",
        "  </tbody>\n",
        "</table>\n",
        "</div>"
       ],
       "metadata": {},
       "output_type": "pyout",
       "prompt_number": 42,
       "text": [
        "         nom  population\n",
        "0      Paris         212\n",
        "1  Marseille          80\n",
        "2       Lyon          44\n",
        "3   Toulouse          39"
       ]
      }
     ],
     "prompt_number": 42
    },
    {
     "cell_type": "heading",
     "level": 3,
     "metadata": {},
     "source": [
      "S\u00e9lectionner et filtrer "
     ]
    },
    {
     "cell_type": "code",
     "collapsed": false,
     "input": [
      "villes_df[['nom]]"
     ],
     "language": "python",
     "metadata": {},
     "outputs": [
      {
       "html": [
        "<div style=\"max-height:1000px;max-width:1500px;overflow:auto;\">\n",
        "<table border=\"1\" class=\"dataframe\">\n",
        "  <thead>\n",
        "    <tr style=\"text-align: right;\">\n",
        "      <th></th>\n",
        "      <th>nom</th>\n",
        "      <th>population</th>\n",
        "    </tr>\n",
        "  </thead>\n",
        "  <tbody>\n",
        "    <tr>\n",
        "      <th>0</th>\n",
        "      <td>     Paris</td>\n",
        "      <td> 212</td>\n",
        "    </tr>\n",
        "    <tr>\n",
        "      <th>1</th>\n",
        "      <td> Marseille</td>\n",
        "      <td>  80</td>\n",
        "    </tr>\n",
        "    <tr>\n",
        "      <th>2</th>\n",
        "      <td>      Lyon</td>\n",
        "      <td>  44</td>\n",
        "    </tr>\n",
        "    <tr>\n",
        "      <th>3</th>\n",
        "      <td>  Toulouse</td>\n",
        "      <td>  39</td>\n",
        "    </tr>\n",
        "  </tbody>\n",
        "</table>\n",
        "</div>"
       ],
       "metadata": {},
       "output_type": "pyout",
       "prompt_number": 48,
       "text": [
        "         nom  population\n",
        "0      Paris         212\n",
        "1  Marseille          80\n",
        "2       Lyon          44\n",
        "3   Toulouse          39"
       ]
      }
     ],
     "prompt_number": 48
    },
    {
     "cell_type": "code",
     "collapsed": false,
     "input": [],
     "language": "python",
     "metadata": {},
     "outputs": []
    }
   ],
   "metadata": {}
  }
 ]
}