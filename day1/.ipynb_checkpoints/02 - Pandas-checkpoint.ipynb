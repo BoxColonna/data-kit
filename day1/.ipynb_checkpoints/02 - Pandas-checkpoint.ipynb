{
 "metadata": {
  "name": ""
 },
 "nbformat": 3,
 "nbformat_minor": 0,
 "worksheets": [
  {
   "cells": [
    {
     "cell_type": "heading",
     "level": 1,
     "metadata": {},
     "source": [
      "Introduction \u00e0 Pandas "
     ]
    },
    {
     "cell_type": "markdown",
     "metadata": {},
     "source": [
      "Pandas est une librairie d\u00e9velopp\u00e9e par Wes McKinney en 2008. \n",
      "\n",
      "Pandas \u00e9tend les fonctions de NumPy et rend la manipulation de donn\u00e9es plus ais\u00e9e. \n",
      "\n",
      "Par convention, on importera pandas sous \n"
     ]
    },
    {
     "cell_type": "code",
     "collapsed": false,
     "input": [
      "import pandas as pd\n",
      "from pandas import Series, DataFrame"
     ],
     "language": "python",
     "metadata": {},
     "outputs": [],
     "prompt_number": 6
    },
    {
     "cell_type": "heading",
     "level": 2,
     "metadata": {},
     "source": [
      "Pandas Data Structures "
     ]
    },
    {
     "cell_type": "markdown",
     "metadata": {},
     "source": [
      "Pandas repose sur deux data structures cl\u00e9s : les S\u00e9ries et les DataFrame"
     ]
    },
    {
     "cell_type": "heading",
     "level": 3,
     "metadata": {},
     "source": [
      "Series"
     ]
    },
    {
     "cell_type": "markdown",
     "metadata": {},
     "source": [
      "Les ***Series*** sont des tableaux **index\u00e9s**, \u00e0 **une dimension**, d'\u00e9l\u00e9ments de plusieurs types :"
     ]
    },
    {
     "cell_type": "code",
     "collapsed": false,
     "input": [
      "ser = Series([1,-2,3,\"a\"])\n",
      "\n",
      "print ser"
     ],
     "language": "python",
     "metadata": {},
     "outputs": [
      {
       "output_type": "stream",
       "stream": "stdout",
       "text": [
        "0     1\n",
        "1    -2\n",
        "2     3\n",
        "3     a\n",
        "dtype: object\n"
       ]
      }
     ],
     "prompt_number": 10
    },
    {
     "cell_type": "markdown",
     "metadata": {},
     "source": [
      "Les Series disposent par d\u00e9faut d'un index :"
     ]
    },
    {
     "cell_type": "code",
     "collapsed": false,
     "input": [
      "# Ressortir les index d'une s\u00e9rie\n",
      "\n",
      "print ser.index\n",
      "\n",
      "# Ressortir les valeurs d'une s\u00e9rie\n",
      "\n",
      "print ser.values"
     ],
     "language": "python",
     "metadata": {},
     "outputs": [
      {
       "output_type": "stream",
       "stream": "stdout",
       "text": [
        "Int64Index([0, 1, 2, 3], dtype=int64)\n",
        "[1 -2 3 'a']\n"
       ]
      }
     ],
     "prompt_number": 14
    },
    {
     "cell_type": "code",
     "collapsed": false,
     "input": [],
     "language": "python",
     "metadata": {},
     "outputs": []
    }
   ],
   "metadata": {}
  }
 ]
}