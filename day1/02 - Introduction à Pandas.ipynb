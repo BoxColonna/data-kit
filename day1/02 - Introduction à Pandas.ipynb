{
 "metadata": {
  "name": ""
 },
 "nbformat": 3,
 "nbformat_minor": 0,
 "worksheets": [
  {
   "cells": [
    {
     "cell_type": "heading",
     "level": 1,
     "metadata": {},
     "source": [
      "Introduction \u00e0 Pandas "
     ]
    },
    {
     "cell_type": "markdown",
     "metadata": {},
     "source": [
      "Pandas est une librairie d\u00e9velopp\u00e9e par Wes McKinney en 2008. \n",
      "\n",
      "Pandas \u00e9tend les fonctions de NumPy et rend la manipulation de donn\u00e9es plus ais\u00e9e. \n",
      "\n",
      "Par convention, on importera pandas sous \n"
     ]
    },
    {
     "cell_type": "code",
     "collapsed": false,
     "input": [
      "import pandas as pd\n",
      "import numpy as np\n",
      "from pandas import Series"
     ],
     "language": "python",
     "metadata": {},
     "outputs": [],
     "prompt_number": 1
    },
    {
     "cell_type": "heading",
     "level": 2,
     "metadata": {},
     "source": [
      "Pandas Data Structures "
     ]
    },
    {
     "cell_type": "markdown",
     "metadata": {},
     "source": [
      "Pandas repose sur deux data structures cl\u00e9s : les S\u00e9ries et les DataFrame"
     ]
    },
    {
     "cell_type": "heading",
     "level": 3,
     "metadata": {},
     "source": [
      "Series"
     ]
    },
    {
     "cell_type": "markdown",
     "metadata": {},
     "source": [
      "Les ***Series*** sont des tableaux **index\u00e9s**, \u00e0 **une dimension**, d'\u00e9l\u00e9ments de plusieurs types :"
     ]
    },
    {
     "cell_type": "code",
     "collapsed": false,
     "input": [
      "ser = Series([1,-2,3,\"a\"])\n",
      "\n",
      "print ser"
     ],
     "language": "python",
     "metadata": {},
     "outputs": [
      {
       "output_type": "stream",
       "stream": "stdout",
       "text": [
        "0     1\n",
        "1    -2\n",
        "2     3\n",
        "3     a\n",
        "dtype: object\n"
       ]
      }
     ],
     "prompt_number": 2
    },
    {
     "cell_type": "markdown",
     "metadata": {},
     "source": [
      "Les Series disposent par d\u00e9faut d'un index :"
     ]
    },
    {
     "cell_type": "code",
     "collapsed": false,
     "input": [
      "# Ressortir les index d'une s\u00e9rie\n",
      "\n",
      "print ser.index\n",
      "\n",
      "# Ressortir les valeurs d'une s\u00e9rie\n",
      "\n",
      "print ser.values"
     ],
     "language": "python",
     "metadata": {},
     "outputs": [
      {
       "output_type": "stream",
       "stream": "stdout",
       "text": [
        "Int64Index([0, 1, 2, 3], dtype='int64')\n",
        "[1 -2 3 a]\n"
       ]
      }
     ],
     "prompt_number": 3
    },
    {
     "cell_type": "markdown",
     "metadata": {},
     "source": [
      "Pandas \u00e9tant construit \u00e0 partir de NumPy, les Series conservent les propri\u00e9t\u00e9s du ndarray de NumPy :"
     ]
    },
    {
     "cell_type": "code",
     "collapsed": false,
     "input": [
      "# Conservation des op\u00e9rations \n",
      "\n",
      "print ser * 2\n",
      "\n",
      "# Conservation de l'indexing\n",
      "\n",
      "print ser[ser > 0]"
     ],
     "language": "python",
     "metadata": {},
     "outputs": [
      {
       "output_type": "stream",
       "stream": "stdout",
       "text": [
        "0     2\n",
        "1    -4\n",
        "2     6\n",
        "3    aa\n",
        "dtype: object\n",
        "0    1\n",
        "2    3\n",
        "3    a\n",
        "dtype: object"
       ]
      },
      {
       "output_type": "stream",
       "stream": "stdout",
       "text": [
        "\n"
       ]
      }
     ],
     "prompt_number": 4
    },
    {
     "cell_type": "markdown",
     "metadata": {},
     "source": [
      "Il est possible de cr\u00e9er une S\u00e9rie \u00e0 partir d'un dictionnaire Python via la m\u00e9thode ```Series()``` : "
     ]
    },
    {
     "cell_type": "code",
     "collapsed": false,
     "input": [
      "villes = {\"Paris\":212, \"Marseille\":80, \"Lyon\":44, \"Toulouse\":39} \n",
      "\n",
      "ser_villes = Series(villes)\n",
      "\n",
      "print ser_villes"
     ],
     "language": "python",
     "metadata": {},
     "outputs": [
      {
       "output_type": "stream",
       "stream": "stdout",
       "text": [
        "Lyon          44\n",
        "Marseille     80\n",
        "Paris        212\n",
        "Toulouse      39\n",
        "dtype: int64\n"
       ]
      }
     ],
     "prompt_number": 5
    },
    {
     "cell_type": "markdown",
     "metadata": {},
     "source": [
      "Il est possible de modifier les index d'une s\u00e9rie en utilisant la m\u00e9thode ```.index``` puis une assignation :"
     ]
    },
    {
     "cell_type": "code",
     "collapsed": false,
     "input": [
      "# La modification d'index peut \u00eatre utile \n",
      "\n",
      "zip = ['75','13','69','31']\n",
      "\n",
      "ser_villes.index = zip\n",
      "\n",
      "print ser_villes['75']"
     ],
     "language": "python",
     "metadata": {},
     "outputs": [
      {
       "output_type": "stream",
       "stream": "stdout",
       "text": [
        "44\n"
       ]
      }
     ],
     "prompt_number": 6
    },
    {
     "cell_type": "heading",
     "level": 3,
     "metadata": {},
     "source": [
      "DataFrames"
     ]
    },
    {
     "cell_type": "markdown",
     "metadata": {},
     "source": [
      "Les **DataFrame** sont des structures donn\u00e9es qui contiennent plusieurs colonnes. \n",
      "\n",
      "Comme les Series, celles-ci peuvent contenir plusieurs types de donn\u00e9es. "
     ]
    },
    {
     "cell_type": "code",
     "collapsed": false,
     "input": [
      "from pandas import DataFrame"
     ],
     "language": "python",
     "metadata": {},
     "outputs": [],
     "prompt_number": 7
    },
    {
     "cell_type": "markdown",
     "metadata": {},
     "source": [
      "On peut cr\u00e9er un DataFrame \u00e0 partir d'un dictionnaire de liste : "
     ]
    },
    {
     "cell_type": "code",
     "collapsed": false,
     "input": [
      "villes = {'nom':[\"Paris\",\"Marseille\",\"Lyon\",\"Toulouse\"],\n",
      "          'population':[212,80,44,39],\n",
      "          'zip':[\"75\",\"13\",\"69\",\"31\"]}\n",
      "\n",
      "print villes\n",
      "\n",
      "villes_df = DataFrame(villes) \n",
      "\n",
      "print villes_df"
     ],
     "language": "python",
     "metadata": {},
     "outputs": [
      {
       "output_type": "stream",
       "stream": "stdout",
       "text": [
        "{'nom': ['Paris', 'Marseille', 'Lyon', 'Toulouse'], 'zip': ['75', '13', '69', '31'], 'population': [212, 80, 44, 39]}\n",
        "         nom  population zip\n",
        "0      Paris         212  75\n",
        "1  Marseille          80  13\n",
        "2       Lyon          44  69\n",
        "3   Toulouse          39  31\n",
        "\n",
        "[4 rows x 3 columns]\n"
       ]
      }
     ],
     "prompt_number": 8
    },
    {
     "cell_type": "markdown",
     "metadata": {},
     "source": [
      "A la cr\u00e9ation, on peut sp\u00e9cifier l'ordre des colonnes ainsi que les index \u00e0 utiliser : "
     ]
    },
    {
     "cell_type": "code",
     "collapsed": false,
     "input": [
      "villes_df = DataFrame(villes, columns=['nom','population'],\n",
      "                      index = [1,2,3,4])\n",
      "\n",
      "print villes_df"
     ],
     "language": "python",
     "metadata": {},
     "outputs": [
      {
       "output_type": "stream",
       "stream": "stdout",
       "text": [
        "         nom  population\n",
        "1      Paris         212\n",
        "2  Marseille          80\n",
        "3       Lyon          44\n",
        "4   Toulouse          39\n",
        "\n",
        "[4 rows x 2 columns]\n"
       ]
      }
     ],
     "prompt_number": 9
    },
    {
     "cell_type": "markdown",
     "metadata": {},
     "source": [
      "Bas\u00e9 sur NumPy, on conserve donc les propri\u00e9t\u00e9s de s\u00e9lection : "
     ]
    },
    {
     "cell_type": "code",
     "collapsed": false,
     "input": [
      "# On s\u00e9lectionne une colonne de deux mani\u00e8res : \n",
      "\n",
      "print villes_df['nom']\n",
      "print villes_df.nom\n",
      "\n",
      "# On s\u00e9lectionne une ligne en utilisant la m\u00e9thode ix[index] :\n",
      "\n",
      "print villes_df.ix[3]"
     ],
     "language": "python",
     "metadata": {},
     "outputs": [
      {
       "output_type": "stream",
       "stream": "stdout",
       "text": [
        "1        Paris\n",
        "2    Marseille\n",
        "3         Lyon\n",
        "4     Toulouse\n",
        "Name: nom, dtype: object\n",
        "1        Paris\n",
        "2    Marseille\n",
        "3         Lyon\n",
        "4     Toulouse\n",
        "Name: nom, dtype: object\n",
        "nom           Lyon\n",
        "population      44\n",
        "Name: 3, dtype: object\n"
       ]
      }
     ],
     "prompt_number": 10
    },
    {
     "cell_type": "markdown",
     "metadata": {},
     "source": [
      "L'assignation fonctionne sous la m\u00eame logique que sous NumPy (vous commencez \u00e0 comprendre !) :"
     ]
    },
    {
     "cell_type": "code",
     "collapsed": false,
     "input": [
      "villes_df['dette'] = np.arange(1,5)*1000\n",
      "\n",
      "villes_df "
     ],
     "language": "python",
     "metadata": {},
     "outputs": [
      {
       "html": [
        "<div style=\"max-height:1000px;max-width:1500px;overflow:auto;\">\n",
        "<table border=\"1\" class=\"dataframe\">\n",
        "  <thead>\n",
        "    <tr style=\"text-align: right;\">\n",
        "      <th></th>\n",
        "      <th>nom</th>\n",
        "      <th>population</th>\n",
        "      <th>dette</th>\n",
        "    </tr>\n",
        "  </thead>\n",
        "  <tbody>\n",
        "    <tr>\n",
        "      <th>1</th>\n",
        "      <td>     Paris</td>\n",
        "      <td> 212</td>\n",
        "      <td> 1000</td>\n",
        "    </tr>\n",
        "    <tr>\n",
        "      <th>2</th>\n",
        "      <td> Marseille</td>\n",
        "      <td>  80</td>\n",
        "      <td> 2000</td>\n",
        "    </tr>\n",
        "    <tr>\n",
        "      <th>3</th>\n",
        "      <td>      Lyon</td>\n",
        "      <td>  44</td>\n",
        "      <td> 3000</td>\n",
        "    </tr>\n",
        "    <tr>\n",
        "      <th>4</th>\n",
        "      <td>  Toulouse</td>\n",
        "      <td>  39</td>\n",
        "      <td> 4000</td>\n",
        "    </tr>\n",
        "  </tbody>\n",
        "</table>\n",
        "<p>4 rows \u00d7 3 columns</p>\n",
        "</div>"
       ],
       "metadata": {},
       "output_type": "pyout",
       "prompt_number": 11,
       "text": [
        "         nom  population  dette\n",
        "1      Paris         212   1000\n",
        "2  Marseille          80   2000\n",
        "3       Lyon          44   3000\n",
        "4   Toulouse          39   4000\n",
        "\n",
        "[4 rows x 3 columns]"
       ]
      }
     ],
     "prompt_number": 11
    },
    {
     "cell_type": "markdown",
     "metadata": {},
     "source": []
    },
    {
     "cell_type": "heading",
     "level": 2,
     "metadata": {},
     "source": [
      "Fonctions de base "
     ]
    },
    {
     "cell_type": "markdown",
     "metadata": {},
     "source": [
      "Pandas offre un set de fonctions basiques qui facilitent grandement le traitement de donn\u00e9es. En voici quelques unes : "
     ]
    },
    {
     "cell_type": "heading",
     "level": 3,
     "metadata": {},
     "source": [
      "Reindexing"
     ]
    },
    {
     "cell_type": "markdown",
     "metadata": {},
     "source": [
      "Le **Reindexing** permet de modifier un dataframe conform\u00e9ment \u00e0 un nouvel index : "
     ]
    },
    {
     "cell_type": "code",
     "collapsed": false,
     "input": [
      "# On cr\u00e9e ici un nouveau DataFrame villes_df2 bas\u00e9 sur villes_df, mais sur un index diff\u00e9rent\n",
      "\n",
      "villes_df2 = villes_df.reindex([1,3,5])\n",
      "villes_df2"
     ],
     "language": "python",
     "metadata": {},
     "outputs": [
      {
       "html": [
        "<div style=\"max-height:1000px;max-width:1500px;overflow:auto;\">\n",
        "<table border=\"1\" class=\"dataframe\">\n",
        "  <thead>\n",
        "    <tr style=\"text-align: right;\">\n",
        "      <th></th>\n",
        "      <th>nom</th>\n",
        "      <th>population</th>\n",
        "      <th>dette</th>\n",
        "    </tr>\n",
        "  </thead>\n",
        "  <tbody>\n",
        "    <tr>\n",
        "      <th>1</th>\n",
        "      <td> Paris</td>\n",
        "      <td> 212</td>\n",
        "      <td> 1000</td>\n",
        "    </tr>\n",
        "    <tr>\n",
        "      <th>3</th>\n",
        "      <td>  Lyon</td>\n",
        "      <td>  44</td>\n",
        "      <td> 3000</td>\n",
        "    </tr>\n",
        "    <tr>\n",
        "      <th>5</th>\n",
        "      <td>   NaN</td>\n",
        "      <td> NaN</td>\n",
        "      <td>  NaN</td>\n",
        "    </tr>\n",
        "  </tbody>\n",
        "</table>\n",
        "<p>3 rows \u00d7 3 columns</p>\n",
        "</div>"
       ],
       "metadata": {},
       "output_type": "pyout",
       "prompt_number": 12,
       "text": [
        "     nom  population  dette\n",
        "1  Paris         212   1000\n",
        "3   Lyon          44   3000\n",
        "5    NaN         NaN    NaN\n",
        "\n",
        "[3 rows x 3 columns]"
       ]
      }
     ],
     "prompt_number": 12
    },
    {
     "cell_type": "markdown",
     "metadata": {},
     "source": [
      "Un index n'existe pas dans notre nouvel objet (il s'agit de l'index #5). Pandas cr\u00e9e des valeurs NaN (Not a Number) pour ces valeurs.\n",
      "\n",
      "Nous pouvons remplacer ces valeurs, par des valeurs nulles par exemple, en utilisant la m\u00e9thode ***fill_value***"
     ]
    },
    {
     "cell_type": "code",
     "collapsed": false,
     "input": [
      "# Rempla\u00e7ons les valeurs NaN par des 0\n",
      "\n",
      "villes_df2.fillna(0)\n",
      "\n",
      "# Ou d\u00e8s la cr\u00e9ation du Dataframe villes_df2 par \n",
      "\n",
      "villes_df2 = villes_df.reindex([1,3,5], fill_value=0)\n",
      "\n",
      "villes_df2   "
     ],
     "language": "python",
     "metadata": {},
     "outputs": [
      {
       "html": [
        "<div style=\"max-height:1000px;max-width:1500px;overflow:auto;\">\n",
        "<table border=\"1\" class=\"dataframe\">\n",
        "  <thead>\n",
        "    <tr style=\"text-align: right;\">\n",
        "      <th></th>\n",
        "      <th>nom</th>\n",
        "      <th>population</th>\n",
        "      <th>dette</th>\n",
        "    </tr>\n",
        "  </thead>\n",
        "  <tbody>\n",
        "    <tr>\n",
        "      <th>1</th>\n",
        "      <td> Paris</td>\n",
        "      <td> 212</td>\n",
        "      <td> 1000</td>\n",
        "    </tr>\n",
        "    <tr>\n",
        "      <th>3</th>\n",
        "      <td>  Lyon</td>\n",
        "      <td>  44</td>\n",
        "      <td> 3000</td>\n",
        "    </tr>\n",
        "    <tr>\n",
        "      <th>5</th>\n",
        "      <td>     0</td>\n",
        "      <td>   0</td>\n",
        "      <td>    0</td>\n",
        "    </tr>\n",
        "  </tbody>\n",
        "</table>\n",
        "<p>3 rows \u00d7 3 columns</p>\n",
        "</div>"
       ],
       "metadata": {},
       "output_type": "pyout",
       "prompt_number": 28,
       "text": [
        "     nom  population  dette\n",
        "1  Paris         212   1000\n",
        "3   Lyon          44   3000\n",
        "5      0           0      0\n",
        "\n",
        "[3 rows x 3 columns]"
       ]
      }
     ],
     "prompt_number": 28
    },
    {
     "cell_type": "heading",
     "level": 3,
     "metadata": {},
     "source": [
      "Supprimer des \u00e9l\u00e9ments"
     ]
    },
    {
     "cell_type": "markdown",
     "metadata": {},
     "source": [
      "La m\u00e9thode **drop** permet de supprimer des \u00e9l\u00e9ments \u00e0 partir des index (axis = 0) ou \u00e0 partir des colonnes (axis = 1)"
     ]
    },
    {
     "cell_type": "code",
     "collapsed": false,
     "input": [
      "print villes_df\n",
      "\n",
      "# Les index correspondent aux lignes d'un DataFrame (axis = 0)\n",
      "\n",
      "print villes_df.index\n",
      "\n",
      "# Les columns correspondent aux colonnes d'un DataFrame (axis = 1)\n",
      "\n",
      "print villes_df.columns"
     ],
     "language": "python",
     "metadata": {},
     "outputs": [
      {
       "output_type": "stream",
       "stream": "stdout",
       "text": [
        "         nom  population  dette\n",
        "1      Paris         212   1000\n",
        "2  Marseille          80   2000\n",
        "3       Lyon          44   3000\n",
        "4   Toulouse          39   4000\n",
        "\n",
        "[4 rows x 3 columns]\n",
        "Int64Index([1, 2, 3, 4], dtype='int64')\n",
        "Index([u'nom', u'population', u'dette'], dtype='object')\n"
       ]
      }
     ],
     "prompt_number": 14
    },
    {
     "cell_type": "code",
     "collapsed": false,
     "input": [
      "# Supprimer la ligne correspondant \u00e0 l'index 2 (ici Lyon)\n",
      "\n",
      "villes_df.drop(2, axis=0)"
     ],
     "language": "python",
     "metadata": {},
     "outputs": [
      {
       "html": [
        "<div style=\"max-height:1000px;max-width:1500px;overflow:auto;\">\n",
        "<table border=\"1\" class=\"dataframe\">\n",
        "  <thead>\n",
        "    <tr style=\"text-align: right;\">\n",
        "      <th></th>\n",
        "      <th>nom</th>\n",
        "      <th>population</th>\n",
        "      <th>dette</th>\n",
        "    </tr>\n",
        "  </thead>\n",
        "  <tbody>\n",
        "    <tr>\n",
        "      <th>1</th>\n",
        "      <td>    Paris</td>\n",
        "      <td> 212</td>\n",
        "      <td> 1000</td>\n",
        "    </tr>\n",
        "    <tr>\n",
        "      <th>3</th>\n",
        "      <td>     Lyon</td>\n",
        "      <td>  44</td>\n",
        "      <td> 3000</td>\n",
        "    </tr>\n",
        "    <tr>\n",
        "      <th>4</th>\n",
        "      <td> Toulouse</td>\n",
        "      <td>  39</td>\n",
        "      <td> 4000</td>\n",
        "    </tr>\n",
        "  </tbody>\n",
        "</table>\n",
        "<p>3 rows \u00d7 3 columns</p>\n",
        "</div>"
       ],
       "metadata": {},
       "output_type": "pyout",
       "prompt_number": 15,
       "text": [
        "        nom  population  dette\n",
        "1     Paris         212   1000\n",
        "3      Lyon          44   3000\n",
        "4  Toulouse          39   4000\n",
        "\n",
        "[3 rows x 3 columns]"
       ]
      }
     ],
     "prompt_number": 15
    },
    {
     "cell_type": "code",
     "collapsed": false,
     "input": [
      "# Supprimer la colonne correspondant \u00e0 la colonne 'dette' \n",
      "\n",
      "villes_df.drop('dette',axis=1)"
     ],
     "language": "python",
     "metadata": {},
     "outputs": [
      {
       "html": [
        "<div style=\"max-height:1000px;max-width:1500px;overflow:auto;\">\n",
        "<table border=\"1\" class=\"dataframe\">\n",
        "  <thead>\n",
        "    <tr style=\"text-align: right;\">\n",
        "      <th></th>\n",
        "      <th>nom</th>\n",
        "      <th>population</th>\n",
        "    </tr>\n",
        "  </thead>\n",
        "  <tbody>\n",
        "    <tr>\n",
        "      <th>1</th>\n",
        "      <td>     Paris</td>\n",
        "      <td> 212</td>\n",
        "    </tr>\n",
        "    <tr>\n",
        "      <th>2</th>\n",
        "      <td> Marseille</td>\n",
        "      <td>  80</td>\n",
        "    </tr>\n",
        "    <tr>\n",
        "      <th>3</th>\n",
        "      <td>      Lyon</td>\n",
        "      <td>  44</td>\n",
        "    </tr>\n",
        "    <tr>\n",
        "      <th>4</th>\n",
        "      <td>  Toulouse</td>\n",
        "      <td>  39</td>\n",
        "    </tr>\n",
        "  </tbody>\n",
        "</table>\n",
        "<p>4 rows \u00d7 2 columns</p>\n",
        "</div>"
       ],
       "metadata": {},
       "output_type": "pyout",
       "prompt_number": 18,
       "text": [
        "         nom  population\n",
        "1      Paris         212\n",
        "2  Marseille          80\n",
        "3       Lyon          44\n",
        "4   Toulouse          39\n",
        "\n",
        "[4 rows x 2 columns]"
       ]
      }
     ],
     "prompt_number": 18
    },
    {
     "cell_type": "heading",
     "level": 3,
     "metadata": {},
     "source": [
      "S\u00e9lectionner et filtrer "
     ]
    },
    {
     "cell_type": "code",
     "collapsed": false,
     "input": [
      "La s\u00e9lection fonctionne comme pour les ndarray sous NumPy : "
     ],
     "language": "python",
     "metadata": {},
     "outputs": []
    },
    {
     "cell_type": "code",
     "collapsed": false,
     "input": [
      "# S\u00e9lectionner une colonne \n",
      "\n",
      "villes_df[['nom']]"
     ],
     "language": "python",
     "metadata": {},
     "outputs": [
      {
       "html": [
        "<div style=\"max-height:1000px;max-width:1500px;overflow:auto;\">\n",
        "<table border=\"1\" class=\"dataframe\">\n",
        "  <thead>\n",
        "    <tr style=\"text-align: right;\">\n",
        "      <th></th>\n",
        "      <th>nom</th>\n",
        "    </tr>\n",
        "  </thead>\n",
        "  <tbody>\n",
        "    <tr>\n",
        "      <th>1</th>\n",
        "      <td>     Paris</td>\n",
        "    </tr>\n",
        "    <tr>\n",
        "      <th>2</th>\n",
        "      <td> Marseille</td>\n",
        "    </tr>\n",
        "    <tr>\n",
        "      <th>3</th>\n",
        "      <td>      Lyon</td>\n",
        "    </tr>\n",
        "    <tr>\n",
        "      <th>4</th>\n",
        "      <td>  Toulouse</td>\n",
        "    </tr>\n",
        "  </tbody>\n",
        "</table>\n",
        "<p>4 rows \u00d7 1 columns</p>\n",
        "</div>"
       ],
       "metadata": {},
       "output_type": "pyout",
       "prompt_number": 19,
       "text": [
        "         nom\n",
        "1      Paris\n",
        "2  Marseille\n",
        "3       Lyon\n",
        "4   Toulouse\n",
        "\n",
        "[4 rows x 1 columns]"
       ]
      }
     ],
     "prompt_number": 19
    },
    {
     "cell_type": "code",
     "collapsed": false,
     "input": [
      "# Pour s\u00e9lectionner plusieurs colonnes, nous passons une liste de noms des colonnes : \n",
      "\n",
      "villes_df[['nom','population']]"
     ],
     "language": "python",
     "metadata": {},
     "outputs": [
      {
       "html": [
        "<div style=\"max-height:1000px;max-width:1500px;overflow:auto;\">\n",
        "<table border=\"1\" class=\"dataframe\">\n",
        "  <thead>\n",
        "    <tr style=\"text-align: right;\">\n",
        "      <th></th>\n",
        "      <th>nom</th>\n",
        "      <th>population</th>\n",
        "    </tr>\n",
        "  </thead>\n",
        "  <tbody>\n",
        "    <tr>\n",
        "      <th>1</th>\n",
        "      <td>     Paris</td>\n",
        "      <td> 212</td>\n",
        "    </tr>\n",
        "    <tr>\n",
        "      <th>2</th>\n",
        "      <td> Marseille</td>\n",
        "      <td>  80</td>\n",
        "    </tr>\n",
        "    <tr>\n",
        "      <th>3</th>\n",
        "      <td>      Lyon</td>\n",
        "      <td>  44</td>\n",
        "    </tr>\n",
        "    <tr>\n",
        "      <th>4</th>\n",
        "      <td>  Toulouse</td>\n",
        "      <td>  39</td>\n",
        "    </tr>\n",
        "  </tbody>\n",
        "</table>\n",
        "<p>4 rows \u00d7 2 columns</p>\n",
        "</div>"
       ],
       "metadata": {},
       "output_type": "pyout",
       "prompt_number": 20,
       "text": [
        "         nom  population\n",
        "1      Paris         212\n",
        "2  Marseille          80\n",
        "3       Lyon          44\n",
        "4   Toulouse          39\n",
        "\n",
        "[4 rows x 2 columns]"
       ]
      }
     ],
     "prompt_number": 20
    },
    {
     "cell_type": "code",
     "collapsed": false,
     "input": [
      "# La s\u00e9lection des lignes, fonctionne avec les index \n",
      "\n",
      "villes_df[0:2]"
     ],
     "language": "python",
     "metadata": {},
     "outputs": [
      {
       "html": [
        "<div style=\"max-height:1000px;max-width:1500px;overflow:auto;\">\n",
        "<table border=\"1\" class=\"dataframe\">\n",
        "  <thead>\n",
        "    <tr style=\"text-align: right;\">\n",
        "      <th></th>\n",
        "      <th>nom</th>\n",
        "      <th>population</th>\n",
        "      <th>dette</th>\n",
        "    </tr>\n",
        "  </thead>\n",
        "  <tbody>\n",
        "    <tr>\n",
        "      <th>1</th>\n",
        "      <td>     Paris</td>\n",
        "      <td> 212</td>\n",
        "      <td> 1000</td>\n",
        "    </tr>\n",
        "    <tr>\n",
        "      <th>2</th>\n",
        "      <td> Marseille</td>\n",
        "      <td>  80</td>\n",
        "      <td> 2000</td>\n",
        "    </tr>\n",
        "  </tbody>\n",
        "</table>\n",
        "<p>2 rows \u00d7 3 columns</p>\n",
        "</div>"
       ],
       "metadata": {},
       "output_type": "pyout",
       "prompt_number": 21,
       "text": [
        "         nom  population  dette\n",
        "1      Paris         212   1000\n",
        "2  Marseille          80   2000\n",
        "\n",
        "[2 rows x 3 columns]"
       ]
      }
     ],
     "prompt_number": 21
    },
    {
     "cell_type": "code",
     "collapsed": false,
     "input": [
      "# La s\u00e9lection par op\u00e9rateurs bool\u00e9ens fonctionne de la m\u00eame mani\u00e8re : \n",
      "\n",
      "villes_df[villes_df['population'] > 40]"
     ],
     "language": "python",
     "metadata": {},
     "outputs": [
      {
       "html": [
        "<div style=\"max-height:1000px;max-width:1500px;overflow:auto;\">\n",
        "<table border=\"1\" class=\"dataframe\">\n",
        "  <thead>\n",
        "    <tr style=\"text-align: right;\">\n",
        "      <th></th>\n",
        "      <th>nom</th>\n",
        "      <th>population</th>\n",
        "      <th>dette</th>\n",
        "    </tr>\n",
        "  </thead>\n",
        "  <tbody>\n",
        "    <tr>\n",
        "      <th>1</th>\n",
        "      <td>     Paris</td>\n",
        "      <td> 212</td>\n",
        "      <td> 1000</td>\n",
        "    </tr>\n",
        "    <tr>\n",
        "      <th>2</th>\n",
        "      <td> Marseille</td>\n",
        "      <td>  80</td>\n",
        "      <td> 2000</td>\n",
        "    </tr>\n",
        "    <tr>\n",
        "      <th>3</th>\n",
        "      <td>      Lyon</td>\n",
        "      <td>  44</td>\n",
        "      <td> 3000</td>\n",
        "    </tr>\n",
        "  </tbody>\n",
        "</table>\n",
        "<p>3 rows \u00d7 3 columns</p>\n",
        "</div>"
       ],
       "metadata": {},
       "output_type": "pyout",
       "prompt_number": 22,
       "text": [
        "         nom  population  dette\n",
        "1      Paris         212   1000\n",
        "2  Marseille          80   2000\n",
        "3       Lyon          44   3000\n",
        "\n",
        "[3 rows x 3 columns]"
       ]
      }
     ],
     "prompt_number": 22
    },
    {
     "cell_type": "heading",
     "level": 3,
     "metadata": {},
     "source": [
      "Alignement des donn\u00e9es"
     ]
    },
    {
     "cell_type": "markdown",
     "metadata": {},
     "source": [
      "Une des avanc\u00e9es de Pandas est la r\u00e9alisation d'op\u00e9rations entre objets n'ayant pas le m\u00eame Index :"
     ]
    },
    {
     "cell_type": "code",
     "collapsed": false,
     "input": [
      "# cr\u00e9ons deux DataFrame disposant d'index et de taille variable\n",
      "\n",
      "villes1_df = DataFrame(np.arange(9).reshape(3,3),columns=['population','dette','zip'],\n",
      "                      index=['Paris','Marseille','Lyon'])\n",
      "\n",
      "villes2_df = DataFrame(np.arange(12).reshape(4,3),columns=['population','zip','budget'],\n",
      "                       index=['Paris','Nantes','Toulouse','Lyon'])"
     ],
     "language": "python",
     "metadata": {},
     "outputs": [],
     "prompt_number": 23
    },
    {
     "cell_type": "markdown",
     "metadata": {},
     "source": [
      "L'op\u00e9ration df1 + df2 renverra l'**intersection** des deux DataFrames (i.e l\u00e0 o\u00f9 les colonnes et les index sont pr\u00e9sents dans les deux cas). Soit :"
     ]
    },
    {
     "cell_type": "code",
     "collapsed": false,
     "input": [
      "print villes1_df\n",
      "\n",
      "print villes2_df\n",
      "\n",
      "villes1_df + villes2_df"
     ],
     "language": "python",
     "metadata": {},
     "outputs": [
      {
       "output_type": "stream",
       "stream": "stdout",
       "text": [
        "           population  dette  zip\n",
        "Paris               0      1    2\n",
        "Marseille           3      4    5\n",
        "Lyon                6      7    8\n",
        "\n",
        "[3 rows x 3 columns]\n",
        "          population  zip  budget\n",
        "Paris              0    1       2\n",
        "Nantes             3    4       5\n",
        "Toulouse           6    7       8\n",
        "Lyon               9   10      11\n",
        "\n",
        "[4 rows x 3 columns]\n"
       ]
      },
      {
       "html": [
        "<div style=\"max-height:1000px;max-width:1500px;overflow:auto;\">\n",
        "<table border=\"1\" class=\"dataframe\">\n",
        "  <thead>\n",
        "    <tr style=\"text-align: right;\">\n",
        "      <th></th>\n",
        "      <th>budget</th>\n",
        "      <th>dette</th>\n",
        "      <th>population</th>\n",
        "      <th>zip</th>\n",
        "    </tr>\n",
        "  </thead>\n",
        "  <tbody>\n",
        "    <tr>\n",
        "      <th>Lyon</th>\n",
        "      <td>NaN</td>\n",
        "      <td>NaN</td>\n",
        "      <td> 15</td>\n",
        "      <td> 18</td>\n",
        "    </tr>\n",
        "    <tr>\n",
        "      <th>Marseille</th>\n",
        "      <td>NaN</td>\n",
        "      <td>NaN</td>\n",
        "      <td>NaN</td>\n",
        "      <td>NaN</td>\n",
        "    </tr>\n",
        "    <tr>\n",
        "      <th>Nantes</th>\n",
        "      <td>NaN</td>\n",
        "      <td>NaN</td>\n",
        "      <td>NaN</td>\n",
        "      <td>NaN</td>\n",
        "    </tr>\n",
        "    <tr>\n",
        "      <th>Paris</th>\n",
        "      <td>NaN</td>\n",
        "      <td>NaN</td>\n",
        "      <td>  0</td>\n",
        "      <td>  3</td>\n",
        "    </tr>\n",
        "    <tr>\n",
        "      <th>Toulouse</th>\n",
        "      <td>NaN</td>\n",
        "      <td>NaN</td>\n",
        "      <td>NaN</td>\n",
        "      <td>NaN</td>\n",
        "    </tr>\n",
        "  </tbody>\n",
        "</table>\n",
        "<p>5 rows \u00d7 4 columns</p>\n",
        "</div>"
       ],
       "metadata": {},
       "output_type": "pyout",
       "prompt_number": 24,
       "text": [
        "           budget  dette  population  zip\n",
        "Lyon          NaN    NaN          15   18\n",
        "Marseille     NaN    NaN         NaN  NaN\n",
        "Nantes        NaN    NaN         NaN  NaN\n",
        "Paris         NaN    NaN           0    3\n",
        "Toulouse      NaN    NaN         NaN  NaN\n",
        "\n",
        "[5 rows x 4 columns]"
       ]
      }
     ],
     "prompt_number": 24
    },
    {
     "cell_type": "markdown",
     "metadata": {},
     "source": [
      "Si nous souhaitons effectuer une op\u00e9ration en compl\u00e9tant les valeurs manquantes soit obtenir l'**union** des deux Dataframes, nous pouvons utiliser la m\u00e9thode **add** que nous combinons avec la m\u00e9thode **fill_value**. Dans ce cas nous rempla\u00e7ons les valeurs manquantes par 0 : "
     ]
    },
    {
     "cell_type": "code",
     "collapsed": false,
     "input": [
      "print villes2_df.add(villes1_df, fill_value=0)"
     ],
     "language": "python",
     "metadata": {},
     "outputs": [
      {
       "output_type": "stream",
       "stream": "stdout",
       "text": [
        "           budget  dette  population  zip\n",
        "Lyon           11      7          15   18\n",
        "Marseille     NaN      4           3    5\n",
        "Nantes          5    NaN           3    4\n",
        "Paris           2      1           0    3\n",
        "Toulouse        8    NaN           6    7\n",
        "\n",
        "[5 rows x 4 columns]\n"
       ]
      }
     ],
     "prompt_number": 25
    },
    {
     "cell_type": "heading",
     "level": 3,
     "metadata": {},
     "source": [
      "Applications de fonctions "
     ]
    },
    {
     "cell_type": "markdown",
     "metadata": {},
     "source": [
      "Nous pouvons appliquer les fonctions universelles (universal functions) de NumPy \u00e0 des DataFrame. \n",
      "\n",
      "Maitriser ces fonctions est une composante essentielle de la maitrise de la manipulation de donn\u00e9es sous Pandas. "
     ]
    },
    {
     "cell_type": "code",
     "collapsed": false,
     "input": [
      "# Recr\u00e9ons un DataFrame en sp\u00e9cifiant les colonnes et les index : \n",
      "\n",
      "df1 = DataFrame(np.random.randn(4,3),columns=['population','zip','budget'],\n",
      "                       index=['Paris','Nantes','Toulouse','Lyon'])"
     ],
     "language": "python",
     "metadata": {},
     "outputs": [],
     "prompt_number": 29
    },
    {
     "cell_type": "markdown",
     "metadata": {},
     "source": [
      "D\u00e9finissons une fonction f qui renvoie la diff\u00e9rence entre la valeur maximum et la valeur minimum : "
     ]
    },
    {
     "cell_type": "code",
     "collapsed": false,
     "input": [
      "f = lambda x: x.max() - x.min()"
     ],
     "language": "python",
     "metadata": {},
     "outputs": [],
     "prompt_number": 30
    },
    {
     "cell_type": "markdown",
     "metadata": {},
     "source": [
      "Pour info, Lambda est une simple convention qui permet de cr\u00e9er une fonction anonyme. Cela revient exactement \u00e0 d\u00e9clarer une fonction telle que : "
     ]
    },
    {
     "cell_type": "code",
     "collapsed": false,
     "input": [
      "def g(x):\n",
      "    return x.max() - x.min()"
     ],
     "language": "python",
     "metadata": {},
     "outputs": [],
     "prompt_number": 31
    },
    {
     "cell_type": "markdown",
     "metadata": {},
     "source": [
      "Il est maintenant possible (et c'est g\u00e9nial) d'appliquer cette fonction sur notre DataFrame en utilisant la m\u00e9thode **apply**. Cette m\u00e9thode prendre comme param\u00e8tre l'axe du DataFrame. \n",
      "\n",
      "Cela signifie que si nous voulons obtenir le r\u00e9sultat de f pour chaque colonne, nous appliquons f ligne par ligne (en utilisant donc axis=0) :"
     ]
    },
    {
     "cell_type": "code",
     "collapsed": false,
     "input": [
      "df1.apply(f, axis=0)"
     ],
     "language": "python",
     "metadata": {},
     "outputs": [
      {
       "metadata": {},
       "output_type": "pyout",
       "prompt_number": 32,
       "text": [
        "population    2.920311\n",
        "zip           2.595515\n",
        "budget        1.806707\n",
        "dtype: float64"
       ]
      }
     ],
     "prompt_number": 32
    },
    {
     "cell_type": "markdown",
     "metadata": {},
     "source": [
      "Voil\u00e0 un petit sch\u00e9ma pour bien comprendre ce que nous venons de faire. \n",
      "\n",
      "Nous appliquons pour chaque ligne (selon l'axe 0) la fonction f. "
     ]
    },
    {
     "cell_type": "markdown",
     "metadata": {},
     "source": [
      "<img src='files/faxis0.png'>"
     ]
    },
    {
     "cell_type": "markdown",
     "metadata": {},
     "source": [
      "Si nous souhaitons r\u00e9aliser la m\u00eame op\u00e9ration pour chaque ville, nous pouvons utiliser la m\u00eame fonction selon l'axe 1 soit : "
     ]
    },
    {
     "cell_type": "code",
     "collapsed": false,
     "input": [
      "df1.apply(f,axis=1)"
     ],
     "language": "python",
     "metadata": {},
     "outputs": [
      {
       "metadata": {},
       "output_type": "pyout",
       "prompt_number": 33,
       "text": [
        "Paris       0.293692\n",
        "Nantes      0.513615\n",
        "Toulouse    0.256160\n",
        "Lyon        1.369765\n",
        "dtype: float64"
       ]
      }
     ],
     "prompt_number": 33
    },
    {
     "cell_type": "markdown",
     "metadata": {},
     "source": [
      "En utilisant le m\u00eame sch\u00e9ma, cela peut se repr\u00e9senter \u00e0 nouveau ainsi : "
     ]
    },
    {
     "cell_type": "markdown",
     "metadata": {},
     "source": [
      "<img src='files/faxis1.png'>"
     ]
    },
    {
     "cell_type": "heading",
     "level": 3,
     "metadata": {},
     "source": [
      "Trier"
     ]
    },
    {
     "cell_type": "markdown",
     "metadata": {},
     "source": [
      "Le tri est une composante cl\u00e9 de l'analyse de donn\u00e9e. La m\u00e9thode **sort_index** permet de retourner un nouvel objet, tri\u00e9. \n",
      "\n",
      "Si nous souhaitons trier un DataFrame suivant l'ordre alphab\u00e9tique des villes (ici de notre index), il suffit donc d'\u00e9crire : "
     ]
    },
    {
     "cell_type": "code",
     "collapsed": false,
     "input": [
      "df1.sort_index(axis=0)"
     ],
     "language": "python",
     "metadata": {},
     "outputs": [
      {
       "html": [
        "<div style=\"max-height:1000px;max-width:1500px;overflow:auto;\">\n",
        "<table border=\"1\" class=\"dataframe\">\n",
        "  <thead>\n",
        "    <tr style=\"text-align: right;\">\n",
        "      <th></th>\n",
        "      <th>population</th>\n",
        "      <th>zip</th>\n",
        "      <th>budget</th>\n",
        "    </tr>\n",
        "  </thead>\n",
        "  <tbody>\n",
        "    <tr>\n",
        "      <th>Lyon</th>\n",
        "      <td> 2.240588</td>\n",
        "      <td> 1.895945</td>\n",
        "      <td> 0.870823</td>\n",
        "    </tr>\n",
        "    <tr>\n",
        "      <th>Nantes</th>\n",
        "      <td> 0.049963</td>\n",
        "      <td>-0.323135</td>\n",
        "      <td>-0.463651</td>\n",
        "    </tr>\n",
        "    <tr>\n",
        "      <th>Paris</th>\n",
        "      <td> 0.126422</td>\n",
        "      <td>-0.167270</td>\n",
        "      <td> 0.036088</td>\n",
        "    </tr>\n",
        "    <tr>\n",
        "      <th>Toulouse</th>\n",
        "      <td>-0.679723</td>\n",
        "      <td>-0.699570</td>\n",
        "      <td>-0.935883</td>\n",
        "    </tr>\n",
        "  </tbody>\n",
        "</table>\n",
        "<p>4 rows \u00d7 3 columns</p>\n",
        "</div>"
       ],
       "metadata": {},
       "output_type": "pyout",
       "prompt_number": 34,
       "text": [
        "          population       zip    budget\n",
        "Lyon        2.240588  1.895945  0.870823\n",
        "Nantes      0.049963 -0.323135 -0.463651\n",
        "Paris       0.126422 -0.167270  0.036088\n",
        "Toulouse   -0.679723 -0.699570 -0.935883\n",
        "\n",
        "[4 rows x 3 columns]"
       ]
      }
     ],
     "prompt_number": 34
    },
    {
     "cell_type": "markdown",
     "metadata": {},
     "source": [
      "On peut, de la m\u00eame mani\u00e8re trier l'ordre des colonnes, en utilisant l'axe 1 : "
     ]
    },
    {
     "cell_type": "code",
     "collapsed": false,
     "input": [
      "df1.sort_index(axis=1)"
     ],
     "language": "python",
     "metadata": {},
     "outputs": [
      {
       "html": [
        "<div style=\"max-height:1000px;max-width:1500px;overflow:auto;\">\n",
        "<table border=\"1\" class=\"dataframe\">\n",
        "  <thead>\n",
        "    <tr style=\"text-align: right;\">\n",
        "      <th></th>\n",
        "      <th>budget</th>\n",
        "      <th>population</th>\n",
        "      <th>zip</th>\n",
        "    </tr>\n",
        "  </thead>\n",
        "  <tbody>\n",
        "    <tr>\n",
        "      <th>Paris</th>\n",
        "      <td> 0.036088</td>\n",
        "      <td> 0.126422</td>\n",
        "      <td>-0.167270</td>\n",
        "    </tr>\n",
        "    <tr>\n",
        "      <th>Nantes</th>\n",
        "      <td>-0.463651</td>\n",
        "      <td> 0.049963</td>\n",
        "      <td>-0.323135</td>\n",
        "    </tr>\n",
        "    <tr>\n",
        "      <th>Toulouse</th>\n",
        "      <td>-0.935883</td>\n",
        "      <td>-0.679723</td>\n",
        "      <td>-0.699570</td>\n",
        "    </tr>\n",
        "    <tr>\n",
        "      <th>Lyon</th>\n",
        "      <td> 0.870823</td>\n",
        "      <td> 2.240588</td>\n",
        "      <td> 1.895945</td>\n",
        "    </tr>\n",
        "  </tbody>\n",
        "</table>\n",
        "<p>4 rows \u00d7 3 columns</p>\n",
        "</div>"
       ],
       "metadata": {},
       "output_type": "pyout",
       "prompt_number": 35,
       "text": [
        "            budget  population       zip\n",
        "Paris     0.036088    0.126422 -0.167270\n",
        "Nantes   -0.463651    0.049963 -0.323135\n",
        "Toulouse -0.935883   -0.679723 -0.699570\n",
        "Lyon      0.870823    2.240588  1.895945\n",
        "\n",
        "[4 rows x 3 columns]"
       ]
      }
     ],
     "prompt_number": 35
    },
    {
     "cell_type": "markdown",
     "metadata": {},
     "source": [
      "On peut sp\u00e9cifier le param\u00e8tre bool\u00e9en **ascending** pour r\u00e9aliser des tris croissant / d\u00e9croissant :"
     ]
    },
    {
     "cell_type": "code",
     "collapsed": false,
     "input": [
      "df1.sort_index(ascending=False)"
     ],
     "language": "python",
     "metadata": {},
     "outputs": [
      {
       "html": [
        "<div style=\"max-height:1000px;max-width:1500px;overflow:auto;\">\n",
        "<table border=\"1\" class=\"dataframe\">\n",
        "  <thead>\n",
        "    <tr style=\"text-align: right;\">\n",
        "      <th></th>\n",
        "      <th>population</th>\n",
        "      <th>zip</th>\n",
        "      <th>budget</th>\n",
        "    </tr>\n",
        "  </thead>\n",
        "  <tbody>\n",
        "    <tr>\n",
        "      <th>Toulouse</th>\n",
        "      <td> 0.018731</td>\n",
        "      <td>-0.704271</td>\n",
        "      <td> 0.985548</td>\n",
        "    </tr>\n",
        "    <tr>\n",
        "      <th>Paris</th>\n",
        "      <td> 1.149795</td>\n",
        "      <td> 1.263709</td>\n",
        "      <td>-1.266595</td>\n",
        "    </tr>\n",
        "    <tr>\n",
        "      <th>Nantes</th>\n",
        "      <td> 2.066617</td>\n",
        "      <td> 0.397211</td>\n",
        "      <td> 0.071454</td>\n",
        "    </tr>\n",
        "    <tr>\n",
        "      <th>Lyon</th>\n",
        "      <td> 0.345038</td>\n",
        "      <td>-1.714374</td>\n",
        "      <td> 0.325130</td>\n",
        "    </tr>\n",
        "  </tbody>\n",
        "</table>\n",
        "</div>"
       ],
       "metadata": {},
       "output_type": "pyout",
       "prompt_number": 143,
       "text": [
        "          population       zip    budget\n",
        "Toulouse    0.018731 -0.704271  0.985548\n",
        "Paris       1.149795  1.263709 -1.266595\n",
        "Nantes      2.066617  0.397211  0.071454\n",
        "Lyon        0.345038 -1.714374  0.325130"
       ]
      }
     ],
     "prompt_number": 143
    },
    {
     "cell_type": "markdown",
     "metadata": {},
     "source": [
      "On peut enfin trier par colonne en utilisant le param\u00e8tre **by**. Par exemple si nous souhaitons trier par ordre d\u00e9croissant de la colonne budget, nous \u00e9crirons : "
     ]
    },
    {
     "cell_type": "code",
     "collapsed": false,
     "input": [
      "df1.sort_index(by=['budget'],ascending=False)"
     ],
     "language": "python",
     "metadata": {},
     "outputs": [
      {
       "html": [
        "<div style=\"max-height:1000px;max-width:1500px;overflow:auto;\">\n",
        "<table border=\"1\" class=\"dataframe\">\n",
        "  <thead>\n",
        "    <tr style=\"text-align: right;\">\n",
        "      <th></th>\n",
        "      <th>population</th>\n",
        "      <th>zip</th>\n",
        "      <th>budget</th>\n",
        "    </tr>\n",
        "  </thead>\n",
        "  <tbody>\n",
        "    <tr>\n",
        "      <th>Toulouse</th>\n",
        "      <td> 0.018731</td>\n",
        "      <td>-0.704271</td>\n",
        "      <td> 0.985548</td>\n",
        "    </tr>\n",
        "    <tr>\n",
        "      <th>Lyon</th>\n",
        "      <td> 0.345038</td>\n",
        "      <td>-1.714374</td>\n",
        "      <td> 0.325130</td>\n",
        "    </tr>\n",
        "    <tr>\n",
        "      <th>Nantes</th>\n",
        "      <td> 2.066617</td>\n",
        "      <td> 0.397211</td>\n",
        "      <td> 0.071454</td>\n",
        "    </tr>\n",
        "    <tr>\n",
        "      <th>Paris</th>\n",
        "      <td> 1.149795</td>\n",
        "      <td> 1.263709</td>\n",
        "      <td>-1.266595</td>\n",
        "    </tr>\n",
        "  </tbody>\n",
        "</table>\n",
        "</div>"
       ],
       "metadata": {},
       "output_type": "pyout",
       "prompt_number": 147,
       "text": [
        "          population       zip    budget\n",
        "Toulouse    0.018731 -0.704271  0.985548\n",
        "Lyon        0.345038 -1.714374  0.325130\n",
        "Nantes      2.066617  0.397211  0.071454\n",
        "Paris       1.149795  1.263709 -1.266595"
       ]
      }
     ],
     "prompt_number": 147
    },
    {
     "cell_type": "heading",
     "level": 3,
     "metadata": {},
     "source": [
      "M\u00e9thodes statistiques "
     ]
    },
    {
     "cell_type": "markdown",
     "metadata": {},
     "source": [
      "Pandas donne acc\u00e8s \u00e0 un set de m\u00e9thodes statistiques par d\u00e9faut. En voici quelques unes : "
     ]
    },
    {
     "cell_type": "markdown",
     "metadata": {},
     "source": [
      "On peut jeter un 'coup d'oeil' \u00e0 la description statistique d'un set de donn\u00e9es en utilisant la m\u00e9thode **describe**. \n",
      "\n",
      "Celle ci permet de calculer rapidement des donn\u00e9es cl\u00e9s (nombre de valeurs, moyenne, d\u00e9viation standard et quartiles)."
     ]
    },
    {
     "cell_type": "code",
     "collapsed": false,
     "input": [
      "df1.describe()"
     ],
     "language": "python",
     "metadata": {},
     "outputs": [
      {
       "html": [
        "<div style=\"max-height:1000px;max-width:1500px;overflow:auto;\">\n",
        "<table border=\"1\" class=\"dataframe\">\n",
        "  <thead>\n",
        "    <tr style=\"text-align: right;\">\n",
        "      <th></th>\n",
        "      <th>population</th>\n",
        "      <th>zip</th>\n",
        "      <th>budget</th>\n",
        "    </tr>\n",
        "  </thead>\n",
        "  <tbody>\n",
        "    <tr>\n",
        "      <th>count</th>\n",
        "      <td> 4.000000</td>\n",
        "      <td> 4.000000</td>\n",
        "      <td> 4.000000</td>\n",
        "    </tr>\n",
        "    <tr>\n",
        "      <th>mean</th>\n",
        "      <td> 0.895045</td>\n",
        "      <td>-0.189431</td>\n",
        "      <td> 0.028884</td>\n",
        "    </tr>\n",
        "    <tr>\n",
        "      <th>std</th>\n",
        "      <td> 0.914314</td>\n",
        "      <td> 1.296955</td>\n",
        "      <td> 0.945700</td>\n",
        "    </tr>\n",
        "    <tr>\n",
        "      <th>min</th>\n",
        "      <td> 0.018731</td>\n",
        "      <td>-1.714374</td>\n",
        "      <td>-1.266595</td>\n",
        "    </tr>\n",
        "    <tr>\n",
        "      <th>25%</th>\n",
        "      <td> 0.263461</td>\n",
        "      <td>-0.956797</td>\n",
        "      <td>-0.263058</td>\n",
        "    </tr>\n",
        "    <tr>\n",
        "      <th>50%</th>\n",
        "      <td> 0.747416</td>\n",
        "      <td>-0.153530</td>\n",
        "      <td> 0.198292</td>\n",
        "    </tr>\n",
        "    <tr>\n",
        "      <th>75%</th>\n",
        "      <td> 1.379000</td>\n",
        "      <td> 0.613835</td>\n",
        "      <td> 0.490235</td>\n",
        "    </tr>\n",
        "    <tr>\n",
        "      <th>max</th>\n",
        "      <td> 2.066617</td>\n",
        "      <td> 1.263709</td>\n",
        "      <td> 0.985548</td>\n",
        "    </tr>\n",
        "  </tbody>\n",
        "</table>\n",
        "</div>"
       ],
       "metadata": {},
       "output_type": "pyout",
       "prompt_number": 150,
       "text": [
        "       population       zip    budget\n",
        "count    4.000000  4.000000  4.000000\n",
        "mean     0.895045 -0.189431  0.028884\n",
        "std      0.914314  1.296955  0.945700\n",
        "min      0.018731 -1.714374 -1.266595\n",
        "25%      0.263461 -0.956797 -0.263058\n",
        "50%      0.747416 -0.153530  0.198292\n",
        "75%      1.379000  0.613835  0.490235\n",
        "max      2.066617  1.263709  0.985548"
       ]
      }
     ],
     "prompt_number": 150
    },
    {
     "cell_type": "markdown",
     "metadata": {},
     "source": [
      "Les m\u00e9thodes classiques (somme, moyenne, count etc..) sont \u00e9galement int\u00e9gr\u00e9es. \n",
      "\n",
      "Elles prennent \u00e9galement comme param\u00e8tres les axes d'application des DataFrame\n"
     ]
    },
    {
     "cell_type": "code",
     "collapsed": false,
     "input": [
      "# Calculer la moyenne par colonne \n",
      "\n",
      "df1.mean()"
     ],
     "language": "python",
     "metadata": {},
     "outputs": [
      {
       "metadata": {},
       "output_type": "pyout",
       "prompt_number": 154,
       "text": [
        "population    0.895045\n",
        "zip          -0.189431\n",
        "budget        0.028884\n",
        "dtype: float64"
       ]
      }
     ],
     "prompt_number": 154
    },
    {
     "cell_type": "heading",
     "level": 3,
     "metadata": {},
     "source": [
      "G\u00e9rer les donn\u00e9es manquantes"
     ]
    },
    {
     "cell_type": "code",
     "collapsed": false,
     "input": [
      "from numpy import nan as NA"
     ],
     "language": "python",
     "metadata": {},
     "outputs": [],
     "prompt_number": 36
    },
    {
     "cell_type": "markdown",
     "metadata": {},
     "source": [
      "La gestion des donn\u00e9es manquantes est une composante cl\u00e9 de Pandas. \n",
      "\n",
      "Les donn\u00e9es nulles sont courantes dans les analyses de donn\u00e9es, prenons par exemple le DataFrame suivant : "
     ]
    },
    {
     "cell_type": "code",
     "collapsed": false,
     "input": [
      "df_null = DataFrame([[1,3,5,8],[5,NA,7,3],[NA,NA,NA,NA],[NA,7,3,2]])\n",
      "\n",
      "df_null"
     ],
     "language": "python",
     "metadata": {},
     "outputs": [
      {
       "html": [
        "<div style=\"max-height:1000px;max-width:1500px;overflow:auto;\">\n",
        "<table border=\"1\" class=\"dataframe\">\n",
        "  <thead>\n",
        "    <tr style=\"text-align: right;\">\n",
        "      <th></th>\n",
        "      <th>0</th>\n",
        "      <th>1</th>\n",
        "      <th>2</th>\n",
        "      <th>3</th>\n",
        "    </tr>\n",
        "  </thead>\n",
        "  <tbody>\n",
        "    <tr>\n",
        "      <th>0</th>\n",
        "      <td>  1</td>\n",
        "      <td>  3</td>\n",
        "      <td>  5</td>\n",
        "      <td>  8</td>\n",
        "    </tr>\n",
        "    <tr>\n",
        "      <th>1</th>\n",
        "      <td>  5</td>\n",
        "      <td>NaN</td>\n",
        "      <td>  7</td>\n",
        "      <td>  3</td>\n",
        "    </tr>\n",
        "    <tr>\n",
        "      <th>2</th>\n",
        "      <td>NaN</td>\n",
        "      <td>NaN</td>\n",
        "      <td>NaN</td>\n",
        "      <td>NaN</td>\n",
        "    </tr>\n",
        "    <tr>\n",
        "      <th>3</th>\n",
        "      <td>NaN</td>\n",
        "      <td>  7</td>\n",
        "      <td>  3</td>\n",
        "      <td>  2</td>\n",
        "    </tr>\n",
        "  </tbody>\n",
        "</table>\n",
        "<p>4 rows \u00d7 4 columns</p>\n",
        "</div>"
       ],
       "metadata": {},
       "output_type": "pyout",
       "prompt_number": 37,
       "text": [
        "    0   1   2   3\n",
        "0   1   3   5   8\n",
        "1   5 NaN   7   3\n",
        "2 NaN NaN NaN NaN\n",
        "3 NaN   7   3   2\n",
        "\n",
        "[4 rows x 4 columns]"
       ]
      }
     ],
     "prompt_number": 37
    },
    {
     "cell_type": "markdown",
     "metadata": {},
     "source": [
      "Nous pouvons supprimer toutes les lignes qui comportent au moins un \u00e9l\u00e9ment NA avec la m\u00e9thode **dropna**"
     ]
    },
    {
     "cell_type": "code",
     "collapsed": false,
     "input": [
      "df_null.dropna()"
     ],
     "language": "python",
     "metadata": {},
     "outputs": [
      {
       "html": [
        "<div style=\"max-height:1000px;max-width:1500px;overflow:auto;\">\n",
        "<table border=\"1\" class=\"dataframe\">\n",
        "  <thead>\n",
        "    <tr style=\"text-align: right;\">\n",
        "      <th></th>\n",
        "      <th>0</th>\n",
        "      <th>1</th>\n",
        "      <th>2</th>\n",
        "      <th>3</th>\n",
        "    </tr>\n",
        "  </thead>\n",
        "  <tbody>\n",
        "    <tr>\n",
        "      <th>0</th>\n",
        "      <td> 1</td>\n",
        "      <td> 3</td>\n",
        "      <td> 5</td>\n",
        "      <td> 8</td>\n",
        "    </tr>\n",
        "  </tbody>\n",
        "</table>\n",
        "<p>1 rows \u00d7 4 columns</p>\n",
        "</div>"
       ],
       "metadata": {},
       "output_type": "pyout",
       "prompt_number": 38,
       "text": [
        "   0  1  2  3\n",
        "0  1  3  5  8\n",
        "\n",
        "[1 rows x 4 columns]"
       ]
      }
     ],
     "prompt_number": 38
    },
    {
     "cell_type": "markdown",
     "metadata": {},
     "source": [
      "La m\u00e9thode **dropna** conservant les param\u00e8tres axis, nous pouvons supprimer les colonnes ayant au moins un NA :"
     ]
    },
    {
     "cell_type": "code",
     "collapsed": false,
     "input": [
      "df_null.dropna(axis=1)"
     ],
     "language": "python",
     "metadata": {},
     "outputs": [
      {
       "html": [
        "<div style=\"max-height:1000px;max-width:1500px;overflow:auto;\">\n",
        "<table border=\"1\" class=\"dataframe\">\n",
        "  <tbody>\n",
        "    <tr>\n",
        "      <td>Int64Index([0, 1, 2, 3], dtype='int64')</td>\n",
        "      <td>Empty DataFrame</td>\n",
        "    </tr>\n",
        "  </tbody>\n",
        "</table>\n",
        "<p>4 rows \u00d7 0 columns</p>\n",
        "</div>"
       ],
       "metadata": {},
       "output_type": "pyout",
       "prompt_number": 39,
       "text": [
        "Empty DataFrame\n",
        "Columns: []\n",
        "Index: [0, 1, 2, 3]\n",
        "\n",
        "[4 rows x 0 columns]"
       ]
      }
     ],
     "prompt_number": 39
    },
    {
     "cell_type": "markdown",
     "metadata": {},
     "source": [
      "Ou encore celle qui n'ont que des NA gr\u00e2ce au param\u00e8tre **how** :"
     ]
    },
    {
     "cell_type": "code",
     "collapsed": false,
     "input": [
      "df_null.dropna(axis=1, how='all')"
     ],
     "language": "python",
     "metadata": {},
     "outputs": [
      {
       "html": [
        "<div style=\"max-height:1000px;max-width:1500px;overflow:auto;\">\n",
        "<table border=\"1\" class=\"dataframe\">\n",
        "  <thead>\n",
        "    <tr style=\"text-align: right;\">\n",
        "      <th></th>\n",
        "      <th>0</th>\n",
        "      <th>1</th>\n",
        "      <th>2</th>\n",
        "      <th>3</th>\n",
        "    </tr>\n",
        "  </thead>\n",
        "  <tbody>\n",
        "    <tr>\n",
        "      <th>0</th>\n",
        "      <td>  1</td>\n",
        "      <td>  3</td>\n",
        "      <td>  5</td>\n",
        "      <td>  8</td>\n",
        "    </tr>\n",
        "    <tr>\n",
        "      <th>1</th>\n",
        "      <td>  5</td>\n",
        "      <td>NaN</td>\n",
        "      <td>  7</td>\n",
        "      <td>  3</td>\n",
        "    </tr>\n",
        "    <tr>\n",
        "      <th>2</th>\n",
        "      <td>NaN</td>\n",
        "      <td>NaN</td>\n",
        "      <td>NaN</td>\n",
        "      <td>NaN</td>\n",
        "    </tr>\n",
        "    <tr>\n",
        "      <th>3</th>\n",
        "      <td>NaN</td>\n",
        "      <td>  7</td>\n",
        "      <td>  3</td>\n",
        "      <td>  2</td>\n",
        "    </tr>\n",
        "  </tbody>\n",
        "</table>\n",
        "<p>4 rows \u00d7 4 columns</p>\n",
        "</div>"
       ],
       "metadata": {},
       "output_type": "pyout",
       "prompt_number": 40,
       "text": [
        "    0   1   2   3\n",
        "0   1   3   5   8\n",
        "1   5 NaN   7   3\n",
        "2 NaN NaN NaN NaN\n",
        "3 NaN   7   3   2\n",
        "\n",
        "[4 rows x 4 columns]"
       ]
      }
     ],
     "prompt_number": 40
    },
    {
     "cell_type": "markdown",
     "metadata": {},
     "source": [
      "Au lieu de supprimer des donn\u00e9es manquantes, nous pouvons \u00e9galement remplir les cases avec la m\u00e9thode **fillna** :"
     ]
    },
    {
     "cell_type": "code",
     "collapsed": false,
     "input": [
      "df_null.fillna(0)"
     ],
     "language": "python",
     "metadata": {},
     "outputs": [
      {
       "html": [
        "<div style=\"max-height:1000px;max-width:1500px;overflow:auto;\">\n",
        "<table border=\"1\" class=\"dataframe\">\n",
        "  <thead>\n",
        "    <tr style=\"text-align: right;\">\n",
        "      <th></th>\n",
        "      <th>0</th>\n",
        "      <th>1</th>\n",
        "      <th>2</th>\n",
        "      <th>3</th>\n",
        "    </tr>\n",
        "  </thead>\n",
        "  <tbody>\n",
        "    <tr>\n",
        "      <th>0</th>\n",
        "      <td> 1</td>\n",
        "      <td> 3</td>\n",
        "      <td> 5</td>\n",
        "      <td> 8</td>\n",
        "    </tr>\n",
        "    <tr>\n",
        "      <th>1</th>\n",
        "      <td> 5</td>\n",
        "      <td> 0</td>\n",
        "      <td> 7</td>\n",
        "      <td> 3</td>\n",
        "    </tr>\n",
        "    <tr>\n",
        "      <th>2</th>\n",
        "      <td> 0</td>\n",
        "      <td> 0</td>\n",
        "      <td> 0</td>\n",
        "      <td> 0</td>\n",
        "    </tr>\n",
        "    <tr>\n",
        "      <th>3</th>\n",
        "      <td> 0</td>\n",
        "      <td> 7</td>\n",
        "      <td> 3</td>\n",
        "      <td> 2</td>\n",
        "    </tr>\n",
        "  </tbody>\n",
        "</table>\n",
        "<p>4 rows \u00d7 4 columns</p>\n",
        "</div>"
       ],
       "metadata": {},
       "output_type": "pyout",
       "prompt_number": 41,
       "text": [
        "   0  1  2  3\n",
        "0  1  3  5  8\n",
        "1  5  0  7  3\n",
        "2  0  0  0  0\n",
        "3  0  7  3  2\n",
        "\n",
        "[4 rows x 4 columns]"
       ]
      }
     ],
     "prompt_number": 41
    },
    {
     "cell_type": "markdown",
     "metadata": {},
     "source": [
      "Il est possible de remplir des valeurs diff\u00e9rentes suivant la colonne en passant un **dictionnaire en param\u00e8tre** :"
     ]
    },
    {
     "cell_type": "code",
     "collapsed": false,
     "input": [
      "# On remplit ici la colonne 1 avec des 0 et la colonne 2 avec des 3\n",
      "\n",
      "df_null.fillna({1:0, 2:3})"
     ],
     "language": "python",
     "metadata": {},
     "outputs": [
      {
       "html": [
        "<div style=\"max-height:1000px;max-width:1500px;overflow:auto;\">\n",
        "<table border=\"1\" class=\"dataframe\">\n",
        "  <thead>\n",
        "    <tr style=\"text-align: right;\">\n",
        "      <th></th>\n",
        "      <th>0</th>\n",
        "      <th>1</th>\n",
        "      <th>2</th>\n",
        "      <th>3</th>\n",
        "    </tr>\n",
        "  </thead>\n",
        "  <tbody>\n",
        "    <tr>\n",
        "      <th>0</th>\n",
        "      <td>  1</td>\n",
        "      <td> 3</td>\n",
        "      <td> 5</td>\n",
        "      <td>  8</td>\n",
        "    </tr>\n",
        "    <tr>\n",
        "      <th>1</th>\n",
        "      <td>  5</td>\n",
        "      <td> 0</td>\n",
        "      <td> 7</td>\n",
        "      <td>  3</td>\n",
        "    </tr>\n",
        "    <tr>\n",
        "      <th>2</th>\n",
        "      <td>NaN</td>\n",
        "      <td> 0</td>\n",
        "      <td> 3</td>\n",
        "      <td>NaN</td>\n",
        "    </tr>\n",
        "    <tr>\n",
        "      <th>3</th>\n",
        "      <td>NaN</td>\n",
        "      <td> 7</td>\n",
        "      <td> 3</td>\n",
        "      <td>  2</td>\n",
        "    </tr>\n",
        "  </tbody>\n",
        "</table>\n",
        "<p>4 rows \u00d7 4 columns</p>\n",
        "</div>"
       ],
       "metadata": {},
       "output_type": "pyout",
       "prompt_number": 42,
       "text": [
        "    0  1  2   3\n",
        "0   1  3  5   8\n",
        "1   5  0  7   3\n",
        "2 NaN  0  3 NaN\n",
        "3 NaN  7  3   2\n",
        "\n",
        "[4 rows x 4 columns]"
       ]
      }
     ],
     "prompt_number": 42
    },
    {
     "cell_type": "markdown",
     "metadata": {},
     "source": [
      "Le param\u00e8tre bool\u00e9en **inplace** permet de modifier ou non le DataFrame original. Par d\u00e9faut **fillna** cr\u00e9e une copie de l'objet :"
     ]
    },
    {
     "cell_type": "code",
     "collapsed": false,
     "input": [
      "df_null.fillna(0,inplace=True)\n",
      "\n",
      "df_null"
     ],
     "language": "python",
     "metadata": {},
     "outputs": [
      {
       "html": [
        "<div style=\"max-height:1000px;max-width:1500px;overflow:auto;\">\n",
        "<table border=\"1\" class=\"dataframe\">\n",
        "  <thead>\n",
        "    <tr style=\"text-align: right;\">\n",
        "      <th></th>\n",
        "      <th>0</th>\n",
        "      <th>1</th>\n",
        "      <th>2</th>\n",
        "      <th>3</th>\n",
        "    </tr>\n",
        "  </thead>\n",
        "  <tbody>\n",
        "    <tr>\n",
        "      <th>0</th>\n",
        "      <td> 1</td>\n",
        "      <td> 3</td>\n",
        "      <td> 5</td>\n",
        "      <td> 8</td>\n",
        "    </tr>\n",
        "    <tr>\n",
        "      <th>1</th>\n",
        "      <td> 5</td>\n",
        "      <td> 0</td>\n",
        "      <td> 7</td>\n",
        "      <td> 3</td>\n",
        "    </tr>\n",
        "    <tr>\n",
        "      <th>2</th>\n",
        "      <td> 0</td>\n",
        "      <td> 0</td>\n",
        "      <td> 0</td>\n",
        "      <td> 0</td>\n",
        "    </tr>\n",
        "    <tr>\n",
        "      <th>3</th>\n",
        "      <td> 0</td>\n",
        "      <td> 7</td>\n",
        "      <td> 3</td>\n",
        "      <td> 2</td>\n",
        "    </tr>\n",
        "  </tbody>\n",
        "</table>\n",
        "<p>4 rows \u00d7 4 columns</p>\n",
        "</div>"
       ],
       "metadata": {},
       "output_type": "pyout",
       "prompt_number": 43,
       "text": [
        "   0  1  2  3\n",
        "0  1  3  5  8\n",
        "1  5  0  7  3\n",
        "2  0  0  0  0\n",
        "3  0  7  3  2\n",
        "\n",
        "[4 rows x 4 columns]"
       ]
      }
     ],
     "prompt_number": 43
    },
    {
     "cell_type": "code",
     "collapsed": false,
     "input": [],
     "language": "python",
     "metadata": {},
     "outputs": []
    }
   ],
   "metadata": {}
  }
 ]
}