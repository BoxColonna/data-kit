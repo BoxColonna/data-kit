{
 "metadata": {
  "name": ""
 },
 "nbformat": 3,
 "nbformat_minor": 0,
 "worksheets": [
  {
   "cells": [
    {
     "cell_type": "heading",
     "level": 1,
     "metadata": {},
     "source": [
      "Load data from Web APIs"
     ]
    },
    {
     "cell_type": "markdown",
     "metadata": {},
     "source": [
      "Python permet de s'interfacer avec de nombreux services web (API) blabala.. "
     ]
    },
    {
     "cell_type": "heading",
     "level": 2,
     "metadata": {},
     "source": [
      "Introduction API Web"
     ]
    },
    {
     "cell_type": "code",
     "collapsed": false,
     "input": [
      "Layus sur comment une API est construite : \n",
      "    \n",
      "    - Chemin \n",
      "    - Query \n",
      "    \n",
      "Exemples : \n",
      "    - Facebook\n",
      "    - etc.. "
     ],
     "language": "python",
     "metadata": {},
     "outputs": []
    },
    {
     "cell_type": "code",
     "collapsed": false,
     "input": [
      "Qu'est ce que JSON ? \n",
      "    - Format structur\u00e9 vs non structur\u00e9 \n",
      "    - Utilisation de la librairie JSON "
     ],
     "language": "python",
     "metadata": {},
     "outputs": []
    },
    {
     "cell_type": "heading",
     "level": 2,
     "metadata": {},
     "source": [
      "Let's do it ! Analyser les tweets du compte de l'Elys\u00e9e"
     ]
    },
    {
     "cell_type": "heading",
     "level": 3,
     "metadata": {},
     "source": [
      "Introduction \u00e0 l'API de Twitter"
     ]
    },
    {
     "cell_type": "code",
     "collapsed": false,
     "input": [
      "import urllib\n",
      "import json\n",
      "import pandas as pd\n",
      "import numpy as np\n",
      "import matplotlib.pyplot as plt\n",
      "from ggplot import *\n",
      "import re"
     ],
     "language": "python",
     "metadata": {},
     "outputs": [],
     "prompt_number": 124
    },
    {
     "cell_type": "code",
     "collapsed": false,
     "input": [
      "%matplotlib inline\n",
      "pd.set_option('display.mpl_style', 'default') # rendre les graphes un peu plus jolies :) \n",
      "plt.rc('figure', figsize=(20, 5))"
     ],
     "language": "python",
     "metadata": {},
     "outputs": [],
     "prompt_number": 98
    },
    {
     "cell_type": "markdown",
     "metadata": {},
     "source": [
      "Nous devons dans un premier temps authoriser une application \u00e0 se connecter \u00e0 Twitter. "
     ]
    },
    {
     "cell_type": "markdown",
     "metadata": {},
     "source": [
      "**Ajouter ici les indications pour se connecter \u00e0 Twitter** (cf - http://twitter.com/apps/new)"
     ]
    },
    {
     "cell_type": "markdown",
     "metadata": {},
     "source": [
      "Il existe une librairie Python **twitter** facilitant la connexion \u00e0 l'API"
     ]
    },
    {
     "cell_type": "code",
     "collapsed": false,
     "input": [
      "import twitter\n",
      "\n",
      "def oauth_login():    \n",
      "    CONSUMER_KEY = 'lLv22GyvjIRZxYqElkBesHP6J'\n",
      "    CONSUMER_SECRET = 'NSqxiNbq33qi7N5K9rx0HeeiG2MLlDwQVwKUl1h9eHCHEU50UF'\n",
      "    OAUTH_TOKEN = '59107849-a0Z9SdV2AnQJmuuLG6s7mr8g99UFgOD1d0oVWwa3H'\n",
      "    OAUTH_TOKEN_SECRET = 'PSAtraP58bdmzFTNePJSpcAEFcLVIheOusTYSRYYHH0LR'\n",
      "    \n",
      "    auth = twitter.oauth.OAuth(OAUTH_TOKEN, OAUTH_TOKEN_SECRET,\n",
      "                               CONSUMER_KEY, CONSUMER_SECRET)\n",
      "    \n",
      "    twitter_api = twitter.Twitter(auth=auth)\n",
      "    return twitter_api\n",
      "\n",
      "# Sample usage\n",
      "twitter_api = oauth_login()    "
     ],
     "language": "python",
     "metadata": {},
     "outputs": [],
     "prompt_number": 2
    },
    {
     "cell_type": "markdown",
     "metadata": {},
     "source": [
      "Nous allons faire un premier test, en recherchant tous les tweets qui contiennent un mot en particulier. Nous utilisons pour cela la m\u00e9thode **search** de l'objet twitter_api"
     ]
    },
    {
     "cell_type": "code",
     "collapsed": false,
     "input": [
      "# tous les tweets contenant le mot cl\u00e9 'elysee'\n",
      "\n",
      "q = 'elysee' \n",
      "\n",
      "search_results = twitter_api.search.tweets(q=q)"
     ],
     "language": "python",
     "metadata": {},
     "outputs": [],
     "prompt_number": 4
    },
    {
     "cell_type": "markdown",
     "metadata": {},
     "source": [
      "La r\u00e9ponse de l'API est au format JSON. Nous pouvons explorer le contenu, en utilisant la m\u00e9thode **keys()**"
     ]
    },
    {
     "cell_type": "code",
     "collapsed": false,
     "input": [
      "print search_results.keys()"
     ],
     "language": "python",
     "metadata": {},
     "outputs": [
      {
       "output_type": "stream",
       "stream": "stdout",
       "text": [
        "[u'search_metadata', u'statuses']\n"
       ]
      }
     ],
     "prompt_number": 5
    },
    {
     "cell_type": "code",
     "collapsed": false,
     "input": [
      "print type(search_results['statuses'])\n",
      "\n",
      "print len(search_results['statuses'])"
     ],
     "language": "python",
     "metadata": {},
     "outputs": [
      {
       "output_type": "stream",
       "stream": "stdout",
       "text": [
        "<type 'list'>\n",
        "15\n"
       ]
      }
     ],
     "prompt_number": 6
    },
    {
     "cell_type": "markdown",
     "metadata": {},
     "source": [
      "L'objet'statuses' est une liste de 15 \u00e9l\u00e9ments. La limite de 15 tweets est fix\u00e9e par d\u00e9faut par twitter et peut \u00eatre modifi\u00e9 par le parm\u00e8tre **count**\n",
      "\n",
      "Nous pouvons \u00e9galement afficher les cl\u00e9s de chacun des tweets renvoy\u00e9s : "
     ]
    },
    {
     "cell_type": "code",
     "collapsed": false,
     "input": [
      "print search_results['statuses'][0].keys()"
     ],
     "language": "python",
     "metadata": {},
     "outputs": [
      {
       "output_type": "stream",
       "stream": "stdout",
       "text": [
        "[u'contributors', u'truncated', u'text', u'in_reply_to_status_id', u'id', u'favorite_count', u'source', u'retweeted', u'coordinates', u'entities', u'in_reply_to_screen_name', u'in_reply_to_user_id', u'retweet_count', u'id_str', u'favorited', u'user', u'geo', u'in_reply_to_user_id_str', u'possibly_sensitive', u'lang', u'created_at', u'in_reply_to_status_id_str', u'place', u'metadata']\n"
       ]
      }
     ],
     "prompt_number": 7
    },
    {
     "cell_type": "heading",
     "level": 3,
     "metadata": {},
     "source": [
      "Analyse du compte officiel de l'Elys\u00e9e"
     ]
    },
    {
     "cell_type": "markdown",
     "metadata": {},
     "source": [
      "Si nous souhaitons analyser l'int\u00e9gralit\u00e9 des tweets d'un compte en particulier, nous devons utiliser la m\u00e9thode **statuses.user_timeline** de la librairie twitter"
     ]
    },
    {
     "cell_type": "code",
     "collapsed": false,
     "input": [
      "elysee_results = twitter_api.statuses.user_timeline(screen_name=\"Elysee\")"
     ],
     "language": "python",
     "metadata": {},
     "outputs": [],
     "prompt_number": 91
    },
    {
     "cell_type": "markdown",
     "metadata": {},
     "source": [
      "Comme pr\u00e9c\u00e9demment, la limite par d\u00e9faut de Twitter est de 20 tweets renvoy\u00e9s par appel. Nous pouvons modifier cette valeur en utilisant le param\u00e8tre **count**. Cette valeur est toutefois limit\u00e9e \u00e0 200 :  "
     ]
    },
    {
     "cell_type": "code",
     "collapsed": false,
     "input": [
      "elysee_results = twitter_api.statuses.user_timeline(screen_name=\"Elysee\")"
     ],
     "language": "python",
     "metadata": {},
     "outputs": [],
     "prompt_number": 13
    },
    {
     "cell_type": "markdown",
     "metadata": {},
     "source": [
      "Il nous faut donc r\u00e9aliser une **boucle**. Le temps pour r\u00e9cup\u00e9rer les donn\u00e9es pouvant \u00eatre long, on pourra utiliser le fichier **elysee.txt** qui contient un export des tweets bruts. "
     ]
    },
    {
     "cell_type": "code",
     "collapsed": false,
     "input": [
      "from TwitterSearch import *\n",
      "\n",
      "data = []\n",
      "\n",
      "try:\n",
      "    tuo = TwitterUserOrder('Elysee') \n",
      "\n",
      "    twitter_api = TwitterSearch(\n",
      "        consumer_key = 'lLv22GyvjIRZxYqElkBesHP6J',\n",
      "        consumer_secret = 'NSqxiNbq33qi7N5K9rx0HeeiG2MLlDwQVwKUl1h9eHCHEU50UF',\n",
      "        access_token = '59107849-a0Z9SdV2AnQJmuuLG6s7mr8g99UFgOD1d0oVWwa3H',\n",
      "        access_token_secret = 'PSAtraP58bdmzFTNePJSpcAEFcLVIheOusTYSRYYHH0LR'\n",
      "    )\n",
      "    \n",
      "    # perform search with iterables\n",
      "    for tweet in twitter_api.search_tweets_iterable(tuo):\n",
      "        data.append(tweet)\n",
      "\n",
      "except TwitterSearchException as e: # catch errors\n",
      "    print(e)"
     ],
     "language": "python",
     "metadata": {},
     "outputs": [],
     "prompt_number": 17
    },
    {
     "cell_type": "markdown",
     "metadata": {},
     "source": [
      "On peut importer le fichier **elysee.txt**, au format JSON qui contient l'ensemble des tweets de la timeline 'Elysee'"
     ]
    },
    {
     "cell_type": "code",
     "collapsed": false,
     "input": [
      "elysee = json.load(open('elysee.txt'))"
     ],
     "language": "python",
     "metadata": {},
     "outputs": [],
     "prompt_number": 3
    },
    {
     "cell_type": "markdown",
     "metadata": {},
     "source": [
      "Analysons rapidement la taille ainsi que la structure des objets : "
     ]
    },
    {
     "cell_type": "code",
     "collapsed": false,
     "input": [
      "# Affichons la taille du fichier\n",
      "\n",
      "print len(elysee)\n",
      "\n",
      "# Affichons les cl\u00e9s du premier \u00e9l\u00e9ment\n",
      "\n",
      "print elysee[0].keys()"
     ],
     "language": "python",
     "metadata": {},
     "outputs": [
      {
       "output_type": "stream",
       "stream": "stdout",
       "text": [
        "3239\n",
        "[u'contributors', u'truncated', u'text', u'in_reply_to_status_id', u'id', u'favorite_count', u'source', u'retweeted', u'coordinates', u'entities', u'in_reply_to_screen_name', u'id_str', u'retweet_count', u'in_reply_to_user_id', u'favorited', u'user', u'geo', u'in_reply_to_user_id_str', u'possibly_sensitive', u'lang', u'created_at', u'in_reply_to_status_id_str', u'place']\n"
       ]
      }
     ],
     "prompt_number": 4
    },
    {
     "cell_type": "markdown",
     "metadata": {},
     "source": [
      "Nous allons nous int\u00e9resser dans un premier temps aux colonnes **text, retweet_count, created_at**.\n",
      "\n",
      "Au moment de cr\u00e9er notre DataFrame, nous pouvons donc sp\u00e9cifier les colonnes \u00e0 utiliser, soit : "
     ]
    },
    {
     "cell_type": "code",
     "collapsed": false,
     "input": [
      "colonnes = ['text','retweet_count','created_at']\n",
      "\n",
      "date = pd.to_datetime(elysee_df['created_at'])\n",
      "\n",
      "elysee_df = pd.DataFrame(elysee, \n",
      "                         columns=colonnes,\n",
      "                         index=date)"
     ],
     "language": "python",
     "metadata": {},
     "outputs": [],
     "prompt_number": 91
    },
    {
     "cell_type": "code",
     "collapsed": false,
     "input": [
      "count_date = elysee_df['text'].resample('D',how='count')\n",
      "\n",
      "print count_date.head()\n",
      "\n",
      "count_date.plot()"
     ],
     "language": "python",
     "metadata": {},
     "outputs": [
      {
       "output_type": "stream",
       "stream": "stdout",
       "text": [
        "created_at\n",
        "2013-12-18    6\n",
        "2013-12-19    3\n",
        "2013-12-20    3\n",
        "2013-12-21    1\n",
        "2013-12-22    2\n",
        "dtype: int64\n"
       ]
      },
      {
       "metadata": {},
       "output_type": "pyout",
       "prompt_number": 122,
       "text": [
        "<matplotlib.axes.AxesSubplot at 0x110f29450>"
       ]
      },
      {
       "metadata": {},
       "output_type": "display_data",
       "png": "[encoded data removed]",
       "text": [
        "<matplotlib.figure.Figure at 0x110ed7290>"
       ]
      }
     ],
     "prompt_number": 122
    },
    {
     "cell_type": "code",
     "collapsed": false,
     "input": [
      "pattern = '@'\n",
      "\n",
      "elysee_df[elysee_df['text'].str.contains(\"#\")].head(5)"
     ],
     "language": "python",
     "metadata": {},
     "outputs": [
      {
       "html": [
        "<div style=\"max-height:1000px;max-width:1500px;overflow:auto;\">\n",
        "<table border=\"1\" class=\"dataframe\">\n",
        "  <thead>\n",
        "    <tr style=\"text-align: right;\">\n",
        "      <th></th>\n",
        "      <th>text</th>\n",
        "      <th>retweet_count</th>\n",
        "      <th>created_at</th>\n",
        "    </tr>\n",
        "    <tr>\n",
        "      <th>created_at</th>\n",
        "      <th></th>\n",
        "      <th></th>\n",
        "      <th></th>\n",
        "    </tr>\n",
        "  </thead>\n",
        "  <tbody>\n",
        "    <tr>\n",
        "      <th>2015-02-18 10:55:52</th>\n",
        "      <td> [#Direct] Suivez en direct le compte rendu du ...</td>\n",
        "      <td>  7</td>\n",
        "      <td> Wed Feb 18 10:55:52 +0000 2015</td>\n",
        "    </tr>\n",
        "    <tr>\n",
        "      <th>2015-02-17 17:00:58</th>\n",
        "      <td> #Environnement : le pr\u00e9sident @fhollande a re\u00e7...</td>\n",
        "      <td> 36</td>\n",
        "      <td> Tue Feb 17 17:00:58 +0000 2015</td>\n",
        "    </tr>\n",
        "    <tr>\n",
        "      <th>2015-02-17 14:56:09</th>\n",
        "      <td> [#Photos] @fhollande \u00e9tait ce matin \u00e0 Sarre-Un...</td>\n",
        "      <td> 45</td>\n",
        "      <td> Tue Feb 17 14:56:09 +0000 2015</td>\n",
        "    </tr>\n",
        "    <tr>\n",
        "      <th>2015-02-17 13:13:43</th>\n",
        "      <td> [#Reportage] @fhollande a re\u00e7u N. Loiseau et F...</td>\n",
        "      <td> 24</td>\n",
        "      <td> Tue Feb 17 13:13:43 +0000 2015</td>\n",
        "    </tr>\n",
        "    <tr>\n",
        "      <th>2015-02-17 11:10:52</th>\n",
        "      <td> #DirectPR @fhollande \"Je veux apporter la r\u00e9po...</td>\n",
        "      <td> 23</td>\n",
        "      <td> Tue Feb 17 11:10:52 +0000 2015</td>\n",
        "    </tr>\n",
        "  </tbody>\n",
        "</table>\n",
        "</div>"
       ],
       "metadata": {},
       "output_type": "pyout",
       "prompt_number": 149,
       "text": [
        "                                                                  text  \\\n",
        "created_at                                                               \n",
        "2015-02-18 10:55:52  [#Direct] Suivez en direct le compte rendu du ...   \n",
        "2015-02-17 17:00:58  #Environnement : le pr\u00e9sident @fhollande a re\u00e7...   \n",
        "2015-02-17 14:56:09  [#Photos] @fhollande \u00e9tait ce matin \u00e0 Sarre-Un...   \n",
        "2015-02-17 13:13:43  [#Reportage] @fhollande a re\u00e7u N. Loiseau et F...   \n",
        "2015-02-17 11:10:52  #DirectPR @fhollande \"Je veux apporter la r\u00e9po...   \n",
        "\n",
        "                     retweet_count                      created_at  \n",
        "created_at                                                          \n",
        "2015-02-18 10:55:52              7  Wed Feb 18 10:55:52 +0000 2015  \n",
        "2015-02-17 17:00:58             36  Tue Feb 17 17:00:58 +0000 2015  \n",
        "2015-02-17 14:56:09             45  Tue Feb 17 14:56:09 +0000 2015  \n",
        "2015-02-17 13:13:43             24  Tue Feb 17 13:13:43 +0000 2015  \n",
        "2015-02-17 11:10:52             23  Tue Feb 17 11:10:52 +0000 2015  "
       ]
      }
     ],
     "prompt_number": 149
    },
    {
     "cell_type": "code",
     "collapsed": false,
     "input": [
      "string = \"eflflez @hollande dadlkz,\"\n",
      "\n",
      "pattern = '\\s@.*\\s'\n",
      "\n",
      "split = re.search(pattern, string)\n",
      "\n",
      "split.group()"
     ],
     "language": "python",
     "metadata": {},
     "outputs": [
      {
       "metadata": {},
       "output_type": "pyout",
       "prompt_number": 231,
       "text": [
        "' @hollande '"
       ]
      }
     ],
     "prompt_number": 231
    },
    {
     "cell_type": "code",
     "collapsed": false,
     "input": [
      "matches"
     ],
     "language": "python",
     "metadata": {},
     "outputs": [
      {
       "metadata": {},
       "output_type": "pyout",
       "prompt_number": 146,
       "text": [
        "created_at\n",
        "2015-02-18 10:55:52     True\n",
        "2015-02-17 18:28:57     True\n",
        "2015-02-17 17:00:58     True\n",
        "2015-02-17 14:56:09     True\n",
        "2015-02-17 13:51:51    False\n",
        "2015-02-17 13:13:43     True\n",
        "2015-02-17 11:10:52     True\n",
        "2015-02-17 11:10:25     True\n",
        "2015-02-17 11:09:48     True\n",
        "2015-02-17 11:09:17     True\n",
        "2015-02-17 11:08:47     True\n",
        "2015-02-17 11:08:15     True\n",
        "2015-02-17 11:07:54     True\n",
        "2015-02-17 10:07:04     True\n",
        "2015-02-16 19:00:39     True\n",
        "...\n",
        "2013-12-22 16:19:31    False\n",
        "2013-12-22 15:47:31    False\n",
        "2013-12-21 16:20:11    False\n",
        "2013-12-20 20:29:02    False\n",
        "2013-12-20 19:31:53    False\n",
        "2013-12-20 12:27:03    False\n",
        "2013-12-19 16:16:34    False\n",
        "2013-12-19 10:25:26    False\n",
        "2013-12-19 09:53:30    False\n",
        "2013-12-18 19:28:59    False\n",
        "2013-12-18 19:09:30    False\n",
        "2013-12-18 17:54:03    False\n",
        "2013-12-18 17:52:46    False\n",
        "2013-12-18 17:51:54     True\n",
        "2013-12-18 17:51:07    False\n",
        "Name: text, Length: 3239, dtype: bool"
       ]
      }
     ],
     "prompt_number": 146
    },
    {
     "cell_type": "code",
     "collapsed": false,
     "input": [],
     "language": "python",
     "metadata": {},
     "outputs": []
    }
   ],
   "metadata": {}
  }
 ]
}