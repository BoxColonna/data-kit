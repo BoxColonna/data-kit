{
 "metadata": {
  "name": ""
 },
 "nbformat": 3,
 "nbformat_minor": 0,
 "worksheets": [
  {
   "cells": [
    {
     "cell_type": "heading",
     "level": 1,
     "metadata": {},
     "source": [
      "Load and Export Data"
     ]
    },
    {
     "cell_type": "code",
     "collapsed": false,
     "input": [
      "I - CSV\n",
      "\n",
      "1 - Lire des donn\u00e9es - read_csv\n",
      "\n",
      ". D\u00e9finir un header\n",
      ". sp\u00e9cifier un d\u00e9limiteur\n",
      ". g\u00e9rer les donn\u00e9es manquantes\n",
      ". Lire un certain nombre de lignes d'un large fichier CSV \n",
      "\n",
      "2 - Exporter des donn\u00e9es - to_csv\n",
      "\n",
      "II - JSON \n",
      "\n",
      "- API du NYT \n",
      "\n",
      "III - databases\n",
      "\n",
      "- Big Query ? \n",
      "\n",
      "\n"
     ],
     "language": "python",
     "metadata": {},
     "outputs": []
    }
   ],
   "metadata": {}
  }
 ]
}