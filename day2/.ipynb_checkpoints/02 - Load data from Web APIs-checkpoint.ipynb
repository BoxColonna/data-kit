{
 "metadata": {
  "name": ""
 },
 "nbformat": 3,
 "nbformat_minor": 0,
 "worksheets": [
  {
   "cells": [
    {
     "cell_type": "heading",
     "level": 1,
     "metadata": {},
     "source": [
      "Load data from Web APIs"
     ]
    },
    {
     "cell_type": "code",
     "collapsed": false,
     "input": [
      "Python permet de s'interfacer avec de nombreux services web (API) blabala.. "
     ],
     "language": "python",
     "metadata": {},
     "outputs": []
    },
    {
     "cell_type": "heading",
     "level": 2,
     "metadata": {},
     "source": [
      "Introduction API Web"
     ]
    },
    {
     "cell_type": "code",
     "collapsed": false,
     "input": [
      "Layus sur comment une API est construite : \n",
      "    \n",
      "    - Chemin \n",
      "    - Query \n",
      "    \n",
      "Exemples : \n",
      "    - Facebook\n",
      "    - etc.. "
     ],
     "language": "python",
     "metadata": {},
     "outputs": []
    },
    {
     "cell_type": "code",
     "collapsed": false,
     "input": [],
     "language": "python",
     "metadata": {},
     "outputs": []
    },
    {
     "cell_type": "code",
     "collapsed": false,
     "input": [
      "Qu'est ce que JSON ? \n",
      "    - Format structur\u00e9 vs non structur\u00e9 \n",
      "    - Utilisation de la librairie JSON "
     ],
     "language": "python",
     "metadata": {},
     "outputs": []
    },
    {
     "cell_type": "heading",
     "level": 2,
     "metadata": {},
     "source": [
      "Let's do it ! Analyser les tweets du compte de l'Elys\u00e9e"
     ]
    },
    {
     "cell_type": "code",
     "collapsed": false,
     "input": [
      "import urllib\n",
      "import json\n",
      "import pandas as pd"
     ],
     "language": "python",
     "metadata": {},
     "outputs": [],
     "prompt_number": 66
    },
    {
     "cell_type": "markdown",
     "metadata": {},
     "source": [
      "Nous devons dans un premier temps authoriser une application \u00e0 se connecter \u00e0 Twitter. "
     ]
    },
    {
     "cell_type": "markdown",
     "metadata": {},
     "source": [
      "**Ajouter ici les indications pour se connecter \u00e0 Twitter** (cf - http://twitter.com/apps/new)"
     ]
    },
    {
     "cell_type": "code",
     "collapsed": false,
     "input": [
      "import twitter\n",
      "\n",
      "def oauth_login():    \n",
      "    CONSUMER_KEY = 'lLv22GyvjIRZxYqElkBesHP6J'\n",
      "    CONSUMER_SECRET = 'NSqxiNbq33qi7N5K9rx0HeeiG2MLlDwQVwKUl1h9eHCHEU50UF'\n",
      "    OAUTH_TOKEN = '59107849-a0Z9SdV2AnQJmuuLG6s7mr8g99UFgOD1d0oVWwa3H'\n",
      "    OAUTH_TOKEN_SECRET = 'PSAtraP58bdmzFTNePJSpcAEFcLVIheOusTYSRYYHH0LR'\n",
      "    \n",
      "    auth = twitter.oauth.OAuth(OAUTH_TOKEN, OAUTH_TOKEN_SECRET,\n",
      "                               CONSUMER_KEY, CONSUMER_SECRET)\n",
      "    \n",
      "    twitter_api = twitter.Twitter(auth=auth)\n",
      "    return twitter_api\n",
      "\n",
      "# Sample usage\n",
      "twitter_api = oauth_login()    "
     ],
     "language": "python",
     "metadata": {},
     "outputs": [
      {
       "output_type": "stream",
       "stream": "stdout",
       "text": [
        "<twitter.api.Twitter object at 0x10793cd50>\n"
       ]
      }
     ],
     "prompt_number": 2
    },
    {
     "cell_type": "code",
     "collapsed": false,
     "input": [
      "Nous allons faire un premier test, en recherchant tous les tweets qui contiennent le mot "
     ],
     "language": "python",
     "metadata": {},
     "outputs": []
    },
    {
     "cell_type": "code",
     "collapsed": false,
     "input": [
      "q = 'lewagon' \n",
      "\n",
      "count = 1000\n",
      "\n",
      "# See https://dev.twitter.com/docs/api/1.1/get/search/tweets\n",
      "\n",
      "search_results = twitter_api.search.tweets(q=q, count=count)"
     ],
     "language": "python",
     "metadata": {},
     "outputs": [],
     "prompt_number": 32
    },
    {
     "cell_type": "code",
     "collapsed": false,
     "input": [
      "elysee_results = twitter_api.statuses.user_timeline(screen_name=\"Elysee\", count=count)"
     ],
     "language": "python",
     "metadata": {},
     "outputs": [],
     "prompt_number": 51
    },
    {
     "cell_type": "code",
     "collapsed": false,
     "input": [
      "elysee_results[1].keys()"
     ],
     "language": "python",
     "metadata": {},
     "outputs": [
      {
       "metadata": {},
       "output_type": "pyout",
       "prompt_number": 65,
       "text": [
        "[u'contributors',\n",
        " u'truncated',\n",
        " u'text',\n",
        " u'in_reply_to_status_id',\n",
        " u'id',\n",
        " u'favorite_count',\n",
        " u'source',\n",
        " u'retweeted',\n",
        " u'coordinates',\n",
        " u'entities',\n",
        " u'in_reply_to_screen_name',\n",
        " u'id_str',\n",
        " u'retweet_count',\n",
        " u'in_reply_to_user_id',\n",
        " u'favorited',\n",
        " u'user',\n",
        " u'geo',\n",
        " u'in_reply_to_user_id_str',\n",
        " u'possibly_sensitive',\n",
        " u'lang',\n",
        " u'created_at',\n",
        " u'in_reply_to_status_id_str',\n",
        " u'place',\n",
        " u'extended_entities']"
       ]
      }
     ],
     "prompt_number": 65
    },
    {
     "cell_type": "code",
     "collapsed": false,
     "input": [],
     "language": "python",
     "metadata": {},
     "outputs": []
    }
   ],
   "metadata": {}
  }
 ]
}