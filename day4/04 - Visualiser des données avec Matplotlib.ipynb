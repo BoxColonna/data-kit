{
 "metadata": {
  "name": "",
  "signature": "sha256:80a0feb3bceabafe49b8198fbda424436026a093a43c73355507871dbd24a185"
 },
 "nbformat": 3,
 "nbformat_minor": 0,
 "worksheets": [
  {
   "cells": [
    {
     "cell_type": "heading",
     "level": 1,
     "metadata": {},
     "source": [
      "Visualiser des donn\u00e9es avec Matplotlib"
     ]
    },
    {
     "cell_type": "markdown",
     "metadata": {},
     "source": [
      "Matplotlib est une librairie Python permettant de r\u00e9aliser des visualisations de donn\u00e9es. \n",
      "\n",
      "Pandas dispose d'une int\u00e9gration facile permettant de r\u00e9aliser des graphes de diff\u00e9rentes sortes \u00e0 partir d'un DataFrame. \n",
      "\n",
      "Dans cette partie, vous apprendrez ainsi \u00e0 : \n",
      "\n",
      "- Int\u00e9grer des visualisations au sein d'un document iPython. \n",
      "- R\u00e9aliser des graphiques (lignes, barchart, scatterplots)\n",
      "- Ajouter des titres, ajuster les axes et les couleurs"
     ]
    },
    {
     "cell_type": "heading",
     "level": 2,
     "metadata": {},
     "source": [
      "Param\u00e8tres "
     ]
    },
    {
     "cell_type": "code",
     "collapsed": false,
     "input": [
      "Nous importons les librairies Pandas et Numpy :"
     ],
     "language": "python",
     "metadata": {},
     "outputs": []
    },
    {
     "cell_type": "code",
     "collapsed": false,
     "input": [
      "import pandas as pd\n",
      "import numpy as np"
     ],
     "language": "python",
     "metadata": {},
     "outputs": []
    },
    {
     "cell_type": "markdown",
     "metadata": {},
     "source": [
      "Nous pouvons \u00e9galement sp\u00e9cifier diff\u00e9rents param\u00e8tres d'affichages, assez utiles : \n",
      "\n",
      "- Le param\u00e8tre **inline** permet d'int\u00e9grer des graphes au sein d'un document iPython (et non sur une fen\u00eatre ext\u00e9rieure)\n",
      "- Le param\u00e8tre **style:default** permet d'avoir un rendu des graphes plus sympa :"
     ]
    },
    {
     "cell_type": "code",
     "collapsed": false,
     "input": [
      "import matplotlib\n",
      "%matplotlib inline\n",
      "\n",
      "pd.options.display.mpl_style = 'default'"
     ],
     "language": "python",
     "metadata": {},
     "outputs": []
    },
    {
     "cell_type": "heading",
     "level": 2,
     "metadata": {},
     "source": [
      "Graphiques de ligne"
     ]
    },
    {
     "cell_type": "markdown",
     "metadata": {},
     "source": [
      "Prenons la S\u00e9rie suivante, de 100 points g\u00e9n\u00e9r\u00e9s al\u00e9atoirement : "
     ]
    },
    {
     "cell_type": "code",
     "collapsed": false,
     "input": [
      "p = pd.DataFrame(np.random.randn(100,1))"
     ],
     "language": "python",
     "metadata": {},
     "outputs": []
    },
    {
     "cell_type": "markdown",
     "metadata": {},
     "source": [
      "La m\u00e9thode **plot** permet de r\u00e9aliser facilement un graphique de ligne :"
     ]
    },
    {
     "cell_type": "code",
     "collapsed": false,
     "input": [
      "p.plot()"
     ],
     "language": "python",
     "metadata": {},
     "outputs": []
    },
    {
     "cell_type": "markdown",
     "metadata": {},
     "source": [
      "Par d\u00e9faut la m\u00e9thode plot utilise en abscisse l'index de la S\u00e9rie ou du DataFrame. \n",
      "\n",
      "Nous pouvons appliquer ce type de visualisation au dataset **coffee** : "
     ]
    },
    {
     "cell_type": "code",
     "collapsed": false,
     "input": [
      "coffee = pd.read_csv(\"data/coffee_shop.csv\", \n",
      "                     parse_dates = True, \n",
      "                     index_col=1)"
     ],
     "language": "python",
     "metadata": {},
     "outputs": []
    },
    {
     "cell_type": "markdown",
     "metadata": {},
     "source": [
      "Comme nous l'avons vu pr\u00e9c\u00e9demment, nous parsons le dataset coffee, en utilisant la colonne 1 (de date) comme l'index : "
     ]
    },
    {
     "cell_type": "code",
     "collapsed": false,
     "input": [
      "coffee.head(3)"
     ],
     "language": "python",
     "metadata": {},
     "outputs": []
    },
    {
     "cell_type": "markdown",
     "metadata": {},
     "source": [
      "Ce dataset contient une ligne par mois, par localit\u00e9 et par ligne de produit. \n",
      "\n",
      "Si nous souhaitons afficher l'\u00e9volution des ventes par mois, nous pouvons tout d'abord grouper : "
     ]
    },
    {
     "cell_type": "code",
     "collapsed": false,
     "input": [
      "coffee_s = coffee['Sales'].groupby(coffee.index).sum()"
     ],
     "language": "python",
     "metadata": {},
     "outputs": []
    },
    {
     "cell_type": "markdown",
     "metadata": {},
     "source": [
      "Nous pouvons ensuite appeler la m\u00e9thode **plot** comme vu pr\u00e9c\u00e9demment :"
     ]
    },
    {
     "cell_type": "code",
     "collapsed": false,
     "input": [
      "coffee_s.plot()"
     ],
     "language": "python",
     "metadata": {},
     "outputs": []
    },
    {
     "cell_type": "markdown",
     "metadata": {},
     "source": [
      "Par d\u00e9faut, la fonction **plot** ajuste l'axe des ordonn\u00e9s. Nous pouvons fixer les limites des axes avec les param\u00e8tres **xlim** et **ylim** : "
     ]
    },
    {
     "cell_type": "code",
     "collapsed": false,
     "input": [
      "coffee_s.plot(ylim=[0,40000])"
     ],
     "language": "python",
     "metadata": {},
     "outputs": [
      {
       "metadata": {},
       "output_type": "pyout",
       "prompt_number": 172,
       "text": [
        "<matplotlib.axes.AxesSubplot at 0x11b3c1250>"
       ]
      },
      {
       "metadata": {},
       "output_type": "display_data",
       "png": "[encoded data removed]",
       "text": [
        "<matplotlib.figure.Figure at 0x11a9f6350>"
       ]
      }
     ],
     "prompt_number": 172
    },
    {
     "cell_type": "code",
     "collapsed": false,
     "input": [
      "La m\u00e9thode **plot** peut prendre \u00e9galement le param\u00e8tre **kind='area'** si vous souhaitez rendre un "
     ],
     "language": "python",
     "metadata": {},
     "outputs": []
    },
    {
     "cell_type": "markdown",
     "metadata": {},
     "source": [
      "La fonction plot, fonctionne \u00e9galement avec plusieurs valeurs num\u00e9riques. \n",
      "\n",
      "Si nous souhaitons afficher l'\u00e9volution des ventes et de la marge, nous pouvons \u00e9crire : "
     ]
    },
    {
     "cell_type": "code",
     "collapsed": false,
     "input": [
      "grouped_sm = coffee[['Sales','Margin']].groupby(coffee.index).sum()\n",
      "\n",
      "grouped_sm.plot(ylim=[0,40000])"
     ],
     "language": "python",
     "metadata": {},
     "outputs": []
    },
    {
     "cell_type": "markdown",
     "metadata": {},
     "source": [
      "Nous pouvons \u00e9galement ajouter un titre, gr\u00e2ce au param\u00e8tre **title** : "
     ]
    },
    {
     "cell_type": "code",
     "collapsed": false,
     "input": [
      "grouped_sm.plot(title='Evolution des ventes et de la marge, Coffee Shop, 2012 - 2013')"
     ],
     "language": "python",
     "metadata": {},
     "outputs": []
    },
    {
     "cell_type": "heading",
     "level": 2,
     "metadata": {},
     "source": [
      "A vous : "
     ]
    },
    {
     "cell_type": "markdown",
     "metadata": {},
     "source": [
      "- Affichez l'\u00e9volution mensuelle de la marge et des d\u00e9penses\n",
      "- Affichez l'\u00e9volution trimestrielle du profit "
     ]
    },
    {
     "cell_type": "heading",
     "level": 2,
     "metadata": {},
     "source": [
      "Graphiques en b\u00e2tons"
     ]
    },
    {
     "cell_type": "markdown",
     "metadata": {},
     "source": [
      "Le param\u00e8tre **kind** de la m\u00e9thode **plot** permet de choisir le type de visualisation \u00e0 afficher. \n",
      "\n",
      "Si nous souhaitons afficher le nombre de ventes par march\u00e9, nous pouvons \u00e9crire : "
     ]
    },
    {
     "cell_type": "code",
     "collapsed": false,
     "input": [
      "grouped_m = coffee['Sales'].groupby(coffee['Market']).sum()\n",
      "\n",
      "grouped_m.plot(kind='bar')"
     ],
     "language": "python",
     "metadata": {},
     "outputs": []
    },
    {
     "cell_type": "markdown",
     "metadata": {},
     "source": [
      "Le param\u00e8tre **kind=barh** permet d'afficher des barres, \u00e0 l'horizontal :"
     ]
    },
    {
     "cell_type": "code",
     "collapsed": false,
     "input": [
      "grouped_m.plot(kind='barh')"
     ],
     "language": "python",
     "metadata": {},
     "outputs": []
    },
    {
     "cell_type": "markdown",
     "metadata": {},
     "source": [
      "Une bonne pratique pour explorer rapidement un set de donn\u00e9es, est d'utiliser la m\u00e9thode **value_counts** avec un graphe en b\u00e2ton. \n",
      "\n",
      "Si nous souhaitons par exemple d\u00e9nombrer le nombre d'occurence de chacun des produits, nous pouvons \u00e9crire : "
     ]
    },
    {
     "cell_type": "code",
     "collapsed": false,
     "input": [
      "coffee['Product'].value_counts().plot(kind='barh')"
     ],
     "language": "python",
     "metadata": {},
     "outputs": []
    },
    {
     "cell_type": "markdown",
     "metadata": {},
     "source": [
      "Nous pouvons \u00e9galement afficher plusieurs dimensions sur un graphe en b\u00e2ton. \n",
      "\n",
      "Prenons l'exemple des march\u00e9s, nous pouvons r\u00e9aliser un grouping sur deux cl\u00e9s, et afficher la part des Major / Small markets au sein de chacun des Market (East, Central, West, South)"
     ]
    },
    {
     "cell_type": "code",
     "collapsed": false,
     "input": [
      "coffee_mm = coffee['Sales'].groupby([coffee['Market'], coffee['Market Size']]).sum()\n",
      "\n",
      "coffee_mm"
     ],
     "language": "python",
     "metadata": {},
     "outputs": []
    },
    {
     "cell_type": "markdown",
     "metadata": {},
     "source": [
      "Si nous appelons la m\u00e9thode **plot** \u00e0 partir de ce DataFrame, nous obtenons une ligne par combinaison d'Index : "
     ]
    },
    {
     "cell_type": "code",
     "collapsed": false,
     "input": [
      "coffee_mm.plot(kind='barh')"
     ],
     "language": "python",
     "metadata": {},
     "outputs": []
    },
    {
     "cell_type": "code",
     "collapsed": false,
     "input": [
      "Nous pouvons faire **pivoter** ce graphe, gr\u00e2ce \u00e0 la fonction **unstack** : "
     ],
     "language": "python",
     "metadata": {},
     "outputs": []
    },
    {
     "cell_type": "code",
     "collapsed": false,
     "input": [
      "coffee_mm.unstack()"
     ],
     "language": "python",
     "metadata": {},
     "outputs": []
    },
    {
     "cell_type": "markdown",
     "metadata": {},
     "source": [
      "Ce qui en graphe donne : "
     ]
    },
    {
     "cell_type": "code",
     "collapsed": false,
     "input": [
      "coffee_mm.unstack().plot(kind='barh')"
     ],
     "language": "python",
     "metadata": {},
     "outputs": []
    },
    {
     "cell_type": "markdown",
     "metadata": {},
     "source": [
      "Nous pouvons enfin 'empiler' chacun de ces graphes, gr\u00e2ce au param\u00e8tre **stacked** : "
     ]
    },
    {
     "cell_type": "code",
     "collapsed": false,
     "input": [
      "coffee_mm.unstack().plot(kind='barh', stacked=True)"
     ],
     "language": "python",
     "metadata": {},
     "outputs": []
    },
    {
     "cell_type": "heading",
     "level": 2,
     "metadata": {},
     "source": [
      "A vous :"
     ]
    },
    {
     "cell_type": "markdown",
     "metadata": {},
     "source": [
      "- Cr\u00e9ez un graphe en b\u00e2ton affichant la part des ventes, des Espresso ou des Coffee par type (Decaf ou Regular)"
     ]
    },
    {
     "cell_type": "heading",
     "level": 2,
     "metadata": {},
     "source": [
      "Histogrammes"
     ]
    },
    {
     "cell_type": "markdown",
     "metadata": {},
     "source": [
      "Les histogrammes permettent de repr\u00e9senter la r\u00e9partition d'une variable continue. \n",
      "\n",
      "La variable est s\u00e9par\u00e9e en classe (ou bins) et nous repr\u00e9sentons le nombre d'occurences de cette variable dans cette classe.\n",
      "\n",
      "Pandas permet de r\u00e9aliser un histogramme \u00e0 partir d'une s\u00e9rie, gr\u00e2ce \u00e0 la m\u00e9thode **hist** :"
     ]
    },
    {
     "cell_type": "code",
     "collapsed": false,
     "input": [
      "coffee['Sales'].hist()"
     ],
     "language": "python",
     "metadata": {},
     "outputs": [
      {
       "metadata": {},
       "output_type": "pyout",
       "prompt_number": 115,
       "text": [
        "<matplotlib.axes.AxesSubplot at 0x1160997d0>"
       ]
      },
      {
       "metadata": {},
       "output_type": "display_data",
       "png": "[encoded data removed]",
       "text": [
        "<matplotlib.figure.Figure at 0x115fec8d0>"
       ]
      }
     ],
     "prompt_number": 115
    },
    {
     "cell_type": "code",
     "collapsed": false,
     "input": [
      "Nous pouvons modifier le nombre de classes, gr\u00e2ce au param\u00e8tre **bins** : "
     ],
     "language": "python",
     "metadata": {},
     "outputs": [],
     "prompt_number": 112
    },
    {
     "cell_type": "code",
     "collapsed": false,
     "input": [
      "coffee['Sales'].hist(bins=30)"
     ],
     "language": "python",
     "metadata": {},
     "outputs": [
      {
       "metadata": {},
       "output_type": "pyout",
       "prompt_number": 117,
       "text": [
        "<matplotlib.axes.AxesSubplot at 0x11627a890>"
       ]
      },
      {
       "metadata": {},
       "output_type": "display_data",
       "png": "[encoded data removed]",
       "text": [
        "<matplotlib.figure.Figure at 0x1161f6310>"
       ]
      }
     ],
     "prompt_number": 117
    },
    {
     "cell_type": "code",
     "collapsed": false,
     "input": [
      "coffee.head()"
     ],
     "language": "python",
     "metadata": {},
     "outputs": [
      {
       "html": [
        "<div style=\"max-height:1000px;max-width:1500px;overflow:auto;\">\n",
        "<table border=\"1\" class=\"dataframe\">\n",
        "  <thead>\n",
        "    <tr style=\"text-align: right;\">\n",
        "      <th></th>\n",
        "      <th>Area Code</th>\n",
        "      <th>Market</th>\n",
        "      <th>Market Size</th>\n",
        "      <th>Product</th>\n",
        "      <th>Product Line</th>\n",
        "      <th>Product Type</th>\n",
        "      <th>State</th>\n",
        "      <th>Type</th>\n",
        "      <th>Inventory</th>\n",
        "      <th>Budget COGS</th>\n",
        "      <th>Budget Margin</th>\n",
        "      <th>Budget Profit</th>\n",
        "      <th>Budget Sales</th>\n",
        "      <th>COGS</th>\n",
        "      <th>Margin</th>\n",
        "      <th>Marketing</th>\n",
        "      <th>Profit</th>\n",
        "      <th>Sales</th>\n",
        "      <th>Total Expenses</th>\n",
        "    </tr>\n",
        "    <tr>\n",
        "      <th>Date</th>\n",
        "      <th></th>\n",
        "      <th></th>\n",
        "      <th></th>\n",
        "      <th></th>\n",
        "      <th></th>\n",
        "      <th></th>\n",
        "      <th></th>\n",
        "      <th></th>\n",
        "      <th></th>\n",
        "      <th></th>\n",
        "      <th></th>\n",
        "      <th></th>\n",
        "      <th></th>\n",
        "      <th></th>\n",
        "      <th></th>\n",
        "      <th></th>\n",
        "      <th></th>\n",
        "      <th></th>\n",
        "      <th></th>\n",
        "    </tr>\n",
        "  </thead>\n",
        "  <tbody>\n",
        "    <tr>\n",
        "      <th>2013-12-01</th>\n",
        "      <td> 985</td>\n",
        "      <td> South</td>\n",
        "      <td> Small Market</td>\n",
        "      <td>         Colombian</td>\n",
        "      <td>  Beans</td>\n",
        "      <td>     Coffee</td>\n",
        "      <td> Louisiana</td>\n",
        "      <td> Regular</td>\n",
        "      <td> 845</td>\n",
        "      <td> 50</td>\n",
        "      <td>  90</td>\n",
        "      <td> 70</td>\n",
        "      <td> 140</td>\n",
        "      <td>  49</td>\n",
        "      <td>  71</td>\n",
        "      <td> 13</td>\n",
        "      <td>  68</td>\n",
        "      <td> 128</td>\n",
        "      <td> 25</td>\n",
        "    </tr>\n",
        "    <tr>\n",
        "      <th>2013-12-01</th>\n",
        "      <td> 985</td>\n",
        "      <td> South</td>\n",
        "      <td> Small Market</td>\n",
        "      <td>         Chamomile</td>\n",
        "      <td> Leaves</td>\n",
        "      <td> Herbal Tea</td>\n",
        "      <td> Louisiana</td>\n",
        "      <td>   Decaf</td>\n",
        "      <td> 540</td>\n",
        "      <td> 80</td>\n",
        "      <td> 110</td>\n",
        "      <td> 70</td>\n",
        "      <td> 190</td>\n",
        "      <td>  94</td>\n",
        "      <td> 120</td>\n",
        "      <td> 31</td>\n",
        "      <td> 114</td>\n",
        "      <td> 228</td>\n",
        "      <td> 43</td>\n",
        "    </tr>\n",
        "    <tr>\n",
        "      <th>2013-11-01</th>\n",
        "      <td> 985</td>\n",
        "      <td> South</td>\n",
        "      <td> Small Market</td>\n",
        "      <td>         Chamomile</td>\n",
        "      <td> Leaves</td>\n",
        "      <td> Herbal Tea</td>\n",
        "      <td> Louisiana</td>\n",
        "      <td>   Decaf</td>\n",
        "      <td> 552</td>\n",
        "      <td> 90</td>\n",
        "      <td> 120</td>\n",
        "      <td> 80</td>\n",
        "      <td> 210</td>\n",
        "      <td> 101</td>\n",
        "      <td> 130</td>\n",
        "      <td> 33</td>\n",
        "      <td> 126</td>\n",
        "      <td> 246</td>\n",
        "      <td> 45</td>\n",
        "    </tr>\n",
        "    <tr>\n",
        "      <th>2013-10-01</th>\n",
        "      <td> 985</td>\n",
        "      <td> South</td>\n",
        "      <td> Small Market</td>\n",
        "      <td> Decaf Irish Cream</td>\n",
        "      <td>  Beans</td>\n",
        "      <td>     Coffee</td>\n",
        "      <td> Louisiana</td>\n",
        "      <td>   Decaf</td>\n",
        "      <td> 851</td>\n",
        "      <td> 70</td>\n",
        "      <td>  90</td>\n",
        "      <td> 80</td>\n",
        "      <td> 160</td>\n",
        "      <td>  48</td>\n",
        "      <td>  70</td>\n",
        "      <td> 13</td>\n",
        "      <td>  67</td>\n",
        "      <td> 126</td>\n",
        "      <td> 25</td>\n",
        "    </tr>\n",
        "    <tr>\n",
        "      <th>2013-09-01</th>\n",
        "      <td> 985</td>\n",
        "      <td> South</td>\n",
        "      <td> Small Market</td>\n",
        "      <td>             Lemon</td>\n",
        "      <td> Leaves</td>\n",
        "      <td> Herbal Tea</td>\n",
        "      <td> Louisiana</td>\n",
        "      <td>   Decaf</td>\n",
        "      <td> 599</td>\n",
        "      <td> 60</td>\n",
        "      <td>  80</td>\n",
        "      <td> 30</td>\n",
        "      <td> 140</td>\n",
        "      <td>  67</td>\n",
        "      <td>  83</td>\n",
        "      <td> 25</td>\n",
        "      <td>  37</td>\n",
        "      <td> 160</td>\n",
        "      <td> 58</td>\n",
        "    </tr>\n",
        "  </tbody>\n",
        "</table>\n",
        "</div>"
       ],
       "metadata": {},
       "output_type": "pyout",
       "prompt_number": 118,
       "text": [
        "            Area Code Market   Market Size            Product Product Line  \\\n",
        "Date                                                                         \n",
        "2013-12-01        985  South  Small Market          Colombian        Beans   \n",
        "2013-12-01        985  South  Small Market          Chamomile       Leaves   \n",
        "2013-11-01        985  South  Small Market          Chamomile       Leaves   \n",
        "2013-10-01        985  South  Small Market  Decaf Irish Cream        Beans   \n",
        "2013-09-01        985  South  Small Market              Lemon       Leaves   \n",
        "\n",
        "           Product Type      State     Type  Inventory  Budget COGS  \\\n",
        "Date                                                                  \n",
        "2013-12-01       Coffee  Louisiana  Regular        845           50   \n",
        "2013-12-01   Herbal Tea  Louisiana    Decaf        540           80   \n",
        "2013-11-01   Herbal Tea  Louisiana    Decaf        552           90   \n",
        "2013-10-01       Coffee  Louisiana    Decaf        851           70   \n",
        "2013-09-01   Herbal Tea  Louisiana    Decaf        599           60   \n",
        "\n",
        "            Budget Margin  Budget Profit  Budget Sales  COGS  Margin  \\\n",
        "Date                                                                   \n",
        "2013-12-01             90             70           140    49      71   \n",
        "2013-12-01            110             70           190    94     120   \n",
        "2013-11-01            120             80           210   101     130   \n",
        "2013-10-01             90             80           160    48      70   \n",
        "2013-09-01             80             30           140    67      83   \n",
        "\n",
        "            Marketing  Profit  Sales  Total Expenses  \n",
        "Date                                                  \n",
        "2013-12-01         13      68    128              25  \n",
        "2013-12-01         31     114    228              43  \n",
        "2013-11-01         33     126    246              45  \n",
        "2013-10-01         13      67    126              25  \n",
        "2013-09-01         25      37    160              58  "
       ]
      }
     ],
     "prompt_number": 118
    },
    {
     "cell_type": "heading",
     "level": 2,
     "metadata": {},
     "source": [
      "Nuages de points"
     ]
    },
    {
     "cell_type": "markdown",
     "metadata": {},
     "source": [
      "Les nuages de points sont particuli\u00e8rement efficaces pour repr\u00e9senter la r\u00e9partition de donn\u00e9es selon deux axes. \n",
      "\n",
      "Les matrices de nuages de points permettent de repr\u00e9senter les m\u00eames points \u00e0 travers plusieurs axes. \n",
      "\n",
      "Comme pr\u00e9c\u00e9demment, nous pouvons facilement tracer un nuage de point, gr\u00e2ce au param\u00e8tre **scatter** de la m\u00e9thode **plot** "
     ]
    },
    {
     "cell_type": "code",
     "collapsed": false,
     "input": [
      "df = pd.DataFrame(np.random.rand(100,2))"
     ],
     "language": "python",
     "metadata": {},
     "outputs": [],
     "prompt_number": 126
    },
    {
     "cell_type": "code",
     "collapsed": false,
     "input": [
      "df.plot(kind='scatter',x=0,y=1)"
     ],
     "language": "python",
     "metadata": {},
     "outputs": [
      {
       "metadata": {},
       "output_type": "pyout",
       "prompt_number": 135,
       "text": [
        "<matplotlib.axes.AxesSubplot at 0x1167d05d0>"
       ]
      },
      {
       "metadata": {},
       "output_type": "display_data",
       "png": "[encoded data removed]",
       "text": [
        "<matplotlib.figure.Figure at 0x1164e6ad0>"
       ]
      }
     ],
     "prompt_number": 135
    },
    {
     "cell_type": "markdown",
     "metadata": {},
     "source": [
      "A la diff\u00e9rence des graphes pr\u00e9c\u00e9dents, un nuage de points n\u00e9cessitent que nous pr\u00e9cisions l'abscisse et l'ordonn\u00e9e, gr\u00e2ce aux param\u00e8tres **x** et **y**. \n",
      "\n",
      "Un troisi\u00e8me param\u00e8tre, **s** permet de fixer la taille des bulles. "
     ]
    },
    {
     "cell_type": "heading",
     "level": 2,
     "metadata": {},
     "source": [
      "A vous : "
     ]
    },
    {
     "cell_type": "markdown",
     "metadata": {},
     "source": [
      "- Faites un nuage de points des produits par moyenne de ventes et marge mensuelles  "
     ]
    },
    {
     "cell_type": "markdown",
     "metadata": {},
     "source": [
      "La m\u00e9thode **pd.scatter_matrix** permet de r\u00e9aliser facilement une matrice de nuages de points \u00e0 partir d'un dataset \u00e0 plusieurs variables num\u00e9riques.\n",
      "\n",
      "Cr\u00e9ons un dataframe \u00e0  avec les colonnes "
     ]
    },
    {
     "cell_type": "code",
     "collapsed": false,
     "input": [
      "mv_df = coffee[['Budget Profit', 'Budget Margin', 'Margin', 'Total Expenses', 'Sales']].groupby(coffee['Product']).mean()"
     ],
     "language": "python",
     "metadata": {},
     "outputs": [],
     "prompt_number": 161
    },
    {
     "cell_type": "code",
     "collapsed": false,
     "input": [
      "pd.scatter_matrix(mv_df, figsize=[10,10], s=100)"
     ],
     "language": "python",
     "metadata": {},
     "outputs": [
      {
       "metadata": {},
       "output_type": "pyout",
       "prompt_number": 174,
       "text": [
        "array([[<matplotlib.axes.AxesSubplot object at 0x11b9efb50>,\n",
        "        <matplotlib.axes.AxesSubplot object at 0x11b60b810>,\n",
        "        <matplotlib.axes.AxesSubplot object at 0x11ba435d0>,\n",
        "        <matplotlib.axes.AxesSubplot object at 0x11ba60bd0>,\n",
        "        <matplotlib.axes.AxesSubplot object at 0x11ba87450>],\n",
        "       [<matplotlib.axes.AxesSubplot object at 0x11baa9290>,\n",
        "        <matplotlib.axes.AxesSubplot object at 0x11baca4d0>,\n",
        "        <matplotlib.axes.AxesSubplot object at 0x11baefb50>,\n",
        "        <matplotlib.axes.AxesSubplot object at 0x11baaf190>,\n",
        "        <matplotlib.axes.AxesSubplot object at 0x11bb330d0>],\n",
        "       [<matplotlib.axes.AxesSubplot object at 0x11bb56810>,\n",
        "        <matplotlib.axes.AxesSubplot object at 0x11bb77490>,\n",
        "        <matplotlib.axes.AxesSubplot object at 0x11bb9e050>,\n",
        "        <matplotlib.axes.AxesSubplot object at 0x11bb82050>,\n",
        "        <matplotlib.axes.AxesSubplot object at 0x11bbdda10>],\n",
        "       [<matplotlib.axes.AxesSubplot object at 0x11bc03ed0>,\n",
        "        <matplotlib.axes.AxesSubplot object at 0x11bc22dd0>,\n",
        "        <matplotlib.axes.AxesSubplot object at 0x11bc48710>,\n",
        "        <matplotlib.axes.AxesSubplot object at 0x11bc5c710>,\n",
        "        <matplotlib.axes.AxesSubplot object at 0x11bc8ef10>],\n",
        "       [<matplotlib.axes.AxesSubplot object at 0x11bcb5c50>,\n",
        "        <matplotlib.axes.AxesSubplot object at 0x11bcd4310>,\n",
        "        <matplotlib.axes.AxesSubplot object at 0x11bcf83d0>,\n",
        "        <matplotlib.axes.AxesSubplot object at 0x11bd1f890>,\n",
        "        <matplotlib.axes.AxesSubplot object at 0x11bd3f0d0>]], dtype=object)"
       ]
      },
      {
       "metadata": {},
       "output_type": "display_data",
       "png": "[encoded data removed]",
       "text": [
        "<matplotlib.figure.Figure at 0x11b467a50>"
       ]
      }
     ],
     "prompt_number": 174
    },
    {
     "cell_type": "code",
     "collapsed": false,
     "input": [],
     "language": "python",
     "metadata": {},
     "outputs": []
    }
   ],
   "metadata": {}
  }
 ]
}