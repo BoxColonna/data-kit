{
 "metadata": {
  "kernelspec": {
   "display_name": "Python 2",
   "language": "python",
   "name": "python2"
  },
  "language_info": {
   "codemirror_mode": {
    "name": "ipython",
    "version": 2
   },
   "file_extension": ".py",
   "mimetype": "text/x-python",
   "name": "python",
   "nbconvert_exporter": "python",
   "pygments_lexer": "ipython2",
   "version": "2.7.9"
  },
  "name": ""
 },
 "nbformat": 3,
 "nbformat_minor": 0,
 "worksheets": [
  {
   "cells": [
    {
     "cell_type": "heading",
     "level": 1,
     "metadata": {},
     "source": [
      "Data Wrangling avec Pandas"
     ]
    },
    {
     "cell_type": "markdown",
     "metadata": {},
     "source": [
      "Une grande partie du m\u00e9tier de Data Scientist, consiste \u00e0 n\u00e9toyer, arranger des donn\u00e9es afin de les exploiter. \n",
      "\n",
      "Ma\u00eetriser cette partie du processus est essentiel : les donn\u00e9es que vous aurait l'occasion d'analyser seront rarement sous la forme d'un DataFrame propre.\n",
      "    \n",
      "A la fin de cette partie, vous saurez :\n",
      "    \n",
      "- Fusionner deux DataFrame avec la m\u00e9thode **merge**\n",
      "- Retravailler, faire pivoter deux datasets avec les m\u00e9thodes **stack** et **pivot**\n",
      "- Remplacer des valeurs \u00e0 partir d'un dictionnaire gr\u00e2ce \u00e0 la m\u00e9thode **map**"
     ]
    },
    {
     "cell_type": "heading",
     "level": 2,
     "metadata": {},
     "source": [
      "Fusionner"
     ]
    },
    {
     "cell_type": "code",
     "collapsed": false,
     "input": [
      "import pandas as pd"
     ],
     "language": "python",
     "metadata": {},
     "outputs": [],
     "prompt_number": 1
    },
    {
     "cell_type": "markdown",
     "metadata": {},
     "source": [
      "Fusionner consiste \u00e0 rassembler les lignes de deux DataFrames en utilisant une cl\u00e9 commune. \n",
      "\n",
      "Prenons l'exemple suivant : "
     ]
    },
    {
     "cell_type": "markdown",
     "metadata": {},
     "source": [
      "Prenons deux sets de donn\u00e9es. \n",
      "\n",
      "Le premier contient des id de commandes. Le second la correspondance entre id client et nom et prenoms. "
     ]
    },
    {
     "cell_type": "code",
     "collapsed": false,
     "input": [
      "orders_dict = {'customer_id':['3','2','1','4'],\n",
      "          'order_value':[40,35,50,45],\n",
      "          'order_id':['4001','4002','4003','4004']}\n",
      "\n",
      "customers_dict = {'customer_id':['1','2','3','4','5'],\n",
      "                  'nom':['CAMPAN','DOE','MUSK','JOBS','FRANKO'],\n",
      "                  'prenom':['Bernard','John','Elon','Steve','James']}"
     ],
     "language": "python",
     "metadata": {},
     "outputs": [],
     "prompt_number": 2
    },
    {
     "cell_type": "markdown",
     "metadata": {},
     "source": [
      "Nous pouvons cr\u00e9er deux DataFrames pour chacun de ces dictionnaires, soit : "
     ]
    },
    {
     "cell_type": "code",
     "collapsed": false,
     "input": [
      "orders = pd.DataFrame(orders_dict,\n",
      "                       columns=['customer_id','order_value'],\n",
      "                       index = orders_dict['order_id'])\n",
      "\n",
      "customers = pd.DataFrame(customers_dict,\n",
      "                         index = customers_dict['customer_id'])"
     ],
     "language": "python",
     "metadata": {},
     "outputs": [],
     "prompt_number": null
    },
    {
     "cell_type": "markdown",
     "metadata": {},
     "source": [
      "Nous pouvons **fusionner** ces deux DataFrames en utilisant la m\u00e9thode **merge**. \n",
      "\n",
      "Nous sp\u00e9cifions la cl\u00e9 commune ***customer_id*** au sein du param\u00e8tre **on**"
     ]
    },
    {
     "cell_type": "code",
     "collapsed": false,
     "input": [
      "pd.merge(orders,customers, on='customer_id')"
     ],
     "language": "python",
     "metadata": {},
     "outputs": [],
     "prompt_number": null
    },
    {
     "cell_type": "markdown",
     "metadata": {},
     "source": [
      "Plusieurs choses sont \u00e0 noter : \n",
      "\n",
      "- La m\u00e9thode merge a supprim\u00e9 l'index que nous avions cr\u00e9\u00e9\n",
      "- Une seule des deux colonnes a \u00e9t\u00e9 utilis\u00e9e\n",
      "- Le client qui n'\u00e9tait pas pr\u00e9sent dans le DataFrame orders n'est pas pr\u00e9sent dans le r\u00e9sultat final \n",
      "\n",
      "Par d\u00e9faut, Pandas r\u00e9alise une fusion dite **inner**.\n",
      "\n",
      "Il existe plusieurs de fusion entre deux sets de donn\u00e9es. Les principales peuvent se r\u00e9sumer au sein du graphe ci-dessous : "
     ]
    },
    {
     "cell_type": "markdown",
     "metadata": {},
     "source": [
      "<img src='files/images/merge.png'>"
     ]
    },
    {
     "cell_type": "markdown",
     "metadata": {},
     "source": [
      "Nous pouvons sp\u00e9cifier \u00e0 Pandas le type de fusion que nous souhaitons gr\u00e2ce au param\u00e8tre **how**. \n",
      "\n",
      "Si nous souhaitons par exemple r\u00e9aliser une fusion \u00e0 droite, nous \u00e9crirons : "
     ]
    },
    {
     "cell_type": "code",
     "collapsed": false,
     "input": [
      "pd.merge(orders,customers,on='customer_id',how='right')"
     ],
     "language": "python",
     "metadata": {},
     "outputs": [],
     "prompt_number": null
    },
    {
     "cell_type": "markdown",
     "metadata": {},
     "source": [
      "Le client James FRANKO, n'a ici pas de d'order_value associ\u00e9e."
     ]
    },
    {
     "cell_type": "markdown",
     "metadata": {},
     "source": [
      "Nous pouvons \u00e9galement sp\u00e9cifier une fusion sur un Index gr\u00e2ce aux m\u00e9thodes **left_index** et **right_index**. \n",
      "\n",
      "Dans notre cas, le DataFrame orders dispose d'un index, nous pouvons donc \u00e9crire : "
     ]
    },
    {
     "cell_type": "code",
     "collapsed": false,
     "input": [
      "pd.merge(orders,customers, left_on = 'customer_id', right_index=True)"
     ],
     "language": "python",
     "metadata": {},
     "outputs": [],
     "prompt_number": null
    },
    {
     "cell_type": "markdown",
     "metadata": {},
     "source": [
      "A noter que dans ce cas : \n",
      "    \n",
      "- Nous conservons l'index qui a \u00e9t\u00e9 utilis\u00e9\n",
      "- Nous conservons les deux colonnes (customer_id et customer_id_x)"
     ]
    },
    {
     "cell_type": "heading",
     "level": 2,
     "metadata": {},
     "source": [
      "Reshaping"
     ]
    },
    {
     "cell_type": "markdown",
     "metadata": {},
     "source": [
      "Pandas permet de retravailler des donn\u00e9es tabulaires pour mieux les exploiter. "
     ]
    },
    {
     "cell_type": "code",
     "collapsed": false,
     "input": [
      "import numpy as np"
     ],
     "language": "python",
     "metadata": {},
     "outputs": [],
     "prompt_number": 3
    },
    {
     "cell_type": "markdown",
     "metadata": {},
     "source": [
      "Le reshaping intervient souvent apr\u00e8s une op\u00e9ration de grouping sur plusieurs cl\u00e9s. \n",
      "\n",
      "Prenons le cas du dataset ***coffee_shop*** : "
     ]
    },
    {
     "cell_type": "code",
     "collapsed": false,
     "input": [
      "coffee = pd.read_csv(\"data/coffee_shop.csv\")\n",
      "\n",
      "coffee.head(1)"
     ],
     "language": "python",
     "metadata": {},
     "outputs": [
      {
       "html": [
        "<div style=\"max-height:1000px;max-width:1500px;overflow:auto;\">\n",
        "<table border=\"1\" class=\"dataframe\">\n",
        "  <thead>\n",
        "    <tr style=\"text-align: right;\">\n",
        "      <th></th>\n",
        "      <th>Area Code</th>\n",
        "      <th>Date</th>\n",
        "      <th>Market</th>\n",
        "      <th>Market Size</th>\n",
        "      <th>Product</th>\n",
        "      <th>Product Line</th>\n",
        "      <th>Product Type</th>\n",
        "      <th>State</th>\n",
        "      <th>Type</th>\n",
        "      <th>Inventory</th>\n",
        "      <th>Budget COGS</th>\n",
        "      <th>Budget Margin</th>\n",
        "      <th>Budget Profit</th>\n",
        "      <th>Budget Sales</th>\n",
        "      <th>COGS</th>\n",
        "      <th>Margin</th>\n",
        "      <th>Marketing</th>\n",
        "      <th>Profit</th>\n",
        "      <th>Sales</th>\n",
        "      <th>Total Expenses</th>\n",
        "    </tr>\n",
        "  </thead>\n",
        "  <tbody>\n",
        "    <tr>\n",
        "      <th>0</th>\n",
        "      <td> 985</td>\n",
        "      <td> 12/1/13 0:00</td>\n",
        "      <td> South</td>\n",
        "      <td> Small Market</td>\n",
        "      <td> Colombian</td>\n",
        "      <td> Beans</td>\n",
        "      <td> Coffee</td>\n",
        "      <td> Louisiana</td>\n",
        "      <td> Regular</td>\n",
        "      <td> 845</td>\n",
        "      <td> 50</td>\n",
        "      <td> 90</td>\n",
        "      <td> 70</td>\n",
        "      <td> 140</td>\n",
        "      <td> 49</td>\n",
        "      <td> 71</td>\n",
        "      <td> 13</td>\n",
        "      <td> 68</td>\n",
        "      <td> 128</td>\n",
        "      <td> 25</td>\n",
        "    </tr>\n",
        "  </tbody>\n",
        "</table>\n",
        "</div>"
       ],
       "metadata": {},
       "output_type": "pyout",
       "prompt_number": 4,
       "text": [
        "   Area Code          Date Market   Market Size    Product Product Line  \\\n",
        "0        985  12/1/13 0:00  South  Small Market  Colombian        Beans   \n",
        "\n",
        "  Product Type      State     Type  Inventory  Budget COGS  Budget Margin  \\\n",
        "0       Coffee  Louisiana  Regular        845           50             90   \n",
        "\n",
        "   Budget Profit  Budget Sales  COGS  Margin  Marketing  Profit  Sales  \\\n",
        "0             70           140    49      71         13      68    128   \n",
        "\n",
        "   Total Expenses  \n",
        "0              25  "
       ]
      }
     ],
     "prompt_number": 4
    },
    {
     "cell_type": "markdown",
     "metadata": {},
     "source": [
      "Si nous souhaitons conna\u00eetre le nombre de ventes par **Market** et **Market Size**, nous \u00e9crirons : "
     ]
    },
    {
     "cell_type": "code",
     "collapsed": false,
     "input": [
      "coffee_market = coffee['Sales'].groupby([coffee['Market'],coffee['Market Size']]).sum()\n",
      "\n",
      "coffee_market"
     ],
     "language": "python",
     "metadata": {},
     "outputs": [
      {
       "metadata": {},
       "output_type": "pyout",
       "prompt_number": 5,
       "text": [
        "Market   Market Size \n",
        "Central  Major Market    152579\n",
        "         Small Market    112466\n",
        "East     Major Market    138260\n",
        "         Small Market     40316\n",
        "South    Major Market     37410\n",
        "         Small Market     66516\n",
        "West     Major Market     96892\n",
        "         Small Market    175372\n",
        "Name: Sales, dtype: int64"
       ]
      }
     ],
     "prompt_number": 5
    },
    {
     "cell_type": "markdown",
     "metadata": {},
     "source": [
      "**coffee_market** est une S\u00e9rie dispose d'un **MultiIndex**. **Market** et **Market Size** sont deux index hi\u00e9rarchis\u00e9s, cf :"
     ]
    },
    {
     "cell_type": "code",
     "collapsed": false,
     "input": [
      "coffee_market.index"
     ],
     "language": "python",
     "metadata": {},
     "outputs": [
      {
       "metadata": {},
       "output_type": "pyout",
       "prompt_number": 6,
       "text": [
        "MultiIndex(levels=[[u'Central', u'East', u'South', u'West'], [u'Major Market', u'Small Market']],\n",
        "           labels=[[0, 0, 1, 1, 2, 2, 3, 3], [0, 1, 0, 1, 0, 1, 0, 1]],\n",
        "           names=[u'Market', u'Market Size'])"
       ]
      }
     ],
     "prompt_number": 6
    },
    {
     "cell_type": "markdown",
     "metadata": {},
     "source": [
      "Plusieurs choses sont \u00e0 noter pour cet Index : \n",
      "\n",
      "- Nous avons deux **levels** ou **niveaux**, hi\u00e9rarchis\u00e9s\n",
      "- Ces **levels** disposent de noms (Market et Market Size), permettant de les appeler\n",
      "- Pandas a \u00e9galement ajout\u00e9 des valeurs d'indice, appel\u00e9 **labels**\n",
      "\n",
      "Les m\u00e9thodes **stack** et **unstack** permettent de faire pivoter ces indices de lignes \u00e0 colonnes, ou de colonnes \u00e0 lignes :  "
     ]
    },
    {
     "cell_type": "code",
     "collapsed": false,
     "input": [
      "coffee_unstacked = coffee_market.unstack()\n",
      "coffee_unstacked"
     ],
     "language": "python",
     "metadata": {},
     "outputs": [],
     "prompt_number": null
    },
    {
     "cell_type": "markdown",
     "metadata": {},
     "source": [
      "La m\u00e9thode stack r\u00e9alise l'inverse de la m\u00e9thode **unstack** : "
     ]
    },
    {
     "cell_type": "code",
     "collapsed": false,
     "input": [
      "coffee_unstacked.stack()"
     ],
     "language": "python",
     "metadata": {},
     "outputs": [],
     "prompt_number": null
    },
    {
     "cell_type": "markdown",
     "metadata": {},
     "source": [
      "Par d\u00e9faut, les m\u00e9thodes stack et unstack utilisent le **level** le plus bas pour r\u00e9aliser un pivot (ici il s'agit de Market Size). \n",
      "                                                                                                  \n",
      "Nous pouvons toutefois sp\u00e9cifier le **level**, en utilisant le nom ou la position du **level** dans l'Index. \n",
      "\n",
      "Le level **Market** \u00e9tant en premi\u00e8re position, la rotation de lignes \u00e0 colonnes sur le level **Market** peut s'\u00e9crire :"
     ]
    },
    {
     "cell_type": "code",
     "collapsed": false,
     "input": [
      "coffee_market.unstack(0)"
     ],
     "language": "python",
     "metadata": {},
     "outputs": [
      {
       "html": [
        "<div style=\"max-height:1000px;max-width:1500px;overflow:auto;\">\n",
        "<table border=\"1\" class=\"dataframe\">\n",
        "  <thead>\n",
        "    <tr style=\"text-align: right;\">\n",
        "      <th>Market</th>\n",
        "      <th>Central</th>\n",
        "      <th>East</th>\n",
        "      <th>South</th>\n",
        "      <th>West</th>\n",
        "    </tr>\n",
        "    <tr>\n",
        "      <th>Market Size</th>\n",
        "      <th></th>\n",
        "      <th></th>\n",
        "      <th></th>\n",
        "      <th></th>\n",
        "    </tr>\n",
        "  </thead>\n",
        "  <tbody>\n",
        "    <tr>\n",
        "      <th>Major Market</th>\n",
        "      <td> 152579</td>\n",
        "      <td> 138260</td>\n",
        "      <td> 37410</td>\n",
        "      <td>  96892</td>\n",
        "    </tr>\n",
        "    <tr>\n",
        "      <th>Small Market</th>\n",
        "      <td> 112466</td>\n",
        "      <td>  40316</td>\n",
        "      <td> 66516</td>\n",
        "      <td> 175372</td>\n",
        "    </tr>\n",
        "  </tbody>\n",
        "</table>\n",
        "</div>"
       ],
       "metadata": {},
       "output_type": "pyout",
       "prompt_number": 7,
       "text": [
        "Market        Central    East  South    West\n",
        "Market Size                                 \n",
        "Major Market   152579  138260  37410   96892\n",
        "Small Market   112466   40316  66516  175372"
       ]
      }
     ],
     "prompt_number": 7
    },
    {
     "cell_type": "code",
     "collapsed": true,
     "input": [
      "ou encore : "
     ],
     "language": "python",
     "metadata": {},
     "outputs": [],
     "prompt_number": null
    },
    {
     "cell_type": "code",
     "collapsed": false,
     "input": [
      "coffee_market.unstack('Market')"
     ],
     "language": "python",
     "metadata": {},
     "outputs": [
      {
       "html": [
        "<div style=\"max-height:1000px;max-width:1500px;overflow:auto;\">\n",
        "<table border=\"1\" class=\"dataframe\">\n",
        "  <thead>\n",
        "    <tr style=\"text-align: right;\">\n",
        "      <th>Market</th>\n",
        "      <th>Central</th>\n",
        "      <th>East</th>\n",
        "      <th>South</th>\n",
        "      <th>West</th>\n",
        "    </tr>\n",
        "    <tr>\n",
        "      <th>Market Size</th>\n",
        "      <th></th>\n",
        "      <th></th>\n",
        "      <th></th>\n",
        "      <th></th>\n",
        "    </tr>\n",
        "  </thead>\n",
        "  <tbody>\n",
        "    <tr>\n",
        "      <th>Major Market</th>\n",
        "      <td> 152579</td>\n",
        "      <td> 138260</td>\n",
        "      <td> 37410</td>\n",
        "      <td>  96892</td>\n",
        "    </tr>\n",
        "    <tr>\n",
        "      <th>Small Market</th>\n",
        "      <td> 112466</td>\n",
        "      <td>  40316</td>\n",
        "      <td> 66516</td>\n",
        "      <td> 175372</td>\n",
        "    </tr>\n",
        "  </tbody>\n",
        "</table>\n",
        "</div>"
       ],
       "metadata": {},
       "output_type": "pyout",
       "prompt_number": 8,
       "text": [
        "Market        Central    East  South    West\n",
        "Market Size                                 \n",
        "Major Market   152579  138260  37410   96892\n",
        "Small Market   112466   40316  66516  175372"
       ]
      }
     ],
     "prompt_number": 8
    },
    {
     "cell_type": "markdown",
     "metadata": {},
     "source": [
      "Il arrive que les donn\u00e9es soient stock\u00e9es au format **stacked** au sein de bases de donn\u00e9es. \n",
      "\n",
      "On souhaite dans ce cas r\u00e9aliser la m\u00eame rotation mais \u00e0 partir d'une colonne (et non d'Index). \n",
      "\n",
      "Prenons le set **datalong.csv** : "
     ]
    },
    {
     "cell_type": "code",
     "collapsed": false,
     "input": [
      "data = pd.read_csv(\"data/datalong.csv\")\n",
      "\n",
      "data.head(3)"
     ],
     "language": "python",
     "metadata": {},
     "outputs": [
      {
       "html": [
        "<div style=\"max-height:1000px;max-width:1500px;overflow:auto;\">\n",
        "<table border=\"1\" class=\"dataframe\">\n",
        "  <thead>\n",
        "    <tr style=\"text-align: right;\">\n",
        "      <th></th>\n",
        "      <th>date</th>\n",
        "      <th>item</th>\n",
        "      <th>value</th>\n",
        "    </tr>\n",
        "  </thead>\n",
        "  <tbody>\n",
        "    <tr>\n",
        "      <th>0</th>\n",
        "      <td> 1959-03-31 00:00:00</td>\n",
        "      <td> realgdp</td>\n",
        "      <td> 2710.349</td>\n",
        "    </tr>\n",
        "    <tr>\n",
        "      <th>1</th>\n",
        "      <td> 1959-03-31 00:00:00</td>\n",
        "      <td>    infl</td>\n",
        "      <td>    0.000</td>\n",
        "    </tr>\n",
        "    <tr>\n",
        "      <th>2</th>\n",
        "      <td> 1959-03-31 00:00:00</td>\n",
        "      <td>   unemp</td>\n",
        "      <td>    5.800</td>\n",
        "    </tr>\n",
        "  </tbody>\n",
        "</table>\n",
        "</div>"
       ],
       "metadata": {},
       "output_type": "pyout",
       "prompt_number": 9,
       "text": [
        "                  date     item     value\n",
        "0  1959-03-31 00:00:00  realgdp  2710.349\n",
        "1  1959-03-31 00:00:00     infl     0.000\n",
        "2  1959-03-31 00:00:00    unemp     5.800"
       ]
      }
     ],
     "prompt_number": 9
    },
    {
     "cell_type": "markdown",
     "metadata": {},
     "source": [
      "Dans ce cas, nous disposons de trois 'items' : realgdp, infl et unemp. \n",
      "\n",
      "La ligne date est r\u00e9p\u00e9t\u00e9e autant de fois qu'il y a d'items distincts. \n",
      "\n",
      "Si nous souhaitons faire une rotation, en cr\u00e9ant trois nouvelles colonnes, correspondant \u00e0 chacune des valeurs de items, nous pouvons utiliser la m\u00e9thode **pivot** :"
     ]
    },
    {
     "cell_type": "code",
     "collapsed": false,
     "input": [
      "data_pivoted = data.pivot('date','item')\n",
      "\n",
      "data_pivoted.head(3)"
     ],
     "language": "python",
     "metadata": {},
     "outputs": [],
     "prompt_number": null
    },
    {
     "cell_type": "markdown",
     "metadata": {},
     "source": [
      "La m\u00e9thode **pivot** prend au moins deux arguments. Le premier est l'Index \u00e0 utiliser pour les lignes, Le second est l'index \u00e0 utiliser pour les colonnes. \n",
      "\n",
      "Le troisi\u00e8me param\u00e8tre est optionnel. Il permet de d\u00e9terminer quelle valeur \u00e0 utiliser pour remplir le DataFrame"
     ]
    },
    {
     "cell_type": "heading",
     "level": 2,
     "metadata": {},
     "source": [
      "Transformer des donn\u00e9es"
     ]
    },
    {
     "cell_type": "markdown",
     "metadata": {},
     "source": [
      "Nous allons voir dans cette partie comment supprimer des doublons ou transformer des donn\u00e9es \u00e0 partir d'un dictionnaire"
     ]
    },
    {
     "cell_type": "markdown",
     "metadata": {},
     "source": [
      "Les doublons sont omnipr\u00e9sents dans une analyse de donn\u00e9es, la m\u00e9thode **duplicate** permet de rapidement rep\u00e9rer et supprimer des doublons. Consid\u00e9rons le DataFrame suivant : "
     ]
    },
    {
     "cell_type": "code",
     "collapsed": false,
     "input": [
      "doublons_dict = {'col1':['a','b','a','b','b','a'],\n",
      "            'col2':[1,1,1,2,2,3]}\n",
      "\n",
      "doublons = pd.DataFrame(doublons_dict)"
     ],
     "language": "python",
     "metadata": {},
     "outputs": [],
     "prompt_number": null
    },
    {
     "cell_type": "markdown",
     "metadata": {},
     "source": [
      "La m\u00e9thode **duplicated** permet de renvoyer un bool\u00e9enn sp\u00e9cifiant si chacune des lignes est un doublon ou non :"
     ]
    },
    {
     "cell_type": "code",
     "collapsed": false,
     "input": [
      "doublons.duplicated()"
     ],
     "language": "python",
     "metadata": {},
     "outputs": [],
     "prompt_number": null
    },
    {
     "cell_type": "markdown",
     "metadata": {},
     "source": [
      "Par d\u00e9faut, la m\u00e9thode **duplicated** se base sur l'ensemble des colonnes du dataset. \n",
      "\n",
      "Nous pouvons sp\u00e9cifier la colonne \u00e0 consid\u00e9rer en param\u00e8tre, soit : "
     ]
    },
    {
     "cell_type": "code",
     "collapsed": false,
     "input": [
      "doublons.duplicated('col1')"
     ],
     "language": "python",
     "metadata": {},
     "outputs": [],
     "prompt_number": null
    },
    {
     "cell_type": "markdown",
     "metadata": {},
     "source": [
      "La m\u00e9thode **drop_duplicates** permet par ailleurs de supprimer directement toutes les lignes en doublon : "
     ]
    },
    {
     "cell_type": "code",
     "collapsed": false,
     "input": [
      "doublons.drop_duplicates()"
     ],
     "language": "python",
     "metadata": {},
     "outputs": [],
     "prompt_number": null
    },
    {
     "cell_type": "markdown",
     "metadata": {},
     "source": [
      "La transformation de donn\u00e9es passe \u00e9galement souvent par un mapping de valeurs avec un dictionnaire. \n",
      "\n",
      "Supposons que nous ayons un dictionnaire villes_customers qui associe \u00e0 chaque customer_id, la ville de r\u00e9sidence :"
     ]
    },
    {
     "cell_type": "code",
     "collapsed": false,
     "input": [
      "villes_customers = {'1':'Paris','2':'Seattle','3':'San Francisco','4':'Cupertino','5':'Los Angeles'}"
     ],
     "language": "python",
     "metadata": {},
     "outputs": [],
     "prompt_number": null
    },
    {
     "cell_type": "markdown",
     "metadata": {},
     "source": [
      "Nous pouvons r\u00e9aliser un **mapping** de la colonne customer_id du DataFrame customers gr\u00e2ce \u00e0 la fonction **map** :"
     ]
    },
    {
     "cell_type": "code",
     "collapsed": false,
     "input": [
      "customers['customer_id'].map(villes_customers)"
     ],
     "language": "python",
     "metadata": {},
     "outputs": [],
     "prompt_number": null
    },
    {
     "cell_type": "heading",
     "level": 2,
     "metadata": {},
     "source": [
      "A vous : "
     ]
    },
    {
     "cell_type": "markdown",
     "metadata": {},
     "source": [
      "Nous allons travailler dans cet exercice sur le set de donn\u00e9es **Movielens** - https://movielens.org/. \n",
      "    \n",
      "Movielens est issu d'un groupe de recherche en Machine Learning de l'Universit\u00e9 du Minnesota. Le service permet \u00e0 un utilisateur de disposer de recommandations de films.\n",
      "\n",
      "Le set de donn\u00e9es contient 1M+ d'avis, que 6k+ utilisateurs de Movielens ont donn\u00e9 sur 4k films depuis 2000. Trois fichiers sont disponibles : \n",
      "\n",
      "- **movies.dat** : MovieID::Title::Genres\n",
      "- **users.dat** : UserID::Gender::Age::Occupation::Zip-code\n",
      "\n",
      "    Les correspondances pour les \u00e2ges sont : \n",
      "    \n",
      "    *  1:  \"Under 18\"\n",
      "\t* 18:  \"18-24\"\n",
      "\t* 25:  \"25-34\"\n",
      "\t* 35:  \"35-44\"\n",
      "\t* 45:  \"45-49\"\n",
      "\t* 50:  \"50-55\"\n",
      "\t* 56:  \"56+\"\n",
      "    \n",
      "    Les correspondances pour les occupations sont : \n",
      "    \n",
      "    *  0:  \"other\" or not specified\n",
      "\t*  1:  \"academic/educator\"\n",
      "\t*  2:  \"artist\"\n",
      "\t*  3:  \"clerical/admin\"\n",
      "\t*  4:  \"college/grad student\"\n",
      "\t*  5:  \"customer service\"\n",
      "\t*  6:  \"doctor/health care\"\n",
      "\t*  7:  \"executive/managerial\"\n",
      "\t*  8:  \"farmer\"\n",
      "\t*  9:  \"homemaker\"\n",
      "\t* 10:  \"K-12 student\"\n",
      "\t* 11:  \"lawyer\"\n",
      "\t* 12:  \"programmer\"\n",
      "\t* 13:  \"retired\"\n",
      "\t* 14:  \"sales/marketing\"\n",
      "\t* 15:  \"scientist\"\n",
      "\t* 16:  \"self-employed\"\n",
      "\t* 17:  \"technician/engineer\"\n",
      "\t* 18:  \"tradesman/craftsman\"\n",
      "\t* 19:  \"unemployed\"\n",
      "\t* 20:  \"writer\"\n",
      "    \n",
      "- **ratings.dat** : UserID::MovieID::Rating::Timestamp"
     ]
    },
    {
     "cell_type": "markdown",
     "metadata": {},
     "source": [
      "Nous cr\u00e9ons trois DataFrames : users, ratings et movies : "
     ]
    },
    {
     "cell_type": "code",
     "collapsed": false,
     "input": [
      "# pass in column names for each CSV\n",
      "u_cols = ['user_id', 'sex', 'age', 'occupation', 'zip_code']\n",
      "users = pd.read_table('data/movielens/users.dat', sep='::', names=u_cols)\n",
      "\n",
      "r_cols = ['user_id', 'movie_id', 'rating', 'unix_timestamp']\n",
      "ratings = pd.read_table('data/movielens/ratings.dat', sep='::', names=r_cols)\n",
      "\n",
      "m_cols = ['movie_id', 'title', 'genre']\n",
      "movies = pd.read_table('data/movielens/movies.dat', sep='::', names=m_cols, usecols=range(5))"
     ],
     "language": "python",
     "metadata": {},
     "outputs": [],
     "prompt_number": null
    },
    {
     "cell_type": "markdown",
     "metadata": {},
     "source": [
      "- Cr\u00e9ez un DataFrame unique en fusionnant les users, ratings et movies\n",
      "- Quels sont les 5 films qui ont \u00e9t\u00e9 le plus not\u00e9 ? \n",
      "- Quels sont les 5 films qui ont la meilleure note moyenne ayant \u00e9t\u00e9 not\u00e9 plus de 100 fois ? \n",
      "- Quelle est la tranche d'\u00e2ge notant le moins bien ? \n",
      "- Les hommes notent ils moins bien que les femmes ? \n",
      "- [Avanc\u00e9] Quels sont les films ayant la plus grande diff\u00e9rence de notes entre les hommes et les femmes ? "
     ]
    }
   ],
   "metadata": {}
  }
 ]
}